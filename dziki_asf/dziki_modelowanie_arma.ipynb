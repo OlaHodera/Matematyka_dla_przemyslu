{
 "cells": [
  {
   "cell_type": "code",
   "execution_count": 404,
   "metadata": {},
   "outputs": [],
   "source": [
    "import pandas               as pd\n",
    "import numpy                as np\n",
    "import plotly.graph_objects as go\n",
    "import plotly.express       as px\n",
    "import plotly.io            as pio\n",
    "from scipy import stats\n",
    "from statsmodels.tsa.stattools import acf, adfuller\n",
    "from statsmodels.tsa.arima_process import arma_generate_sample\n",
    "from statsmodels.tsa.arima.model import ARIMA\n",
    "from statsmodels.distributions.empirical_distribution import ECDF\n",
    "from distfit import distfit\n",
    "from scipy.special import inv_boxcox\n",
    "from scipy.optimize          import curve_fit"
   ]
  },
  {
   "cell_type": "code",
   "execution_count": 405,
   "metadata": {},
   "outputs": [],
   "source": [
    "np.random.seed(12345)"
   ]
  },
  {
   "cell_type": "code",
   "execution_count": 406,
   "metadata": {},
   "outputs": [
    {
     "data": {
      "text/html": [
       "<div>\n",
       "<style scoped>\n",
       "    .dataframe tbody tr th:only-of-type {\n",
       "        vertical-align: middle;\n",
       "    }\n",
       "\n",
       "    .dataframe tbody tr th {\n",
       "        vertical-align: top;\n",
       "    }\n",
       "\n",
       "    .dataframe thead th {\n",
       "        text-align: right;\n",
       "    }\n",
       "</style>\n",
       "<table border=\"1\" class=\"dataframe\">\n",
       "  <thead>\n",
       "    <tr style=\"text-align: right;\">\n",
       "      <th></th>\n",
       "      <th>Data potwierdzenia</th>\n",
       "      <th>Liczba dzików dodatnich</th>\n",
       "    </tr>\n",
       "  </thead>\n",
       "  <tbody>\n",
       "    <tr>\n",
       "      <th>0</th>\n",
       "      <td>2020-02-21 00:00:00</td>\n",
       "      <td>1</td>\n",
       "    </tr>\n",
       "    <tr>\n",
       "      <th>1</th>\n",
       "      <td>2021-01-04 00:00:00</td>\n",
       "      <td>32</td>\n",
       "    </tr>\n",
       "    <tr>\n",
       "      <th>2</th>\n",
       "      <td>2021-01-05 00:00:00</td>\n",
       "      <td>23</td>\n",
       "    </tr>\n",
       "    <tr>\n",
       "      <th>3</th>\n",
       "      <td>2021-01-07 00:00:00</td>\n",
       "      <td>1</td>\n",
       "    </tr>\n",
       "    <tr>\n",
       "      <th>4</th>\n",
       "      <td>2021-01-08 00:00:00</td>\n",
       "      <td>13</td>\n",
       "    </tr>\n",
       "  </tbody>\n",
       "</table>\n",
       "</div>"
      ],
      "text/plain": [
       "    Data potwierdzenia  Liczba dzików dodatnich\n",
       "0  2020-02-21 00:00:00                        1\n",
       "1  2021-01-04 00:00:00                       32\n",
       "2  2021-01-05 00:00:00                       23\n",
       "3  2021-01-07 00:00:00                        1\n",
       "4  2021-01-08 00:00:00                       13"
      ]
     },
     "execution_count": 406,
     "metadata": {},
     "output_type": "execute_result"
    }
   ],
   "source": [
    "df = pd.read_excel('Dziki_data_total.xlsx')\n",
    "df.head()"
   ]
  },
  {
   "cell_type": "code",
   "execution_count": 407,
   "metadata": {},
   "outputs": [
    {
     "data": {
      "text/html": [
       "<div>\n",
       "<style scoped>\n",
       "    .dataframe tbody tr th:only-of-type {\n",
       "        vertical-align: middle;\n",
       "    }\n",
       "\n",
       "    .dataframe tbody tr th {\n",
       "        vertical-align: top;\n",
       "    }\n",
       "\n",
       "    .dataframe thead th {\n",
       "        text-align: right;\n",
       "    }\n",
       "</style>\n",
       "<table border=\"1\" class=\"dataframe\">\n",
       "  <thead>\n",
       "    <tr style=\"text-align: right;\">\n",
       "      <th></th>\n",
       "      <th>Data potwierdzenia</th>\n",
       "      <th>Liczba dzików dodatnich</th>\n",
       "    </tr>\n",
       "  </thead>\n",
       "  <tbody>\n",
       "    <tr>\n",
       "      <th>0</th>\n",
       "      <td>2021-01-04</td>\n",
       "      <td>32</td>\n",
       "    </tr>\n",
       "    <tr>\n",
       "      <th>1</th>\n",
       "      <td>2021-01-05</td>\n",
       "      <td>23</td>\n",
       "    </tr>\n",
       "    <tr>\n",
       "      <th>2</th>\n",
       "      <td>2021-01-07</td>\n",
       "      <td>1</td>\n",
       "    </tr>\n",
       "    <tr>\n",
       "      <th>3</th>\n",
       "      <td>2021-01-08</td>\n",
       "      <td>13</td>\n",
       "    </tr>\n",
       "    <tr>\n",
       "      <th>4</th>\n",
       "      <td>2021-01-09</td>\n",
       "      <td>44</td>\n",
       "    </tr>\n",
       "  </tbody>\n",
       "</table>\n",
       "</div>"
      ],
      "text/plain": [
       "  Data potwierdzenia  Liczba dzików dodatnich\n",
       "0         2021-01-04                       32\n",
       "1         2021-01-05                       23\n",
       "2         2021-01-07                        1\n",
       "3         2021-01-08                       13\n",
       "4         2021-01-09                       44"
      ]
     },
     "execution_count": 407,
     "metadata": {},
     "output_type": "execute_result"
    }
   ],
   "source": [
    "df['Data potwierdzenia'] = pd.to_datetime(df['Data potwierdzenia'])\n",
    "df['Data potwierdzenia'] = df['Data potwierdzenia'].apply(lambda x: x.date())\n",
    "df = df.sort_values(by='Data potwierdzenia')\n",
    "df = df.drop(0)\n",
    "df = df.reset_index(drop=True)\n",
    "df.head()"
   ]
  },
  {
   "cell_type": "code",
   "execution_count": 408,
   "metadata": {},
   "outputs": [
    {
     "data": {
      "text/html": [
       "<div>\n",
       "<style scoped>\n",
       "    .dataframe tbody tr th:only-of-type {\n",
       "        vertical-align: middle;\n",
       "    }\n",
       "\n",
       "    .dataframe tbody tr th {\n",
       "        vertical-align: top;\n",
       "    }\n",
       "\n",
       "    .dataframe thead th {\n",
       "        text-align: right;\n",
       "    }\n",
       "</style>\n",
       "<table border=\"1\" class=\"dataframe\">\n",
       "  <thead>\n",
       "    <tr style=\"text-align: right;\">\n",
       "      <th></th>\n",
       "      <th>Liczba dzików dodatnich</th>\n",
       "    </tr>\n",
       "    <tr>\n",
       "      <th>Data potwierdzenia</th>\n",
       "      <th></th>\n",
       "    </tr>\n",
       "  </thead>\n",
       "  <tbody>\n",
       "    <tr>\n",
       "      <th>2021-01-04</th>\n",
       "      <td>32</td>\n",
       "    </tr>\n",
       "    <tr>\n",
       "      <th>2021-01-05</th>\n",
       "      <td>23</td>\n",
       "    </tr>\n",
       "    <tr>\n",
       "      <th>2021-01-07</th>\n",
       "      <td>1</td>\n",
       "    </tr>\n",
       "    <tr>\n",
       "      <th>2021-01-08</th>\n",
       "      <td>13</td>\n",
       "    </tr>\n",
       "    <tr>\n",
       "      <th>2021-01-09</th>\n",
       "      <td>44</td>\n",
       "    </tr>\n",
       "    <tr>\n",
       "      <th>...</th>\n",
       "      <td>...</td>\n",
       "    </tr>\n",
       "    <tr>\n",
       "      <th>2024-03-14</th>\n",
       "      <td>26</td>\n",
       "    </tr>\n",
       "    <tr>\n",
       "      <th>2024-03-15</th>\n",
       "      <td>21</td>\n",
       "    </tr>\n",
       "    <tr>\n",
       "      <th>2024-03-18</th>\n",
       "      <td>11</td>\n",
       "    </tr>\n",
       "    <tr>\n",
       "      <th>2024-03-19</th>\n",
       "      <td>12</td>\n",
       "    </tr>\n",
       "    <tr>\n",
       "      <th>2024-03-20</th>\n",
       "      <td>15</td>\n",
       "    </tr>\n",
       "  </tbody>\n",
       "</table>\n",
       "<p>736 rows × 1 columns</p>\n",
       "</div>"
      ],
      "text/plain": [
       "                    Liczba dzików dodatnich\n",
       "Data potwierdzenia                         \n",
       "2021-01-04                               32\n",
       "2021-01-05                               23\n",
       "2021-01-07                                1\n",
       "2021-01-08                               13\n",
       "2021-01-09                               44\n",
       "...                                     ...\n",
       "2024-03-14                               26\n",
       "2024-03-15                               21\n",
       "2024-03-18                               11\n",
       "2024-03-19                               12\n",
       "2024-03-20                               15\n",
       "\n",
       "[736 rows x 1 columns]"
      ]
     },
     "execution_count": 408,
     "metadata": {},
     "output_type": "execute_result"
    }
   ],
   "source": [
    "df['Data potwierdzenia'] = pd.to_datetime(df['Data potwierdzenia'])\n",
    "df.set_index('Data potwierdzenia', inplace=True)\n",
    "df"
   ]
  },
  {
   "cell_type": "code",
   "execution_count": 409,
   "metadata": {},
   "outputs": [],
   "source": [
    "# df = df.resample('W-Mon').sum()\n",
    "df = df.resample('W').sum()"
   ]
  },
  {
   "cell_type": "code",
   "execution_count": 410,
   "metadata": {},
   "outputs": [
    {
     "data": {
      "application/vnd.plotly.v1+json": {
       "config": {
        "plotlyServerURL": "https://plot.ly"
       },
       "data": [
        {
         "hovertemplate": "Data potwierdzenia=%{x}<br>Liczba dzików dodatnich=%{y}<extra></extra>",
         "legendgroup": "",
         "line": {
          "color": "#636efa",
          "dash": "solid"
         },
         "marker": {
          "symbol": "circle"
         },
         "mode": "lines",
         "name": "",
         "orientation": "v",
         "showlegend": false,
         "type": "scatter",
         "x": [
          "2021-01-10T00:00:00",
          "2021-01-17T00:00:00",
          "2021-01-24T00:00:00",
          "2021-01-31T00:00:00",
          "2021-02-07T00:00:00",
          "2021-02-14T00:00:00",
          "2021-02-21T00:00:00",
          "2021-02-28T00:00:00",
          "2021-03-07T00:00:00",
          "2021-03-14T00:00:00",
          "2021-03-21T00:00:00",
          "2021-03-28T00:00:00",
          "2021-04-04T00:00:00",
          "2021-04-11T00:00:00",
          "2021-04-18T00:00:00",
          "2021-04-25T00:00:00",
          "2021-05-02T00:00:00",
          "2021-05-09T00:00:00",
          "2021-05-16T00:00:00",
          "2021-05-23T00:00:00",
          "2021-05-30T00:00:00",
          "2021-06-06T00:00:00",
          "2021-06-13T00:00:00",
          "2021-06-20T00:00:00",
          "2021-06-27T00:00:00",
          "2021-07-04T00:00:00",
          "2021-07-11T00:00:00",
          "2021-07-18T00:00:00",
          "2021-07-25T00:00:00",
          "2021-08-01T00:00:00",
          "2021-08-08T00:00:00",
          "2021-08-15T00:00:00",
          "2021-08-22T00:00:00",
          "2021-08-29T00:00:00",
          "2021-09-05T00:00:00",
          "2021-09-12T00:00:00",
          "2021-09-19T00:00:00",
          "2021-09-26T00:00:00",
          "2021-10-03T00:00:00",
          "2021-10-10T00:00:00",
          "2021-10-17T00:00:00",
          "2021-10-24T00:00:00",
          "2021-10-31T00:00:00",
          "2021-11-07T00:00:00",
          "2021-11-14T00:00:00",
          "2021-11-21T00:00:00",
          "2021-11-28T00:00:00",
          "2021-12-05T00:00:00",
          "2021-12-12T00:00:00",
          "2021-12-19T00:00:00",
          "2021-12-26T00:00:00",
          "2022-01-02T00:00:00",
          "2022-01-09T00:00:00",
          "2022-01-16T00:00:00",
          "2022-01-23T00:00:00",
          "2022-01-30T00:00:00",
          "2022-02-06T00:00:00",
          "2022-02-13T00:00:00",
          "2022-02-20T00:00:00",
          "2022-02-27T00:00:00",
          "2022-03-06T00:00:00",
          "2022-03-13T00:00:00",
          "2022-03-20T00:00:00",
          "2022-03-27T00:00:00",
          "2022-04-03T00:00:00",
          "2022-04-10T00:00:00",
          "2022-04-17T00:00:00",
          "2022-04-24T00:00:00",
          "2022-05-01T00:00:00",
          "2022-05-08T00:00:00",
          "2022-05-15T00:00:00",
          "2022-05-22T00:00:00",
          "2022-05-29T00:00:00",
          "2022-06-05T00:00:00",
          "2022-06-12T00:00:00",
          "2022-06-19T00:00:00",
          "2022-06-26T00:00:00",
          "2022-07-03T00:00:00",
          "2022-07-10T00:00:00",
          "2022-07-17T00:00:00",
          "2022-07-24T00:00:00",
          "2022-07-31T00:00:00",
          "2022-08-07T00:00:00",
          "2022-08-14T00:00:00",
          "2022-08-21T00:00:00",
          "2022-08-28T00:00:00",
          "2022-09-04T00:00:00",
          "2022-09-11T00:00:00",
          "2022-09-18T00:00:00",
          "2022-09-25T00:00:00",
          "2022-10-02T00:00:00",
          "2022-10-09T00:00:00",
          "2022-10-16T00:00:00",
          "2022-10-23T00:00:00",
          "2022-10-30T00:00:00",
          "2022-11-06T00:00:00",
          "2022-11-13T00:00:00",
          "2022-11-20T00:00:00",
          "2022-11-27T00:00:00",
          "2022-12-04T00:00:00",
          "2022-12-11T00:00:00",
          "2022-12-18T00:00:00",
          "2022-12-25T00:00:00",
          "2023-01-01T00:00:00",
          "2023-01-08T00:00:00",
          "2023-01-15T00:00:00",
          "2023-01-22T00:00:00",
          "2023-01-29T00:00:00",
          "2023-02-05T00:00:00",
          "2023-02-12T00:00:00",
          "2023-02-19T00:00:00",
          "2023-02-26T00:00:00",
          "2023-03-05T00:00:00",
          "2023-03-12T00:00:00",
          "2023-03-19T00:00:00",
          "2023-03-26T00:00:00",
          "2023-04-02T00:00:00",
          "2023-04-09T00:00:00",
          "2023-04-16T00:00:00",
          "2023-04-23T00:00:00",
          "2023-04-30T00:00:00",
          "2023-05-07T00:00:00",
          "2023-05-14T00:00:00",
          "2023-05-21T00:00:00",
          "2023-05-28T00:00:00",
          "2023-06-04T00:00:00",
          "2023-06-11T00:00:00",
          "2023-06-18T00:00:00",
          "2023-06-25T00:00:00",
          "2023-07-02T00:00:00",
          "2023-07-09T00:00:00",
          "2023-07-16T00:00:00",
          "2023-07-23T00:00:00",
          "2023-07-30T00:00:00",
          "2023-08-06T00:00:00",
          "2023-08-13T00:00:00",
          "2023-08-20T00:00:00",
          "2023-08-27T00:00:00",
          "2023-09-03T00:00:00",
          "2023-09-10T00:00:00",
          "2023-09-17T00:00:00",
          "2023-09-24T00:00:00",
          "2023-10-01T00:00:00",
          "2023-10-08T00:00:00",
          "2023-10-15T00:00:00",
          "2023-10-22T00:00:00",
          "2023-10-29T00:00:00",
          "2023-11-05T00:00:00",
          "2023-11-12T00:00:00",
          "2023-11-19T00:00:00",
          "2023-11-26T00:00:00",
          "2023-12-03T00:00:00",
          "2023-12-10T00:00:00",
          "2023-12-17T00:00:00",
          "2023-12-24T00:00:00",
          "2023-12-31T00:00:00",
          "2024-01-07T00:00:00",
          "2024-01-14T00:00:00",
          "2024-01-21T00:00:00",
          "2024-01-28T00:00:00",
          "2024-02-04T00:00:00",
          "2024-02-11T00:00:00",
          "2024-02-18T00:00:00",
          "2024-02-25T00:00:00",
          "2024-03-03T00:00:00",
          "2024-03-10T00:00:00",
          "2024-03-17T00:00:00",
          "2024-03-24T00:00:00"
         ],
         "xaxis": "x",
         "y": [
          113,
          139,
          213,
          118,
          210,
          170,
          205,
          28,
          142,
          250,
          187,
          117,
          168,
          102,
          56,
          110,
          142,
          22,
          109,
          107,
          79,
          107,
          83,
          40,
          12,
          47,
          37,
          45,
          22,
          41,
          42,
          20,
          30,
          45,
          23,
          23,
          37,
          40,
          17,
          32,
          38,
          42,
          58,
          66,
          99,
          106,
          138,
          124,
          121,
          109,
          124,
          150,
          13,
          116,
          166,
          73,
          122,
          83,
          91,
          65,
          64,
          72,
          71,
          94,
          79,
          53,
          9,
          22,
          32,
          42,
          44,
          49,
          40,
          49,
          19,
          21,
          25,
          24,
          5,
          15,
          16,
          23,
          20,
          25,
          8,
          32,
          16,
          27,
          20,
          23,
          17,
          33,
          30,
          39,
          32,
          24,
          49,
          90,
          82,
          68,
          103,
          84,
          96,
          61,
          38,
          156,
          150,
          106,
          67,
          137,
          92,
          61,
          252,
          155,
          125,
          127,
          169,
          73,
          164,
          110,
          222,
          73,
          85,
          241,
          100,
          124,
          78,
          77,
          44,
          24,
          65,
          40,
          30,
          46,
          58,
          11,
          31,
          28,
          38,
          50,
          21,
          27,
          20,
          26,
          30,
          26,
          24,
          19,
          36,
          52,
          102,
          56,
          61,
          49,
          62,
          44,
          18,
          73,
          65,
          43,
          41,
          77,
          33,
          75,
          66,
          78,
          85,
          38
         ],
         "yaxis": "y"
        }
       ],
       "layout": {
        "height": 500,
        "legend": {
         "tracegroupgap": 0
        },
        "margin": {
         "t": 60
        },
        "showlegend": false,
        "template": {
         "data": {
          "bar": [
           {
            "error_x": {
             "color": "#2a3f5f"
            },
            "error_y": {
             "color": "#2a3f5f"
            },
            "marker": {
             "line": {
              "color": "#E5ECF6",
              "width": 0.5
             },
             "pattern": {
              "fillmode": "overlay",
              "size": 10,
              "solidity": 0.2
             }
            },
            "type": "bar"
           }
          ],
          "barpolar": [
           {
            "marker": {
             "line": {
              "color": "#E5ECF6",
              "width": 0.5
             },
             "pattern": {
              "fillmode": "overlay",
              "size": 10,
              "solidity": 0.2
             }
            },
            "type": "barpolar"
           }
          ],
          "carpet": [
           {
            "aaxis": {
             "endlinecolor": "#2a3f5f",
             "gridcolor": "white",
             "linecolor": "white",
             "minorgridcolor": "white",
             "startlinecolor": "#2a3f5f"
            },
            "baxis": {
             "endlinecolor": "#2a3f5f",
             "gridcolor": "white",
             "linecolor": "white",
             "minorgridcolor": "white",
             "startlinecolor": "#2a3f5f"
            },
            "type": "carpet"
           }
          ],
          "choropleth": [
           {
            "colorbar": {
             "outlinewidth": 0,
             "ticks": ""
            },
            "type": "choropleth"
           }
          ],
          "contour": [
           {
            "colorbar": {
             "outlinewidth": 0,
             "ticks": ""
            },
            "colorscale": [
             [
              0,
              "#0d0887"
             ],
             [
              0.1111111111111111,
              "#46039f"
             ],
             [
              0.2222222222222222,
              "#7201a8"
             ],
             [
              0.3333333333333333,
              "#9c179e"
             ],
             [
              0.4444444444444444,
              "#bd3786"
             ],
             [
              0.5555555555555556,
              "#d8576b"
             ],
             [
              0.6666666666666666,
              "#ed7953"
             ],
             [
              0.7777777777777778,
              "#fb9f3a"
             ],
             [
              0.8888888888888888,
              "#fdca26"
             ],
             [
              1,
              "#f0f921"
             ]
            ],
            "type": "contour"
           }
          ],
          "contourcarpet": [
           {
            "colorbar": {
             "outlinewidth": 0,
             "ticks": ""
            },
            "type": "contourcarpet"
           }
          ],
          "heatmap": [
           {
            "colorbar": {
             "outlinewidth": 0,
             "ticks": ""
            },
            "colorscale": [
             [
              0,
              "#0d0887"
             ],
             [
              0.1111111111111111,
              "#46039f"
             ],
             [
              0.2222222222222222,
              "#7201a8"
             ],
             [
              0.3333333333333333,
              "#9c179e"
             ],
             [
              0.4444444444444444,
              "#bd3786"
             ],
             [
              0.5555555555555556,
              "#d8576b"
             ],
             [
              0.6666666666666666,
              "#ed7953"
             ],
             [
              0.7777777777777778,
              "#fb9f3a"
             ],
             [
              0.8888888888888888,
              "#fdca26"
             ],
             [
              1,
              "#f0f921"
             ]
            ],
            "type": "heatmap"
           }
          ],
          "heatmapgl": [
           {
            "colorbar": {
             "outlinewidth": 0,
             "ticks": ""
            },
            "colorscale": [
             [
              0,
              "#0d0887"
             ],
             [
              0.1111111111111111,
              "#46039f"
             ],
             [
              0.2222222222222222,
              "#7201a8"
             ],
             [
              0.3333333333333333,
              "#9c179e"
             ],
             [
              0.4444444444444444,
              "#bd3786"
             ],
             [
              0.5555555555555556,
              "#d8576b"
             ],
             [
              0.6666666666666666,
              "#ed7953"
             ],
             [
              0.7777777777777778,
              "#fb9f3a"
             ],
             [
              0.8888888888888888,
              "#fdca26"
             ],
             [
              1,
              "#f0f921"
             ]
            ],
            "type": "heatmapgl"
           }
          ],
          "histogram": [
           {
            "marker": {
             "pattern": {
              "fillmode": "overlay",
              "size": 10,
              "solidity": 0.2
             }
            },
            "type": "histogram"
           }
          ],
          "histogram2d": [
           {
            "colorbar": {
             "outlinewidth": 0,
             "ticks": ""
            },
            "colorscale": [
             [
              0,
              "#0d0887"
             ],
             [
              0.1111111111111111,
              "#46039f"
             ],
             [
              0.2222222222222222,
              "#7201a8"
             ],
             [
              0.3333333333333333,
              "#9c179e"
             ],
             [
              0.4444444444444444,
              "#bd3786"
             ],
             [
              0.5555555555555556,
              "#d8576b"
             ],
             [
              0.6666666666666666,
              "#ed7953"
             ],
             [
              0.7777777777777778,
              "#fb9f3a"
             ],
             [
              0.8888888888888888,
              "#fdca26"
             ],
             [
              1,
              "#f0f921"
             ]
            ],
            "type": "histogram2d"
           }
          ],
          "histogram2dcontour": [
           {
            "colorbar": {
             "outlinewidth": 0,
             "ticks": ""
            },
            "colorscale": [
             [
              0,
              "#0d0887"
             ],
             [
              0.1111111111111111,
              "#46039f"
             ],
             [
              0.2222222222222222,
              "#7201a8"
             ],
             [
              0.3333333333333333,
              "#9c179e"
             ],
             [
              0.4444444444444444,
              "#bd3786"
             ],
             [
              0.5555555555555556,
              "#d8576b"
             ],
             [
              0.6666666666666666,
              "#ed7953"
             ],
             [
              0.7777777777777778,
              "#fb9f3a"
             ],
             [
              0.8888888888888888,
              "#fdca26"
             ],
             [
              1,
              "#f0f921"
             ]
            ],
            "type": "histogram2dcontour"
           }
          ],
          "mesh3d": [
           {
            "colorbar": {
             "outlinewidth": 0,
             "ticks": ""
            },
            "type": "mesh3d"
           }
          ],
          "parcoords": [
           {
            "line": {
             "colorbar": {
              "outlinewidth": 0,
              "ticks": ""
             }
            },
            "type": "parcoords"
           }
          ],
          "pie": [
           {
            "automargin": true,
            "type": "pie"
           }
          ],
          "scatter": [
           {
            "fillpattern": {
             "fillmode": "overlay",
             "size": 10,
             "solidity": 0.2
            },
            "type": "scatter"
           }
          ],
          "scatter3d": [
           {
            "line": {
             "colorbar": {
              "outlinewidth": 0,
              "ticks": ""
             }
            },
            "marker": {
             "colorbar": {
              "outlinewidth": 0,
              "ticks": ""
             }
            },
            "type": "scatter3d"
           }
          ],
          "scattercarpet": [
           {
            "marker": {
             "colorbar": {
              "outlinewidth": 0,
              "ticks": ""
             }
            },
            "type": "scattercarpet"
           }
          ],
          "scattergeo": [
           {
            "marker": {
             "colorbar": {
              "outlinewidth": 0,
              "ticks": ""
             }
            },
            "type": "scattergeo"
           }
          ],
          "scattergl": [
           {
            "marker": {
             "colorbar": {
              "outlinewidth": 0,
              "ticks": ""
             }
            },
            "type": "scattergl"
           }
          ],
          "scattermapbox": [
           {
            "marker": {
             "colorbar": {
              "outlinewidth": 0,
              "ticks": ""
             }
            },
            "type": "scattermapbox"
           }
          ],
          "scatterpolar": [
           {
            "marker": {
             "colorbar": {
              "outlinewidth": 0,
              "ticks": ""
             }
            },
            "type": "scatterpolar"
           }
          ],
          "scatterpolargl": [
           {
            "marker": {
             "colorbar": {
              "outlinewidth": 0,
              "ticks": ""
             }
            },
            "type": "scatterpolargl"
           }
          ],
          "scatterternary": [
           {
            "marker": {
             "colorbar": {
              "outlinewidth": 0,
              "ticks": ""
             }
            },
            "type": "scatterternary"
           }
          ],
          "surface": [
           {
            "colorbar": {
             "outlinewidth": 0,
             "ticks": ""
            },
            "colorscale": [
             [
              0,
              "#0d0887"
             ],
             [
              0.1111111111111111,
              "#46039f"
             ],
             [
              0.2222222222222222,
              "#7201a8"
             ],
             [
              0.3333333333333333,
              "#9c179e"
             ],
             [
              0.4444444444444444,
              "#bd3786"
             ],
             [
              0.5555555555555556,
              "#d8576b"
             ],
             [
              0.6666666666666666,
              "#ed7953"
             ],
             [
              0.7777777777777778,
              "#fb9f3a"
             ],
             [
              0.8888888888888888,
              "#fdca26"
             ],
             [
              1,
              "#f0f921"
             ]
            ],
            "type": "surface"
           }
          ],
          "table": [
           {
            "cells": {
             "fill": {
              "color": "#EBF0F8"
             },
             "line": {
              "color": "white"
             }
            },
            "header": {
             "fill": {
              "color": "#C8D4E3"
             },
             "line": {
              "color": "white"
             }
            },
            "type": "table"
           }
          ]
         },
         "layout": {
          "annotationdefaults": {
           "arrowcolor": "#2a3f5f",
           "arrowhead": 0,
           "arrowwidth": 1
          },
          "autotypenumbers": "strict",
          "coloraxis": {
           "colorbar": {
            "outlinewidth": 0,
            "ticks": ""
           }
          },
          "colorscale": {
           "diverging": [
            [
             0,
             "#8e0152"
            ],
            [
             0.1,
             "#c51b7d"
            ],
            [
             0.2,
             "#de77ae"
            ],
            [
             0.3,
             "#f1b6da"
            ],
            [
             0.4,
             "#fde0ef"
            ],
            [
             0.5,
             "#f7f7f7"
            ],
            [
             0.6,
             "#e6f5d0"
            ],
            [
             0.7,
             "#b8e186"
            ],
            [
             0.8,
             "#7fbc41"
            ],
            [
             0.9,
             "#4d9221"
            ],
            [
             1,
             "#276419"
            ]
           ],
           "sequential": [
            [
             0,
             "#0d0887"
            ],
            [
             0.1111111111111111,
             "#46039f"
            ],
            [
             0.2222222222222222,
             "#7201a8"
            ],
            [
             0.3333333333333333,
             "#9c179e"
            ],
            [
             0.4444444444444444,
             "#bd3786"
            ],
            [
             0.5555555555555556,
             "#d8576b"
            ],
            [
             0.6666666666666666,
             "#ed7953"
            ],
            [
             0.7777777777777778,
             "#fb9f3a"
            ],
            [
             0.8888888888888888,
             "#fdca26"
            ],
            [
             1,
             "#f0f921"
            ]
           ],
           "sequentialminus": [
            [
             0,
             "#0d0887"
            ],
            [
             0.1111111111111111,
             "#46039f"
            ],
            [
             0.2222222222222222,
             "#7201a8"
            ],
            [
             0.3333333333333333,
             "#9c179e"
            ],
            [
             0.4444444444444444,
             "#bd3786"
            ],
            [
             0.5555555555555556,
             "#d8576b"
            ],
            [
             0.6666666666666666,
             "#ed7953"
            ],
            [
             0.7777777777777778,
             "#fb9f3a"
            ],
            [
             0.8888888888888888,
             "#fdca26"
            ],
            [
             1,
             "#f0f921"
            ]
           ]
          },
          "colorway": [
           "#636efa",
           "#EF553B",
           "#00cc96",
           "#ab63fa",
           "#FFA15A",
           "#19d3f3",
           "#FF6692",
           "#B6E880",
           "#FF97FF",
           "#FECB52"
          ],
          "font": {
           "color": "#2a3f5f"
          },
          "geo": {
           "bgcolor": "white",
           "lakecolor": "white",
           "landcolor": "#E5ECF6",
           "showlakes": true,
           "showland": true,
           "subunitcolor": "white"
          },
          "hoverlabel": {
           "align": "left"
          },
          "hovermode": "closest",
          "mapbox": {
           "style": "light"
          },
          "paper_bgcolor": "white",
          "plot_bgcolor": "#E5ECF6",
          "polar": {
           "angularaxis": {
            "gridcolor": "white",
            "linecolor": "white",
            "ticks": ""
           },
           "bgcolor": "#E5ECF6",
           "radialaxis": {
            "gridcolor": "white",
            "linecolor": "white",
            "ticks": ""
           }
          },
          "scene": {
           "xaxis": {
            "backgroundcolor": "#E5ECF6",
            "gridcolor": "white",
            "gridwidth": 2,
            "linecolor": "white",
            "showbackground": true,
            "ticks": "",
            "zerolinecolor": "white"
           },
           "yaxis": {
            "backgroundcolor": "#E5ECF6",
            "gridcolor": "white",
            "gridwidth": 2,
            "linecolor": "white",
            "showbackground": true,
            "ticks": "",
            "zerolinecolor": "white"
           },
           "zaxis": {
            "backgroundcolor": "#E5ECF6",
            "gridcolor": "white",
            "gridwidth": 2,
            "linecolor": "white",
            "showbackground": true,
            "ticks": "",
            "zerolinecolor": "white"
           }
          },
          "shapedefaults": {
           "line": {
            "color": "#2a3f5f"
           }
          },
          "ternary": {
           "aaxis": {
            "gridcolor": "white",
            "linecolor": "white",
            "ticks": ""
           },
           "baxis": {
            "gridcolor": "white",
            "linecolor": "white",
            "ticks": ""
           },
           "bgcolor": "#E5ECF6",
           "caxis": {
            "gridcolor": "white",
            "linecolor": "white",
            "ticks": ""
           }
          },
          "title": {
           "x": 0.05
          },
          "xaxis": {
           "automargin": true,
           "gridcolor": "white",
           "linecolor": "white",
           "ticks": "",
           "title": {
            "standoff": 15
           },
           "zerolinecolor": "white",
           "zerolinewidth": 2
          },
          "yaxis": {
           "automargin": true,
           "gridcolor": "white",
           "linecolor": "white",
           "ticks": "",
           "title": {
            "standoff": 15
           },
           "zerolinecolor": "white",
           "zerolinewidth": 2
          }
         }
        },
        "title": {
         "font": {
          "size": 18
         },
         "text": "Liczba dzików dodatnich w czasie",
         "x": 0.5,
         "xanchor": "center"
        },
        "width": 1000,
        "xaxis": {
         "anchor": "y",
         "domain": [
          0,
          1
         ],
         "title": {
          "text": "Data"
         }
        },
        "yaxis": {
         "anchor": "x",
         "domain": [
          0,
          1
         ],
         "title": {
          "text": "Liczba dzików dodatnich"
         }
        }
       }
      }
     },
     "metadata": {},
     "output_type": "display_data"
    }
   ],
   "source": [
    "fig = px.line(\n",
    "    df,\n",
    "    x=df.index, \n",
    "    y=\"Liczba dzików dodatnich\"\n",
    ")\n",
    "\n",
    "\n",
    "fig.update_layout(\n",
    "    title={\n",
    "        'text': f\"Liczba dzików dodatnich w czasie\",\n",
    "        'x': 0.5,  \n",
    "        'xanchor': 'center'\n",
    "    },\n",
    "    xaxis_title=\"Data\",\n",
    "    yaxis_title=\"Liczba dzików dodatnich\",\n",
    "    title_font_size=18,\n",
    "    width=1000,\n",
    "    height=500,\n",
    "    showlegend=False\n",
    ")\n",
    "\n",
    "fig.show()"
   ]
  },
  {
   "cell_type": "code",
   "execution_count": 411,
   "metadata": {},
   "outputs": [
    {
     "data": {
      "text/plain": [
       "168"
      ]
     },
     "execution_count": 411,
     "metadata": {},
     "output_type": "execute_result"
    }
   ],
   "source": [
    "len(df.index)"
   ]
  },
  {
   "cell_type": "code",
   "execution_count": 412,
   "metadata": {},
   "outputs": [
    {
     "data": {
      "text/html": [
       "<div>\n",
       "<style scoped>\n",
       "    .dataframe tbody tr th:only-of-type {\n",
       "        vertical-align: middle;\n",
       "    }\n",
       "\n",
       "    .dataframe tbody tr th {\n",
       "        vertical-align: top;\n",
       "    }\n",
       "\n",
       "    .dataframe thead th {\n",
       "        text-align: right;\n",
       "    }\n",
       "</style>\n",
       "<table border=\"1\" class=\"dataframe\">\n",
       "  <thead>\n",
       "    <tr style=\"text-align: right;\">\n",
       "      <th></th>\n",
       "      <th>Liczba dzików dodatnich</th>\n",
       "    </tr>\n",
       "    <tr>\n",
       "      <th>Data potwierdzenia</th>\n",
       "      <th></th>\n",
       "    </tr>\n",
       "  </thead>\n",
       "  <tbody>\n",
       "    <tr>\n",
       "      <th>2023-12-03</th>\n",
       "      <td>56</td>\n",
       "    </tr>\n",
       "    <tr>\n",
       "      <th>2023-12-10</th>\n",
       "      <td>61</td>\n",
       "    </tr>\n",
       "    <tr>\n",
       "      <th>2023-12-17</th>\n",
       "      <td>49</td>\n",
       "    </tr>\n",
       "    <tr>\n",
       "      <th>2023-12-24</th>\n",
       "      <td>62</td>\n",
       "    </tr>\n",
       "    <tr>\n",
       "      <th>2023-12-31</th>\n",
       "      <td>44</td>\n",
       "    </tr>\n",
       "  </tbody>\n",
       "</table>\n",
       "</div>"
      ],
      "text/plain": [
       "                    Liczba dzików dodatnich\n",
       "Data potwierdzenia                         \n",
       "2023-12-03                               56\n",
       "2023-12-10                               61\n",
       "2023-12-17                               49\n",
       "2023-12-24                               62\n",
       "2023-12-31                               44"
      ]
     },
     "execution_count": 412,
     "metadata": {},
     "output_type": "execute_result"
    }
   ],
   "source": [
    "end_date = pd.to_datetime('2023-12-31')\n",
    "filtered_df = df[df.index <= end_date]\n",
    "\n",
    "\n",
    "cut_df = pd.DataFrame({\n",
    "    \"Liczba dzików dodatnich\": filtered_df['Liczba dzików dodatnich']\n",
    "})\n",
    "\n",
    "cut_df.tail()"
   ]
  },
  {
   "cell_type": "code",
   "execution_count": 413,
   "metadata": {},
   "outputs": [
    {
     "data": {
      "text/html": [
       "<div>\n",
       "<style scoped>\n",
       "    .dataframe tbody tr th:only-of-type {\n",
       "        vertical-align: middle;\n",
       "    }\n",
       "\n",
       "    .dataframe tbody tr th {\n",
       "        vertical-align: top;\n",
       "    }\n",
       "\n",
       "    .dataframe thead th {\n",
       "        text-align: right;\n",
       "    }\n",
       "</style>\n",
       "<table border=\"1\" class=\"dataframe\">\n",
       "  <thead>\n",
       "    <tr style=\"text-align: right;\">\n",
       "      <th></th>\n",
       "      <th>Liczba dzików dodatnich</th>\n",
       "    </tr>\n",
       "    <tr>\n",
       "      <th>Data potwierdzenia</th>\n",
       "      <th></th>\n",
       "    </tr>\n",
       "  </thead>\n",
       "  <tbody>\n",
       "    <tr>\n",
       "      <th>2023-12-31</th>\n",
       "      <td>44</td>\n",
       "    </tr>\n",
       "    <tr>\n",
       "      <th>2024-01-07</th>\n",
       "      <td>18</td>\n",
       "    </tr>\n",
       "    <tr>\n",
       "      <th>2024-01-14</th>\n",
       "      <td>73</td>\n",
       "    </tr>\n",
       "    <tr>\n",
       "      <th>2024-01-21</th>\n",
       "      <td>65</td>\n",
       "    </tr>\n",
       "    <tr>\n",
       "      <th>2024-01-28</th>\n",
       "      <td>43</td>\n",
       "    </tr>\n",
       "    <tr>\n",
       "      <th>2024-02-04</th>\n",
       "      <td>41</td>\n",
       "    </tr>\n",
       "    <tr>\n",
       "      <th>2024-02-11</th>\n",
       "      <td>77</td>\n",
       "    </tr>\n",
       "    <tr>\n",
       "      <th>2024-02-18</th>\n",
       "      <td>33</td>\n",
       "    </tr>\n",
       "    <tr>\n",
       "      <th>2024-02-25</th>\n",
       "      <td>75</td>\n",
       "    </tr>\n",
       "    <tr>\n",
       "      <th>2024-03-03</th>\n",
       "      <td>66</td>\n",
       "    </tr>\n",
       "    <tr>\n",
       "      <th>2024-03-10</th>\n",
       "      <td>78</td>\n",
       "    </tr>\n",
       "    <tr>\n",
       "      <th>2024-03-17</th>\n",
       "      <td>85</td>\n",
       "    </tr>\n",
       "    <tr>\n",
       "      <th>2024-03-24</th>\n",
       "      <td>38</td>\n",
       "    </tr>\n",
       "  </tbody>\n",
       "</table>\n",
       "</div>"
      ],
      "text/plain": [
       "                    Liczba dzików dodatnich\n",
       "Data potwierdzenia                         \n",
       "2023-12-31                               44\n",
       "2024-01-07                               18\n",
       "2024-01-14                               73\n",
       "2024-01-21                               65\n",
       "2024-01-28                               43\n",
       "2024-02-04                               41\n",
       "2024-02-11                               77\n",
       "2024-02-18                               33\n",
       "2024-02-25                               75\n",
       "2024-03-03                               66\n",
       "2024-03-10                               78\n",
       "2024-03-17                               85\n",
       "2024-03-24                               38"
      ]
     },
     "execution_count": 413,
     "metadata": {},
     "output_type": "execute_result"
    }
   ],
   "source": [
    "rest_df =  df[df.index >= end_date]\n",
    "\n",
    "predict_df = pd.DataFrame({\n",
    "    \"Liczba dzików dodatnich\": rest_df['Liczba dzików dodatnich']\n",
    "})\n",
    "\n",
    "predict_df"
   ]
  },
  {
   "cell_type": "code",
   "execution_count": 414,
   "metadata": {},
   "outputs": [
    {
     "data": {
      "application/vnd.plotly.v1+json": {
       "config": {
        "plotlyServerURL": "https://plot.ly"
       },
       "data": [
        {
         "mode": "lines",
         "name": "Dane do analizy",
         "type": "scatter",
         "x": [
          "2021-01-10T00:00:00",
          "2021-01-17T00:00:00",
          "2021-01-24T00:00:00",
          "2021-01-31T00:00:00",
          "2021-02-07T00:00:00",
          "2021-02-14T00:00:00",
          "2021-02-21T00:00:00",
          "2021-02-28T00:00:00",
          "2021-03-07T00:00:00",
          "2021-03-14T00:00:00",
          "2021-03-21T00:00:00",
          "2021-03-28T00:00:00",
          "2021-04-04T00:00:00",
          "2021-04-11T00:00:00",
          "2021-04-18T00:00:00",
          "2021-04-25T00:00:00",
          "2021-05-02T00:00:00",
          "2021-05-09T00:00:00",
          "2021-05-16T00:00:00",
          "2021-05-23T00:00:00",
          "2021-05-30T00:00:00",
          "2021-06-06T00:00:00",
          "2021-06-13T00:00:00",
          "2021-06-20T00:00:00",
          "2021-06-27T00:00:00",
          "2021-07-04T00:00:00",
          "2021-07-11T00:00:00",
          "2021-07-18T00:00:00",
          "2021-07-25T00:00:00",
          "2021-08-01T00:00:00",
          "2021-08-08T00:00:00",
          "2021-08-15T00:00:00",
          "2021-08-22T00:00:00",
          "2021-08-29T00:00:00",
          "2021-09-05T00:00:00",
          "2021-09-12T00:00:00",
          "2021-09-19T00:00:00",
          "2021-09-26T00:00:00",
          "2021-10-03T00:00:00",
          "2021-10-10T00:00:00",
          "2021-10-17T00:00:00",
          "2021-10-24T00:00:00",
          "2021-10-31T00:00:00",
          "2021-11-07T00:00:00",
          "2021-11-14T00:00:00",
          "2021-11-21T00:00:00",
          "2021-11-28T00:00:00",
          "2021-12-05T00:00:00",
          "2021-12-12T00:00:00",
          "2021-12-19T00:00:00",
          "2021-12-26T00:00:00",
          "2022-01-02T00:00:00",
          "2022-01-09T00:00:00",
          "2022-01-16T00:00:00",
          "2022-01-23T00:00:00",
          "2022-01-30T00:00:00",
          "2022-02-06T00:00:00",
          "2022-02-13T00:00:00",
          "2022-02-20T00:00:00",
          "2022-02-27T00:00:00",
          "2022-03-06T00:00:00",
          "2022-03-13T00:00:00",
          "2022-03-20T00:00:00",
          "2022-03-27T00:00:00",
          "2022-04-03T00:00:00",
          "2022-04-10T00:00:00",
          "2022-04-17T00:00:00",
          "2022-04-24T00:00:00",
          "2022-05-01T00:00:00",
          "2022-05-08T00:00:00",
          "2022-05-15T00:00:00",
          "2022-05-22T00:00:00",
          "2022-05-29T00:00:00",
          "2022-06-05T00:00:00",
          "2022-06-12T00:00:00",
          "2022-06-19T00:00:00",
          "2022-06-26T00:00:00",
          "2022-07-03T00:00:00",
          "2022-07-10T00:00:00",
          "2022-07-17T00:00:00",
          "2022-07-24T00:00:00",
          "2022-07-31T00:00:00",
          "2022-08-07T00:00:00",
          "2022-08-14T00:00:00",
          "2022-08-21T00:00:00",
          "2022-08-28T00:00:00",
          "2022-09-04T00:00:00",
          "2022-09-11T00:00:00",
          "2022-09-18T00:00:00",
          "2022-09-25T00:00:00",
          "2022-10-02T00:00:00",
          "2022-10-09T00:00:00",
          "2022-10-16T00:00:00",
          "2022-10-23T00:00:00",
          "2022-10-30T00:00:00",
          "2022-11-06T00:00:00",
          "2022-11-13T00:00:00",
          "2022-11-20T00:00:00",
          "2022-11-27T00:00:00",
          "2022-12-04T00:00:00",
          "2022-12-11T00:00:00",
          "2022-12-18T00:00:00",
          "2022-12-25T00:00:00",
          "2023-01-01T00:00:00",
          "2023-01-08T00:00:00",
          "2023-01-15T00:00:00",
          "2023-01-22T00:00:00",
          "2023-01-29T00:00:00",
          "2023-02-05T00:00:00",
          "2023-02-12T00:00:00",
          "2023-02-19T00:00:00",
          "2023-02-26T00:00:00",
          "2023-03-05T00:00:00",
          "2023-03-12T00:00:00",
          "2023-03-19T00:00:00",
          "2023-03-26T00:00:00",
          "2023-04-02T00:00:00",
          "2023-04-09T00:00:00",
          "2023-04-16T00:00:00",
          "2023-04-23T00:00:00",
          "2023-04-30T00:00:00",
          "2023-05-07T00:00:00",
          "2023-05-14T00:00:00",
          "2023-05-21T00:00:00",
          "2023-05-28T00:00:00",
          "2023-06-04T00:00:00",
          "2023-06-11T00:00:00",
          "2023-06-18T00:00:00",
          "2023-06-25T00:00:00",
          "2023-07-02T00:00:00",
          "2023-07-09T00:00:00",
          "2023-07-16T00:00:00",
          "2023-07-23T00:00:00",
          "2023-07-30T00:00:00",
          "2023-08-06T00:00:00",
          "2023-08-13T00:00:00",
          "2023-08-20T00:00:00",
          "2023-08-27T00:00:00",
          "2023-09-03T00:00:00",
          "2023-09-10T00:00:00",
          "2023-09-17T00:00:00",
          "2023-09-24T00:00:00",
          "2023-10-01T00:00:00",
          "2023-10-08T00:00:00",
          "2023-10-15T00:00:00",
          "2023-10-22T00:00:00",
          "2023-10-29T00:00:00",
          "2023-11-05T00:00:00",
          "2023-11-12T00:00:00",
          "2023-11-19T00:00:00",
          "2023-11-26T00:00:00",
          "2023-12-03T00:00:00",
          "2023-12-10T00:00:00",
          "2023-12-17T00:00:00",
          "2023-12-24T00:00:00",
          "2023-12-31T00:00:00"
         ],
         "y": [
          113,
          139,
          213,
          118,
          210,
          170,
          205,
          28,
          142,
          250,
          187,
          117,
          168,
          102,
          56,
          110,
          142,
          22,
          109,
          107,
          79,
          107,
          83,
          40,
          12,
          47,
          37,
          45,
          22,
          41,
          42,
          20,
          30,
          45,
          23,
          23,
          37,
          40,
          17,
          32,
          38,
          42,
          58,
          66,
          99,
          106,
          138,
          124,
          121,
          109,
          124,
          150,
          13,
          116,
          166,
          73,
          122,
          83,
          91,
          65,
          64,
          72,
          71,
          94,
          79,
          53,
          9,
          22,
          32,
          42,
          44,
          49,
          40,
          49,
          19,
          21,
          25,
          24,
          5,
          15,
          16,
          23,
          20,
          25,
          8,
          32,
          16,
          27,
          20,
          23,
          17,
          33,
          30,
          39,
          32,
          24,
          49,
          90,
          82,
          68,
          103,
          84,
          96,
          61,
          38,
          156,
          150,
          106,
          67,
          137,
          92,
          61,
          252,
          155,
          125,
          127,
          169,
          73,
          164,
          110,
          222,
          73,
          85,
          241,
          100,
          124,
          78,
          77,
          44,
          24,
          65,
          40,
          30,
          46,
          58,
          11,
          31,
          28,
          38,
          50,
          21,
          27,
          20,
          26,
          30,
          26,
          24,
          19,
          36,
          52,
          102,
          56,
          61,
          49,
          62,
          44
         ]
        },
        {
         "line": {
          "color": "red"
         },
         "mode": "lines",
         "name": "Dane do predykcji",
         "type": "scatter",
         "x": [
          "2023-12-31T00:00:00",
          "2024-01-07T00:00:00",
          "2024-01-14T00:00:00",
          "2024-01-21T00:00:00",
          "2024-01-28T00:00:00",
          "2024-02-04T00:00:00",
          "2024-02-11T00:00:00",
          "2024-02-18T00:00:00",
          "2024-02-25T00:00:00",
          "2024-03-03T00:00:00",
          "2024-03-10T00:00:00",
          "2024-03-17T00:00:00",
          "2024-03-24T00:00:00"
         ],
         "y": [
          44,
          18,
          73,
          65,
          43,
          41,
          77,
          33,
          75,
          66,
          78,
          85,
          38
         ]
        }
       ],
       "layout": {
        "height": 500,
        "legend": {
         "orientation": "h",
         "x": 0.5,
         "xanchor": "center",
         "y": -0.3,
         "yanchor": "bottom"
        },
        "template": {
         "data": {
          "bar": [
           {
            "error_x": {
             "color": "#2a3f5f"
            },
            "error_y": {
             "color": "#2a3f5f"
            },
            "marker": {
             "line": {
              "color": "#E5ECF6",
              "width": 0.5
             },
             "pattern": {
              "fillmode": "overlay",
              "size": 10,
              "solidity": 0.2
             }
            },
            "type": "bar"
           }
          ],
          "barpolar": [
           {
            "marker": {
             "line": {
              "color": "#E5ECF6",
              "width": 0.5
             },
             "pattern": {
              "fillmode": "overlay",
              "size": 10,
              "solidity": 0.2
             }
            },
            "type": "barpolar"
           }
          ],
          "carpet": [
           {
            "aaxis": {
             "endlinecolor": "#2a3f5f",
             "gridcolor": "white",
             "linecolor": "white",
             "minorgridcolor": "white",
             "startlinecolor": "#2a3f5f"
            },
            "baxis": {
             "endlinecolor": "#2a3f5f",
             "gridcolor": "white",
             "linecolor": "white",
             "minorgridcolor": "white",
             "startlinecolor": "#2a3f5f"
            },
            "type": "carpet"
           }
          ],
          "choropleth": [
           {
            "colorbar": {
             "outlinewidth": 0,
             "ticks": ""
            },
            "type": "choropleth"
           }
          ],
          "contour": [
           {
            "colorbar": {
             "outlinewidth": 0,
             "ticks": ""
            },
            "colorscale": [
             [
              0,
              "#0d0887"
             ],
             [
              0.1111111111111111,
              "#46039f"
             ],
             [
              0.2222222222222222,
              "#7201a8"
             ],
             [
              0.3333333333333333,
              "#9c179e"
             ],
             [
              0.4444444444444444,
              "#bd3786"
             ],
             [
              0.5555555555555556,
              "#d8576b"
             ],
             [
              0.6666666666666666,
              "#ed7953"
             ],
             [
              0.7777777777777778,
              "#fb9f3a"
             ],
             [
              0.8888888888888888,
              "#fdca26"
             ],
             [
              1,
              "#f0f921"
             ]
            ],
            "type": "contour"
           }
          ],
          "contourcarpet": [
           {
            "colorbar": {
             "outlinewidth": 0,
             "ticks": ""
            },
            "type": "contourcarpet"
           }
          ],
          "heatmap": [
           {
            "colorbar": {
             "outlinewidth": 0,
             "ticks": ""
            },
            "colorscale": [
             [
              0,
              "#0d0887"
             ],
             [
              0.1111111111111111,
              "#46039f"
             ],
             [
              0.2222222222222222,
              "#7201a8"
             ],
             [
              0.3333333333333333,
              "#9c179e"
             ],
             [
              0.4444444444444444,
              "#bd3786"
             ],
             [
              0.5555555555555556,
              "#d8576b"
             ],
             [
              0.6666666666666666,
              "#ed7953"
             ],
             [
              0.7777777777777778,
              "#fb9f3a"
             ],
             [
              0.8888888888888888,
              "#fdca26"
             ],
             [
              1,
              "#f0f921"
             ]
            ],
            "type": "heatmap"
           }
          ],
          "heatmapgl": [
           {
            "colorbar": {
             "outlinewidth": 0,
             "ticks": ""
            },
            "colorscale": [
             [
              0,
              "#0d0887"
             ],
             [
              0.1111111111111111,
              "#46039f"
             ],
             [
              0.2222222222222222,
              "#7201a8"
             ],
             [
              0.3333333333333333,
              "#9c179e"
             ],
             [
              0.4444444444444444,
              "#bd3786"
             ],
             [
              0.5555555555555556,
              "#d8576b"
             ],
             [
              0.6666666666666666,
              "#ed7953"
             ],
             [
              0.7777777777777778,
              "#fb9f3a"
             ],
             [
              0.8888888888888888,
              "#fdca26"
             ],
             [
              1,
              "#f0f921"
             ]
            ],
            "type": "heatmapgl"
           }
          ],
          "histogram": [
           {
            "marker": {
             "pattern": {
              "fillmode": "overlay",
              "size": 10,
              "solidity": 0.2
             }
            },
            "type": "histogram"
           }
          ],
          "histogram2d": [
           {
            "colorbar": {
             "outlinewidth": 0,
             "ticks": ""
            },
            "colorscale": [
             [
              0,
              "#0d0887"
             ],
             [
              0.1111111111111111,
              "#46039f"
             ],
             [
              0.2222222222222222,
              "#7201a8"
             ],
             [
              0.3333333333333333,
              "#9c179e"
             ],
             [
              0.4444444444444444,
              "#bd3786"
             ],
             [
              0.5555555555555556,
              "#d8576b"
             ],
             [
              0.6666666666666666,
              "#ed7953"
             ],
             [
              0.7777777777777778,
              "#fb9f3a"
             ],
             [
              0.8888888888888888,
              "#fdca26"
             ],
             [
              1,
              "#f0f921"
             ]
            ],
            "type": "histogram2d"
           }
          ],
          "histogram2dcontour": [
           {
            "colorbar": {
             "outlinewidth": 0,
             "ticks": ""
            },
            "colorscale": [
             [
              0,
              "#0d0887"
             ],
             [
              0.1111111111111111,
              "#46039f"
             ],
             [
              0.2222222222222222,
              "#7201a8"
             ],
             [
              0.3333333333333333,
              "#9c179e"
             ],
             [
              0.4444444444444444,
              "#bd3786"
             ],
             [
              0.5555555555555556,
              "#d8576b"
             ],
             [
              0.6666666666666666,
              "#ed7953"
             ],
             [
              0.7777777777777778,
              "#fb9f3a"
             ],
             [
              0.8888888888888888,
              "#fdca26"
             ],
             [
              1,
              "#f0f921"
             ]
            ],
            "type": "histogram2dcontour"
           }
          ],
          "mesh3d": [
           {
            "colorbar": {
             "outlinewidth": 0,
             "ticks": ""
            },
            "type": "mesh3d"
           }
          ],
          "parcoords": [
           {
            "line": {
             "colorbar": {
              "outlinewidth": 0,
              "ticks": ""
             }
            },
            "type": "parcoords"
           }
          ],
          "pie": [
           {
            "automargin": true,
            "type": "pie"
           }
          ],
          "scatter": [
           {
            "fillpattern": {
             "fillmode": "overlay",
             "size": 10,
             "solidity": 0.2
            },
            "type": "scatter"
           }
          ],
          "scatter3d": [
           {
            "line": {
             "colorbar": {
              "outlinewidth": 0,
              "ticks": ""
             }
            },
            "marker": {
             "colorbar": {
              "outlinewidth": 0,
              "ticks": ""
             }
            },
            "type": "scatter3d"
           }
          ],
          "scattercarpet": [
           {
            "marker": {
             "colorbar": {
              "outlinewidth": 0,
              "ticks": ""
             }
            },
            "type": "scattercarpet"
           }
          ],
          "scattergeo": [
           {
            "marker": {
             "colorbar": {
              "outlinewidth": 0,
              "ticks": ""
             }
            },
            "type": "scattergeo"
           }
          ],
          "scattergl": [
           {
            "marker": {
             "colorbar": {
              "outlinewidth": 0,
              "ticks": ""
             }
            },
            "type": "scattergl"
           }
          ],
          "scattermapbox": [
           {
            "marker": {
             "colorbar": {
              "outlinewidth": 0,
              "ticks": ""
             }
            },
            "type": "scattermapbox"
           }
          ],
          "scatterpolar": [
           {
            "marker": {
             "colorbar": {
              "outlinewidth": 0,
              "ticks": ""
             }
            },
            "type": "scatterpolar"
           }
          ],
          "scatterpolargl": [
           {
            "marker": {
             "colorbar": {
              "outlinewidth": 0,
              "ticks": ""
             }
            },
            "type": "scatterpolargl"
           }
          ],
          "scatterternary": [
           {
            "marker": {
             "colorbar": {
              "outlinewidth": 0,
              "ticks": ""
             }
            },
            "type": "scatterternary"
           }
          ],
          "surface": [
           {
            "colorbar": {
             "outlinewidth": 0,
             "ticks": ""
            },
            "colorscale": [
             [
              0,
              "#0d0887"
             ],
             [
              0.1111111111111111,
              "#46039f"
             ],
             [
              0.2222222222222222,
              "#7201a8"
             ],
             [
              0.3333333333333333,
              "#9c179e"
             ],
             [
              0.4444444444444444,
              "#bd3786"
             ],
             [
              0.5555555555555556,
              "#d8576b"
             ],
             [
              0.6666666666666666,
              "#ed7953"
             ],
             [
              0.7777777777777778,
              "#fb9f3a"
             ],
             [
              0.8888888888888888,
              "#fdca26"
             ],
             [
              1,
              "#f0f921"
             ]
            ],
            "type": "surface"
           }
          ],
          "table": [
           {
            "cells": {
             "fill": {
              "color": "#EBF0F8"
             },
             "line": {
              "color": "white"
             }
            },
            "header": {
             "fill": {
              "color": "#C8D4E3"
             },
             "line": {
              "color": "white"
             }
            },
            "type": "table"
           }
          ]
         },
         "layout": {
          "annotationdefaults": {
           "arrowcolor": "#2a3f5f",
           "arrowhead": 0,
           "arrowwidth": 1
          },
          "autotypenumbers": "strict",
          "coloraxis": {
           "colorbar": {
            "outlinewidth": 0,
            "ticks": ""
           }
          },
          "colorscale": {
           "diverging": [
            [
             0,
             "#8e0152"
            ],
            [
             0.1,
             "#c51b7d"
            ],
            [
             0.2,
             "#de77ae"
            ],
            [
             0.3,
             "#f1b6da"
            ],
            [
             0.4,
             "#fde0ef"
            ],
            [
             0.5,
             "#f7f7f7"
            ],
            [
             0.6,
             "#e6f5d0"
            ],
            [
             0.7,
             "#b8e186"
            ],
            [
             0.8,
             "#7fbc41"
            ],
            [
             0.9,
             "#4d9221"
            ],
            [
             1,
             "#276419"
            ]
           ],
           "sequential": [
            [
             0,
             "#0d0887"
            ],
            [
             0.1111111111111111,
             "#46039f"
            ],
            [
             0.2222222222222222,
             "#7201a8"
            ],
            [
             0.3333333333333333,
             "#9c179e"
            ],
            [
             0.4444444444444444,
             "#bd3786"
            ],
            [
             0.5555555555555556,
             "#d8576b"
            ],
            [
             0.6666666666666666,
             "#ed7953"
            ],
            [
             0.7777777777777778,
             "#fb9f3a"
            ],
            [
             0.8888888888888888,
             "#fdca26"
            ],
            [
             1,
             "#f0f921"
            ]
           ],
           "sequentialminus": [
            [
             0,
             "#0d0887"
            ],
            [
             0.1111111111111111,
             "#46039f"
            ],
            [
             0.2222222222222222,
             "#7201a8"
            ],
            [
             0.3333333333333333,
             "#9c179e"
            ],
            [
             0.4444444444444444,
             "#bd3786"
            ],
            [
             0.5555555555555556,
             "#d8576b"
            ],
            [
             0.6666666666666666,
             "#ed7953"
            ],
            [
             0.7777777777777778,
             "#fb9f3a"
            ],
            [
             0.8888888888888888,
             "#fdca26"
            ],
            [
             1,
             "#f0f921"
            ]
           ]
          },
          "colorway": [
           "#636efa",
           "#EF553B",
           "#00cc96",
           "#ab63fa",
           "#FFA15A",
           "#19d3f3",
           "#FF6692",
           "#B6E880",
           "#FF97FF",
           "#FECB52"
          ],
          "font": {
           "color": "#2a3f5f"
          },
          "geo": {
           "bgcolor": "white",
           "lakecolor": "white",
           "landcolor": "#E5ECF6",
           "showlakes": true,
           "showland": true,
           "subunitcolor": "white"
          },
          "hoverlabel": {
           "align": "left"
          },
          "hovermode": "closest",
          "mapbox": {
           "style": "light"
          },
          "paper_bgcolor": "white",
          "plot_bgcolor": "#E5ECF6",
          "polar": {
           "angularaxis": {
            "gridcolor": "white",
            "linecolor": "white",
            "ticks": ""
           },
           "bgcolor": "#E5ECF6",
           "radialaxis": {
            "gridcolor": "white",
            "linecolor": "white",
            "ticks": ""
           }
          },
          "scene": {
           "xaxis": {
            "backgroundcolor": "#E5ECF6",
            "gridcolor": "white",
            "gridwidth": 2,
            "linecolor": "white",
            "showbackground": true,
            "ticks": "",
            "zerolinecolor": "white"
           },
           "yaxis": {
            "backgroundcolor": "#E5ECF6",
            "gridcolor": "white",
            "gridwidth": 2,
            "linecolor": "white",
            "showbackground": true,
            "ticks": "",
            "zerolinecolor": "white"
           },
           "zaxis": {
            "backgroundcolor": "#E5ECF6",
            "gridcolor": "white",
            "gridwidth": 2,
            "linecolor": "white",
            "showbackground": true,
            "ticks": "",
            "zerolinecolor": "white"
           }
          },
          "shapedefaults": {
           "line": {
            "color": "#2a3f5f"
           }
          },
          "ternary": {
           "aaxis": {
            "gridcolor": "white",
            "linecolor": "white",
            "ticks": ""
           },
           "baxis": {
            "gridcolor": "white",
            "linecolor": "white",
            "ticks": ""
           },
           "bgcolor": "#E5ECF6",
           "caxis": {
            "gridcolor": "white",
            "linecolor": "white",
            "ticks": ""
           }
          },
          "title": {
           "x": 0.05
          },
          "xaxis": {
           "automargin": true,
           "gridcolor": "white",
           "linecolor": "white",
           "ticks": "",
           "title": {
            "standoff": 15
           },
           "zerolinecolor": "white",
           "zerolinewidth": 2
          },
          "yaxis": {
           "automargin": true,
           "gridcolor": "white",
           "linecolor": "white",
           "ticks": "",
           "title": {
            "standoff": 15
           },
           "zerolinecolor": "white",
           "zerolinewidth": 2
          }
         }
        },
        "title": {
         "font": {
          "size": 18
         },
         "text": "Wydzielone dane na predykcyjne i do analizy",
         "x": 0.5,
         "xanchor": "center"
        },
        "width": 1000,
        "xaxis": {
         "title": {
          "text": "Data"
         }
        },
        "yaxis": {
         "title": {
          "text": "Liczba dzików dodatnich"
         }
        }
       }
      }
     },
     "metadata": {},
     "output_type": "display_data"
    }
   ],
   "source": [
    "fig = go.Figure()\n",
    "\n",
    "fig.add_trace(\n",
    "    go.Scatter(\n",
    "        x=cut_df.index, \n",
    "        y=cut_df[\"Liczba dzików dodatnich\"],  \n",
    "        mode='lines',\n",
    "        name='Dane do analizy'\n",
    "    )\n",
    ")\n",
    "\n",
    "fig.add_trace(\n",
    "    go.Scatter(\n",
    "        x=predict_df.index,\n",
    "        y=predict_df[\"Liczba dzików dodatnich\"],\n",
    "        name=\"Dane do predykcji\",\n",
    "        mode=\"lines\",\n",
    "        line=dict(color='red')\n",
    "    )\n",
    ")\n",
    "\n",
    "\n",
    "fig.update_layout(\n",
    "    title={\n",
    "        'text': \"Wydzielone dane na predykcyjne i do analizy\",\n",
    "        'x': 0.5,\n",
    "        'xanchor': 'center'\n",
    "    },\n",
    "    xaxis_title=\"Data\",\n",
    "    yaxis_title=\"Liczba dzików dodatnich\",\n",
    "    title_font_size=18,\n",
    "    width=1000,\n",
    "    height=500,\n",
    "    legend=dict(\n",
    "        orientation='h',\n",
    "        yanchor='bottom',\n",
    "        xanchor='center',\n",
    "        x=0.5,\n",
    "        y=-0.3\n",
    "    ),\n",
    ")\n",
    "\n",
    "fig.show()"
   ]
  },
  {
   "cell_type": "code",
   "execution_count": 415,
   "metadata": {},
   "outputs": [],
   "source": [
    "bc_boars, lam = stats.boxcox(cut_df[\"Liczba dzików dodatnich\"])\n",
    "cut_df[\"dane boxcox\"] = bc_boars\n",
    "\n",
    "# cut_df[\"zróżnicowane dane\"] = cut_df[\"dane boxcox\"].diff()"
   ]
  },
  {
   "cell_type": "code",
   "execution_count": 416,
   "metadata": {},
   "outputs": [
    {
     "data": {
      "application/vnd.plotly.v1+json": {
       "config": {
        "plotlyServerURL": "https://plot.ly"
       },
       "data": [
        {
         "hovertemplate": "Data potwierdzenia=%{x}<br>dane boxcox=%{y}<extra></extra>",
         "legendgroup": "",
         "line": {
          "color": "#636efa",
          "dash": "solid"
         },
         "marker": {
          "symbol": "circle"
         },
         "mode": "lines",
         "name": "",
         "orientation": "v",
         "showlegend": false,
         "type": "scatter",
         "x": [
          "2021-01-10T00:00:00",
          "2021-01-17T00:00:00",
          "2021-01-24T00:00:00",
          "2021-01-31T00:00:00",
          "2021-02-07T00:00:00",
          "2021-02-14T00:00:00",
          "2021-02-21T00:00:00",
          "2021-02-28T00:00:00",
          "2021-03-07T00:00:00",
          "2021-03-14T00:00:00",
          "2021-03-21T00:00:00",
          "2021-03-28T00:00:00",
          "2021-04-04T00:00:00",
          "2021-04-11T00:00:00",
          "2021-04-18T00:00:00",
          "2021-04-25T00:00:00",
          "2021-05-02T00:00:00",
          "2021-05-09T00:00:00",
          "2021-05-16T00:00:00",
          "2021-05-23T00:00:00",
          "2021-05-30T00:00:00",
          "2021-06-06T00:00:00",
          "2021-06-13T00:00:00",
          "2021-06-20T00:00:00",
          "2021-06-27T00:00:00",
          "2021-07-04T00:00:00",
          "2021-07-11T00:00:00",
          "2021-07-18T00:00:00",
          "2021-07-25T00:00:00",
          "2021-08-01T00:00:00",
          "2021-08-08T00:00:00",
          "2021-08-15T00:00:00",
          "2021-08-22T00:00:00",
          "2021-08-29T00:00:00",
          "2021-09-05T00:00:00",
          "2021-09-12T00:00:00",
          "2021-09-19T00:00:00",
          "2021-09-26T00:00:00",
          "2021-10-03T00:00:00",
          "2021-10-10T00:00:00",
          "2021-10-17T00:00:00",
          "2021-10-24T00:00:00",
          "2021-10-31T00:00:00",
          "2021-11-07T00:00:00",
          "2021-11-14T00:00:00",
          "2021-11-21T00:00:00",
          "2021-11-28T00:00:00",
          "2021-12-05T00:00:00",
          "2021-12-12T00:00:00",
          "2021-12-19T00:00:00",
          "2021-12-26T00:00:00",
          "2022-01-02T00:00:00",
          "2022-01-09T00:00:00",
          "2022-01-16T00:00:00",
          "2022-01-23T00:00:00",
          "2022-01-30T00:00:00",
          "2022-02-06T00:00:00",
          "2022-02-13T00:00:00",
          "2022-02-20T00:00:00",
          "2022-02-27T00:00:00",
          "2022-03-06T00:00:00",
          "2022-03-13T00:00:00",
          "2022-03-20T00:00:00",
          "2022-03-27T00:00:00",
          "2022-04-03T00:00:00",
          "2022-04-10T00:00:00",
          "2022-04-17T00:00:00",
          "2022-04-24T00:00:00",
          "2022-05-01T00:00:00",
          "2022-05-08T00:00:00",
          "2022-05-15T00:00:00",
          "2022-05-22T00:00:00",
          "2022-05-29T00:00:00",
          "2022-06-05T00:00:00",
          "2022-06-12T00:00:00",
          "2022-06-19T00:00:00",
          "2022-06-26T00:00:00",
          "2022-07-03T00:00:00",
          "2022-07-10T00:00:00",
          "2022-07-17T00:00:00",
          "2022-07-24T00:00:00",
          "2022-07-31T00:00:00",
          "2022-08-07T00:00:00",
          "2022-08-14T00:00:00",
          "2022-08-21T00:00:00",
          "2022-08-28T00:00:00",
          "2022-09-04T00:00:00",
          "2022-09-11T00:00:00",
          "2022-09-18T00:00:00",
          "2022-09-25T00:00:00",
          "2022-10-02T00:00:00",
          "2022-10-09T00:00:00",
          "2022-10-16T00:00:00",
          "2022-10-23T00:00:00",
          "2022-10-30T00:00:00",
          "2022-11-06T00:00:00",
          "2022-11-13T00:00:00",
          "2022-11-20T00:00:00",
          "2022-11-27T00:00:00",
          "2022-12-04T00:00:00",
          "2022-12-11T00:00:00",
          "2022-12-18T00:00:00",
          "2022-12-25T00:00:00",
          "2023-01-01T00:00:00",
          "2023-01-08T00:00:00",
          "2023-01-15T00:00:00",
          "2023-01-22T00:00:00",
          "2023-01-29T00:00:00",
          "2023-02-05T00:00:00",
          "2023-02-12T00:00:00",
          "2023-02-19T00:00:00",
          "2023-02-26T00:00:00",
          "2023-03-05T00:00:00",
          "2023-03-12T00:00:00",
          "2023-03-19T00:00:00",
          "2023-03-26T00:00:00",
          "2023-04-02T00:00:00",
          "2023-04-09T00:00:00",
          "2023-04-16T00:00:00",
          "2023-04-23T00:00:00",
          "2023-04-30T00:00:00",
          "2023-05-07T00:00:00",
          "2023-05-14T00:00:00",
          "2023-05-21T00:00:00",
          "2023-05-28T00:00:00",
          "2023-06-04T00:00:00",
          "2023-06-11T00:00:00",
          "2023-06-18T00:00:00",
          "2023-06-25T00:00:00",
          "2023-07-02T00:00:00",
          "2023-07-09T00:00:00",
          "2023-07-16T00:00:00",
          "2023-07-23T00:00:00",
          "2023-07-30T00:00:00",
          "2023-08-06T00:00:00",
          "2023-08-13T00:00:00",
          "2023-08-20T00:00:00",
          "2023-08-27T00:00:00",
          "2023-09-03T00:00:00",
          "2023-09-10T00:00:00",
          "2023-09-17T00:00:00",
          "2023-09-24T00:00:00",
          "2023-10-01T00:00:00",
          "2023-10-08T00:00:00",
          "2023-10-15T00:00:00",
          "2023-10-22T00:00:00",
          "2023-10-29T00:00:00",
          "2023-11-05T00:00:00",
          "2023-11-12T00:00:00",
          "2023-11-19T00:00:00",
          "2023-11-26T00:00:00",
          "2023-12-03T00:00:00",
          "2023-12-10T00:00:00",
          "2023-12-17T00:00:00",
          "2023-12-24T00:00:00",
          "2023-12-31T00:00:00"
         ],
         "xaxis": "x",
         "y": [
          6.414482081528764,
          6.7899290604620175,
          7.594623952227256,
          6.49218942117073,
          7.567196118535514,
          7.164225500441312,
          7.520710074416401,
          4.119908557954521,
          6.8291896250806765,
          7.907679085662948,
          7.344686175626108,
          6.476882046080875,
          7.141965568125242,
          6.232312697859484,
          5.210644064284716,
          6.3663980366392385,
          6.8291896250806765,
          3.7617288583115993,
          6.350114328222072,
          6.317150043255049,
          5.7876938916668745,
          6.317150043255049,
          5.872550942709682,
          4.669539808829816,
          2.9070801817724776,
          4.9260891586097655,
          4.547331824445769,
          4.856409478210662,
          3.7617288583115993,
          4.708491827685158,
          4.746619529488732,
          3.6230789531343404,
          4.224350751603597,
          4.856409478210662,
          3.8269524871484943,
          3.8269524871484943,
          4.547331824445769,
          4.669539808829816,
          3.3903802794641758,
          4.32285651081736,
          4.589003448971955,
          4.746619529488732,
          5.268378823218712,
          5.48313110104603,
          6.1796431751379295,
          6.300464814694747,
          6.776677013140177,
          6.58171465864648,
          6.537438660959406,
          6.350114328222072,
          6.58171465864648,
          6.930435750027577,
          3.0163175296060745,
          6.461459518453942,
          7.119472047723596,
          5.6530595586617975,
          6.55230324147396,
          5.872550942709682,
          6.0320231920750444,
          5.457577880323259,
          5.431677593415268,
          5.629683116488445,
          5.606020232825168,
          6.088666930570279,
          5.7876938916668745,
          5.12055715255087,
          2.5232411664991723,
          3.7617288583115993,
          4.32285651081736,
          4.746619529488732,
          4.820545411116713,
          4.993215732432199,
          4.669539808829816,
          4.993215732432199,
          3.5491323015631036,
          3.6938517973109675,
          3.950264742065629,
          3.889735267543256,
          1.7800242086937748,
          3.214316499056015,
          3.3047622438996607,
          3.8269524871484943,
          3.6230789531343404,
          3.950264742065629,
          2.3699712730225677,
          4.32285651081736,
          3.3047622438996607,
          4.065210948256946,
          3.6230789531343404,
          3.8269524871484943,
          3.3903802794641758,
          4.370099949775928,
          4.224350751603597,
          4.629724359843689,
          4.32285651081736,
          3.889735267543256,
          4.993215732432199,
          6.012777790275718,
          5.851678553475587,
          5.533235145683317,
          6.249567522929898,
          5.893203980898726,
          6.125555092850747,
          5.351789460916407,
          4.589003448971955,
          7.003308015159508,
          6.930435750027577,
          6.300464814694747,
          5.508347060596568,
          6.763340493880289,
          6.051084037080379,
          5.351789460916407,
          7.923414966170309,
          6.9913352526136485,
          6.59626469514853,
          6.62506114982855,
          7.15312440798225,
          5.6530595586617975,
          7.096739628949621,
          6.3663980366392385,
          7.674922017718544,
          5.6530595586617975,
          5.913642543827087,
          7.835472153107376,
          6.197353344609652,
          6.58171465864648,
          5.765891773406688,
          5.74384317197286,
          4.820545411116713,
          3.889735267543256,
          5.457577880323259,
          4.669539808829816,
          4.224350751603597,
          4.891581401680578,
          5.268378823218712,
          2.789547611899139,
          4.274300325041982,
          4.119908557954521,
          4.589003448971955,
          5.025882548870774,
          3.6938517973109675,
          4.065210948256946,
          3.6230789531343404,
          4.008707231359219,
          4.224350751603597,
          4.008707231359219,
          3.889735267543256,
          3.5491323015631036,
          4.504660672933876,
          5.0895331030030775,
          6.232312697859484,
          5.210644064284716,
          5.351789460916407,
          4.993215732432199,
          5.378794354379572,
          4.820545411116713
         ],
         "yaxis": "y"
        }
       ],
       "layout": {
        "height": 500,
        "legend": {
         "tracegroupgap": 0
        },
        "margin": {
         "t": 60
        },
        "showlegend": false,
        "template": {
         "data": {
          "bar": [
           {
            "error_x": {
             "color": "#2a3f5f"
            },
            "error_y": {
             "color": "#2a3f5f"
            },
            "marker": {
             "line": {
              "color": "#E5ECF6",
              "width": 0.5
             },
             "pattern": {
              "fillmode": "overlay",
              "size": 10,
              "solidity": 0.2
             }
            },
            "type": "bar"
           }
          ],
          "barpolar": [
           {
            "marker": {
             "line": {
              "color": "#E5ECF6",
              "width": 0.5
             },
             "pattern": {
              "fillmode": "overlay",
              "size": 10,
              "solidity": 0.2
             }
            },
            "type": "barpolar"
           }
          ],
          "carpet": [
           {
            "aaxis": {
             "endlinecolor": "#2a3f5f",
             "gridcolor": "white",
             "linecolor": "white",
             "minorgridcolor": "white",
             "startlinecolor": "#2a3f5f"
            },
            "baxis": {
             "endlinecolor": "#2a3f5f",
             "gridcolor": "white",
             "linecolor": "white",
             "minorgridcolor": "white",
             "startlinecolor": "#2a3f5f"
            },
            "type": "carpet"
           }
          ],
          "choropleth": [
           {
            "colorbar": {
             "outlinewidth": 0,
             "ticks": ""
            },
            "type": "choropleth"
           }
          ],
          "contour": [
           {
            "colorbar": {
             "outlinewidth": 0,
             "ticks": ""
            },
            "colorscale": [
             [
              0,
              "#0d0887"
             ],
             [
              0.1111111111111111,
              "#46039f"
             ],
             [
              0.2222222222222222,
              "#7201a8"
             ],
             [
              0.3333333333333333,
              "#9c179e"
             ],
             [
              0.4444444444444444,
              "#bd3786"
             ],
             [
              0.5555555555555556,
              "#d8576b"
             ],
             [
              0.6666666666666666,
              "#ed7953"
             ],
             [
              0.7777777777777778,
              "#fb9f3a"
             ],
             [
              0.8888888888888888,
              "#fdca26"
             ],
             [
              1,
              "#f0f921"
             ]
            ],
            "type": "contour"
           }
          ],
          "contourcarpet": [
           {
            "colorbar": {
             "outlinewidth": 0,
             "ticks": ""
            },
            "type": "contourcarpet"
           }
          ],
          "heatmap": [
           {
            "colorbar": {
             "outlinewidth": 0,
             "ticks": ""
            },
            "colorscale": [
             [
              0,
              "#0d0887"
             ],
             [
              0.1111111111111111,
              "#46039f"
             ],
             [
              0.2222222222222222,
              "#7201a8"
             ],
             [
              0.3333333333333333,
              "#9c179e"
             ],
             [
              0.4444444444444444,
              "#bd3786"
             ],
             [
              0.5555555555555556,
              "#d8576b"
             ],
             [
              0.6666666666666666,
              "#ed7953"
             ],
             [
              0.7777777777777778,
              "#fb9f3a"
             ],
             [
              0.8888888888888888,
              "#fdca26"
             ],
             [
              1,
              "#f0f921"
             ]
            ],
            "type": "heatmap"
           }
          ],
          "heatmapgl": [
           {
            "colorbar": {
             "outlinewidth": 0,
             "ticks": ""
            },
            "colorscale": [
             [
              0,
              "#0d0887"
             ],
             [
              0.1111111111111111,
              "#46039f"
             ],
             [
              0.2222222222222222,
              "#7201a8"
             ],
             [
              0.3333333333333333,
              "#9c179e"
             ],
             [
              0.4444444444444444,
              "#bd3786"
             ],
             [
              0.5555555555555556,
              "#d8576b"
             ],
             [
              0.6666666666666666,
              "#ed7953"
             ],
             [
              0.7777777777777778,
              "#fb9f3a"
             ],
             [
              0.8888888888888888,
              "#fdca26"
             ],
             [
              1,
              "#f0f921"
             ]
            ],
            "type": "heatmapgl"
           }
          ],
          "histogram": [
           {
            "marker": {
             "pattern": {
              "fillmode": "overlay",
              "size": 10,
              "solidity": 0.2
             }
            },
            "type": "histogram"
           }
          ],
          "histogram2d": [
           {
            "colorbar": {
             "outlinewidth": 0,
             "ticks": ""
            },
            "colorscale": [
             [
              0,
              "#0d0887"
             ],
             [
              0.1111111111111111,
              "#46039f"
             ],
             [
              0.2222222222222222,
              "#7201a8"
             ],
             [
              0.3333333333333333,
              "#9c179e"
             ],
             [
              0.4444444444444444,
              "#bd3786"
             ],
             [
              0.5555555555555556,
              "#d8576b"
             ],
             [
              0.6666666666666666,
              "#ed7953"
             ],
             [
              0.7777777777777778,
              "#fb9f3a"
             ],
             [
              0.8888888888888888,
              "#fdca26"
             ],
             [
              1,
              "#f0f921"
             ]
            ],
            "type": "histogram2d"
           }
          ],
          "histogram2dcontour": [
           {
            "colorbar": {
             "outlinewidth": 0,
             "ticks": ""
            },
            "colorscale": [
             [
              0,
              "#0d0887"
             ],
             [
              0.1111111111111111,
              "#46039f"
             ],
             [
              0.2222222222222222,
              "#7201a8"
             ],
             [
              0.3333333333333333,
              "#9c179e"
             ],
             [
              0.4444444444444444,
              "#bd3786"
             ],
             [
              0.5555555555555556,
              "#d8576b"
             ],
             [
              0.6666666666666666,
              "#ed7953"
             ],
             [
              0.7777777777777778,
              "#fb9f3a"
             ],
             [
              0.8888888888888888,
              "#fdca26"
             ],
             [
              1,
              "#f0f921"
             ]
            ],
            "type": "histogram2dcontour"
           }
          ],
          "mesh3d": [
           {
            "colorbar": {
             "outlinewidth": 0,
             "ticks": ""
            },
            "type": "mesh3d"
           }
          ],
          "parcoords": [
           {
            "line": {
             "colorbar": {
              "outlinewidth": 0,
              "ticks": ""
             }
            },
            "type": "parcoords"
           }
          ],
          "pie": [
           {
            "automargin": true,
            "type": "pie"
           }
          ],
          "scatter": [
           {
            "fillpattern": {
             "fillmode": "overlay",
             "size": 10,
             "solidity": 0.2
            },
            "type": "scatter"
           }
          ],
          "scatter3d": [
           {
            "line": {
             "colorbar": {
              "outlinewidth": 0,
              "ticks": ""
             }
            },
            "marker": {
             "colorbar": {
              "outlinewidth": 0,
              "ticks": ""
             }
            },
            "type": "scatter3d"
           }
          ],
          "scattercarpet": [
           {
            "marker": {
             "colorbar": {
              "outlinewidth": 0,
              "ticks": ""
             }
            },
            "type": "scattercarpet"
           }
          ],
          "scattergeo": [
           {
            "marker": {
             "colorbar": {
              "outlinewidth": 0,
              "ticks": ""
             }
            },
            "type": "scattergeo"
           }
          ],
          "scattergl": [
           {
            "marker": {
             "colorbar": {
              "outlinewidth": 0,
              "ticks": ""
             }
            },
            "type": "scattergl"
           }
          ],
          "scattermapbox": [
           {
            "marker": {
             "colorbar": {
              "outlinewidth": 0,
              "ticks": ""
             }
            },
            "type": "scattermapbox"
           }
          ],
          "scatterpolar": [
           {
            "marker": {
             "colorbar": {
              "outlinewidth": 0,
              "ticks": ""
             }
            },
            "type": "scatterpolar"
           }
          ],
          "scatterpolargl": [
           {
            "marker": {
             "colorbar": {
              "outlinewidth": 0,
              "ticks": ""
             }
            },
            "type": "scatterpolargl"
           }
          ],
          "scatterternary": [
           {
            "marker": {
             "colorbar": {
              "outlinewidth": 0,
              "ticks": ""
             }
            },
            "type": "scatterternary"
           }
          ],
          "surface": [
           {
            "colorbar": {
             "outlinewidth": 0,
             "ticks": ""
            },
            "colorscale": [
             [
              0,
              "#0d0887"
             ],
             [
              0.1111111111111111,
              "#46039f"
             ],
             [
              0.2222222222222222,
              "#7201a8"
             ],
             [
              0.3333333333333333,
              "#9c179e"
             ],
             [
              0.4444444444444444,
              "#bd3786"
             ],
             [
              0.5555555555555556,
              "#d8576b"
             ],
             [
              0.6666666666666666,
              "#ed7953"
             ],
             [
              0.7777777777777778,
              "#fb9f3a"
             ],
             [
              0.8888888888888888,
              "#fdca26"
             ],
             [
              1,
              "#f0f921"
             ]
            ],
            "type": "surface"
           }
          ],
          "table": [
           {
            "cells": {
             "fill": {
              "color": "#EBF0F8"
             },
             "line": {
              "color": "white"
             }
            },
            "header": {
             "fill": {
              "color": "#C8D4E3"
             },
             "line": {
              "color": "white"
             }
            },
            "type": "table"
           }
          ]
         },
         "layout": {
          "annotationdefaults": {
           "arrowcolor": "#2a3f5f",
           "arrowhead": 0,
           "arrowwidth": 1
          },
          "autotypenumbers": "strict",
          "coloraxis": {
           "colorbar": {
            "outlinewidth": 0,
            "ticks": ""
           }
          },
          "colorscale": {
           "diverging": [
            [
             0,
             "#8e0152"
            ],
            [
             0.1,
             "#c51b7d"
            ],
            [
             0.2,
             "#de77ae"
            ],
            [
             0.3,
             "#f1b6da"
            ],
            [
             0.4,
             "#fde0ef"
            ],
            [
             0.5,
             "#f7f7f7"
            ],
            [
             0.6,
             "#e6f5d0"
            ],
            [
             0.7,
             "#b8e186"
            ],
            [
             0.8,
             "#7fbc41"
            ],
            [
             0.9,
             "#4d9221"
            ],
            [
             1,
             "#276419"
            ]
           ],
           "sequential": [
            [
             0,
             "#0d0887"
            ],
            [
             0.1111111111111111,
             "#46039f"
            ],
            [
             0.2222222222222222,
             "#7201a8"
            ],
            [
             0.3333333333333333,
             "#9c179e"
            ],
            [
             0.4444444444444444,
             "#bd3786"
            ],
            [
             0.5555555555555556,
             "#d8576b"
            ],
            [
             0.6666666666666666,
             "#ed7953"
            ],
            [
             0.7777777777777778,
             "#fb9f3a"
            ],
            [
             0.8888888888888888,
             "#fdca26"
            ],
            [
             1,
             "#f0f921"
            ]
           ],
           "sequentialminus": [
            [
             0,
             "#0d0887"
            ],
            [
             0.1111111111111111,
             "#46039f"
            ],
            [
             0.2222222222222222,
             "#7201a8"
            ],
            [
             0.3333333333333333,
             "#9c179e"
            ],
            [
             0.4444444444444444,
             "#bd3786"
            ],
            [
             0.5555555555555556,
             "#d8576b"
            ],
            [
             0.6666666666666666,
             "#ed7953"
            ],
            [
             0.7777777777777778,
             "#fb9f3a"
            ],
            [
             0.8888888888888888,
             "#fdca26"
            ],
            [
             1,
             "#f0f921"
            ]
           ]
          },
          "colorway": [
           "#636efa",
           "#EF553B",
           "#00cc96",
           "#ab63fa",
           "#FFA15A",
           "#19d3f3",
           "#FF6692",
           "#B6E880",
           "#FF97FF",
           "#FECB52"
          ],
          "font": {
           "color": "#2a3f5f"
          },
          "geo": {
           "bgcolor": "white",
           "lakecolor": "white",
           "landcolor": "#E5ECF6",
           "showlakes": true,
           "showland": true,
           "subunitcolor": "white"
          },
          "hoverlabel": {
           "align": "left"
          },
          "hovermode": "closest",
          "mapbox": {
           "style": "light"
          },
          "paper_bgcolor": "white",
          "plot_bgcolor": "#E5ECF6",
          "polar": {
           "angularaxis": {
            "gridcolor": "white",
            "linecolor": "white",
            "ticks": ""
           },
           "bgcolor": "#E5ECF6",
           "radialaxis": {
            "gridcolor": "white",
            "linecolor": "white",
            "ticks": ""
           }
          },
          "scene": {
           "xaxis": {
            "backgroundcolor": "#E5ECF6",
            "gridcolor": "white",
            "gridwidth": 2,
            "linecolor": "white",
            "showbackground": true,
            "ticks": "",
            "zerolinecolor": "white"
           },
           "yaxis": {
            "backgroundcolor": "#E5ECF6",
            "gridcolor": "white",
            "gridwidth": 2,
            "linecolor": "white",
            "showbackground": true,
            "ticks": "",
            "zerolinecolor": "white"
           },
           "zaxis": {
            "backgroundcolor": "#E5ECF6",
            "gridcolor": "white",
            "gridwidth": 2,
            "linecolor": "white",
            "showbackground": true,
            "ticks": "",
            "zerolinecolor": "white"
           }
          },
          "shapedefaults": {
           "line": {
            "color": "#2a3f5f"
           }
          },
          "ternary": {
           "aaxis": {
            "gridcolor": "white",
            "linecolor": "white",
            "ticks": ""
           },
           "baxis": {
            "gridcolor": "white",
            "linecolor": "white",
            "ticks": ""
           },
           "bgcolor": "#E5ECF6",
           "caxis": {
            "gridcolor": "white",
            "linecolor": "white",
            "ticks": ""
           }
          },
          "title": {
           "x": 0.05
          },
          "xaxis": {
           "automargin": true,
           "gridcolor": "white",
           "linecolor": "white",
           "ticks": "",
           "title": {
            "standoff": 15
           },
           "zerolinecolor": "white",
           "zerolinewidth": 2
          },
          "yaxis": {
           "automargin": true,
           "gridcolor": "white",
           "linecolor": "white",
           "ticks": "",
           "title": {
            "standoff": 15
           },
           "zerolinecolor": "white",
           "zerolinewidth": 2
          }
         }
        },
        "title": {
         "font": {
          "size": 18
         },
         "text": "Dane po transformacji boxacoxa z lambda = 0.12315544461128576",
         "x": 0.5,
         "xanchor": "center"
        },
        "width": 1000,
        "xaxis": {
         "anchor": "y",
         "domain": [
          0,
          1
         ],
         "title": {
          "text": "Data"
         }
        },
        "yaxis": {
         "anchor": "x",
         "domain": [
          0,
          1
         ],
         "title": {
          "text": "Otrzymane wartości"
         }
        }
       }
      }
     },
     "metadata": {},
     "output_type": "display_data"
    }
   ],
   "source": [
    "fig = px.line(\n",
    "    cut_df, \n",
    "    x=cut_df.index, \n",
    "    y=\"dane boxcox\"\n",
    ")\n",
    "\n",
    "fig.update_layout(\n",
    "    title={\n",
    "        'text': f\"Dane po transformacji boxacoxa z lambda = {lam}\",\n",
    "        'x': 0.5,  \n",
    "        'xanchor': 'center'\n",
    "    },\n",
    "    xaxis_title=\"Data\",\n",
    "    yaxis_title=\"Otrzymane wartości\",\n",
    "    title_font_size=18,\n",
    "    width=1000,\n",
    "    height=500,\n",
    "    showlegend=False\n",
    ")\n",
    "\n",
    "fig.show()"
   ]
  },
  {
   "cell_type": "code",
   "execution_count": 417,
   "metadata": {},
   "outputs": [
    {
     "name": "stdout",
     "output_type": "stream",
     "text": [
      "[7.923414966170309, 0.11423973285781065, 5.229949887564612]\n"
     ]
    },
    {
     "data": {
      "text/plain": [
       "array([1.08281935, 0.1268186 , 5.21057639])"
      ]
     },
     "execution_count": 417,
     "metadata": {},
     "output_type": "execute_result"
    }
   ],
   "source": [
    "def func_sin(x, a, b, c):\n",
    "    return a*np.sin(b*x ) + c\n",
    "\n",
    "\n",
    "max_value = np.max(cut_df[\"dane boxcox\"])\n",
    "period_estimate = 55 # Przykładowa wartość okresu oscylacji\n",
    "mean_value = np.mean(cut_df[\"dane boxcox\"])\n",
    "p0 = [max_value, 2*np.pi/period_estimate, mean_value] \n",
    "print(p0)\n",
    "# p0 = [10, 0.15, 5]\n",
    "\n",
    "# max_value = np.max(cut_df[\"dane boxcox\"])\n",
    "# period_estimate = 55  # Przykładowa wartość okresu oscylacji\n",
    "# mean_value = np.mean(cut_df[\"dane boxcox\"])\n",
    "# phase_estimate = np.arcsin((cut_df[\"dane boxcox\"] - mean_value) / max_value)\n",
    "# p0 = [max_value, 2 * np.pi / period_estimate, np.mean(phase_estimate), mean_value]\n",
    "# print(p0)\n",
    "\n",
    "\n",
    "popt_sin, pcov_sin = curve_fit(func_sin, range(len(cut_df.index)), cut_df[\"dane boxcox\"], p0=p0)\n",
    "popt_sin"
   ]
  },
  {
   "cell_type": "code",
   "execution_count": 418,
   "metadata": {},
   "outputs": [
    {
     "data": {
      "text/plain": [
       "array([1.08281935, 0.1268186 , 5.21057639])"
      ]
     },
     "execution_count": 418,
     "metadata": {},
     "output_type": "execute_result"
    }
   ],
   "source": [
    "popt_sin, pcov_sin = curve_fit(func_sin, range(len(cut_df.index)), cut_df[\"dane boxcox\"], p0=p0)\n",
    "popt_sin"
   ]
  },
  {
   "cell_type": "code",
   "execution_count": 419,
   "metadata": {},
   "outputs": [],
   "source": [
    "sin_data = func_sin(range(len(cut_df.index)), *popt_sin)"
   ]
  },
  {
   "cell_type": "code",
   "execution_count": 420,
   "metadata": {},
   "outputs": [
    {
     "data": {
      "application/vnd.plotly.v1+json": {
       "config": {
        "plotlyServerURL": "https://plot.ly"
       },
       "data": [
        {
         "hovertemplate": "Data potwierdzenia=%{x}<br>dane boxcox=%{y}<extra></extra>",
         "legendgroup": "",
         "line": {
          "color": "#636efa",
          "dash": "solid"
         },
         "marker": {
          "symbol": "circle"
         },
         "mode": "lines",
         "name": "",
         "orientation": "v",
         "showlegend": false,
         "type": "scatter",
         "x": [
          "2021-01-10T00:00:00",
          "2021-01-17T00:00:00",
          "2021-01-24T00:00:00",
          "2021-01-31T00:00:00",
          "2021-02-07T00:00:00",
          "2021-02-14T00:00:00",
          "2021-02-21T00:00:00",
          "2021-02-28T00:00:00",
          "2021-03-07T00:00:00",
          "2021-03-14T00:00:00",
          "2021-03-21T00:00:00",
          "2021-03-28T00:00:00",
          "2021-04-04T00:00:00",
          "2021-04-11T00:00:00",
          "2021-04-18T00:00:00",
          "2021-04-25T00:00:00",
          "2021-05-02T00:00:00",
          "2021-05-09T00:00:00",
          "2021-05-16T00:00:00",
          "2021-05-23T00:00:00",
          "2021-05-30T00:00:00",
          "2021-06-06T00:00:00",
          "2021-06-13T00:00:00",
          "2021-06-20T00:00:00",
          "2021-06-27T00:00:00",
          "2021-07-04T00:00:00",
          "2021-07-11T00:00:00",
          "2021-07-18T00:00:00",
          "2021-07-25T00:00:00",
          "2021-08-01T00:00:00",
          "2021-08-08T00:00:00",
          "2021-08-15T00:00:00",
          "2021-08-22T00:00:00",
          "2021-08-29T00:00:00",
          "2021-09-05T00:00:00",
          "2021-09-12T00:00:00",
          "2021-09-19T00:00:00",
          "2021-09-26T00:00:00",
          "2021-10-03T00:00:00",
          "2021-10-10T00:00:00",
          "2021-10-17T00:00:00",
          "2021-10-24T00:00:00",
          "2021-10-31T00:00:00",
          "2021-11-07T00:00:00",
          "2021-11-14T00:00:00",
          "2021-11-21T00:00:00",
          "2021-11-28T00:00:00",
          "2021-12-05T00:00:00",
          "2021-12-12T00:00:00",
          "2021-12-19T00:00:00",
          "2021-12-26T00:00:00",
          "2022-01-02T00:00:00",
          "2022-01-09T00:00:00",
          "2022-01-16T00:00:00",
          "2022-01-23T00:00:00",
          "2022-01-30T00:00:00",
          "2022-02-06T00:00:00",
          "2022-02-13T00:00:00",
          "2022-02-20T00:00:00",
          "2022-02-27T00:00:00",
          "2022-03-06T00:00:00",
          "2022-03-13T00:00:00",
          "2022-03-20T00:00:00",
          "2022-03-27T00:00:00",
          "2022-04-03T00:00:00",
          "2022-04-10T00:00:00",
          "2022-04-17T00:00:00",
          "2022-04-24T00:00:00",
          "2022-05-01T00:00:00",
          "2022-05-08T00:00:00",
          "2022-05-15T00:00:00",
          "2022-05-22T00:00:00",
          "2022-05-29T00:00:00",
          "2022-06-05T00:00:00",
          "2022-06-12T00:00:00",
          "2022-06-19T00:00:00",
          "2022-06-26T00:00:00",
          "2022-07-03T00:00:00",
          "2022-07-10T00:00:00",
          "2022-07-17T00:00:00",
          "2022-07-24T00:00:00",
          "2022-07-31T00:00:00",
          "2022-08-07T00:00:00",
          "2022-08-14T00:00:00",
          "2022-08-21T00:00:00",
          "2022-08-28T00:00:00",
          "2022-09-04T00:00:00",
          "2022-09-11T00:00:00",
          "2022-09-18T00:00:00",
          "2022-09-25T00:00:00",
          "2022-10-02T00:00:00",
          "2022-10-09T00:00:00",
          "2022-10-16T00:00:00",
          "2022-10-23T00:00:00",
          "2022-10-30T00:00:00",
          "2022-11-06T00:00:00",
          "2022-11-13T00:00:00",
          "2022-11-20T00:00:00",
          "2022-11-27T00:00:00",
          "2022-12-04T00:00:00",
          "2022-12-11T00:00:00",
          "2022-12-18T00:00:00",
          "2022-12-25T00:00:00",
          "2023-01-01T00:00:00",
          "2023-01-08T00:00:00",
          "2023-01-15T00:00:00",
          "2023-01-22T00:00:00",
          "2023-01-29T00:00:00",
          "2023-02-05T00:00:00",
          "2023-02-12T00:00:00",
          "2023-02-19T00:00:00",
          "2023-02-26T00:00:00",
          "2023-03-05T00:00:00",
          "2023-03-12T00:00:00",
          "2023-03-19T00:00:00",
          "2023-03-26T00:00:00",
          "2023-04-02T00:00:00",
          "2023-04-09T00:00:00",
          "2023-04-16T00:00:00",
          "2023-04-23T00:00:00",
          "2023-04-30T00:00:00",
          "2023-05-07T00:00:00",
          "2023-05-14T00:00:00",
          "2023-05-21T00:00:00",
          "2023-05-28T00:00:00",
          "2023-06-04T00:00:00",
          "2023-06-11T00:00:00",
          "2023-06-18T00:00:00",
          "2023-06-25T00:00:00",
          "2023-07-02T00:00:00",
          "2023-07-09T00:00:00",
          "2023-07-16T00:00:00",
          "2023-07-23T00:00:00",
          "2023-07-30T00:00:00",
          "2023-08-06T00:00:00",
          "2023-08-13T00:00:00",
          "2023-08-20T00:00:00",
          "2023-08-27T00:00:00",
          "2023-09-03T00:00:00",
          "2023-09-10T00:00:00",
          "2023-09-17T00:00:00",
          "2023-09-24T00:00:00",
          "2023-10-01T00:00:00",
          "2023-10-08T00:00:00",
          "2023-10-15T00:00:00",
          "2023-10-22T00:00:00",
          "2023-10-29T00:00:00",
          "2023-11-05T00:00:00",
          "2023-11-12T00:00:00",
          "2023-11-19T00:00:00",
          "2023-11-26T00:00:00",
          "2023-12-03T00:00:00",
          "2023-12-10T00:00:00",
          "2023-12-17T00:00:00",
          "2023-12-24T00:00:00",
          "2023-12-31T00:00:00"
         ],
         "xaxis": "x",
         "y": [
          6.414482081528764,
          6.7899290604620175,
          7.594623952227256,
          6.49218942117073,
          7.567196118535514,
          7.164225500441312,
          7.520710074416401,
          4.119908557954521,
          6.8291896250806765,
          7.907679085662948,
          7.344686175626108,
          6.476882046080875,
          7.141965568125242,
          6.232312697859484,
          5.210644064284716,
          6.3663980366392385,
          6.8291896250806765,
          3.7617288583115993,
          6.350114328222072,
          6.317150043255049,
          5.7876938916668745,
          6.317150043255049,
          5.872550942709682,
          4.669539808829816,
          2.9070801817724776,
          4.9260891586097655,
          4.547331824445769,
          4.856409478210662,
          3.7617288583115993,
          4.708491827685158,
          4.746619529488732,
          3.6230789531343404,
          4.224350751603597,
          4.856409478210662,
          3.8269524871484943,
          3.8269524871484943,
          4.547331824445769,
          4.669539808829816,
          3.3903802794641758,
          4.32285651081736,
          4.589003448971955,
          4.746619529488732,
          5.268378823218712,
          5.48313110104603,
          6.1796431751379295,
          6.300464814694747,
          6.776677013140177,
          6.58171465864648,
          6.537438660959406,
          6.350114328222072,
          6.58171465864648,
          6.930435750027577,
          3.0163175296060745,
          6.461459518453942,
          7.119472047723596,
          5.6530595586617975,
          6.55230324147396,
          5.872550942709682,
          6.0320231920750444,
          5.457577880323259,
          5.431677593415268,
          5.629683116488445,
          5.606020232825168,
          6.088666930570279,
          5.7876938916668745,
          5.12055715255087,
          2.5232411664991723,
          3.7617288583115993,
          4.32285651081736,
          4.746619529488732,
          4.820545411116713,
          4.993215732432199,
          4.669539808829816,
          4.993215732432199,
          3.5491323015631036,
          3.6938517973109675,
          3.950264742065629,
          3.889735267543256,
          1.7800242086937748,
          3.214316499056015,
          3.3047622438996607,
          3.8269524871484943,
          3.6230789531343404,
          3.950264742065629,
          2.3699712730225677,
          4.32285651081736,
          3.3047622438996607,
          4.065210948256946,
          3.6230789531343404,
          3.8269524871484943,
          3.3903802794641758,
          4.370099949775928,
          4.224350751603597,
          4.629724359843689,
          4.32285651081736,
          3.889735267543256,
          4.993215732432199,
          6.012777790275718,
          5.851678553475587,
          5.533235145683317,
          6.249567522929898,
          5.893203980898726,
          6.125555092850747,
          5.351789460916407,
          4.589003448971955,
          7.003308015159508,
          6.930435750027577,
          6.300464814694747,
          5.508347060596568,
          6.763340493880289,
          6.051084037080379,
          5.351789460916407,
          7.923414966170309,
          6.9913352526136485,
          6.59626469514853,
          6.62506114982855,
          7.15312440798225,
          5.6530595586617975,
          7.096739628949621,
          6.3663980366392385,
          7.674922017718544,
          5.6530595586617975,
          5.913642543827087,
          7.835472153107376,
          6.197353344609652,
          6.58171465864648,
          5.765891773406688,
          5.74384317197286,
          4.820545411116713,
          3.889735267543256,
          5.457577880323259,
          4.669539808829816,
          4.224350751603597,
          4.891581401680578,
          5.268378823218712,
          2.789547611899139,
          4.274300325041982,
          4.119908557954521,
          4.589003448971955,
          5.025882548870774,
          3.6938517973109675,
          4.065210948256946,
          3.6230789531343404,
          4.008707231359219,
          4.224350751603597,
          4.008707231359219,
          3.889735267543256,
          3.5491323015631036,
          4.504660672933876,
          5.0895331030030775,
          6.232312697859484,
          5.210644064284716,
          5.351789460916407,
          4.993215732432199,
          5.378794354379572,
          4.820545411116713
         ],
         "yaxis": "y"
        },
        {
         "line": {
          "color": "red",
          "width": 2
         },
         "mode": "lines",
         "type": "scatter",
         "x": [
          "2021-01-10T00:00:00",
          "2021-01-17T00:00:00",
          "2021-01-24T00:00:00",
          "2021-01-31T00:00:00",
          "2021-02-07T00:00:00",
          "2021-02-14T00:00:00",
          "2021-02-21T00:00:00",
          "2021-02-28T00:00:00",
          "2021-03-07T00:00:00",
          "2021-03-14T00:00:00",
          "2021-03-21T00:00:00",
          "2021-03-28T00:00:00",
          "2021-04-04T00:00:00",
          "2021-04-11T00:00:00",
          "2021-04-18T00:00:00",
          "2021-04-25T00:00:00",
          "2021-05-02T00:00:00",
          "2021-05-09T00:00:00",
          "2021-05-16T00:00:00",
          "2021-05-23T00:00:00",
          "2021-05-30T00:00:00",
          "2021-06-06T00:00:00",
          "2021-06-13T00:00:00",
          "2021-06-20T00:00:00",
          "2021-06-27T00:00:00",
          "2021-07-04T00:00:00",
          "2021-07-11T00:00:00",
          "2021-07-18T00:00:00",
          "2021-07-25T00:00:00",
          "2021-08-01T00:00:00",
          "2021-08-08T00:00:00",
          "2021-08-15T00:00:00",
          "2021-08-22T00:00:00",
          "2021-08-29T00:00:00",
          "2021-09-05T00:00:00",
          "2021-09-12T00:00:00",
          "2021-09-19T00:00:00",
          "2021-09-26T00:00:00",
          "2021-10-03T00:00:00",
          "2021-10-10T00:00:00",
          "2021-10-17T00:00:00",
          "2021-10-24T00:00:00",
          "2021-10-31T00:00:00",
          "2021-11-07T00:00:00",
          "2021-11-14T00:00:00",
          "2021-11-21T00:00:00",
          "2021-11-28T00:00:00",
          "2021-12-05T00:00:00",
          "2021-12-12T00:00:00",
          "2021-12-19T00:00:00",
          "2021-12-26T00:00:00",
          "2022-01-02T00:00:00",
          "2022-01-09T00:00:00",
          "2022-01-16T00:00:00",
          "2022-01-23T00:00:00",
          "2022-01-30T00:00:00",
          "2022-02-06T00:00:00",
          "2022-02-13T00:00:00",
          "2022-02-20T00:00:00",
          "2022-02-27T00:00:00",
          "2022-03-06T00:00:00",
          "2022-03-13T00:00:00",
          "2022-03-20T00:00:00",
          "2022-03-27T00:00:00",
          "2022-04-03T00:00:00",
          "2022-04-10T00:00:00",
          "2022-04-17T00:00:00",
          "2022-04-24T00:00:00",
          "2022-05-01T00:00:00",
          "2022-05-08T00:00:00",
          "2022-05-15T00:00:00",
          "2022-05-22T00:00:00",
          "2022-05-29T00:00:00",
          "2022-06-05T00:00:00",
          "2022-06-12T00:00:00",
          "2022-06-19T00:00:00",
          "2022-06-26T00:00:00",
          "2022-07-03T00:00:00",
          "2022-07-10T00:00:00",
          "2022-07-17T00:00:00",
          "2022-07-24T00:00:00",
          "2022-07-31T00:00:00",
          "2022-08-07T00:00:00",
          "2022-08-14T00:00:00",
          "2022-08-21T00:00:00",
          "2022-08-28T00:00:00",
          "2022-09-04T00:00:00",
          "2022-09-11T00:00:00",
          "2022-09-18T00:00:00",
          "2022-09-25T00:00:00",
          "2022-10-02T00:00:00",
          "2022-10-09T00:00:00",
          "2022-10-16T00:00:00",
          "2022-10-23T00:00:00",
          "2022-10-30T00:00:00",
          "2022-11-06T00:00:00",
          "2022-11-13T00:00:00",
          "2022-11-20T00:00:00",
          "2022-11-27T00:00:00",
          "2022-12-04T00:00:00",
          "2022-12-11T00:00:00",
          "2022-12-18T00:00:00",
          "2022-12-25T00:00:00",
          "2023-01-01T00:00:00",
          "2023-01-08T00:00:00",
          "2023-01-15T00:00:00",
          "2023-01-22T00:00:00",
          "2023-01-29T00:00:00",
          "2023-02-05T00:00:00",
          "2023-02-12T00:00:00",
          "2023-02-19T00:00:00",
          "2023-02-26T00:00:00",
          "2023-03-05T00:00:00",
          "2023-03-12T00:00:00",
          "2023-03-19T00:00:00",
          "2023-03-26T00:00:00",
          "2023-04-02T00:00:00",
          "2023-04-09T00:00:00",
          "2023-04-16T00:00:00",
          "2023-04-23T00:00:00",
          "2023-04-30T00:00:00",
          "2023-05-07T00:00:00",
          "2023-05-14T00:00:00",
          "2023-05-21T00:00:00",
          "2023-05-28T00:00:00",
          "2023-06-04T00:00:00",
          "2023-06-11T00:00:00",
          "2023-06-18T00:00:00",
          "2023-06-25T00:00:00",
          "2023-07-02T00:00:00",
          "2023-07-09T00:00:00",
          "2023-07-16T00:00:00",
          "2023-07-23T00:00:00",
          "2023-07-30T00:00:00",
          "2023-08-06T00:00:00",
          "2023-08-13T00:00:00",
          "2023-08-20T00:00:00",
          "2023-08-27T00:00:00",
          "2023-09-03T00:00:00",
          "2023-09-10T00:00:00",
          "2023-09-17T00:00:00",
          "2023-09-24T00:00:00",
          "2023-10-01T00:00:00",
          "2023-10-08T00:00:00",
          "2023-10-15T00:00:00",
          "2023-10-22T00:00:00",
          "2023-10-29T00:00:00",
          "2023-11-05T00:00:00",
          "2023-11-12T00:00:00",
          "2023-11-19T00:00:00",
          "2023-11-26T00:00:00",
          "2023-12-03T00:00:00",
          "2023-12-10T00:00:00",
          "2023-12-17T00:00:00",
          "2023-12-24T00:00:00",
          "2023-12-31T00:00:00"
         ],
         "y": [
          5.210576390729525,
          5.347530235511791,
          5.482284407790006,
          5.61267456491254,
          5.736606456485202,
          5.852089560995426,
          5.957269056403879,
          6.050455611210536,
          6.130152517508574,
          6.195079730230835,
          6.244194426484562,
          6.276707754762405,
          6.292097505013658,
          6.290116496076478,
          6.270796545757051,
          6.234447959790602,
          6.181654547892287,
          6.113264246947209,
          6.030375501944423,
          5.93431962339637,
          5.826639404608568,
          5.709064342236434,
          5.583482858122187,
          5.451911968568384,
          5.3164648882025185,
          5.1793170887604045,
          5.042671357932331,
          4.908722419476339,
          4.779621682849657,
          4.657442688529096,
          4.54414780401742,
          4.441556705444981,
          4.351317150996657,
          4.274878515584216,
          4.213468511834724,
          4.168073471288823,
          4.139422502520779,
          4.127975780623259,
          4.1339171561442996,
          4.157151202187414,
          4.197304747102546,
          4.253732868150721,
          4.325529249875645,
          4.4115407408121525,
          4.51038587473017,
          4.620477058936812,
          4.740046073261093,
          4.867172470171483,
          4.999814419880236,
          5.135841505018475,
          5.273068938153177,
          5.409292652564284,
          5.542324702674469,
          5.670028405550509,
          5.790352659054098,
          5.901364885444006,
          6.001282071308731,
          6.088499405284425,
          6.161616053595829,
          6.219457659428535,
          6.261095204760869,
          6.285859931707653,
          6.2933540837179685,
          6.283457294108104,
          6.256328519320778,
          6.212403485859786,
          6.1523876919059,
          6.077245076017976,
          5.988182534915956,
          5.886630539012078,
          5.774220157032279,
          5.652756858744891,
          5.5241915165618485,
          5.390589071767741,
          5.254095368641383,
          5.116902689160842,
          4.981214541853318,
          4.8492102703307625,
          4.723010049948216,
          4.604640834788072,
          4.496003801909855,
          4.398843815756941,
          4.314721403165027,
          4.2449876890933815,
          4.190762695646477,
          4.152917352934434,
          4.132059510703292,
          4.128524175408129,
          4.142368129535437,
          4.1733690195960556,
          4.221028927436786,
          4.284582367510365,
          4.363008581656333,
          4.455047933921221,
          4.5592221420940415,
          4.673858021010014,
          4.7971143562714715,
          4.927011476755954,
          5.061463050935209,
          5.198309596311177,
          5.335353163760079,
          5.470392639704896,
          5.601259099113479,
          5.7258506415030705,
          5.8421661504357365,
          5.948337434279465,
          6.042659232008821,
          6.123616602109543,
          6.189909254682549,
          6.240472435939312,
          6.274494029654069,
          6.291427600899367,
          6.291001172564062,
          6.273221593690513,
          6.238374429469271,
          6.18701937465811,
          6.119981264092383,
          6.038336824670628,
          5.9433973815972605,
          5.836687796644586,
          5.719921976715419,
          5.594975346073454,
          5.463854724376322,
          5.328666094312716,
          5.191580776540952,
          5.0548005552072945,
          4.920522314177579,
          4.790902751974249,
          4.6680237421468895,
          4.553858895437662,
          4.450241860800597,
          4.358836874405222,
          4.281112029649185,
          4.218315697501283,
          4.171456475897566,
          4.141286990231547,
          4.128291805125612,
          4.132679641637634,
          4.1543800249054925,
          4.193044416073066,
          4.248051810317365,
          4.3185187110645495,
          4.403313320194856,
          4.5010737163216135,
          4.610229729175507,
          4.729028158760522,
          4.8555609342262285,
          4.9877957601851195,
          5.123608758251724,
          5.260818579534266,
          5.397221440183955,
          5.530626517281419,
          5.658891136552278,
          5.7799551867473635,
          5.8918742079439435,
          5.992850622323023
         ]
        }
       ],
       "layout": {
        "height": 500,
        "legend": {
         "tracegroupgap": 0
        },
        "margin": {
         "t": 60
        },
        "showlegend": false,
        "template": {
         "data": {
          "bar": [
           {
            "error_x": {
             "color": "#2a3f5f"
            },
            "error_y": {
             "color": "#2a3f5f"
            },
            "marker": {
             "line": {
              "color": "#E5ECF6",
              "width": 0.5
             },
             "pattern": {
              "fillmode": "overlay",
              "size": 10,
              "solidity": 0.2
             }
            },
            "type": "bar"
           }
          ],
          "barpolar": [
           {
            "marker": {
             "line": {
              "color": "#E5ECF6",
              "width": 0.5
             },
             "pattern": {
              "fillmode": "overlay",
              "size": 10,
              "solidity": 0.2
             }
            },
            "type": "barpolar"
           }
          ],
          "carpet": [
           {
            "aaxis": {
             "endlinecolor": "#2a3f5f",
             "gridcolor": "white",
             "linecolor": "white",
             "minorgridcolor": "white",
             "startlinecolor": "#2a3f5f"
            },
            "baxis": {
             "endlinecolor": "#2a3f5f",
             "gridcolor": "white",
             "linecolor": "white",
             "minorgridcolor": "white",
             "startlinecolor": "#2a3f5f"
            },
            "type": "carpet"
           }
          ],
          "choropleth": [
           {
            "colorbar": {
             "outlinewidth": 0,
             "ticks": ""
            },
            "type": "choropleth"
           }
          ],
          "contour": [
           {
            "colorbar": {
             "outlinewidth": 0,
             "ticks": ""
            },
            "colorscale": [
             [
              0,
              "#0d0887"
             ],
             [
              0.1111111111111111,
              "#46039f"
             ],
             [
              0.2222222222222222,
              "#7201a8"
             ],
             [
              0.3333333333333333,
              "#9c179e"
             ],
             [
              0.4444444444444444,
              "#bd3786"
             ],
             [
              0.5555555555555556,
              "#d8576b"
             ],
             [
              0.6666666666666666,
              "#ed7953"
             ],
             [
              0.7777777777777778,
              "#fb9f3a"
             ],
             [
              0.8888888888888888,
              "#fdca26"
             ],
             [
              1,
              "#f0f921"
             ]
            ],
            "type": "contour"
           }
          ],
          "contourcarpet": [
           {
            "colorbar": {
             "outlinewidth": 0,
             "ticks": ""
            },
            "type": "contourcarpet"
           }
          ],
          "heatmap": [
           {
            "colorbar": {
             "outlinewidth": 0,
             "ticks": ""
            },
            "colorscale": [
             [
              0,
              "#0d0887"
             ],
             [
              0.1111111111111111,
              "#46039f"
             ],
             [
              0.2222222222222222,
              "#7201a8"
             ],
             [
              0.3333333333333333,
              "#9c179e"
             ],
             [
              0.4444444444444444,
              "#bd3786"
             ],
             [
              0.5555555555555556,
              "#d8576b"
             ],
             [
              0.6666666666666666,
              "#ed7953"
             ],
             [
              0.7777777777777778,
              "#fb9f3a"
             ],
             [
              0.8888888888888888,
              "#fdca26"
             ],
             [
              1,
              "#f0f921"
             ]
            ],
            "type": "heatmap"
           }
          ],
          "heatmapgl": [
           {
            "colorbar": {
             "outlinewidth": 0,
             "ticks": ""
            },
            "colorscale": [
             [
              0,
              "#0d0887"
             ],
             [
              0.1111111111111111,
              "#46039f"
             ],
             [
              0.2222222222222222,
              "#7201a8"
             ],
             [
              0.3333333333333333,
              "#9c179e"
             ],
             [
              0.4444444444444444,
              "#bd3786"
             ],
             [
              0.5555555555555556,
              "#d8576b"
             ],
             [
              0.6666666666666666,
              "#ed7953"
             ],
             [
              0.7777777777777778,
              "#fb9f3a"
             ],
             [
              0.8888888888888888,
              "#fdca26"
             ],
             [
              1,
              "#f0f921"
             ]
            ],
            "type": "heatmapgl"
           }
          ],
          "histogram": [
           {
            "marker": {
             "pattern": {
              "fillmode": "overlay",
              "size": 10,
              "solidity": 0.2
             }
            },
            "type": "histogram"
           }
          ],
          "histogram2d": [
           {
            "colorbar": {
             "outlinewidth": 0,
             "ticks": ""
            },
            "colorscale": [
             [
              0,
              "#0d0887"
             ],
             [
              0.1111111111111111,
              "#46039f"
             ],
             [
              0.2222222222222222,
              "#7201a8"
             ],
             [
              0.3333333333333333,
              "#9c179e"
             ],
             [
              0.4444444444444444,
              "#bd3786"
             ],
             [
              0.5555555555555556,
              "#d8576b"
             ],
             [
              0.6666666666666666,
              "#ed7953"
             ],
             [
              0.7777777777777778,
              "#fb9f3a"
             ],
             [
              0.8888888888888888,
              "#fdca26"
             ],
             [
              1,
              "#f0f921"
             ]
            ],
            "type": "histogram2d"
           }
          ],
          "histogram2dcontour": [
           {
            "colorbar": {
             "outlinewidth": 0,
             "ticks": ""
            },
            "colorscale": [
             [
              0,
              "#0d0887"
             ],
             [
              0.1111111111111111,
              "#46039f"
             ],
             [
              0.2222222222222222,
              "#7201a8"
             ],
             [
              0.3333333333333333,
              "#9c179e"
             ],
             [
              0.4444444444444444,
              "#bd3786"
             ],
             [
              0.5555555555555556,
              "#d8576b"
             ],
             [
              0.6666666666666666,
              "#ed7953"
             ],
             [
              0.7777777777777778,
              "#fb9f3a"
             ],
             [
              0.8888888888888888,
              "#fdca26"
             ],
             [
              1,
              "#f0f921"
             ]
            ],
            "type": "histogram2dcontour"
           }
          ],
          "mesh3d": [
           {
            "colorbar": {
             "outlinewidth": 0,
             "ticks": ""
            },
            "type": "mesh3d"
           }
          ],
          "parcoords": [
           {
            "line": {
             "colorbar": {
              "outlinewidth": 0,
              "ticks": ""
             }
            },
            "type": "parcoords"
           }
          ],
          "pie": [
           {
            "automargin": true,
            "type": "pie"
           }
          ],
          "scatter": [
           {
            "fillpattern": {
             "fillmode": "overlay",
             "size": 10,
             "solidity": 0.2
            },
            "type": "scatter"
           }
          ],
          "scatter3d": [
           {
            "line": {
             "colorbar": {
              "outlinewidth": 0,
              "ticks": ""
             }
            },
            "marker": {
             "colorbar": {
              "outlinewidth": 0,
              "ticks": ""
             }
            },
            "type": "scatter3d"
           }
          ],
          "scattercarpet": [
           {
            "marker": {
             "colorbar": {
              "outlinewidth": 0,
              "ticks": ""
             }
            },
            "type": "scattercarpet"
           }
          ],
          "scattergeo": [
           {
            "marker": {
             "colorbar": {
              "outlinewidth": 0,
              "ticks": ""
             }
            },
            "type": "scattergeo"
           }
          ],
          "scattergl": [
           {
            "marker": {
             "colorbar": {
              "outlinewidth": 0,
              "ticks": ""
             }
            },
            "type": "scattergl"
           }
          ],
          "scattermapbox": [
           {
            "marker": {
             "colorbar": {
              "outlinewidth": 0,
              "ticks": ""
             }
            },
            "type": "scattermapbox"
           }
          ],
          "scatterpolar": [
           {
            "marker": {
             "colorbar": {
              "outlinewidth": 0,
              "ticks": ""
             }
            },
            "type": "scatterpolar"
           }
          ],
          "scatterpolargl": [
           {
            "marker": {
             "colorbar": {
              "outlinewidth": 0,
              "ticks": ""
             }
            },
            "type": "scatterpolargl"
           }
          ],
          "scatterternary": [
           {
            "marker": {
             "colorbar": {
              "outlinewidth": 0,
              "ticks": ""
             }
            },
            "type": "scatterternary"
           }
          ],
          "surface": [
           {
            "colorbar": {
             "outlinewidth": 0,
             "ticks": ""
            },
            "colorscale": [
             [
              0,
              "#0d0887"
             ],
             [
              0.1111111111111111,
              "#46039f"
             ],
             [
              0.2222222222222222,
              "#7201a8"
             ],
             [
              0.3333333333333333,
              "#9c179e"
             ],
             [
              0.4444444444444444,
              "#bd3786"
             ],
             [
              0.5555555555555556,
              "#d8576b"
             ],
             [
              0.6666666666666666,
              "#ed7953"
             ],
             [
              0.7777777777777778,
              "#fb9f3a"
             ],
             [
              0.8888888888888888,
              "#fdca26"
             ],
             [
              1,
              "#f0f921"
             ]
            ],
            "type": "surface"
           }
          ],
          "table": [
           {
            "cells": {
             "fill": {
              "color": "#EBF0F8"
             },
             "line": {
              "color": "white"
             }
            },
            "header": {
             "fill": {
              "color": "#C8D4E3"
             },
             "line": {
              "color": "white"
             }
            },
            "type": "table"
           }
          ]
         },
         "layout": {
          "annotationdefaults": {
           "arrowcolor": "#2a3f5f",
           "arrowhead": 0,
           "arrowwidth": 1
          },
          "autotypenumbers": "strict",
          "coloraxis": {
           "colorbar": {
            "outlinewidth": 0,
            "ticks": ""
           }
          },
          "colorscale": {
           "diverging": [
            [
             0,
             "#8e0152"
            ],
            [
             0.1,
             "#c51b7d"
            ],
            [
             0.2,
             "#de77ae"
            ],
            [
             0.3,
             "#f1b6da"
            ],
            [
             0.4,
             "#fde0ef"
            ],
            [
             0.5,
             "#f7f7f7"
            ],
            [
             0.6,
             "#e6f5d0"
            ],
            [
             0.7,
             "#b8e186"
            ],
            [
             0.8,
             "#7fbc41"
            ],
            [
             0.9,
             "#4d9221"
            ],
            [
             1,
             "#276419"
            ]
           ],
           "sequential": [
            [
             0,
             "#0d0887"
            ],
            [
             0.1111111111111111,
             "#46039f"
            ],
            [
             0.2222222222222222,
             "#7201a8"
            ],
            [
             0.3333333333333333,
             "#9c179e"
            ],
            [
             0.4444444444444444,
             "#bd3786"
            ],
            [
             0.5555555555555556,
             "#d8576b"
            ],
            [
             0.6666666666666666,
             "#ed7953"
            ],
            [
             0.7777777777777778,
             "#fb9f3a"
            ],
            [
             0.8888888888888888,
             "#fdca26"
            ],
            [
             1,
             "#f0f921"
            ]
           ],
           "sequentialminus": [
            [
             0,
             "#0d0887"
            ],
            [
             0.1111111111111111,
             "#46039f"
            ],
            [
             0.2222222222222222,
             "#7201a8"
            ],
            [
             0.3333333333333333,
             "#9c179e"
            ],
            [
             0.4444444444444444,
             "#bd3786"
            ],
            [
             0.5555555555555556,
             "#d8576b"
            ],
            [
             0.6666666666666666,
             "#ed7953"
            ],
            [
             0.7777777777777778,
             "#fb9f3a"
            ],
            [
             0.8888888888888888,
             "#fdca26"
            ],
            [
             1,
             "#f0f921"
            ]
           ]
          },
          "colorway": [
           "#636efa",
           "#EF553B",
           "#00cc96",
           "#ab63fa",
           "#FFA15A",
           "#19d3f3",
           "#FF6692",
           "#B6E880",
           "#FF97FF",
           "#FECB52"
          ],
          "font": {
           "color": "#2a3f5f"
          },
          "geo": {
           "bgcolor": "white",
           "lakecolor": "white",
           "landcolor": "#E5ECF6",
           "showlakes": true,
           "showland": true,
           "subunitcolor": "white"
          },
          "hoverlabel": {
           "align": "left"
          },
          "hovermode": "closest",
          "mapbox": {
           "style": "light"
          },
          "paper_bgcolor": "white",
          "plot_bgcolor": "#E5ECF6",
          "polar": {
           "angularaxis": {
            "gridcolor": "white",
            "linecolor": "white",
            "ticks": ""
           },
           "bgcolor": "#E5ECF6",
           "radialaxis": {
            "gridcolor": "white",
            "linecolor": "white",
            "ticks": ""
           }
          },
          "scene": {
           "xaxis": {
            "backgroundcolor": "#E5ECF6",
            "gridcolor": "white",
            "gridwidth": 2,
            "linecolor": "white",
            "showbackground": true,
            "ticks": "",
            "zerolinecolor": "white"
           },
           "yaxis": {
            "backgroundcolor": "#E5ECF6",
            "gridcolor": "white",
            "gridwidth": 2,
            "linecolor": "white",
            "showbackground": true,
            "ticks": "",
            "zerolinecolor": "white"
           },
           "zaxis": {
            "backgroundcolor": "#E5ECF6",
            "gridcolor": "white",
            "gridwidth": 2,
            "linecolor": "white",
            "showbackground": true,
            "ticks": "",
            "zerolinecolor": "white"
           }
          },
          "shapedefaults": {
           "line": {
            "color": "#2a3f5f"
           }
          },
          "ternary": {
           "aaxis": {
            "gridcolor": "white",
            "linecolor": "white",
            "ticks": ""
           },
           "baxis": {
            "gridcolor": "white",
            "linecolor": "white",
            "ticks": ""
           },
           "bgcolor": "#E5ECF6",
           "caxis": {
            "gridcolor": "white",
            "linecolor": "white",
            "ticks": ""
           }
          },
          "title": {
           "x": 0.05
          },
          "xaxis": {
           "automargin": true,
           "gridcolor": "white",
           "linecolor": "white",
           "ticks": "",
           "title": {
            "standoff": 15
           },
           "zerolinecolor": "white",
           "zerolinewidth": 2
          },
          "yaxis": {
           "automargin": true,
           "gridcolor": "white",
           "linecolor": "white",
           "ticks": "",
           "title": {
            "standoff": 15
           },
           "zerolinecolor": "white",
           "zerolinewidth": 2
          }
         }
        },
        "title": {
         "font": {
          "size": 18
         },
         "text": "Dobranie sinusa do danych",
         "x": 0.5,
         "xanchor": "center"
        },
        "width": 1000,
        "xaxis": {
         "anchor": "y",
         "domain": [
          0,
          1
         ],
         "title": {
          "text": "Data"
         }
        },
        "yaxis": {
         "anchor": "x",
         "domain": [
          0,
          1
         ],
         "title": {
          "text": "Otrzymane wartości"
         }
        }
       }
      }
     },
     "metadata": {},
     "output_type": "display_data"
    }
   ],
   "source": [
    "fig = px.line(\n",
    "    cut_df, \n",
    "    x=cut_df.index, \n",
    "    y=\"dane boxcox\"\n",
    ")\n",
    "\n",
    "fig.add_scatter(\n",
    "    x=cut_df.index,\n",
    "    y=sin_data, \n",
    "    mode='lines', \n",
    "    line=dict(color='red', width=2)\n",
    ")\n",
    "\n",
    "\n",
    "fig.update_layout(\n",
    "    title={\n",
    "        'text': \"Dobranie sinusa do danych\",\n",
    "        'x': 0.5,  \n",
    "        'xanchor': 'center'\n",
    "    },\n",
    "    xaxis_title=\"Data\",\n",
    "    yaxis_title=\"Otrzymane wartości\",\n",
    "    title_font_size=18,\n",
    "    width=1000,\n",
    "    height=500,\n",
    "    showlegend=False\n",
    ")\n",
    "\n",
    "fig.show()"
   ]
  },
  {
   "cell_type": "code",
   "execution_count": 421,
   "metadata": {},
   "outputs": [],
   "source": [
    "cut_df[\"zróżnicowane dane\"] = cut_df[\"dane boxcox\"] - sin_data"
   ]
  },
  {
   "cell_type": "code",
   "execution_count": 422,
   "metadata": {},
   "outputs": [
    {
     "data": {
      "application/vnd.plotly.v1+json": {
       "config": {
        "plotlyServerURL": "https://plot.ly"
       },
       "data": [
        {
         "hovertemplate": "Data potwierdzenia=%{x}<br>zróżnicowane dane=%{y}<extra></extra>",
         "legendgroup": "",
         "line": {
          "color": "#636efa",
          "dash": "solid"
         },
         "marker": {
          "symbol": "circle"
         },
         "mode": "lines",
         "name": "",
         "orientation": "v",
         "showlegend": false,
         "type": "scatter",
         "x": [
          "2021-01-10T00:00:00",
          "2021-01-17T00:00:00",
          "2021-01-24T00:00:00",
          "2021-01-31T00:00:00",
          "2021-02-07T00:00:00",
          "2021-02-14T00:00:00",
          "2021-02-21T00:00:00",
          "2021-02-28T00:00:00",
          "2021-03-07T00:00:00",
          "2021-03-14T00:00:00",
          "2021-03-21T00:00:00",
          "2021-03-28T00:00:00",
          "2021-04-04T00:00:00",
          "2021-04-11T00:00:00",
          "2021-04-18T00:00:00",
          "2021-04-25T00:00:00",
          "2021-05-02T00:00:00",
          "2021-05-09T00:00:00",
          "2021-05-16T00:00:00",
          "2021-05-23T00:00:00",
          "2021-05-30T00:00:00",
          "2021-06-06T00:00:00",
          "2021-06-13T00:00:00",
          "2021-06-20T00:00:00",
          "2021-06-27T00:00:00",
          "2021-07-04T00:00:00",
          "2021-07-11T00:00:00",
          "2021-07-18T00:00:00",
          "2021-07-25T00:00:00",
          "2021-08-01T00:00:00",
          "2021-08-08T00:00:00",
          "2021-08-15T00:00:00",
          "2021-08-22T00:00:00",
          "2021-08-29T00:00:00",
          "2021-09-05T00:00:00",
          "2021-09-12T00:00:00",
          "2021-09-19T00:00:00",
          "2021-09-26T00:00:00",
          "2021-10-03T00:00:00",
          "2021-10-10T00:00:00",
          "2021-10-17T00:00:00",
          "2021-10-24T00:00:00",
          "2021-10-31T00:00:00",
          "2021-11-07T00:00:00",
          "2021-11-14T00:00:00",
          "2021-11-21T00:00:00",
          "2021-11-28T00:00:00",
          "2021-12-05T00:00:00",
          "2021-12-12T00:00:00",
          "2021-12-19T00:00:00",
          "2021-12-26T00:00:00",
          "2022-01-02T00:00:00",
          "2022-01-09T00:00:00",
          "2022-01-16T00:00:00",
          "2022-01-23T00:00:00",
          "2022-01-30T00:00:00",
          "2022-02-06T00:00:00",
          "2022-02-13T00:00:00",
          "2022-02-20T00:00:00",
          "2022-02-27T00:00:00",
          "2022-03-06T00:00:00",
          "2022-03-13T00:00:00",
          "2022-03-20T00:00:00",
          "2022-03-27T00:00:00",
          "2022-04-03T00:00:00",
          "2022-04-10T00:00:00",
          "2022-04-17T00:00:00",
          "2022-04-24T00:00:00",
          "2022-05-01T00:00:00",
          "2022-05-08T00:00:00",
          "2022-05-15T00:00:00",
          "2022-05-22T00:00:00",
          "2022-05-29T00:00:00",
          "2022-06-05T00:00:00",
          "2022-06-12T00:00:00",
          "2022-06-19T00:00:00",
          "2022-06-26T00:00:00",
          "2022-07-03T00:00:00",
          "2022-07-10T00:00:00",
          "2022-07-17T00:00:00",
          "2022-07-24T00:00:00",
          "2022-07-31T00:00:00",
          "2022-08-07T00:00:00",
          "2022-08-14T00:00:00",
          "2022-08-21T00:00:00",
          "2022-08-28T00:00:00",
          "2022-09-04T00:00:00",
          "2022-09-11T00:00:00",
          "2022-09-18T00:00:00",
          "2022-09-25T00:00:00",
          "2022-10-02T00:00:00",
          "2022-10-09T00:00:00",
          "2022-10-16T00:00:00",
          "2022-10-23T00:00:00",
          "2022-10-30T00:00:00",
          "2022-11-06T00:00:00",
          "2022-11-13T00:00:00",
          "2022-11-20T00:00:00",
          "2022-11-27T00:00:00",
          "2022-12-04T00:00:00",
          "2022-12-11T00:00:00",
          "2022-12-18T00:00:00",
          "2022-12-25T00:00:00",
          "2023-01-01T00:00:00",
          "2023-01-08T00:00:00",
          "2023-01-15T00:00:00",
          "2023-01-22T00:00:00",
          "2023-01-29T00:00:00",
          "2023-02-05T00:00:00",
          "2023-02-12T00:00:00",
          "2023-02-19T00:00:00",
          "2023-02-26T00:00:00",
          "2023-03-05T00:00:00",
          "2023-03-12T00:00:00",
          "2023-03-19T00:00:00",
          "2023-03-26T00:00:00",
          "2023-04-02T00:00:00",
          "2023-04-09T00:00:00",
          "2023-04-16T00:00:00",
          "2023-04-23T00:00:00",
          "2023-04-30T00:00:00",
          "2023-05-07T00:00:00",
          "2023-05-14T00:00:00",
          "2023-05-21T00:00:00",
          "2023-05-28T00:00:00",
          "2023-06-04T00:00:00",
          "2023-06-11T00:00:00",
          "2023-06-18T00:00:00",
          "2023-06-25T00:00:00",
          "2023-07-02T00:00:00",
          "2023-07-09T00:00:00",
          "2023-07-16T00:00:00",
          "2023-07-23T00:00:00",
          "2023-07-30T00:00:00",
          "2023-08-06T00:00:00",
          "2023-08-13T00:00:00",
          "2023-08-20T00:00:00",
          "2023-08-27T00:00:00",
          "2023-09-03T00:00:00",
          "2023-09-10T00:00:00",
          "2023-09-17T00:00:00",
          "2023-09-24T00:00:00",
          "2023-10-01T00:00:00",
          "2023-10-08T00:00:00",
          "2023-10-15T00:00:00",
          "2023-10-22T00:00:00",
          "2023-10-29T00:00:00",
          "2023-11-05T00:00:00",
          "2023-11-12T00:00:00",
          "2023-11-19T00:00:00",
          "2023-11-26T00:00:00",
          "2023-12-03T00:00:00",
          "2023-12-10T00:00:00",
          "2023-12-17T00:00:00",
          "2023-12-24T00:00:00",
          "2023-12-31T00:00:00"
         ],
         "xaxis": "x",
         "y": [
          1.203905690799239,
          1.4423988249502262,
          2.1123395444372495,
          0.87951485625819,
          1.8305896620503121,
          1.3121359394458851,
          1.5634410180125222,
          -1.9305470532560145,
          0.6990371075721029,
          1.712599355432113,
          1.100491749141546,
          0.2001742913184703,
          0.8498680631115842,
          -0.05780379821699366,
          -1.0601524814723353,
          0.13195007684863658,
          0.6475350771883894,
          -2.35153538863561,
          0.31973882627764905,
          0.3828304198586787,
          -0.03894551294169357,
          0.6080857010186147,
          0.28906808458749556,
          -0.7823721597385678,
          -2.409384706430041,
          -0.25322793015063905,
          -0.495339533486562,
          -0.05231294126567665,
          -1.017892824538058,
          0.05104913915606257,
          0.20247172547131154,
          -0.8184777523106406,
          -0.12696639939305943,
          0.581530962626446,
          -0.38651602468622936,
          -0.34112098414032843,
          0.40790932192498985,
          0.5415640282065572,
          -0.7435368766801238,
          0.1657053086299456,
          0.3916987018694087,
          0.4928866613380105,
          0.9428495733430671,
          1.0715903602338779,
          1.669257300407759,
          1.679987755757935,
          2.0366309398790845,
          1.7145421884749972,
          1.53762424107917,
          1.214272823203597,
          1.3086457204933035,
          1.521143097463293,
          -2.526007173068394,
          0.7914311129034326,
          1.3291193886694979,
          -0.24830532678220862,
          0.551021170165229,
          -0.21594846257474298,
          -0.1295928615207842,
          -0.7618797791052758,
          -0.8294176113456011,
          -0.656176815219208,
          -0.6873338508928004,
          -0.19479036353782497,
          -0.46863462765390373,
          -1.091846333308916,
          -3.6291465254067274,
          -2.315516217706377,
          -1.6653260240985963,
          -1.140011009523346,
          -0.9536747459155661,
          -0.6595411263126927,
          -0.8546517077320326,
          -0.39737333933554275,
          -1.7049630670782792,
          -1.4230508918498743,
          -1.030949799787689,
          -0.9594750027875065,
          -2.942985841254441,
          -1.3903243357320574,
          -1.1912415580101943,
          -0.571891328608447,
          -0.6916424500306868,
          -0.29472294702775237,
          -1.820791422623909,
          0.16993915788292568,
          -0.8272972668036314,
          -0.06331322715118315,
          -0.5192891764010965,
          -0.3464165324475612,
          -0.8306486479726098,
          0.08551758226556316,
          -0.13865783005273524,
          0.1746764259224678,
          -0.23636563127668175,
          -0.7841227534667583,
          0.1961013761607271,
          1.0857663135197635,
          0.7902155025403781,
          0.3349255493721399,
          0.9142143591698195,
          0.4228113411938308,
          0.524295993737268,
          -0.37406118058666316,
          -1.2531627014637818,
          1.0549705808800427,
          0.8877765180187565,
          0.17684821258520422,
          -0.6815621940859806,
          0.5228680579409772,
          -0.2234099925736901,
          -0.9396381399829599,
          1.632413793606247,
          0.7181136589231354,
          0.3578902656792593,
          0.43804177517043996,
          1.033143143889867,
          -0.3852772660088304,
          1.1533422473523602,
          0.5297102399946523,
          1.9550000410031254,
          0.0580842125883434,
          0.44978781945076474,
          2.50680605879466,
          1.0057725680687,
          1.5269141034391858,
          0.8453694592291088,
          0.9529404199986109,
          0.15252166896982366,
          -0.6641236278944058,
          1.0073360195226622,
          0.31070293442459374,
          -0.05676127804558728,
          0.6732657041792951,
          1.0969223473211462,
          -1.3517393783324074,
          0.14600851991636965,
          -0.01277108368311275,
          0.43462342406646215,
          0.8328381327977077,
          -0.5542000130063971,
          -0.25330776280760325,
          -0.7802343670605159,
          -0.4923664849623943,
          -0.3858789775719096,
          -0.7203209274013025,
          -0.9658256666829725,
          -1.438663458622016,
          -0.6189480853178475,
          -0.17128547653118886,
          0.8350912576755292,
          -0.3199824529967037,
          -0.3071016756358702,
          -0.7867394543151649,
          -0.5130798535643715,
          -1.17230521120631
         ],
         "yaxis": "y"
        }
       ],
       "layout": {
        "height": 500,
        "legend": {
         "tracegroupgap": 0
        },
        "margin": {
         "t": 60
        },
        "showlegend": false,
        "template": {
         "data": {
          "bar": [
           {
            "error_x": {
             "color": "#2a3f5f"
            },
            "error_y": {
             "color": "#2a3f5f"
            },
            "marker": {
             "line": {
              "color": "#E5ECF6",
              "width": 0.5
             },
             "pattern": {
              "fillmode": "overlay",
              "size": 10,
              "solidity": 0.2
             }
            },
            "type": "bar"
           }
          ],
          "barpolar": [
           {
            "marker": {
             "line": {
              "color": "#E5ECF6",
              "width": 0.5
             },
             "pattern": {
              "fillmode": "overlay",
              "size": 10,
              "solidity": 0.2
             }
            },
            "type": "barpolar"
           }
          ],
          "carpet": [
           {
            "aaxis": {
             "endlinecolor": "#2a3f5f",
             "gridcolor": "white",
             "linecolor": "white",
             "minorgridcolor": "white",
             "startlinecolor": "#2a3f5f"
            },
            "baxis": {
             "endlinecolor": "#2a3f5f",
             "gridcolor": "white",
             "linecolor": "white",
             "minorgridcolor": "white",
             "startlinecolor": "#2a3f5f"
            },
            "type": "carpet"
           }
          ],
          "choropleth": [
           {
            "colorbar": {
             "outlinewidth": 0,
             "ticks": ""
            },
            "type": "choropleth"
           }
          ],
          "contour": [
           {
            "colorbar": {
             "outlinewidth": 0,
             "ticks": ""
            },
            "colorscale": [
             [
              0,
              "#0d0887"
             ],
             [
              0.1111111111111111,
              "#46039f"
             ],
             [
              0.2222222222222222,
              "#7201a8"
             ],
             [
              0.3333333333333333,
              "#9c179e"
             ],
             [
              0.4444444444444444,
              "#bd3786"
             ],
             [
              0.5555555555555556,
              "#d8576b"
             ],
             [
              0.6666666666666666,
              "#ed7953"
             ],
             [
              0.7777777777777778,
              "#fb9f3a"
             ],
             [
              0.8888888888888888,
              "#fdca26"
             ],
             [
              1,
              "#f0f921"
             ]
            ],
            "type": "contour"
           }
          ],
          "contourcarpet": [
           {
            "colorbar": {
             "outlinewidth": 0,
             "ticks": ""
            },
            "type": "contourcarpet"
           }
          ],
          "heatmap": [
           {
            "colorbar": {
             "outlinewidth": 0,
             "ticks": ""
            },
            "colorscale": [
             [
              0,
              "#0d0887"
             ],
             [
              0.1111111111111111,
              "#46039f"
             ],
             [
              0.2222222222222222,
              "#7201a8"
             ],
             [
              0.3333333333333333,
              "#9c179e"
             ],
             [
              0.4444444444444444,
              "#bd3786"
             ],
             [
              0.5555555555555556,
              "#d8576b"
             ],
             [
              0.6666666666666666,
              "#ed7953"
             ],
             [
              0.7777777777777778,
              "#fb9f3a"
             ],
             [
              0.8888888888888888,
              "#fdca26"
             ],
             [
              1,
              "#f0f921"
             ]
            ],
            "type": "heatmap"
           }
          ],
          "heatmapgl": [
           {
            "colorbar": {
             "outlinewidth": 0,
             "ticks": ""
            },
            "colorscale": [
             [
              0,
              "#0d0887"
             ],
             [
              0.1111111111111111,
              "#46039f"
             ],
             [
              0.2222222222222222,
              "#7201a8"
             ],
             [
              0.3333333333333333,
              "#9c179e"
             ],
             [
              0.4444444444444444,
              "#bd3786"
             ],
             [
              0.5555555555555556,
              "#d8576b"
             ],
             [
              0.6666666666666666,
              "#ed7953"
             ],
             [
              0.7777777777777778,
              "#fb9f3a"
             ],
             [
              0.8888888888888888,
              "#fdca26"
             ],
             [
              1,
              "#f0f921"
             ]
            ],
            "type": "heatmapgl"
           }
          ],
          "histogram": [
           {
            "marker": {
             "pattern": {
              "fillmode": "overlay",
              "size": 10,
              "solidity": 0.2
             }
            },
            "type": "histogram"
           }
          ],
          "histogram2d": [
           {
            "colorbar": {
             "outlinewidth": 0,
             "ticks": ""
            },
            "colorscale": [
             [
              0,
              "#0d0887"
             ],
             [
              0.1111111111111111,
              "#46039f"
             ],
             [
              0.2222222222222222,
              "#7201a8"
             ],
             [
              0.3333333333333333,
              "#9c179e"
             ],
             [
              0.4444444444444444,
              "#bd3786"
             ],
             [
              0.5555555555555556,
              "#d8576b"
             ],
             [
              0.6666666666666666,
              "#ed7953"
             ],
             [
              0.7777777777777778,
              "#fb9f3a"
             ],
             [
              0.8888888888888888,
              "#fdca26"
             ],
             [
              1,
              "#f0f921"
             ]
            ],
            "type": "histogram2d"
           }
          ],
          "histogram2dcontour": [
           {
            "colorbar": {
             "outlinewidth": 0,
             "ticks": ""
            },
            "colorscale": [
             [
              0,
              "#0d0887"
             ],
             [
              0.1111111111111111,
              "#46039f"
             ],
             [
              0.2222222222222222,
              "#7201a8"
             ],
             [
              0.3333333333333333,
              "#9c179e"
             ],
             [
              0.4444444444444444,
              "#bd3786"
             ],
             [
              0.5555555555555556,
              "#d8576b"
             ],
             [
              0.6666666666666666,
              "#ed7953"
             ],
             [
              0.7777777777777778,
              "#fb9f3a"
             ],
             [
              0.8888888888888888,
              "#fdca26"
             ],
             [
              1,
              "#f0f921"
             ]
            ],
            "type": "histogram2dcontour"
           }
          ],
          "mesh3d": [
           {
            "colorbar": {
             "outlinewidth": 0,
             "ticks": ""
            },
            "type": "mesh3d"
           }
          ],
          "parcoords": [
           {
            "line": {
             "colorbar": {
              "outlinewidth": 0,
              "ticks": ""
             }
            },
            "type": "parcoords"
           }
          ],
          "pie": [
           {
            "automargin": true,
            "type": "pie"
           }
          ],
          "scatter": [
           {
            "fillpattern": {
             "fillmode": "overlay",
             "size": 10,
             "solidity": 0.2
            },
            "type": "scatter"
           }
          ],
          "scatter3d": [
           {
            "line": {
             "colorbar": {
              "outlinewidth": 0,
              "ticks": ""
             }
            },
            "marker": {
             "colorbar": {
              "outlinewidth": 0,
              "ticks": ""
             }
            },
            "type": "scatter3d"
           }
          ],
          "scattercarpet": [
           {
            "marker": {
             "colorbar": {
              "outlinewidth": 0,
              "ticks": ""
             }
            },
            "type": "scattercarpet"
           }
          ],
          "scattergeo": [
           {
            "marker": {
             "colorbar": {
              "outlinewidth": 0,
              "ticks": ""
             }
            },
            "type": "scattergeo"
           }
          ],
          "scattergl": [
           {
            "marker": {
             "colorbar": {
              "outlinewidth": 0,
              "ticks": ""
             }
            },
            "type": "scattergl"
           }
          ],
          "scattermapbox": [
           {
            "marker": {
             "colorbar": {
              "outlinewidth": 0,
              "ticks": ""
             }
            },
            "type": "scattermapbox"
           }
          ],
          "scatterpolar": [
           {
            "marker": {
             "colorbar": {
              "outlinewidth": 0,
              "ticks": ""
             }
            },
            "type": "scatterpolar"
           }
          ],
          "scatterpolargl": [
           {
            "marker": {
             "colorbar": {
              "outlinewidth": 0,
              "ticks": ""
             }
            },
            "type": "scatterpolargl"
           }
          ],
          "scatterternary": [
           {
            "marker": {
             "colorbar": {
              "outlinewidth": 0,
              "ticks": ""
             }
            },
            "type": "scatterternary"
           }
          ],
          "surface": [
           {
            "colorbar": {
             "outlinewidth": 0,
             "ticks": ""
            },
            "colorscale": [
             [
              0,
              "#0d0887"
             ],
             [
              0.1111111111111111,
              "#46039f"
             ],
             [
              0.2222222222222222,
              "#7201a8"
             ],
             [
              0.3333333333333333,
              "#9c179e"
             ],
             [
              0.4444444444444444,
              "#bd3786"
             ],
             [
              0.5555555555555556,
              "#d8576b"
             ],
             [
              0.6666666666666666,
              "#ed7953"
             ],
             [
              0.7777777777777778,
              "#fb9f3a"
             ],
             [
              0.8888888888888888,
              "#fdca26"
             ],
             [
              1,
              "#f0f921"
             ]
            ],
            "type": "surface"
           }
          ],
          "table": [
           {
            "cells": {
             "fill": {
              "color": "#EBF0F8"
             },
             "line": {
              "color": "white"
             }
            },
            "header": {
             "fill": {
              "color": "#C8D4E3"
             },
             "line": {
              "color": "white"
             }
            },
            "type": "table"
           }
          ]
         },
         "layout": {
          "annotationdefaults": {
           "arrowcolor": "#2a3f5f",
           "arrowhead": 0,
           "arrowwidth": 1
          },
          "autotypenumbers": "strict",
          "coloraxis": {
           "colorbar": {
            "outlinewidth": 0,
            "ticks": ""
           }
          },
          "colorscale": {
           "diverging": [
            [
             0,
             "#8e0152"
            ],
            [
             0.1,
             "#c51b7d"
            ],
            [
             0.2,
             "#de77ae"
            ],
            [
             0.3,
             "#f1b6da"
            ],
            [
             0.4,
             "#fde0ef"
            ],
            [
             0.5,
             "#f7f7f7"
            ],
            [
             0.6,
             "#e6f5d0"
            ],
            [
             0.7,
             "#b8e186"
            ],
            [
             0.8,
             "#7fbc41"
            ],
            [
             0.9,
             "#4d9221"
            ],
            [
             1,
             "#276419"
            ]
           ],
           "sequential": [
            [
             0,
             "#0d0887"
            ],
            [
             0.1111111111111111,
             "#46039f"
            ],
            [
             0.2222222222222222,
             "#7201a8"
            ],
            [
             0.3333333333333333,
             "#9c179e"
            ],
            [
             0.4444444444444444,
             "#bd3786"
            ],
            [
             0.5555555555555556,
             "#d8576b"
            ],
            [
             0.6666666666666666,
             "#ed7953"
            ],
            [
             0.7777777777777778,
             "#fb9f3a"
            ],
            [
             0.8888888888888888,
             "#fdca26"
            ],
            [
             1,
             "#f0f921"
            ]
           ],
           "sequentialminus": [
            [
             0,
             "#0d0887"
            ],
            [
             0.1111111111111111,
             "#46039f"
            ],
            [
             0.2222222222222222,
             "#7201a8"
            ],
            [
             0.3333333333333333,
             "#9c179e"
            ],
            [
             0.4444444444444444,
             "#bd3786"
            ],
            [
             0.5555555555555556,
             "#d8576b"
            ],
            [
             0.6666666666666666,
             "#ed7953"
            ],
            [
             0.7777777777777778,
             "#fb9f3a"
            ],
            [
             0.8888888888888888,
             "#fdca26"
            ],
            [
             1,
             "#f0f921"
            ]
           ]
          },
          "colorway": [
           "#636efa",
           "#EF553B",
           "#00cc96",
           "#ab63fa",
           "#FFA15A",
           "#19d3f3",
           "#FF6692",
           "#B6E880",
           "#FF97FF",
           "#FECB52"
          ],
          "font": {
           "color": "#2a3f5f"
          },
          "geo": {
           "bgcolor": "white",
           "lakecolor": "white",
           "landcolor": "#E5ECF6",
           "showlakes": true,
           "showland": true,
           "subunitcolor": "white"
          },
          "hoverlabel": {
           "align": "left"
          },
          "hovermode": "closest",
          "mapbox": {
           "style": "light"
          },
          "paper_bgcolor": "white",
          "plot_bgcolor": "#E5ECF6",
          "polar": {
           "angularaxis": {
            "gridcolor": "white",
            "linecolor": "white",
            "ticks": ""
           },
           "bgcolor": "#E5ECF6",
           "radialaxis": {
            "gridcolor": "white",
            "linecolor": "white",
            "ticks": ""
           }
          },
          "scene": {
           "xaxis": {
            "backgroundcolor": "#E5ECF6",
            "gridcolor": "white",
            "gridwidth": 2,
            "linecolor": "white",
            "showbackground": true,
            "ticks": "",
            "zerolinecolor": "white"
           },
           "yaxis": {
            "backgroundcolor": "#E5ECF6",
            "gridcolor": "white",
            "gridwidth": 2,
            "linecolor": "white",
            "showbackground": true,
            "ticks": "",
            "zerolinecolor": "white"
           },
           "zaxis": {
            "backgroundcolor": "#E5ECF6",
            "gridcolor": "white",
            "gridwidth": 2,
            "linecolor": "white",
            "showbackground": true,
            "ticks": "",
            "zerolinecolor": "white"
           }
          },
          "shapedefaults": {
           "line": {
            "color": "#2a3f5f"
           }
          },
          "ternary": {
           "aaxis": {
            "gridcolor": "white",
            "linecolor": "white",
            "ticks": ""
           },
           "baxis": {
            "gridcolor": "white",
            "linecolor": "white",
            "ticks": ""
           },
           "bgcolor": "#E5ECF6",
           "caxis": {
            "gridcolor": "white",
            "linecolor": "white",
            "ticks": ""
           }
          },
          "title": {
           "x": 0.05
          },
          "xaxis": {
           "automargin": true,
           "gridcolor": "white",
           "linecolor": "white",
           "ticks": "",
           "title": {
            "standoff": 15
           },
           "zerolinecolor": "white",
           "zerolinewidth": 2
          },
          "yaxis": {
           "automargin": true,
           "gridcolor": "white",
           "linecolor": "white",
           "ticks": "",
           "title": {
            "standoff": 15
           },
           "zerolinecolor": "white",
           "zerolinewidth": 2
          }
         }
        },
        "title": {
         "font": {
          "size": 18
         },
         "text": "Dane w postaci stacjonarnej",
         "x": 0.5,
         "xanchor": "center"
        },
        "width": 1000,
        "xaxis": {
         "anchor": "y",
         "domain": [
          0,
          1
         ],
         "title": {
          "text": "Data"
         }
        },
        "yaxis": {
         "anchor": "x",
         "domain": [
          0,
          1
         ],
         "title": {
          "text": "Otrzymane wartości"
         }
        }
       }
      }
     },
     "metadata": {},
     "output_type": "display_data"
    }
   ],
   "source": [
    "fig = px.line(\n",
    "    cut_df, \n",
    "    x=cut_df.index, \n",
    "    y=\"zróżnicowane dane\"\n",
    ")\n",
    "\n",
    "\n",
    "fig.update_layout(\n",
    "    title={\n",
    "        'text': \"Dane w postaci stacjonarnej\",\n",
    "        'x': 0.5,  \n",
    "        'xanchor': 'center'\n",
    "    },\n",
    "    xaxis_title=\"Data\",\n",
    "    yaxis_title=\"Otrzymane wartości\",\n",
    "    title_font_size=18,\n",
    "    width=1000,\n",
    "    height=500,\n",
    "    showlegend=False\n",
    ")\n",
    "\n",
    "fig.show()"
   ]
  },
  {
   "cell_type": "code",
   "execution_count": 423,
   "metadata": {},
   "outputs": [
    {
     "name": "stdout",
     "output_type": "stream",
     "text": [
      "Ile mamy NaN: 0\n",
      "Indeks gdzie mamy NaN: DatetimeIndex([], dtype='datetime64[ns]', name='Data potwierdzenia', freq='W-SUN')\n"
     ]
    },
    {
     "data": {
      "text/html": [
       "<div>\n",
       "<style scoped>\n",
       "    .dataframe tbody tr th:only-of-type {\n",
       "        vertical-align: middle;\n",
       "    }\n",
       "\n",
       "    .dataframe tbody tr th {\n",
       "        vertical-align: top;\n",
       "    }\n",
       "\n",
       "    .dataframe thead th {\n",
       "        text-align: right;\n",
       "    }\n",
       "</style>\n",
       "<table border=\"1\" class=\"dataframe\">\n",
       "  <thead>\n",
       "    <tr style=\"text-align: right;\">\n",
       "      <th></th>\n",
       "      <th>Liczba dzików dodatnich</th>\n",
       "      <th>dane boxcox</th>\n",
       "      <th>zróżnicowane dane</th>\n",
       "    </tr>\n",
       "    <tr>\n",
       "      <th>Data potwierdzenia</th>\n",
       "      <th></th>\n",
       "      <th></th>\n",
       "      <th></th>\n",
       "    </tr>\n",
       "  </thead>\n",
       "  <tbody>\n",
       "    <tr>\n",
       "      <th>2021-01-10</th>\n",
       "      <td>113</td>\n",
       "      <td>6.414482</td>\n",
       "      <td>1.203906</td>\n",
       "    </tr>\n",
       "    <tr>\n",
       "      <th>2021-01-17</th>\n",
       "      <td>139</td>\n",
       "      <td>6.789929</td>\n",
       "      <td>1.442399</td>\n",
       "    </tr>\n",
       "    <tr>\n",
       "      <th>2021-01-24</th>\n",
       "      <td>213</td>\n",
       "      <td>7.594624</td>\n",
       "      <td>2.112340</td>\n",
       "    </tr>\n",
       "    <tr>\n",
       "      <th>2021-01-31</th>\n",
       "      <td>118</td>\n",
       "      <td>6.492189</td>\n",
       "      <td>0.879515</td>\n",
       "    </tr>\n",
       "    <tr>\n",
       "      <th>2021-02-07</th>\n",
       "      <td>210</td>\n",
       "      <td>7.567196</td>\n",
       "      <td>1.830590</td>\n",
       "    </tr>\n",
       "  </tbody>\n",
       "</table>\n",
       "</div>"
      ],
      "text/plain": [
       "                    Liczba dzików dodatnich  dane boxcox  zróżnicowane dane\n",
       "Data potwierdzenia                                                         \n",
       "2021-01-10                              113     6.414482           1.203906\n",
       "2021-01-17                              139     6.789929           1.442399\n",
       "2021-01-24                              213     7.594624           2.112340\n",
       "2021-01-31                              118     6.492189           0.879515\n",
       "2021-02-07                              210     7.567196           1.830590"
      ]
     },
     "execution_count": 423,
     "metadata": {},
     "output_type": "execute_result"
    }
   ],
   "source": [
    "print(f'Ile mamy NaN: {sum(cut_df[\"zróżnicowane dane\"].isna())}')\n",
    "print(f'Indeks gdzie mamy NaN: {cut_df.loc[cut_df[\"zróżnicowane dane\"].isna()].index}')\n",
    "cut_df.head()"
   ]
  },
  {
   "cell_type": "code",
   "execution_count": 424,
   "metadata": {},
   "outputs": [
    {
     "data": {
      "text/html": [
       "<div>\n",
       "<style scoped>\n",
       "    .dataframe tbody tr th:only-of-type {\n",
       "        vertical-align: middle;\n",
       "    }\n",
       "\n",
       "    .dataframe tbody tr th {\n",
       "        vertical-align: top;\n",
       "    }\n",
       "\n",
       "    .dataframe thead th {\n",
       "        text-align: right;\n",
       "    }\n",
       "</style>\n",
       "<table border=\"1\" class=\"dataframe\">\n",
       "  <thead>\n",
       "    <tr style=\"text-align: right;\">\n",
       "      <th></th>\n",
       "      <th>Liczba dzików dodatnich</th>\n",
       "      <th>dane boxcox</th>\n",
       "      <th>zróżnicowane dane</th>\n",
       "    </tr>\n",
       "    <tr>\n",
       "      <th>Data potwierdzenia</th>\n",
       "      <th></th>\n",
       "      <th></th>\n",
       "      <th></th>\n",
       "    </tr>\n",
       "  </thead>\n",
       "  <tbody>\n",
       "    <tr>\n",
       "      <th>2021-01-10</th>\n",
       "      <td>113</td>\n",
       "      <td>6.414482</td>\n",
       "      <td>1.203906</td>\n",
       "    </tr>\n",
       "    <tr>\n",
       "      <th>2021-01-17</th>\n",
       "      <td>139</td>\n",
       "      <td>6.789929</td>\n",
       "      <td>1.442399</td>\n",
       "    </tr>\n",
       "    <tr>\n",
       "      <th>2021-01-24</th>\n",
       "      <td>213</td>\n",
       "      <td>7.594624</td>\n",
       "      <td>2.112340</td>\n",
       "    </tr>\n",
       "    <tr>\n",
       "      <th>2021-01-31</th>\n",
       "      <td>118</td>\n",
       "      <td>6.492189</td>\n",
       "      <td>0.879515</td>\n",
       "    </tr>\n",
       "    <tr>\n",
       "      <th>2021-02-07</th>\n",
       "      <td>210</td>\n",
       "      <td>7.567196</td>\n",
       "      <td>1.830590</td>\n",
       "    </tr>\n",
       "  </tbody>\n",
       "</table>\n",
       "</div>"
      ],
      "text/plain": [
       "                    Liczba dzików dodatnich  dane boxcox  zróżnicowane dane\n",
       "Data potwierdzenia                                                         \n",
       "2021-01-10                              113     6.414482           1.203906\n",
       "2021-01-17                              139     6.789929           1.442399\n",
       "2021-01-24                              213     7.594624           2.112340\n",
       "2021-01-31                              118     6.492189           0.879515\n",
       "2021-02-07                              210     7.567196           1.830590"
      ]
     },
     "execution_count": 424,
     "metadata": {},
     "output_type": "execute_result"
    }
   ],
   "source": [
    "new_df = cut_df.dropna()\n",
    "new_df.head()"
   ]
  },
  {
   "cell_type": "code",
   "execution_count": 425,
   "metadata": {},
   "outputs": [],
   "source": [
    "def adfuller_test(series, sig=0.05): # kod pliku prowadzącego\n",
    "    res = adfuller(series, autolag='AIC')    \n",
    "    p_value = round(res[1], 3) \n",
    "    stats   = round(res[0], 3) \n",
    "\n",
    "    if p_value <= sig:\n",
    "        print(f\"Statystyka testowa = {stats}, p-Value = {p_value} => Stationary. \")\n",
    "    else:\n",
    "        print(f\"Statystyka testowa = {stats}, p-value = {p_value} => Non-stationary.\")"
   ]
  },
  {
   "cell_type": "code",
   "execution_count": 426,
   "metadata": {},
   "outputs": [
    {
     "name": "stdout",
     "output_type": "stream",
     "text": [
      "Statystyka testowa = -3.13, p-Value = 0.024 => Stationary. \n"
     ]
    }
   ],
   "source": [
    "adfuller_test(new_df[\"zróżnicowane dane\"])"
   ]
  },
  {
   "cell_type": "code",
   "execution_count": 427,
   "metadata": {},
   "outputs": [],
   "source": [
    "h = 100\n",
    "acf_boars = acf(new_df[\"zróżnicowane dane\"], nlags=h)"
   ]
  },
  {
   "cell_type": "code",
   "execution_count": 428,
   "metadata": {},
   "outputs": [
    {
     "data": {
      "application/vnd.plotly.v1+json": {
       "config": {
        "plotlyServerURL": "https://plot.ly"
       },
       "data": [
        {
         "line": {
          "color": "#767FFA"
         },
         "mode": "lines",
         "showlegend": false,
         "type": "scatter",
         "x": [
          0,
          0
         ],
         "y": [
          0,
          1
         ]
        },
        {
         "line": {
          "color": "#767FFA"
         },
         "mode": "lines",
         "showlegend": false,
         "type": "scatter",
         "x": [
          1,
          1
         ],
         "y": [
          0,
          0.465178323578241
         ]
        },
        {
         "line": {
          "color": "#767FFA"
         },
         "mode": "lines",
         "showlegend": false,
         "type": "scatter",
         "x": [
          2,
          2
         ],
         "y": [
          0,
          0.39298096653890163
         ]
        },
        {
         "line": {
          "color": "#767FFA"
         },
         "mode": "lines",
         "showlegend": false,
         "type": "scatter",
         "x": [
          3,
          3
         ],
         "y": [
          0,
          0.4163288944612294
         ]
        },
        {
         "line": {
          "color": "#767FFA"
         },
         "mode": "lines",
         "showlegend": false,
         "type": "scatter",
         "x": [
          4,
          4
         ],
         "y": [
          0,
          0.39006136516633827
         ]
        },
        {
         "line": {
          "color": "#767FFA"
         },
         "mode": "lines",
         "showlegend": false,
         "type": "scatter",
         "x": [
          5,
          5
         ],
         "y": [
          0,
          0.2600192802038133
         ]
        },
        {
         "line": {
          "color": "#767FFA"
         },
         "mode": "lines",
         "showlegend": false,
         "type": "scatter",
         "x": [
          6,
          6
         ],
         "y": [
          0,
          0.3222667632680182
         ]
        },
        {
         "line": {
          "color": "#767FFA"
         },
         "mode": "lines",
         "showlegend": false,
         "type": "scatter",
         "x": [
          7,
          7
         ],
         "y": [
          0,
          0.3584420103140289
         ]
        },
        {
         "line": {
          "color": "#767FFA"
         },
         "mode": "lines",
         "showlegend": false,
         "type": "scatter",
         "x": [
          8,
          8
         ],
         "y": [
          0,
          0.2484342713613896
         ]
        },
        {
         "line": {
          "color": "#767FFA"
         },
         "mode": "lines",
         "showlegend": false,
         "type": "scatter",
         "x": [
          9,
          9
         ],
         "y": [
          0,
          0.20092978219331334
         ]
        },
        {
         "line": {
          "color": "#767FFA"
         },
         "mode": "lines",
         "showlegend": false,
         "type": "scatter",
         "x": [
          10,
          10
         ],
         "y": [
          0,
          0.2347257726985211
         ]
        },
        {
         "line": {
          "color": "#767FFA"
         },
         "mode": "lines",
         "showlegend": false,
         "type": "scatter",
         "x": [
          11,
          11
         ],
         "y": [
          0,
          0.17837705599453907
         ]
        },
        {
         "line": {
          "color": "#767FFA"
         },
         "mode": "lines",
         "showlegend": false,
         "type": "scatter",
         "x": [
          12,
          12
         ],
         "y": [
          0,
          0.08040890522215816
         ]
        },
        {
         "line": {
          "color": "#767FFA"
         },
         "mode": "lines",
         "showlegend": false,
         "type": "scatter",
         "x": [
          13,
          13
         ],
         "y": [
          0,
          0.0391535949536116
         ]
        },
        {
         "line": {
          "color": "#767FFA"
         },
         "mode": "lines",
         "showlegend": false,
         "type": "scatter",
         "x": [
          14,
          14
         ],
         "y": [
          0,
          0.1172438109353808
         ]
        },
        {
         "line": {
          "color": "#767FFA"
         },
         "mode": "lines",
         "showlegend": false,
         "type": "scatter",
         "x": [
          15,
          15
         ],
         "y": [
          0,
          -0.04388664878616131
         ]
        },
        {
         "line": {
          "color": "#767FFA"
         },
         "mode": "lines",
         "showlegend": false,
         "type": "scatter",
         "x": [
          16,
          16
         ],
         "y": [
          0,
          -0.0595388583197935
         ]
        },
        {
         "line": {
          "color": "#767FFA"
         },
         "mode": "lines",
         "showlegend": false,
         "type": "scatter",
         "x": [
          17,
          17
         ],
         "y": [
          0,
          -0.0396240167155747
         ]
        },
        {
         "line": {
          "color": "#767FFA"
         },
         "mode": "lines",
         "showlegend": false,
         "type": "scatter",
         "x": [
          18,
          18
         ],
         "y": [
          0,
          -0.03294887840280157
         ]
        },
        {
         "line": {
          "color": "#767FFA"
         },
         "mode": "lines",
         "showlegend": false,
         "type": "scatter",
         "x": [
          19,
          19
         ],
         "y": [
          0,
          -0.1950859515829003
         ]
        },
        {
         "line": {
          "color": "#767FFA"
         },
         "mode": "lines",
         "showlegend": false,
         "type": "scatter",
         "x": [
          20,
          20
         ],
         "y": [
          0,
          -0.1786560382222667
         ]
        },
        {
         "line": {
          "color": "#767FFA"
         },
         "mode": "lines",
         "showlegend": false,
         "type": "scatter",
         "x": [
          21,
          21
         ],
         "y": [
          0,
          -0.16025717958876173
         ]
        },
        {
         "line": {
          "color": "#767FFA"
         },
         "mode": "lines",
         "showlegend": false,
         "type": "scatter",
         "x": [
          22,
          22
         ],
         "y": [
          0,
          -0.2695931955997927
         ]
        },
        {
         "line": {
          "color": "#767FFA"
         },
         "mode": "lines",
         "showlegend": false,
         "type": "scatter",
         "x": [
          23,
          23
         ],
         "y": [
          0,
          -0.2438333502859817
         ]
        },
        {
         "line": {
          "color": "#767FFA"
         },
         "mode": "lines",
         "showlegend": false,
         "type": "scatter",
         "x": [
          24,
          24
         ],
         "y": [
          0,
          -0.16009460561632308
         ]
        },
        {
         "line": {
          "color": "#767FFA"
         },
         "mode": "lines",
         "showlegend": false,
         "type": "scatter",
         "x": [
          25,
          25
         ],
         "y": [
          0,
          -0.1576521367211907
         ]
        },
        {
         "line": {
          "color": "#767FFA"
         },
         "mode": "lines",
         "showlegend": false,
         "type": "scatter",
         "x": [
          26,
          26
         ],
         "y": [
          0,
          -0.14588346328511126
         ]
        },
        {
         "line": {
          "color": "#767FFA"
         },
         "mode": "lines",
         "showlegend": false,
         "type": "scatter",
         "x": [
          27,
          27
         ],
         "y": [
          0,
          -0.1457833814817596
         ]
        },
        {
         "line": {
          "color": "#767FFA"
         },
         "mode": "lines",
         "showlegend": false,
         "type": "scatter",
         "x": [
          28,
          28
         ],
         "y": [
          0,
          -0.15917013554200887
         ]
        },
        {
         "line": {
          "color": "#767FFA"
         },
         "mode": "lines",
         "showlegend": false,
         "type": "scatter",
         "x": [
          29,
          29
         ],
         "y": [
          0,
          -0.18598029334455488
         ]
        },
        {
         "line": {
          "color": "#767FFA"
         },
         "mode": "lines",
         "showlegend": false,
         "type": "scatter",
         "x": [
          30,
          30
         ],
         "y": [
          0,
          -0.26076568367409675
         ]
        },
        {
         "line": {
          "color": "#767FFA"
         },
         "mode": "lines",
         "showlegend": false,
         "type": "scatter",
         "x": [
          31,
          31
         ],
         "y": [
          0,
          -0.2075722617272272
         ]
        },
        {
         "line": {
          "color": "#767FFA"
         },
         "mode": "lines",
         "showlegend": false,
         "type": "scatter",
         "x": [
          32,
          32
         ],
         "y": [
          0,
          -0.1724979193189938
         ]
        },
        {
         "line": {
          "color": "#767FFA"
         },
         "mode": "lines",
         "showlegend": false,
         "type": "scatter",
         "x": [
          33,
          33
         ],
         "y": [
          0,
          -0.18069733590577328
         ]
        },
        {
         "line": {
          "color": "#767FFA"
         },
         "mode": "lines",
         "showlegend": false,
         "type": "scatter",
         "x": [
          34,
          34
         ],
         "y": [
          0,
          -0.17950590087435936
         ]
        },
        {
         "line": {
          "color": "#767FFA"
         },
         "mode": "lines",
         "showlegend": false,
         "type": "scatter",
         "x": [
          35,
          35
         ],
         "y": [
          0,
          -0.09647438359871062
         ]
        },
        {
         "line": {
          "color": "#767FFA"
         },
         "mode": "lines",
         "showlegend": false,
         "type": "scatter",
         "x": [
          36,
          36
         ],
         "y": [
          0,
          -0.10214326017779525
         ]
        },
        {
         "line": {
          "color": "#767FFA"
         },
         "mode": "lines",
         "showlegend": false,
         "type": "scatter",
         "x": [
          37,
          37
         ],
         "y": [
          0,
          -0.08440418475366987
         ]
        },
        {
         "line": {
          "color": "#767FFA"
         },
         "mode": "lines",
         "showlegend": false,
         "type": "scatter",
         "x": [
          38,
          38
         ],
         "y": [
          0,
          -0.016893194698157022
         ]
        },
        {
         "line": {
          "color": "#767FFA"
         },
         "mode": "lines",
         "showlegend": false,
         "type": "scatter",
         "x": [
          39,
          39
         ],
         "y": [
          0,
          -0.09882226408644283
         ]
        },
        {
         "line": {
          "color": "#767FFA"
         },
         "mode": "lines",
         "showlegend": false,
         "type": "scatter",
         "x": [
          40,
          40
         ],
         "y": [
          0,
          -0.06223638800119577
         ]
        },
        {
         "line": {
          "color": "#767FFA"
         },
         "mode": "lines",
         "showlegend": false,
         "type": "scatter",
         "x": [
          41,
          41
         ],
         "y": [
          0,
          -0.029201513200809704
         ]
        },
        {
         "line": {
          "color": "#767FFA"
         },
         "mode": "lines",
         "showlegend": false,
         "type": "scatter",
         "x": [
          42,
          42
         ],
         "y": [
          0,
          0.022083746909587487
         ]
        },
        {
         "line": {
          "color": "#767FFA"
         },
         "mode": "lines",
         "showlegend": false,
         "type": "scatter",
         "x": [
          43,
          43
         ],
         "y": [
          0,
          0.034775849104035035
         ]
        },
        {
         "line": {
          "color": "#767FFA"
         },
         "mode": "lines",
         "showlegend": false,
         "type": "scatter",
         "x": [
          44,
          44
         ],
         "y": [
          0,
          0.009644701484209995
         ]
        },
        {
         "line": {
          "color": "#767FFA"
         },
         "mode": "lines",
         "showlegend": false,
         "type": "scatter",
         "x": [
          45,
          45
         ],
         "y": [
          0,
          0.009402192626890807
         ]
        },
        {
         "line": {
          "color": "#767FFA"
         },
         "mode": "lines",
         "showlegend": false,
         "type": "scatter",
         "x": [
          46,
          46
         ],
         "y": [
          0,
          -0.09939926653360068
         ]
        },
        {
         "line": {
          "color": "#767FFA"
         },
         "mode": "lines",
         "showlegend": false,
         "type": "scatter",
         "x": [
          47,
          47
         ],
         "y": [
          0,
          -0.0771844561770845
         ]
        },
        {
         "line": {
          "color": "#767FFA"
         },
         "mode": "lines",
         "showlegend": false,
         "type": "scatter",
         "x": [
          48,
          48
         ],
         "y": [
          0,
          -0.07814436180125026
         ]
        },
        {
         "line": {
          "color": "#767FFA"
         },
         "mode": "lines",
         "showlegend": false,
         "type": "scatter",
         "x": [
          49,
          49
         ],
         "y": [
          0,
          -0.028886516571569876
         ]
        },
        {
         "line": {
          "color": "#767FFA"
         },
         "mode": "lines",
         "showlegend": false,
         "type": "scatter",
         "x": [
          50,
          50
         ],
         "y": [
          0,
          -0.05522888172260553
         ]
        },
        {
         "line": {
          "color": "#767FFA"
         },
         "mode": "lines",
         "showlegend": false,
         "type": "scatter",
         "x": [
          51,
          51
         ],
         "y": [
          0,
          0.010017388929584503
         ]
        },
        {
         "line": {
          "color": "#767FFA"
         },
         "mode": "lines",
         "showlegend": false,
         "type": "scatter",
         "x": [
          52,
          52
         ],
         "y": [
          0,
          0.014456874520311462
         ]
        },
        {
         "line": {
          "color": "#767FFA"
         },
         "mode": "lines",
         "showlegend": false,
         "type": "scatter",
         "x": [
          53,
          53
         ],
         "y": [
          0,
          -0.05144077147083405
         ]
        },
        {
         "line": {
          "color": "#767FFA"
         },
         "mode": "lines",
         "showlegend": false,
         "type": "scatter",
         "x": [
          54,
          54
         ],
         "y": [
          0,
          -0.06077752366305725
         ]
        },
        {
         "line": {
          "color": "#767FFA"
         },
         "mode": "lines",
         "showlegend": false,
         "type": "scatter",
         "x": [
          55,
          55
         ],
         "y": [
          0,
          -0.07413519950532393
         ]
        },
        {
         "line": {
          "color": "#767FFA"
         },
         "mode": "lines",
         "showlegend": false,
         "type": "scatter",
         "x": [
          56,
          56
         ],
         "y": [
          0,
          -0.09801872146274794
         ]
        },
        {
         "line": {
          "color": "#767FFA"
         },
         "mode": "lines",
         "showlegend": false,
         "type": "scatter",
         "x": [
          57,
          57
         ],
         "y": [
          0,
          -0.15351707185815933
         ]
        },
        {
         "line": {
          "color": "#767FFA"
         },
         "mode": "lines",
         "showlegend": false,
         "type": "scatter",
         "x": [
          58,
          58
         ],
         "y": [
          0,
          -0.10559713607920644
         ]
        },
        {
         "line": {
          "color": "#767FFA"
         },
         "mode": "lines",
         "showlegend": false,
         "type": "scatter",
         "x": [
          59,
          59
         ],
         "y": [
          0,
          -0.0709727296039555
         ]
        },
        {
         "line": {
          "color": "#767FFA"
         },
         "mode": "lines",
         "showlegend": false,
         "type": "scatter",
         "x": [
          60,
          60
         ],
         "y": [
          0,
          -0.10006462947453512
         ]
        },
        {
         "line": {
          "color": "#767FFA"
         },
         "mode": "lines",
         "showlegend": false,
         "type": "scatter",
         "x": [
          61,
          61
         ],
         "y": [
          0,
          -0.05646567931281609
         ]
        },
        {
         "line": {
          "color": "#767FFA"
         },
         "mode": "lines",
         "showlegend": false,
         "type": "scatter",
         "x": [
          62,
          62
         ],
         "y": [
          0,
          -0.0723298373047776
         ]
        },
        {
         "line": {
          "color": "#767FFA"
         },
         "mode": "lines",
         "showlegend": false,
         "type": "scatter",
         "x": [
          63,
          63
         ],
         "y": [
          0,
          -0.06875044900095646
         ]
        },
        {
         "line": {
          "color": "#767FFA"
         },
         "mode": "lines",
         "showlegend": false,
         "type": "scatter",
         "x": [
          64,
          64
         ],
         "y": [
          0,
          -0.09354578992175822
         ]
        },
        {
         "line": {
          "color": "#767FFA"
         },
         "mode": "lines",
         "showlegend": false,
         "type": "scatter",
         "x": [
          65,
          65
         ],
         "y": [
          0,
          -0.06170550064335839
         ]
        },
        {
         "line": {
          "color": "#767FFA"
         },
         "mode": "lines",
         "showlegend": false,
         "type": "scatter",
         "x": [
          66,
          66
         ],
         "y": [
          0,
          -0.08238523983031425
         ]
        },
        {
         "line": {
          "color": "#767FFA"
         },
         "mode": "lines",
         "showlegend": false,
         "type": "scatter",
         "x": [
          67,
          67
         ],
         "y": [
          0,
          0.011249261774932625
         ]
        },
        {
         "line": {
          "color": "#767FFA"
         },
         "mode": "lines",
         "showlegend": false,
         "type": "scatter",
         "x": [
          68,
          68
         ],
         "y": [
          0,
          -0.04818178640996018
         ]
        },
        {
         "line": {
          "color": "#767FFA"
         },
         "mode": "lines",
         "showlegend": false,
         "type": "scatter",
         "x": [
          69,
          69
         ],
         "y": [
          0,
          0.06756540488937895
         ]
        },
        {
         "line": {
          "color": "#767FFA"
         },
         "mode": "lines",
         "showlegend": false,
         "type": "scatter",
         "x": [
          70,
          70
         ],
         "y": [
          0,
          0.023799374284136043
         ]
        },
        {
         "line": {
          "color": "#767FFA"
         },
         "mode": "lines",
         "showlegend": false,
         "type": "scatter",
         "x": [
          71,
          71
         ],
         "y": [
          0,
          0.016367545296635252
         ]
        },
        {
         "line": {
          "color": "#767FFA"
         },
         "mode": "lines",
         "showlegend": false,
         "type": "scatter",
         "x": [
          72,
          72
         ],
         "y": [
          0,
          0.0015696147679027665
         ]
        },
        {
         "line": {
          "color": "#767FFA"
         },
         "mode": "lines",
         "showlegend": false,
         "type": "scatter",
         "x": [
          73,
          73
         ],
         "y": [
          0,
          0.017505840620252636
         ]
        },
        {
         "line": {
          "color": "#767FFA"
         },
         "mode": "lines",
         "showlegend": false,
         "type": "scatter",
         "x": [
          74,
          74
         ],
         "y": [
          0,
          -0.013391551335449068
         ]
        },
        {
         "line": {
          "color": "#767FFA"
         },
         "mode": "lines",
         "showlegend": false,
         "type": "scatter",
         "x": [
          75,
          75
         ],
         "y": [
          0,
          0.03768430593010243
         ]
        },
        {
         "line": {
          "color": "#767FFA"
         },
         "mode": "lines",
         "showlegend": false,
         "type": "scatter",
         "x": [
          76,
          76
         ],
         "y": [
          0,
          0.07945773497573831
         ]
        },
        {
         "line": {
          "color": "#767FFA"
         },
         "mode": "lines",
         "showlegend": false,
         "type": "scatter",
         "x": [
          77,
          77
         ],
         "y": [
          0,
          0.11477792401386445
         ]
        },
        {
         "line": {
          "color": "#767FFA"
         },
         "mode": "lines",
         "showlegend": false,
         "type": "scatter",
         "x": [
          78,
          78
         ],
         "y": [
          0,
          0.03157435200608923
         ]
        },
        {
         "line": {
          "color": "#767FFA"
         },
         "mode": "lines",
         "showlegend": false,
         "type": "scatter",
         "x": [
          79,
          79
         ],
         "y": [
          0,
          0.1129797239763445
         ]
        },
        {
         "line": {
          "color": "#767FFA"
         },
         "mode": "lines",
         "showlegend": false,
         "type": "scatter",
         "x": [
          80,
          80
         ],
         "y": [
          0,
          0.10930076359697377
         ]
        },
        {
         "line": {
          "color": "#767FFA"
         },
         "mode": "lines",
         "showlegend": false,
         "type": "scatter",
         "x": [
          81,
          81
         ],
         "y": [
          0,
          0.06339464143936116
         ]
        },
        {
         "line": {
          "color": "#767FFA"
         },
         "mode": "lines",
         "showlegend": false,
         "type": "scatter",
         "x": [
          82,
          82
         ],
         "y": [
          0,
          0.006018704732608272
         ]
        },
        {
         "line": {
          "color": "#767FFA"
         },
         "mode": "lines",
         "showlegend": false,
         "type": "scatter",
         "x": [
          83,
          83
         ],
         "y": [
          0,
          0.07112118566931637
         ]
        },
        {
         "line": {
          "color": "#767FFA"
         },
         "mode": "lines",
         "showlegend": false,
         "type": "scatter",
         "x": [
          84,
          84
         ],
         "y": [
          0,
          0.0011695782480098517
         ]
        },
        {
         "line": {
          "color": "#767FFA"
         },
         "mode": "lines",
         "showlegend": false,
         "type": "scatter",
         "x": [
          85,
          85
         ],
         "y": [
          0,
          0.0269887216043344
         ]
        },
        {
         "line": {
          "color": "#767FFA"
         },
         "mode": "lines",
         "showlegend": false,
         "type": "scatter",
         "x": [
          86,
          86
         ],
         "y": [
          0,
          0.032085653751975224
         ]
        },
        {
         "line": {
          "color": "#767FFA"
         },
         "mode": "lines",
         "showlegend": false,
         "type": "scatter",
         "x": [
          87,
          87
         ],
         "y": [
          0,
          0.07767595690410486
         ]
        },
        {
         "line": {
          "color": "#767FFA"
         },
         "mode": "lines",
         "showlegend": false,
         "type": "scatter",
         "x": [
          88,
          88
         ],
         "y": [
          0,
          0.02618079303831708
         ]
        },
        {
         "line": {
          "color": "#767FFA"
         },
         "mode": "lines",
         "showlegend": false,
         "type": "scatter",
         "x": [
          89,
          89
         ],
         "y": [
          0,
          -0.0020495564701688935
         ]
        },
        {
         "line": {
          "color": "#767FFA"
         },
         "mode": "lines",
         "showlegend": false,
         "type": "scatter",
         "x": [
          90,
          90
         ],
         "y": [
          0,
          0.014330862903250747
         ]
        },
        {
         "line": {
          "color": "#767FFA"
         },
         "mode": "lines",
         "showlegend": false,
         "type": "scatter",
         "x": [
          91,
          91
         ],
         "y": [
          0,
          0.010219701390482946
         ]
        },
        {
         "line": {
          "color": "#767FFA"
         },
         "mode": "lines",
         "showlegend": false,
         "type": "scatter",
         "x": [
          92,
          92
         ],
         "y": [
          0,
          -0.049014779796436043
         ]
        },
        {
         "line": {
          "color": "#767FFA"
         },
         "mode": "lines",
         "showlegend": false,
         "type": "scatter",
         "x": [
          93,
          93
         ],
         "y": [
          0,
          0.008382505922141908
         ]
        },
        {
         "line": {
          "color": "#767FFA"
         },
         "mode": "lines",
         "showlegend": false,
         "type": "scatter",
         "x": [
          94,
          94
         ],
         "y": [
          0,
          0.013100900421334404
         ]
        },
        {
         "line": {
          "color": "#767FFA"
         },
         "mode": "lines",
         "showlegend": false,
         "type": "scatter",
         "x": [
          95,
          95
         ],
         "y": [
          0,
          -0.04693048585109968
         ]
        },
        {
         "line": {
          "color": "#767FFA"
         },
         "mode": "lines",
         "showlegend": false,
         "type": "scatter",
         "x": [
          96,
          96
         ],
         "y": [
          0,
          -0.021398257851000226
         ]
        },
        {
         "line": {
          "color": "#767FFA"
         },
         "mode": "lines",
         "showlegend": false,
         "type": "scatter",
         "x": [
          97,
          97
         ],
         "y": [
          0,
          0.015419231036497137
         ]
        },
        {
         "line": {
          "color": "#767FFA"
         },
         "mode": "lines",
         "showlegend": false,
         "type": "scatter",
         "x": [
          98,
          98
         ],
         "y": [
          0,
          -0.08870979560745246
         ]
        },
        {
         "line": {
          "color": "#767FFA"
         },
         "mode": "lines",
         "showlegend": false,
         "type": "scatter",
         "x": [
          99,
          99
         ],
         "y": [
          0,
          -0.12096532092866394
         ]
        },
        {
         "line": {
          "color": "#767FFA"
         },
         "mode": "lines",
         "showlegend": false,
         "type": "scatter",
         "x": [
          100,
          100
         ],
         "y": [
          0,
          -0.045853422115062645
         ]
        },
        {
         "line": {
          "color": "#767FFA",
          "width": 2
         },
         "marker": {
          "size": 8,
          "symbol": "circle"
         },
         "mode": "markers",
         "showlegend": false,
         "type": "scatter",
         "x": [
          0,
          1,
          2,
          3,
          4,
          5,
          6,
          7,
          8,
          9,
          10,
          11,
          12,
          13,
          14,
          15,
          16,
          17,
          18,
          19,
          20,
          21,
          22,
          23,
          24,
          25,
          26,
          27,
          28,
          29,
          30,
          31,
          32,
          33,
          34,
          35,
          36,
          37,
          38,
          39,
          40,
          41,
          42,
          43,
          44,
          45,
          46,
          47,
          48,
          49,
          50,
          51,
          52,
          53,
          54,
          55,
          56,
          57,
          58,
          59,
          60,
          61,
          62,
          63,
          64,
          65,
          66,
          67,
          68,
          69,
          70,
          71,
          72,
          73,
          74,
          75,
          76,
          77,
          78,
          79,
          80,
          81,
          82,
          83,
          84,
          85,
          86,
          87,
          88,
          89,
          90,
          91,
          92,
          93,
          94,
          95,
          96,
          97,
          98,
          99,
          100
         ],
         "y": [
          1,
          0.465178323578241,
          0.39298096653890163,
          0.4163288944612294,
          0.39006136516633827,
          0.2600192802038133,
          0.3222667632680182,
          0.3584420103140289,
          0.2484342713613896,
          0.20092978219331334,
          0.2347257726985211,
          0.17837705599453907,
          0.08040890522215816,
          0.0391535949536116,
          0.1172438109353808,
          -0.04388664878616131,
          -0.0595388583197935,
          -0.0396240167155747,
          -0.03294887840280157,
          -0.1950859515829003,
          -0.1786560382222667,
          -0.16025717958876173,
          -0.2695931955997927,
          -0.2438333502859817,
          -0.16009460561632308,
          -0.1576521367211907,
          -0.14588346328511126,
          -0.1457833814817596,
          -0.15917013554200887,
          -0.18598029334455488,
          -0.26076568367409675,
          -0.2075722617272272,
          -0.1724979193189938,
          -0.18069733590577328,
          -0.17950590087435936,
          -0.09647438359871062,
          -0.10214326017779525,
          -0.08440418475366987,
          -0.016893194698157022,
          -0.09882226408644283,
          -0.06223638800119577,
          -0.029201513200809704,
          0.022083746909587487,
          0.034775849104035035,
          0.009644701484209995,
          0.009402192626890807,
          -0.09939926653360068,
          -0.0771844561770845,
          -0.07814436180125026,
          -0.028886516571569876,
          -0.05522888172260553,
          0.010017388929584503,
          0.014456874520311462,
          -0.05144077147083405,
          -0.06077752366305725,
          -0.07413519950532393,
          -0.09801872146274794,
          -0.15351707185815933,
          -0.10559713607920644,
          -0.0709727296039555,
          -0.10006462947453512,
          -0.05646567931281609,
          -0.0723298373047776,
          -0.06875044900095646,
          -0.09354578992175822,
          -0.06170550064335839,
          -0.08238523983031425,
          0.011249261774932625,
          -0.04818178640996018,
          0.06756540488937895,
          0.023799374284136043,
          0.016367545296635252,
          0.0015696147679027665,
          0.017505840620252636,
          -0.013391551335449068,
          0.03768430593010243,
          0.07945773497573831,
          0.11477792401386445,
          0.03157435200608923,
          0.1129797239763445,
          0.10930076359697377,
          0.06339464143936116,
          0.006018704732608272,
          0.07112118566931637,
          0.0011695782480098517,
          0.0269887216043344,
          0.032085653751975224,
          0.07767595690410486,
          0.02618079303831708,
          -0.0020495564701688935,
          0.014330862903250747,
          0.010219701390482946,
          -0.049014779796436043,
          0.008382505922141908,
          0.013100900421334404,
          -0.04693048585109968,
          -0.021398257851000226,
          0.015419231036497137,
          -0.08870979560745246,
          -0.12096532092866394,
          -0.045853422115062645
         ]
        }
       ],
       "layout": {
        "height": 500,
        "showlegend": false,
        "template": {
         "data": {
          "bar": [
           {
            "error_x": {
             "color": "#2a3f5f"
            },
            "error_y": {
             "color": "#2a3f5f"
            },
            "marker": {
             "line": {
              "color": "#E5ECF6",
              "width": 0.5
             },
             "pattern": {
              "fillmode": "overlay",
              "size": 10,
              "solidity": 0.2
             }
            },
            "type": "bar"
           }
          ],
          "barpolar": [
           {
            "marker": {
             "line": {
              "color": "#E5ECF6",
              "width": 0.5
             },
             "pattern": {
              "fillmode": "overlay",
              "size": 10,
              "solidity": 0.2
             }
            },
            "type": "barpolar"
           }
          ],
          "carpet": [
           {
            "aaxis": {
             "endlinecolor": "#2a3f5f",
             "gridcolor": "white",
             "linecolor": "white",
             "minorgridcolor": "white",
             "startlinecolor": "#2a3f5f"
            },
            "baxis": {
             "endlinecolor": "#2a3f5f",
             "gridcolor": "white",
             "linecolor": "white",
             "minorgridcolor": "white",
             "startlinecolor": "#2a3f5f"
            },
            "type": "carpet"
           }
          ],
          "choropleth": [
           {
            "colorbar": {
             "outlinewidth": 0,
             "ticks": ""
            },
            "type": "choropleth"
           }
          ],
          "contour": [
           {
            "colorbar": {
             "outlinewidth": 0,
             "ticks": ""
            },
            "colorscale": [
             [
              0,
              "#0d0887"
             ],
             [
              0.1111111111111111,
              "#46039f"
             ],
             [
              0.2222222222222222,
              "#7201a8"
             ],
             [
              0.3333333333333333,
              "#9c179e"
             ],
             [
              0.4444444444444444,
              "#bd3786"
             ],
             [
              0.5555555555555556,
              "#d8576b"
             ],
             [
              0.6666666666666666,
              "#ed7953"
             ],
             [
              0.7777777777777778,
              "#fb9f3a"
             ],
             [
              0.8888888888888888,
              "#fdca26"
             ],
             [
              1,
              "#f0f921"
             ]
            ],
            "type": "contour"
           }
          ],
          "contourcarpet": [
           {
            "colorbar": {
             "outlinewidth": 0,
             "ticks": ""
            },
            "type": "contourcarpet"
           }
          ],
          "heatmap": [
           {
            "colorbar": {
             "outlinewidth": 0,
             "ticks": ""
            },
            "colorscale": [
             [
              0,
              "#0d0887"
             ],
             [
              0.1111111111111111,
              "#46039f"
             ],
             [
              0.2222222222222222,
              "#7201a8"
             ],
             [
              0.3333333333333333,
              "#9c179e"
             ],
             [
              0.4444444444444444,
              "#bd3786"
             ],
             [
              0.5555555555555556,
              "#d8576b"
             ],
             [
              0.6666666666666666,
              "#ed7953"
             ],
             [
              0.7777777777777778,
              "#fb9f3a"
             ],
             [
              0.8888888888888888,
              "#fdca26"
             ],
             [
              1,
              "#f0f921"
             ]
            ],
            "type": "heatmap"
           }
          ],
          "heatmapgl": [
           {
            "colorbar": {
             "outlinewidth": 0,
             "ticks": ""
            },
            "colorscale": [
             [
              0,
              "#0d0887"
             ],
             [
              0.1111111111111111,
              "#46039f"
             ],
             [
              0.2222222222222222,
              "#7201a8"
             ],
             [
              0.3333333333333333,
              "#9c179e"
             ],
             [
              0.4444444444444444,
              "#bd3786"
             ],
             [
              0.5555555555555556,
              "#d8576b"
             ],
             [
              0.6666666666666666,
              "#ed7953"
             ],
             [
              0.7777777777777778,
              "#fb9f3a"
             ],
             [
              0.8888888888888888,
              "#fdca26"
             ],
             [
              1,
              "#f0f921"
             ]
            ],
            "type": "heatmapgl"
           }
          ],
          "histogram": [
           {
            "marker": {
             "pattern": {
              "fillmode": "overlay",
              "size": 10,
              "solidity": 0.2
             }
            },
            "type": "histogram"
           }
          ],
          "histogram2d": [
           {
            "colorbar": {
             "outlinewidth": 0,
             "ticks": ""
            },
            "colorscale": [
             [
              0,
              "#0d0887"
             ],
             [
              0.1111111111111111,
              "#46039f"
             ],
             [
              0.2222222222222222,
              "#7201a8"
             ],
             [
              0.3333333333333333,
              "#9c179e"
             ],
             [
              0.4444444444444444,
              "#bd3786"
             ],
             [
              0.5555555555555556,
              "#d8576b"
             ],
             [
              0.6666666666666666,
              "#ed7953"
             ],
             [
              0.7777777777777778,
              "#fb9f3a"
             ],
             [
              0.8888888888888888,
              "#fdca26"
             ],
             [
              1,
              "#f0f921"
             ]
            ],
            "type": "histogram2d"
           }
          ],
          "histogram2dcontour": [
           {
            "colorbar": {
             "outlinewidth": 0,
             "ticks": ""
            },
            "colorscale": [
             [
              0,
              "#0d0887"
             ],
             [
              0.1111111111111111,
              "#46039f"
             ],
             [
              0.2222222222222222,
              "#7201a8"
             ],
             [
              0.3333333333333333,
              "#9c179e"
             ],
             [
              0.4444444444444444,
              "#bd3786"
             ],
             [
              0.5555555555555556,
              "#d8576b"
             ],
             [
              0.6666666666666666,
              "#ed7953"
             ],
             [
              0.7777777777777778,
              "#fb9f3a"
             ],
             [
              0.8888888888888888,
              "#fdca26"
             ],
             [
              1,
              "#f0f921"
             ]
            ],
            "type": "histogram2dcontour"
           }
          ],
          "mesh3d": [
           {
            "colorbar": {
             "outlinewidth": 0,
             "ticks": ""
            },
            "type": "mesh3d"
           }
          ],
          "parcoords": [
           {
            "line": {
             "colorbar": {
              "outlinewidth": 0,
              "ticks": ""
             }
            },
            "type": "parcoords"
           }
          ],
          "pie": [
           {
            "automargin": true,
            "type": "pie"
           }
          ],
          "scatter": [
           {
            "fillpattern": {
             "fillmode": "overlay",
             "size": 10,
             "solidity": 0.2
            },
            "type": "scatter"
           }
          ],
          "scatter3d": [
           {
            "line": {
             "colorbar": {
              "outlinewidth": 0,
              "ticks": ""
             }
            },
            "marker": {
             "colorbar": {
              "outlinewidth": 0,
              "ticks": ""
             }
            },
            "type": "scatter3d"
           }
          ],
          "scattercarpet": [
           {
            "marker": {
             "colorbar": {
              "outlinewidth": 0,
              "ticks": ""
             }
            },
            "type": "scattercarpet"
           }
          ],
          "scattergeo": [
           {
            "marker": {
             "colorbar": {
              "outlinewidth": 0,
              "ticks": ""
             }
            },
            "type": "scattergeo"
           }
          ],
          "scattergl": [
           {
            "marker": {
             "colorbar": {
              "outlinewidth": 0,
              "ticks": ""
             }
            },
            "type": "scattergl"
           }
          ],
          "scattermapbox": [
           {
            "marker": {
             "colorbar": {
              "outlinewidth": 0,
              "ticks": ""
             }
            },
            "type": "scattermapbox"
           }
          ],
          "scatterpolar": [
           {
            "marker": {
             "colorbar": {
              "outlinewidth": 0,
              "ticks": ""
             }
            },
            "type": "scatterpolar"
           }
          ],
          "scatterpolargl": [
           {
            "marker": {
             "colorbar": {
              "outlinewidth": 0,
              "ticks": ""
             }
            },
            "type": "scatterpolargl"
           }
          ],
          "scatterternary": [
           {
            "marker": {
             "colorbar": {
              "outlinewidth": 0,
              "ticks": ""
             }
            },
            "type": "scatterternary"
           }
          ],
          "surface": [
           {
            "colorbar": {
             "outlinewidth": 0,
             "ticks": ""
            },
            "colorscale": [
             [
              0,
              "#0d0887"
             ],
             [
              0.1111111111111111,
              "#46039f"
             ],
             [
              0.2222222222222222,
              "#7201a8"
             ],
             [
              0.3333333333333333,
              "#9c179e"
             ],
             [
              0.4444444444444444,
              "#bd3786"
             ],
             [
              0.5555555555555556,
              "#d8576b"
             ],
             [
              0.6666666666666666,
              "#ed7953"
             ],
             [
              0.7777777777777778,
              "#fb9f3a"
             ],
             [
              0.8888888888888888,
              "#fdca26"
             ],
             [
              1,
              "#f0f921"
             ]
            ],
            "type": "surface"
           }
          ],
          "table": [
           {
            "cells": {
             "fill": {
              "color": "#EBF0F8"
             },
             "line": {
              "color": "white"
             }
            },
            "header": {
             "fill": {
              "color": "#C8D4E3"
             },
             "line": {
              "color": "white"
             }
            },
            "type": "table"
           }
          ]
         },
         "layout": {
          "annotationdefaults": {
           "arrowcolor": "#2a3f5f",
           "arrowhead": 0,
           "arrowwidth": 1
          },
          "autotypenumbers": "strict",
          "coloraxis": {
           "colorbar": {
            "outlinewidth": 0,
            "ticks": ""
           }
          },
          "colorscale": {
           "diverging": [
            [
             0,
             "#8e0152"
            ],
            [
             0.1,
             "#c51b7d"
            ],
            [
             0.2,
             "#de77ae"
            ],
            [
             0.3,
             "#f1b6da"
            ],
            [
             0.4,
             "#fde0ef"
            ],
            [
             0.5,
             "#f7f7f7"
            ],
            [
             0.6,
             "#e6f5d0"
            ],
            [
             0.7,
             "#b8e186"
            ],
            [
             0.8,
             "#7fbc41"
            ],
            [
             0.9,
             "#4d9221"
            ],
            [
             1,
             "#276419"
            ]
           ],
           "sequential": [
            [
             0,
             "#0d0887"
            ],
            [
             0.1111111111111111,
             "#46039f"
            ],
            [
             0.2222222222222222,
             "#7201a8"
            ],
            [
             0.3333333333333333,
             "#9c179e"
            ],
            [
             0.4444444444444444,
             "#bd3786"
            ],
            [
             0.5555555555555556,
             "#d8576b"
            ],
            [
             0.6666666666666666,
             "#ed7953"
            ],
            [
             0.7777777777777778,
             "#fb9f3a"
            ],
            [
             0.8888888888888888,
             "#fdca26"
            ],
            [
             1,
             "#f0f921"
            ]
           ],
           "sequentialminus": [
            [
             0,
             "#0d0887"
            ],
            [
             0.1111111111111111,
             "#46039f"
            ],
            [
             0.2222222222222222,
             "#7201a8"
            ],
            [
             0.3333333333333333,
             "#9c179e"
            ],
            [
             0.4444444444444444,
             "#bd3786"
            ],
            [
             0.5555555555555556,
             "#d8576b"
            ],
            [
             0.6666666666666666,
             "#ed7953"
            ],
            [
             0.7777777777777778,
             "#fb9f3a"
            ],
            [
             0.8888888888888888,
             "#fdca26"
            ],
            [
             1,
             "#f0f921"
            ]
           ]
          },
          "colorway": [
           "#636efa",
           "#EF553B",
           "#00cc96",
           "#ab63fa",
           "#FFA15A",
           "#19d3f3",
           "#FF6692",
           "#B6E880",
           "#FF97FF",
           "#FECB52"
          ],
          "font": {
           "color": "#2a3f5f"
          },
          "geo": {
           "bgcolor": "white",
           "lakecolor": "white",
           "landcolor": "#E5ECF6",
           "showlakes": true,
           "showland": true,
           "subunitcolor": "white"
          },
          "hoverlabel": {
           "align": "left"
          },
          "hovermode": "closest",
          "mapbox": {
           "style": "light"
          },
          "paper_bgcolor": "white",
          "plot_bgcolor": "#E5ECF6",
          "polar": {
           "angularaxis": {
            "gridcolor": "white",
            "linecolor": "white",
            "ticks": ""
           },
           "bgcolor": "#E5ECF6",
           "radialaxis": {
            "gridcolor": "white",
            "linecolor": "white",
            "ticks": ""
           }
          },
          "scene": {
           "xaxis": {
            "backgroundcolor": "#E5ECF6",
            "gridcolor": "white",
            "gridwidth": 2,
            "linecolor": "white",
            "showbackground": true,
            "ticks": "",
            "zerolinecolor": "white"
           },
           "yaxis": {
            "backgroundcolor": "#E5ECF6",
            "gridcolor": "white",
            "gridwidth": 2,
            "linecolor": "white",
            "showbackground": true,
            "ticks": "",
            "zerolinecolor": "white"
           },
           "zaxis": {
            "backgroundcolor": "#E5ECF6",
            "gridcolor": "white",
            "gridwidth": 2,
            "linecolor": "white",
            "showbackground": true,
            "ticks": "",
            "zerolinecolor": "white"
           }
          },
          "shapedefaults": {
           "line": {
            "color": "#2a3f5f"
           }
          },
          "ternary": {
           "aaxis": {
            "gridcolor": "white",
            "linecolor": "white",
            "ticks": ""
           },
           "baxis": {
            "gridcolor": "white",
            "linecolor": "white",
            "ticks": ""
           },
           "bgcolor": "#E5ECF6",
           "caxis": {
            "gridcolor": "white",
            "linecolor": "white",
            "ticks": ""
           }
          },
          "title": {
           "x": 0.05
          },
          "xaxis": {
           "automargin": true,
           "gridcolor": "white",
           "linecolor": "white",
           "ticks": "",
           "title": {
            "standoff": 15
           },
           "zerolinecolor": "white",
           "zerolinewidth": 2
          },
          "yaxis": {
           "automargin": true,
           "gridcolor": "white",
           "linecolor": "white",
           "ticks": "",
           "title": {
            "standoff": 15
           },
           "zerolinecolor": "white",
           "zerolinewidth": 2
          }
         }
        },
        "title": {
         "font": {
          "size": 18
         },
         "text": "Funkcja autokorelacji dla danych",
         "x": 0.5,
         "xanchor": "center"
        },
        "width": 800,
        "xaxis": {
         "title": {
          "text": "h"
         }
        },
        "yaxis": {
         "title": {
          "text": "ACF"
         }
        }
       }
      }
     },
     "metadata": {},
     "output_type": "display_data"
    }
   ],
   "source": [
    "fig = go.Figure()\n",
    "\n",
    "[fig.add_scatter(\n",
    "    x=(x,x), \n",
    "    y=(0,acf_boars[x]), \n",
    "    mode='lines', \n",
    "    line_color='#767FFA'\n",
    "    ) for x in range(len(acf_boars))\n",
    "]\n",
    "\n",
    "fig.add_trace(\n",
    "    go.Scatter(\n",
    "        x=np.arange(0, h + 1),\n",
    "        y=acf_boars,\n",
    "        mode='markers',\n",
    "        line=dict(width=2, color = '#767FFA'),\n",
    "        marker=dict(\n",
    "            symbol='circle',\n",
    "            size=8,\n",
    "        )\n",
    "    )\n",
    ")\n",
    "\n",
    "fig.update_layout(\n",
    "    title={\n",
    "        'text': \"Funkcja autokorelacji dla danych\",\n",
    "        'x': 0.5,  \n",
    "        'xanchor': 'center'\n",
    "    },\n",
    "    xaxis_title=\"h\",\n",
    "    yaxis_title=\"ACF\",\n",
    "    title_font_size=18,\n",
    "    width=800,\n",
    "    height=500,\n",
    "    showlegend=False\n",
    ")\n",
    "\n",
    "fig.update_traces(showlegend=False)\n",
    "fig.show()\n"
   ]
  },
  {
   "cell_type": "code",
   "execution_count": 429,
   "metadata": {},
   "outputs": [],
   "source": [
    "from scipy.stats import spearmanr\n",
    "\n",
    "def acf_spearman(data, lag):\n",
    "    n = len(data)\n",
    "    acf_values = []\n",
    "\n",
    "    for i in range(lag + 1):\n",
    "        x = data[:n - i]\n",
    "        y = data[i:]\n",
    "        rho, _ = spearmanr(x, y)\n",
    "        acf_values.append(rho)\n",
    "\n",
    "    return acf_values\n",
    "\n",
    "resist_acf = np.array(2)*np.sin(acf_spearman(new_df[\"zróżnicowane dane\"], h)*np.array(np.pi/6))"
   ]
  },
  {
   "cell_type": "code",
   "execution_count": 430,
   "metadata": {},
   "outputs": [
    {
     "data": {
      "application/vnd.plotly.v1+json": {
       "config": {
        "plotlyServerURL": "https://plot.ly"
       },
       "data": [
        {
         "line": {
          "color": "#767FFA"
         },
         "mode": "lines",
         "type": "scatter",
         "x": [
          0,
          0
         ],
         "y": [
          0,
          0.9999999999999997
         ]
        },
        {
         "line": {
          "color": "#767FFA"
         },
         "mode": "lines",
         "type": "scatter",
         "x": [
          1,
          1
         ],
         "y": [
          0,
          0.5247179064655378
         ]
        },
        {
         "line": {
          "color": "#767FFA"
         },
         "mode": "lines",
         "type": "scatter",
         "x": [
          2,
          2
         ],
         "y": [
          0,
          0.454131268346592
         ]
        },
        {
         "line": {
          "color": "#767FFA"
         },
         "mode": "lines",
         "type": "scatter",
         "x": [
          3,
          3
         ],
         "y": [
          0,
          0.5064790434853578
         ]
        },
        {
         "line": {
          "color": "#767FFA"
         },
         "mode": "lines",
         "type": "scatter",
         "x": [
          4,
          4
         ],
         "y": [
          0,
          0.4695761853741129
         ]
        },
        {
         "line": {
          "color": "#767FFA"
         },
         "mode": "lines",
         "type": "scatter",
         "x": [
          5,
          5
         ],
         "y": [
          0,
          0.339128879706212
         ]
        },
        {
         "line": {
          "color": "#767FFA"
         },
         "mode": "lines",
         "type": "scatter",
         "x": [
          6,
          6
         ],
         "y": [
          0,
          0.42199659281622315
         ]
        },
        {
         "line": {
          "color": "#767FFA"
         },
         "mode": "lines",
         "type": "scatter",
         "x": [
          7,
          7
         ],
         "y": [
          0,
          0.4387998182448002
         ]
        },
        {
         "line": {
          "color": "#767FFA"
         },
         "mode": "lines",
         "type": "scatter",
         "x": [
          8,
          8
         ],
         "y": [
          0,
          0.3199115637984771
         ]
        },
        {
         "line": {
          "color": "#767FFA"
         },
         "mode": "lines",
         "type": "scatter",
         "x": [
          9,
          9
         ],
         "y": [
          0,
          0.2721112568299782
         ]
        },
        {
         "line": {
          "color": "#767FFA"
         },
         "mode": "lines",
         "type": "scatter",
         "x": [
          10,
          10
         ],
         "y": [
          0,
          0.2747275355389905
         ]
        },
        {
         "line": {
          "color": "#767FFA"
         },
         "mode": "lines",
         "type": "scatter",
         "x": [
          11,
          11
         ],
         "y": [
          0,
          0.20612139055918435
         ]
        },
        {
         "line": {
          "color": "#767FFA"
         },
         "mode": "lines",
         "type": "scatter",
         "x": [
          12,
          12
         ],
         "y": [
          0,
          0.11083283733386544
         ]
        },
        {
         "line": {
          "color": "#767FFA"
         },
         "mode": "lines",
         "type": "scatter",
         "x": [
          13,
          13
         ],
         "y": [
          0,
          0.06714980627218203
         ]
        },
        {
         "line": {
          "color": "#767FFA"
         },
         "mode": "lines",
         "type": "scatter",
         "x": [
          14,
          14
         ],
         "y": [
          0,
          0.09896023330532075
         ]
        },
        {
         "line": {
          "color": "#767FFA"
         },
         "mode": "lines",
         "type": "scatter",
         "x": [
          15,
          15
         ],
         "y": [
          0,
          -0.036835205961377106
         ]
        },
        {
         "line": {
          "color": "#767FFA"
         },
         "mode": "lines",
         "type": "scatter",
         "x": [
          16,
          16
         ],
         "y": [
          0,
          -0.07577321585223787
         ]
        },
        {
         "line": {
          "color": "#767FFA"
         },
         "mode": "lines",
         "type": "scatter",
         "x": [
          17,
          17
         ],
         "y": [
          0,
          -0.07405758757476094
         ]
        },
        {
         "line": {
          "color": "#767FFA"
         },
         "mode": "lines",
         "type": "scatter",
         "x": [
          18,
          18
         ],
         "y": [
          0,
          -0.04629128916581044
         ]
        },
        {
         "line": {
          "color": "#767FFA"
         },
         "mode": "lines",
         "type": "scatter",
         "x": [
          19,
          19
         ],
         "y": [
          0,
          -0.23227751995061227
         ]
        },
        {
         "line": {
          "color": "#767FFA"
         },
         "mode": "lines",
         "type": "scatter",
         "x": [
          20,
          20
         ],
         "y": [
          0,
          -0.19704416777127343
         ]
        },
        {
         "line": {
          "color": "#767FFA"
         },
         "mode": "lines",
         "type": "scatter",
         "x": [
          21,
          21
         ],
         "y": [
          0,
          -0.17854459248226742
         ]
        },
        {
         "line": {
          "color": "#767FFA"
         },
         "mode": "lines",
         "type": "scatter",
         "x": [
          22,
          22
         ],
         "y": [
          0,
          -0.34511009210518134
         ]
        },
        {
         "line": {
          "color": "#767FFA"
         },
         "mode": "lines",
         "type": "scatter",
         "x": [
          23,
          23
         ],
         "y": [
          0,
          -0.3460477823538672
         ]
        },
        {
         "line": {
          "color": "#767FFA"
         },
         "mode": "lines",
         "type": "scatter",
         "x": [
          24,
          24
         ],
         "y": [
          0,
          -0.20167817611329591
         ]
        },
        {
         "line": {
          "color": "#767FFA"
         },
         "mode": "lines",
         "type": "scatter",
         "x": [
          25,
          25
         ],
         "y": [
          0,
          -0.22822718015629617
         ]
        },
        {
         "line": {
          "color": "#767FFA"
         },
         "mode": "lines",
         "type": "scatter",
         "x": [
          26,
          26
         ],
         "y": [
          0,
          -0.2849616658986065
         ]
        },
        {
         "line": {
          "color": "#767FFA"
         },
         "mode": "lines",
         "type": "scatter",
         "x": [
          27,
          27
         ],
         "y": [
          0,
          -0.1997567500406594
         ]
        },
        {
         "line": {
          "color": "#767FFA"
         },
         "mode": "lines",
         "type": "scatter",
         "x": [
          28,
          28
         ],
         "y": [
          0,
          -0.27643804285871226
         ]
        },
        {
         "line": {
          "color": "#767FFA"
         },
         "mode": "lines",
         "type": "scatter",
         "x": [
          29,
          29
         ],
         "y": [
          0,
          -0.2775272075754734
         ]
        },
        {
         "line": {
          "color": "#767FFA"
         },
         "mode": "lines",
         "type": "scatter",
         "x": [
          30,
          30
         ],
         "y": [
          0,
          -0.365297991468133
         ]
        },
        {
         "line": {
          "color": "#767FFA"
         },
         "mode": "lines",
         "type": "scatter",
         "x": [
          31,
          31
         ],
         "y": [
          0,
          -0.25899490507490613
         ]
        },
        {
         "line": {
          "color": "#767FFA"
         },
         "mode": "lines",
         "type": "scatter",
         "x": [
          32,
          32
         ],
         "y": [
          0,
          -0.2453294531457202
         ]
        },
        {
         "line": {
          "color": "#767FFA"
         },
         "mode": "lines",
         "type": "scatter",
         "x": [
          33,
          33
         ],
         "y": [
          0,
          -0.2532265225850744
         ]
        },
        {
         "line": {
          "color": "#767FFA"
         },
         "mode": "lines",
         "type": "scatter",
         "x": [
          34,
          34
         ],
         "y": [
          0,
          -0.21214986514233358
         ]
        },
        {
         "line": {
          "color": "#767FFA"
         },
         "mode": "lines",
         "type": "scatter",
         "x": [
          35,
          35
         ],
         "y": [
          0,
          -0.18576159734960263
         ]
        },
        {
         "line": {
          "color": "#767FFA"
         },
         "mode": "lines",
         "type": "scatter",
         "x": [
          36,
          36
         ],
         "y": [
          0,
          -0.15466687657825945
         ]
        },
        {
         "line": {
          "color": "#767FFA"
         },
         "mode": "lines",
         "type": "scatter",
         "x": [
          37,
          37
         ],
         "y": [
          0,
          -0.13871939585345053
         ]
        },
        {
         "line": {
          "color": "#767FFA"
         },
         "mode": "lines",
         "type": "scatter",
         "x": [
          38,
          38
         ],
         "y": [
          0,
          -0.05897540583486447
         ]
        },
        {
         "line": {
          "color": "#767FFA"
         },
         "mode": "lines",
         "type": "scatter",
         "x": [
          39,
          39
         ],
         "y": [
          0,
          -0.1396976766212818
         ]
        },
        {
         "line": {
          "color": "#767FFA"
         },
         "mode": "lines",
         "type": "scatter",
         "x": [
          40,
          40
         ],
         "y": [
          0,
          -0.1191054219560653
         ]
        },
        {
         "line": {
          "color": "#767FFA"
         },
         "mode": "lines",
         "type": "scatter",
         "x": [
          41,
          41
         ],
         "y": [
          0,
          -0.06741508195190556
         ]
        },
        {
         "line": {
          "color": "#767FFA"
         },
         "mode": "lines",
         "type": "scatter",
         "x": [
          42,
          42
         ],
         "y": [
          0,
          -0.026206227095216295
         ]
        },
        {
         "line": {
          "color": "#767FFA"
         },
         "mode": "lines",
         "type": "scatter",
         "x": [
          43,
          43
         ],
         "y": [
          0,
          0.009406557202641936
         ]
        },
        {
         "line": {
          "color": "#767FFA"
         },
         "mode": "lines",
         "type": "scatter",
         "x": [
          44,
          44
         ],
         "y": [
          0,
          -0.03315836496543817
         ]
        },
        {
         "line": {
          "color": "#767FFA"
         },
         "mode": "lines",
         "type": "scatter",
         "x": [
          45,
          45
         ],
         "y": [
          0,
          0.017835938083150073
         ]
        },
        {
         "line": {
          "color": "#767FFA"
         },
         "mode": "lines",
         "type": "scatter",
         "x": [
          46,
          46
         ],
         "y": [
          0,
          -0.1276409377212777
         ]
        },
        {
         "line": {
          "color": "#767FFA"
         },
         "mode": "lines",
         "type": "scatter",
         "x": [
          47,
          47
         ],
         "y": [
          0,
          -0.12934642348862482
         ]
        },
        {
         "line": {
          "color": "#767FFA"
         },
         "mode": "lines",
         "type": "scatter",
         "x": [
          48,
          48
         ],
         "y": [
          0,
          -0.11428772675827799
         ]
        },
        {
         "line": {
          "color": "#767FFA"
         },
         "mode": "lines",
         "type": "scatter",
         "x": [
          49,
          49
         ],
         "y": [
          0,
          -0.08249835564882871
         ]
        },
        {
         "line": {
          "color": "#767FFA"
         },
         "mode": "lines",
         "type": "scatter",
         "x": [
          50,
          50
         ],
         "y": [
          0,
          -0.12932356350483343
         ]
        },
        {
         "line": {
          "color": "#767FFA"
         },
         "mode": "lines",
         "type": "scatter",
         "x": [
          51,
          51
         ],
         "y": [
          0,
          -0.009010688648582477
         ]
        },
        {
         "line": {
          "color": "#767FFA"
         },
         "mode": "lines",
         "type": "scatter",
         "x": [
          52,
          52
         ],
         "y": [
          0,
          0.038944840928816005
         ]
        },
        {
         "line": {
          "color": "#767FFA"
         },
         "mode": "lines",
         "type": "scatter",
         "x": [
          53,
          53
         ],
         "y": [
          0,
          -0.09365364604039329
         ]
        },
        {
         "line": {
          "color": "#767FFA"
         },
         "mode": "lines",
         "type": "scatter",
         "x": [
          54,
          54
         ],
         "y": [
          0,
          -0.13540655038142135
         ]
        },
        {
         "line": {
          "color": "#767FFA"
         },
         "mode": "lines",
         "type": "scatter",
         "x": [
          55,
          55
         ],
         "y": [
          0,
          -0.15837131612861985
         ]
        },
        {
         "line": {
          "color": "#767FFA"
         },
         "mode": "lines",
         "type": "scatter",
         "x": [
          56,
          56
         ],
         "y": [
          0,
          -0.14623198256004047
         ]
        },
        {
         "line": {
          "color": "#767FFA"
         },
         "mode": "lines",
         "type": "scatter",
         "x": [
          57,
          57
         ],
         "y": [
          0,
          -0.23999721670490853
         ]
        },
        {
         "line": {
          "color": "#767FFA"
         },
         "mode": "lines",
         "type": "scatter",
         "x": [
          58,
          58
         ],
         "y": [
          0,
          -0.1918068081738143
         ]
        },
        {
         "line": {
          "color": "#767FFA"
         },
         "mode": "lines",
         "type": "scatter",
         "x": [
          59,
          59
         ],
         "y": [
          0,
          -0.19022299540734836
         ]
        },
        {
         "line": {
          "color": "#767FFA"
         },
         "mode": "lines",
         "type": "scatter",
         "x": [
          60,
          60
         ],
         "y": [
          0,
          -0.1849269363713846
         ]
        },
        {
         "line": {
          "color": "#767FFA"
         },
         "mode": "lines",
         "type": "scatter",
         "x": [
          61,
          61
         ],
         "y": [
          0,
          -0.13574979005390023
         ]
        },
        {
         "line": {
          "color": "#767FFA"
         },
         "mode": "lines",
         "type": "scatter",
         "x": [
          62,
          62
         ],
         "y": [
          0,
          -0.14040098830643755
         ]
        },
        {
         "line": {
          "color": "#767FFA"
         },
         "mode": "lines",
         "type": "scatter",
         "x": [
          63,
          63
         ],
         "y": [
          0,
          -0.13321111013902492
         ]
        },
        {
         "line": {
          "color": "#767FFA"
         },
         "mode": "lines",
         "type": "scatter",
         "x": [
          64,
          64
         ],
         "y": [
          0,
          -0.1543685986788397
         ]
        },
        {
         "line": {
          "color": "#767FFA"
         },
         "mode": "lines",
         "type": "scatter",
         "x": [
          65,
          65
         ],
         "y": [
          0,
          -0.08683055630426141
         ]
        },
        {
         "line": {
          "color": "#767FFA"
         },
         "mode": "lines",
         "type": "scatter",
         "x": [
          66,
          66
         ],
         "y": [
          0,
          -0.13357044496112788
         ]
        },
        {
         "line": {
          "color": "#767FFA"
         },
         "mode": "lines",
         "type": "scatter",
         "x": [
          67,
          67
         ],
         "y": [
          0,
          -0.004831294865012793
         ]
        },
        {
         "line": {
          "color": "#767FFA"
         },
         "mode": "lines",
         "type": "scatter",
         "x": [
          68,
          68
         ],
         "y": [
          0,
          -0.08422006879439516
         ]
        },
        {
         "line": {
          "color": "#767FFA"
         },
         "mode": "lines",
         "type": "scatter",
         "x": [
          69,
          69
         ],
         "y": [
          0,
          0.08707987782258977
         ]
        },
        {
         "line": {
          "color": "#767FFA"
         },
         "mode": "lines",
         "type": "scatter",
         "x": [
          70,
          70
         ],
         "y": [
          0,
          0.032986783153897935
         ]
        },
        {
         "line": {
          "color": "#767FFA"
         },
         "mode": "lines",
         "type": "scatter",
         "x": [
          71,
          71
         ],
         "y": [
          0,
          0.018561550589495168
         ]
        },
        {
         "line": {
          "color": "#767FFA"
         },
         "mode": "lines",
         "type": "scatter",
         "x": [
          72,
          72
         ],
         "y": [
          0,
          0.036660993426403915
         ]
        },
        {
         "line": {
          "color": "#767FFA"
         },
         "mode": "lines",
         "type": "scatter",
         "x": [
          73,
          73
         ],
         "y": [
          0,
          0.08837700150827568
         ]
        },
        {
         "line": {
          "color": "#767FFA"
         },
         "mode": "lines",
         "type": "scatter",
         "x": [
          74,
          74
         ],
         "y": [
          0,
          -0.03244675870583764
         ]
        },
        {
         "line": {
          "color": "#767FFA"
         },
         "mode": "lines",
         "type": "scatter",
         "x": [
          75,
          75
         ],
         "y": [
          0,
          0.07447853599068394
         ]
        },
        {
         "line": {
          "color": "#767FFA"
         },
         "mode": "lines",
         "type": "scatter",
         "x": [
          76,
          76
         ],
         "y": [
          0,
          0.20529694497348472
         ]
        },
        {
         "line": {
          "color": "#767FFA"
         },
         "mode": "lines",
         "type": "scatter",
         "x": [
          77,
          77
         ],
         "y": [
          0,
          0.24357844221489133
         ]
        },
        {
         "line": {
          "color": "#767FFA"
         },
         "mode": "lines",
         "type": "scatter",
         "x": [
          78,
          78
         ],
         "y": [
          0,
          0.09077210061766428
         ]
        },
        {
         "line": {
          "color": "#767FFA"
         },
         "mode": "lines",
         "type": "scatter",
         "x": [
          79,
          79
         ],
         "y": [
          0,
          0.24634711117917976
         ]
        },
        {
         "line": {
          "color": "#767FFA"
         },
         "mode": "lines",
         "type": "scatter",
         "x": [
          80,
          80
         ],
         "y": [
          0,
          0.24774040405817638
         ]
        },
        {
         "line": {
          "color": "#767FFA"
         },
         "mode": "lines",
         "type": "scatter",
         "x": [
          81,
          81
         ],
         "y": [
          0,
          0.14222721465654994
         ]
        },
        {
         "line": {
          "color": "#767FFA"
         },
         "mode": "lines",
         "type": "scatter",
         "x": [
          82,
          82
         ],
         "y": [
          0,
          0.05053615086115116
         ]
        },
        {
         "line": {
          "color": "#767FFA"
         },
         "mode": "lines",
         "type": "scatter",
         "x": [
          83,
          83
         ],
         "y": [
          0,
          0.21816732283939497
         ]
        },
        {
         "line": {
          "color": "#767FFA"
         },
         "mode": "lines",
         "type": "scatter",
         "x": [
          84,
          84
         ],
         "y": [
          0,
          0.030608573293433087
         ]
        },
        {
         "line": {
          "color": "#767FFA"
         },
         "mode": "lines",
         "type": "scatter",
         "x": [
          85,
          85
         ],
         "y": [
          0,
          0.09036113091290825
         ]
        },
        {
         "line": {
          "color": "#767FFA"
         },
         "mode": "lines",
         "type": "scatter",
         "x": [
          86,
          86
         ],
         "y": [
          0,
          0.0510946760831984
         ]
        },
        {
         "line": {
          "color": "#767FFA"
         },
         "mode": "lines",
         "type": "scatter",
         "x": [
          87,
          87
         ],
         "y": [
          0,
          0.13205659039805848
         ]
        },
        {
         "line": {
          "color": "#767FFA"
         },
         "mode": "lines",
         "type": "scatter",
         "x": [
          88,
          88
         ],
         "y": [
          0,
          0.056715429999617886
         ]
        },
        {
         "line": {
          "color": "#767FFA"
         },
         "mode": "lines",
         "type": "scatter",
         "x": [
          89,
          89
         ],
         "y": [
          0,
          -0.05072876873511009
         ]
        },
        {
         "line": {
          "color": "#767FFA"
         },
         "mode": "lines",
         "type": "scatter",
         "x": [
          90,
          90
         ],
         "y": [
          0,
          -0.02118182771060786
         ]
        },
        {
         "line": {
          "color": "#767FFA"
         },
         "mode": "lines",
         "type": "scatter",
         "x": [
          91,
          91
         ],
         "y": [
          0,
          -0.03459973145032109
         ]
        },
        {
         "line": {
          "color": "#767FFA"
         },
         "mode": "lines",
         "type": "scatter",
         "x": [
          92,
          92
         ],
         "y": [
          0,
          -0.21401560916480228
         ]
        },
        {
         "line": {
          "color": "#767FFA"
         },
         "mode": "lines",
         "type": "scatter",
         "x": [
          93,
          93
         ],
         "y": [
          0,
          -0.081613700739365
         ]
        },
        {
         "line": {
          "color": "#767FFA"
         },
         "mode": "lines",
         "type": "scatter",
         "x": [
          94,
          94
         ],
         "y": [
          0,
          -0.04516876658109959
         ]
        },
        {
         "line": {
          "color": "#767FFA"
         },
         "mode": "lines",
         "type": "scatter",
         "x": [
          95,
          95
         ],
         "y": [
          0,
          -0.2555335076010023
         ]
        },
        {
         "line": {
          "color": "#767FFA"
         },
         "mode": "lines",
         "type": "scatter",
         "x": [
          96,
          96
         ],
         "y": [
          0,
          -0.13740364545330477
         ]
        },
        {
         "line": {
          "color": "#767FFA"
         },
         "mode": "lines",
         "type": "scatter",
         "x": [
          97,
          97
         ],
         "y": [
          0,
          -0.044246759750836466
         ]
        },
        {
         "line": {
          "color": "#767FFA"
         },
         "mode": "lines",
         "type": "scatter",
         "x": [
          98,
          98
         ],
         "y": [
          0,
          -0.42059254589333445
         ]
        },
        {
         "line": {
          "color": "#767FFA"
         },
         "mode": "lines",
         "type": "scatter",
         "x": [
          99,
          99
         ],
         "y": [
          0,
          -0.5120630384381198
         ]
        },
        {
         "line": {
          "color": "#767FFA"
         },
         "mode": "lines",
         "type": "scatter",
         "x": [
          100,
          100
         ],
         "y": [
          0,
          -0.2822205592345346
         ]
        },
        {
         "line": {
          "color": "#767FFA",
          "width": 2
         },
         "marker": {
          "size": 8,
          "symbol": "circle"
         },
         "mode": "markers",
         "type": "scatter",
         "x": [
          0,
          1,
          2,
          3,
          4,
          5,
          6,
          7,
          8,
          9,
          10,
          11,
          12,
          13,
          14,
          15,
          16,
          17,
          18,
          19,
          20,
          21,
          22,
          23,
          24,
          25,
          26,
          27,
          28,
          29,
          30,
          31,
          32,
          33,
          34,
          35,
          36,
          37,
          38,
          39,
          40,
          41,
          42,
          43,
          44,
          45,
          46,
          47,
          48,
          49,
          50,
          51,
          52,
          53,
          54,
          55,
          56,
          57,
          58,
          59,
          60,
          61,
          62,
          63,
          64,
          65,
          66,
          67,
          68,
          69,
          70,
          71,
          72,
          73,
          74,
          75,
          76,
          77,
          78,
          79,
          80,
          81,
          82,
          83,
          84,
          85,
          86,
          87,
          88,
          89,
          90,
          91,
          92,
          93,
          94,
          95,
          96,
          97,
          98,
          99,
          100
         ],
         "y": [
          0.9999999999999997,
          0.5247179064655378,
          0.454131268346592,
          0.5064790434853578,
          0.4695761853741129,
          0.339128879706212,
          0.42199659281622315,
          0.4387998182448002,
          0.3199115637984771,
          0.2721112568299782,
          0.2747275355389905,
          0.20612139055918435,
          0.11083283733386544,
          0.06714980627218203,
          0.09896023330532075,
          -0.036835205961377106,
          -0.07577321585223787,
          -0.07405758757476094,
          -0.04629128916581044,
          -0.23227751995061227,
          -0.19704416777127343,
          -0.17854459248226742,
          -0.34511009210518134,
          -0.3460477823538672,
          -0.20167817611329591,
          -0.22822718015629617,
          -0.2849616658986065,
          -0.1997567500406594,
          -0.27643804285871226,
          -0.2775272075754734,
          -0.365297991468133,
          -0.25899490507490613,
          -0.2453294531457202,
          -0.2532265225850744,
          -0.21214986514233358,
          -0.18576159734960263,
          -0.15466687657825945,
          -0.13871939585345053,
          -0.05897540583486447,
          -0.1396976766212818,
          -0.1191054219560653,
          -0.06741508195190556,
          -0.026206227095216295,
          0.009406557202641936,
          -0.03315836496543817,
          0.017835938083150073,
          -0.1276409377212777,
          -0.12934642348862482,
          -0.11428772675827799,
          -0.08249835564882871,
          -0.12932356350483343,
          -0.009010688648582477,
          0.038944840928816005,
          -0.09365364604039329,
          -0.13540655038142135,
          -0.15837131612861985,
          -0.14623198256004047,
          -0.23999721670490853,
          -0.1918068081738143,
          -0.19022299540734836,
          -0.1849269363713846,
          -0.13574979005390023,
          -0.14040098830643755,
          -0.13321111013902492,
          -0.1543685986788397,
          -0.08683055630426141,
          -0.13357044496112788,
          -0.004831294865012793,
          -0.08422006879439516,
          0.08707987782258977,
          0.032986783153897935,
          0.018561550589495168,
          0.036660993426403915,
          0.08837700150827568,
          -0.03244675870583764,
          0.07447853599068394,
          0.20529694497348472,
          0.24357844221489133,
          0.09077210061766428,
          0.24634711117917976,
          0.24774040405817638,
          0.14222721465654994,
          0.05053615086115116,
          0.21816732283939497,
          0.030608573293433087,
          0.09036113091290825,
          0.0510946760831984,
          0.13205659039805848,
          0.056715429999617886,
          -0.05072876873511009,
          -0.02118182771060786,
          -0.03459973145032109,
          -0.21401560916480228,
          -0.081613700739365,
          -0.04516876658109959,
          -0.2555335076010023,
          -0.13740364545330477,
          -0.044246759750836466,
          -0.42059254589333445,
          -0.5120630384381198,
          -0.2822205592345346
         ]
        }
       ],
       "layout": {
        "height": 500,
        "showlegend": false,
        "template": {
         "data": {
          "bar": [
           {
            "error_x": {
             "color": "#2a3f5f"
            },
            "error_y": {
             "color": "#2a3f5f"
            },
            "marker": {
             "line": {
              "color": "#E5ECF6",
              "width": 0.5
             },
             "pattern": {
              "fillmode": "overlay",
              "size": 10,
              "solidity": 0.2
             }
            },
            "type": "bar"
           }
          ],
          "barpolar": [
           {
            "marker": {
             "line": {
              "color": "#E5ECF6",
              "width": 0.5
             },
             "pattern": {
              "fillmode": "overlay",
              "size": 10,
              "solidity": 0.2
             }
            },
            "type": "barpolar"
           }
          ],
          "carpet": [
           {
            "aaxis": {
             "endlinecolor": "#2a3f5f",
             "gridcolor": "white",
             "linecolor": "white",
             "minorgridcolor": "white",
             "startlinecolor": "#2a3f5f"
            },
            "baxis": {
             "endlinecolor": "#2a3f5f",
             "gridcolor": "white",
             "linecolor": "white",
             "minorgridcolor": "white",
             "startlinecolor": "#2a3f5f"
            },
            "type": "carpet"
           }
          ],
          "choropleth": [
           {
            "colorbar": {
             "outlinewidth": 0,
             "ticks": ""
            },
            "type": "choropleth"
           }
          ],
          "contour": [
           {
            "colorbar": {
             "outlinewidth": 0,
             "ticks": ""
            },
            "colorscale": [
             [
              0,
              "#0d0887"
             ],
             [
              0.1111111111111111,
              "#46039f"
             ],
             [
              0.2222222222222222,
              "#7201a8"
             ],
             [
              0.3333333333333333,
              "#9c179e"
             ],
             [
              0.4444444444444444,
              "#bd3786"
             ],
             [
              0.5555555555555556,
              "#d8576b"
             ],
             [
              0.6666666666666666,
              "#ed7953"
             ],
             [
              0.7777777777777778,
              "#fb9f3a"
             ],
             [
              0.8888888888888888,
              "#fdca26"
             ],
             [
              1,
              "#f0f921"
             ]
            ],
            "type": "contour"
           }
          ],
          "contourcarpet": [
           {
            "colorbar": {
             "outlinewidth": 0,
             "ticks": ""
            },
            "type": "contourcarpet"
           }
          ],
          "heatmap": [
           {
            "colorbar": {
             "outlinewidth": 0,
             "ticks": ""
            },
            "colorscale": [
             [
              0,
              "#0d0887"
             ],
             [
              0.1111111111111111,
              "#46039f"
             ],
             [
              0.2222222222222222,
              "#7201a8"
             ],
             [
              0.3333333333333333,
              "#9c179e"
             ],
             [
              0.4444444444444444,
              "#bd3786"
             ],
             [
              0.5555555555555556,
              "#d8576b"
             ],
             [
              0.6666666666666666,
              "#ed7953"
             ],
             [
              0.7777777777777778,
              "#fb9f3a"
             ],
             [
              0.8888888888888888,
              "#fdca26"
             ],
             [
              1,
              "#f0f921"
             ]
            ],
            "type": "heatmap"
           }
          ],
          "heatmapgl": [
           {
            "colorbar": {
             "outlinewidth": 0,
             "ticks": ""
            },
            "colorscale": [
             [
              0,
              "#0d0887"
             ],
             [
              0.1111111111111111,
              "#46039f"
             ],
             [
              0.2222222222222222,
              "#7201a8"
             ],
             [
              0.3333333333333333,
              "#9c179e"
             ],
             [
              0.4444444444444444,
              "#bd3786"
             ],
             [
              0.5555555555555556,
              "#d8576b"
             ],
             [
              0.6666666666666666,
              "#ed7953"
             ],
             [
              0.7777777777777778,
              "#fb9f3a"
             ],
             [
              0.8888888888888888,
              "#fdca26"
             ],
             [
              1,
              "#f0f921"
             ]
            ],
            "type": "heatmapgl"
           }
          ],
          "histogram": [
           {
            "marker": {
             "pattern": {
              "fillmode": "overlay",
              "size": 10,
              "solidity": 0.2
             }
            },
            "type": "histogram"
           }
          ],
          "histogram2d": [
           {
            "colorbar": {
             "outlinewidth": 0,
             "ticks": ""
            },
            "colorscale": [
             [
              0,
              "#0d0887"
             ],
             [
              0.1111111111111111,
              "#46039f"
             ],
             [
              0.2222222222222222,
              "#7201a8"
             ],
             [
              0.3333333333333333,
              "#9c179e"
             ],
             [
              0.4444444444444444,
              "#bd3786"
             ],
             [
              0.5555555555555556,
              "#d8576b"
             ],
             [
              0.6666666666666666,
              "#ed7953"
             ],
             [
              0.7777777777777778,
              "#fb9f3a"
             ],
             [
              0.8888888888888888,
              "#fdca26"
             ],
             [
              1,
              "#f0f921"
             ]
            ],
            "type": "histogram2d"
           }
          ],
          "histogram2dcontour": [
           {
            "colorbar": {
             "outlinewidth": 0,
             "ticks": ""
            },
            "colorscale": [
             [
              0,
              "#0d0887"
             ],
             [
              0.1111111111111111,
              "#46039f"
             ],
             [
              0.2222222222222222,
              "#7201a8"
             ],
             [
              0.3333333333333333,
              "#9c179e"
             ],
             [
              0.4444444444444444,
              "#bd3786"
             ],
             [
              0.5555555555555556,
              "#d8576b"
             ],
             [
              0.6666666666666666,
              "#ed7953"
             ],
             [
              0.7777777777777778,
              "#fb9f3a"
             ],
             [
              0.8888888888888888,
              "#fdca26"
             ],
             [
              1,
              "#f0f921"
             ]
            ],
            "type": "histogram2dcontour"
           }
          ],
          "mesh3d": [
           {
            "colorbar": {
             "outlinewidth": 0,
             "ticks": ""
            },
            "type": "mesh3d"
           }
          ],
          "parcoords": [
           {
            "line": {
             "colorbar": {
              "outlinewidth": 0,
              "ticks": ""
             }
            },
            "type": "parcoords"
           }
          ],
          "pie": [
           {
            "automargin": true,
            "type": "pie"
           }
          ],
          "scatter": [
           {
            "fillpattern": {
             "fillmode": "overlay",
             "size": 10,
             "solidity": 0.2
            },
            "type": "scatter"
           }
          ],
          "scatter3d": [
           {
            "line": {
             "colorbar": {
              "outlinewidth": 0,
              "ticks": ""
             }
            },
            "marker": {
             "colorbar": {
              "outlinewidth": 0,
              "ticks": ""
             }
            },
            "type": "scatter3d"
           }
          ],
          "scattercarpet": [
           {
            "marker": {
             "colorbar": {
              "outlinewidth": 0,
              "ticks": ""
             }
            },
            "type": "scattercarpet"
           }
          ],
          "scattergeo": [
           {
            "marker": {
             "colorbar": {
              "outlinewidth": 0,
              "ticks": ""
             }
            },
            "type": "scattergeo"
           }
          ],
          "scattergl": [
           {
            "marker": {
             "colorbar": {
              "outlinewidth": 0,
              "ticks": ""
             }
            },
            "type": "scattergl"
           }
          ],
          "scattermapbox": [
           {
            "marker": {
             "colorbar": {
              "outlinewidth": 0,
              "ticks": ""
             }
            },
            "type": "scattermapbox"
           }
          ],
          "scatterpolar": [
           {
            "marker": {
             "colorbar": {
              "outlinewidth": 0,
              "ticks": ""
             }
            },
            "type": "scatterpolar"
           }
          ],
          "scatterpolargl": [
           {
            "marker": {
             "colorbar": {
              "outlinewidth": 0,
              "ticks": ""
             }
            },
            "type": "scatterpolargl"
           }
          ],
          "scatterternary": [
           {
            "marker": {
             "colorbar": {
              "outlinewidth": 0,
              "ticks": ""
             }
            },
            "type": "scatterternary"
           }
          ],
          "surface": [
           {
            "colorbar": {
             "outlinewidth": 0,
             "ticks": ""
            },
            "colorscale": [
             [
              0,
              "#0d0887"
             ],
             [
              0.1111111111111111,
              "#46039f"
             ],
             [
              0.2222222222222222,
              "#7201a8"
             ],
             [
              0.3333333333333333,
              "#9c179e"
             ],
             [
              0.4444444444444444,
              "#bd3786"
             ],
             [
              0.5555555555555556,
              "#d8576b"
             ],
             [
              0.6666666666666666,
              "#ed7953"
             ],
             [
              0.7777777777777778,
              "#fb9f3a"
             ],
             [
              0.8888888888888888,
              "#fdca26"
             ],
             [
              1,
              "#f0f921"
             ]
            ],
            "type": "surface"
           }
          ],
          "table": [
           {
            "cells": {
             "fill": {
              "color": "#EBF0F8"
             },
             "line": {
              "color": "white"
             }
            },
            "header": {
             "fill": {
              "color": "#C8D4E3"
             },
             "line": {
              "color": "white"
             }
            },
            "type": "table"
           }
          ]
         },
         "layout": {
          "annotationdefaults": {
           "arrowcolor": "#2a3f5f",
           "arrowhead": 0,
           "arrowwidth": 1
          },
          "autotypenumbers": "strict",
          "coloraxis": {
           "colorbar": {
            "outlinewidth": 0,
            "ticks": ""
           }
          },
          "colorscale": {
           "diverging": [
            [
             0,
             "#8e0152"
            ],
            [
             0.1,
             "#c51b7d"
            ],
            [
             0.2,
             "#de77ae"
            ],
            [
             0.3,
             "#f1b6da"
            ],
            [
             0.4,
             "#fde0ef"
            ],
            [
             0.5,
             "#f7f7f7"
            ],
            [
             0.6,
             "#e6f5d0"
            ],
            [
             0.7,
             "#b8e186"
            ],
            [
             0.8,
             "#7fbc41"
            ],
            [
             0.9,
             "#4d9221"
            ],
            [
             1,
             "#276419"
            ]
           ],
           "sequential": [
            [
             0,
             "#0d0887"
            ],
            [
             0.1111111111111111,
             "#46039f"
            ],
            [
             0.2222222222222222,
             "#7201a8"
            ],
            [
             0.3333333333333333,
             "#9c179e"
            ],
            [
             0.4444444444444444,
             "#bd3786"
            ],
            [
             0.5555555555555556,
             "#d8576b"
            ],
            [
             0.6666666666666666,
             "#ed7953"
            ],
            [
             0.7777777777777778,
             "#fb9f3a"
            ],
            [
             0.8888888888888888,
             "#fdca26"
            ],
            [
             1,
             "#f0f921"
            ]
           ],
           "sequentialminus": [
            [
             0,
             "#0d0887"
            ],
            [
             0.1111111111111111,
             "#46039f"
            ],
            [
             0.2222222222222222,
             "#7201a8"
            ],
            [
             0.3333333333333333,
             "#9c179e"
            ],
            [
             0.4444444444444444,
             "#bd3786"
            ],
            [
             0.5555555555555556,
             "#d8576b"
            ],
            [
             0.6666666666666666,
             "#ed7953"
            ],
            [
             0.7777777777777778,
             "#fb9f3a"
            ],
            [
             0.8888888888888888,
             "#fdca26"
            ],
            [
             1,
             "#f0f921"
            ]
           ]
          },
          "colorway": [
           "#636efa",
           "#EF553B",
           "#00cc96",
           "#ab63fa",
           "#FFA15A",
           "#19d3f3",
           "#FF6692",
           "#B6E880",
           "#FF97FF",
           "#FECB52"
          ],
          "font": {
           "color": "#2a3f5f"
          },
          "geo": {
           "bgcolor": "white",
           "lakecolor": "white",
           "landcolor": "#E5ECF6",
           "showlakes": true,
           "showland": true,
           "subunitcolor": "white"
          },
          "hoverlabel": {
           "align": "left"
          },
          "hovermode": "closest",
          "mapbox": {
           "style": "light"
          },
          "paper_bgcolor": "white",
          "plot_bgcolor": "#E5ECF6",
          "polar": {
           "angularaxis": {
            "gridcolor": "white",
            "linecolor": "white",
            "ticks": ""
           },
           "bgcolor": "#E5ECF6",
           "radialaxis": {
            "gridcolor": "white",
            "linecolor": "white",
            "ticks": ""
           }
          },
          "scene": {
           "xaxis": {
            "backgroundcolor": "#E5ECF6",
            "gridcolor": "white",
            "gridwidth": 2,
            "linecolor": "white",
            "showbackground": true,
            "ticks": "",
            "zerolinecolor": "white"
           },
           "yaxis": {
            "backgroundcolor": "#E5ECF6",
            "gridcolor": "white",
            "gridwidth": 2,
            "linecolor": "white",
            "showbackground": true,
            "ticks": "",
            "zerolinecolor": "white"
           },
           "zaxis": {
            "backgroundcolor": "#E5ECF6",
            "gridcolor": "white",
            "gridwidth": 2,
            "linecolor": "white",
            "showbackground": true,
            "ticks": "",
            "zerolinecolor": "white"
           }
          },
          "shapedefaults": {
           "line": {
            "color": "#2a3f5f"
           }
          },
          "ternary": {
           "aaxis": {
            "gridcolor": "white",
            "linecolor": "white",
            "ticks": ""
           },
           "baxis": {
            "gridcolor": "white",
            "linecolor": "white",
            "ticks": ""
           },
           "bgcolor": "#E5ECF6",
           "caxis": {
            "gridcolor": "white",
            "linecolor": "white",
            "ticks": ""
           }
          },
          "title": {
           "x": 0.05
          },
          "xaxis": {
           "automargin": true,
           "gridcolor": "white",
           "linecolor": "white",
           "ticks": "",
           "title": {
            "standoff": 15
           },
           "zerolinecolor": "white",
           "zerolinewidth": 2
          },
          "yaxis": {
           "automargin": true,
           "gridcolor": "white",
           "linecolor": "white",
           "ticks": "",
           "title": {
            "standoff": 15
           },
           "zerolinecolor": "white",
           "zerolinewidth": 2
          }
         }
        },
        "title": {
         "font": {
          "size": 18
         },
         "text": "Funkcja autokorelacji dla danych - estymator odporny",
         "x": 0.5,
         "xanchor": "center"
        },
        "width": 800,
        "xaxis": {
         "title": {
          "text": "h"
         }
        },
        "yaxis": {
         "title": {
          "text": "ACF"
         }
        }
       }
      }
     },
     "metadata": {},
     "output_type": "display_data"
    }
   ],
   "source": [
    "fig = go.Figure()\n",
    "\n",
    "[fig.add_scatter(\n",
    "    x=(x,x), \n",
    "    y=(0,resist_acf[x]), \n",
    "    mode='lines',\n",
    "    line_color='#767FFA'\n",
    "    ) for x in range(len(resist_acf))\n",
    "]\n",
    "\n",
    "fig.add_trace(\n",
    "    go.Scatter(\n",
    "        x=np.arange(0, h + 1),\n",
    "        y=resist_acf,\n",
    "        mode='markers',\n",
    "        line=dict(width=2, color='#767FFA'),\n",
    "        marker=dict(\n",
    "            symbol='circle',\n",
    "            size=8\n",
    "        )\n",
    "    )\n",
    ")\n",
    "\n",
    "fig.update_layout(\n",
    "    title={\n",
    "        'text': \"Funkcja autokorelacji dla danych - estymator odporny\",\n",
    "        'x': 0.5,  \n",
    "        'xanchor': 'center'\n",
    "    },\n",
    "    xaxis_title=\"h\",\n",
    "    yaxis_title=\"ACF\",\n",
    "    title_font_size=18,\n",
    "    width=800,\n",
    "    height=500,\n",
    "    showlegend=False\n",
    ")\n",
    "\n",
    "fig.show()"
   ]
  },
  {
   "cell_type": "code",
   "execution_count": 431,
   "metadata": {},
   "outputs": [],
   "source": [
    "def func(data, max_p, max_q):\n",
    "    ps = np.zeros((max_p * max_q,))\n",
    "    qs = np.zeros((max_p * max_q,))\n",
    "    AIC = np.zeros((max_p * max_q,))\n",
    "    BIC = np.zeros((max_p * max_q,))\n",
    "    HQIC = np.zeros((max_p * max_q,))\n",
    "\n",
    "    i = 0\n",
    "    for p in range(0, max_p):\n",
    "        for q in range(0, max_q):\n",
    "            model = ARIMA(data, order=(p, 0, q))\n",
    "            model_fit = model.fit()\n",
    "            ps[i] = p\n",
    "            qs[i] = q\n",
    "            AIC[i] = model_fit.aic\n",
    "            BIC[i] = model_fit.bic\n",
    "            HQIC[i] = model_fit.hqic\n",
    "            \n",
    "            i += 1\n",
    "\n",
    "    df = pd.DataFrame({'p': ps, 'q': qs, 'AIC': AIC, 'BIC': BIC, 'HQIC': HQIC})\n",
    "    return df"
   ]
  },
  {
   "cell_type": "code",
   "execution_count": 432,
   "metadata": {},
   "outputs": [],
   "source": [
    "df_params = func(new_df[\"zróżnicowane dane\"], 16, 16)"
   ]
  },
  {
   "cell_type": "code",
   "execution_count": 433,
   "metadata": {},
   "outputs": [
    {
     "data": {
      "text/html": [
       "<div>\n",
       "<style scoped>\n",
       "    .dataframe tbody tr th:only-of-type {\n",
       "        vertical-align: middle;\n",
       "    }\n",
       "\n",
       "    .dataframe tbody tr th {\n",
       "        vertical-align: top;\n",
       "    }\n",
       "\n",
       "    .dataframe thead th {\n",
       "        text-align: right;\n",
       "    }\n",
       "</style>\n",
       "<table border=\"1\" class=\"dataframe\">\n",
       "  <thead>\n",
       "    <tr style=\"text-align: right;\">\n",
       "      <th></th>\n",
       "      <th>p</th>\n",
       "      <th>q</th>\n",
       "      <th>AIC</th>\n",
       "      <th>BIC</th>\n",
       "      <th>HQIC</th>\n",
       "    </tr>\n",
       "  </thead>\n",
       "  <tbody>\n",
       "    <tr>\n",
       "      <th>51</th>\n",
       "      <td>3.0</td>\n",
       "      <td>3.0</td>\n",
       "      <td>406.049533</td>\n",
       "      <td>430.448382</td>\n",
       "      <td>415.959289</td>\n",
       "    </tr>\n",
       "    <tr>\n",
       "      <th>35</th>\n",
       "      <td>2.0</td>\n",
       "      <td>3.0</td>\n",
       "      <td>406.813966</td>\n",
       "      <td>428.162958</td>\n",
       "      <td>415.485002</td>\n",
       "    </tr>\n",
       "    <tr>\n",
       "      <th>118</th>\n",
       "      <td>7.0</td>\n",
       "      <td>6.0</td>\n",
       "      <td>407.249777</td>\n",
       "      <td>452.997617</td>\n",
       "      <td>425.830569</td>\n",
       "    </tr>\n",
       "    <tr>\n",
       "      <th>67</th>\n",
       "      <td>4.0</td>\n",
       "      <td>3.0</td>\n",
       "      <td>407.702344</td>\n",
       "      <td>435.151048</td>\n",
       "      <td>418.850819</td>\n",
       "    </tr>\n",
       "    <tr>\n",
       "      <th>52</th>\n",
       "      <td>3.0</td>\n",
       "      <td>4.0</td>\n",
       "      <td>408.191233</td>\n",
       "      <td>435.639937</td>\n",
       "      <td>419.339708</td>\n",
       "    </tr>\n",
       "  </tbody>\n",
       "</table>\n",
       "</div>"
      ],
      "text/plain": [
       "       p    q         AIC         BIC        HQIC\n",
       "51   3.0  3.0  406.049533  430.448382  415.959289\n",
       "35   2.0  3.0  406.813966  428.162958  415.485002\n",
       "118  7.0  6.0  407.249777  452.997617  425.830569\n",
       "67   4.0  3.0  407.702344  435.151048  418.850819\n",
       "52   3.0  4.0  408.191233  435.639937  419.339708"
      ]
     },
     "execution_count": 433,
     "metadata": {},
     "output_type": "execute_result"
    }
   ],
   "source": [
    "df_params.sort_values(by='AIC').head()"
   ]
  },
  {
   "cell_type": "code",
   "execution_count": 434,
   "metadata": {},
   "outputs": [
    {
     "name": "stdout",
     "output_type": "stream",
     "text": [
      "3.0 3.0\n"
     ]
    }
   ],
   "source": [
    "top_row_aic = df_params.sort_values(by='AIC').iloc[0]\n",
    "p_aic = top_row_aic['p']\n",
    "q_aic = top_row_aic['q']\n",
    "print(p_aic, q_aic)"
   ]
  },
  {
   "cell_type": "code",
   "execution_count": 435,
   "metadata": {},
   "outputs": [
    {
     "data": {
      "text/html": [
       "<div>\n",
       "<style scoped>\n",
       "    .dataframe tbody tr th:only-of-type {\n",
       "        vertical-align: middle;\n",
       "    }\n",
       "\n",
       "    .dataframe tbody tr th {\n",
       "        vertical-align: top;\n",
       "    }\n",
       "\n",
       "    .dataframe thead th {\n",
       "        text-align: right;\n",
       "    }\n",
       "</style>\n",
       "<table border=\"1\" class=\"dataframe\">\n",
       "  <thead>\n",
       "    <tr style=\"text-align: right;\">\n",
       "      <th></th>\n",
       "      <th>p</th>\n",
       "      <th>q</th>\n",
       "      <th>AIC</th>\n",
       "      <th>BIC</th>\n",
       "      <th>HQIC</th>\n",
       "    </tr>\n",
       "  </thead>\n",
       "  <tbody>\n",
       "    <tr>\n",
       "      <th>17</th>\n",
       "      <td>1.0</td>\n",
       "      <td>1.0</td>\n",
       "      <td>409.133872</td>\n",
       "      <td>421.333297</td>\n",
       "      <td>414.088750</td>\n",
       "    </tr>\n",
       "    <tr>\n",
       "      <th>18</th>\n",
       "      <td>1.0</td>\n",
       "      <td>2.0</td>\n",
       "      <td>411.133839</td>\n",
       "      <td>426.383119</td>\n",
       "      <td>417.327436</td>\n",
       "    </tr>\n",
       "    <tr>\n",
       "      <th>33</th>\n",
       "      <td>2.0</td>\n",
       "      <td>1.0</td>\n",
       "      <td>411.133847</td>\n",
       "      <td>426.383127</td>\n",
       "      <td>417.327445</td>\n",
       "    </tr>\n",
       "    <tr>\n",
       "      <th>35</th>\n",
       "      <td>2.0</td>\n",
       "      <td>3.0</td>\n",
       "      <td>406.813966</td>\n",
       "      <td>428.162958</td>\n",
       "      <td>415.485002</td>\n",
       "    </tr>\n",
       "    <tr>\n",
       "      <th>48</th>\n",
       "      <td>3.0</td>\n",
       "      <td>0.0</td>\n",
       "      <td>413.316813</td>\n",
       "      <td>428.566093</td>\n",
       "      <td>419.510410</td>\n",
       "    </tr>\n",
       "  </tbody>\n",
       "</table>\n",
       "</div>"
      ],
      "text/plain": [
       "      p    q         AIC         BIC        HQIC\n",
       "17  1.0  1.0  409.133872  421.333297  414.088750\n",
       "18  1.0  2.0  411.133839  426.383119  417.327436\n",
       "33  2.0  1.0  411.133847  426.383127  417.327445\n",
       "35  2.0  3.0  406.813966  428.162958  415.485002\n",
       "48  3.0  0.0  413.316813  428.566093  419.510410"
      ]
     },
     "execution_count": 435,
     "metadata": {},
     "output_type": "execute_result"
    }
   ],
   "source": [
    "df_params.sort_values(by='BIC').head()"
   ]
  },
  {
   "cell_type": "code",
   "execution_count": 436,
   "metadata": {},
   "outputs": [
    {
     "name": "stdout",
     "output_type": "stream",
     "text": [
      "1.0 1.0\n"
     ]
    }
   ],
   "source": [
    "top_row_bic = df_params.sort_values(by='BIC').iloc[0]\n",
    "p_bic = top_row_bic['p']\n",
    "q_bic = top_row_bic['q']\n",
    "print(p_bic, q_bic)"
   ]
  },
  {
   "cell_type": "code",
   "execution_count": 437,
   "metadata": {},
   "outputs": [
    {
     "data": {
      "text/html": [
       "<div>\n",
       "<style scoped>\n",
       "    .dataframe tbody tr th:only-of-type {\n",
       "        vertical-align: middle;\n",
       "    }\n",
       "\n",
       "    .dataframe tbody tr th {\n",
       "        vertical-align: top;\n",
       "    }\n",
       "\n",
       "    .dataframe thead th {\n",
       "        text-align: right;\n",
       "    }\n",
       "</style>\n",
       "<table border=\"1\" class=\"dataframe\">\n",
       "  <thead>\n",
       "    <tr style=\"text-align: right;\">\n",
       "      <th></th>\n",
       "      <th>p</th>\n",
       "      <th>q</th>\n",
       "      <th>AIC</th>\n",
       "      <th>BIC</th>\n",
       "      <th>HQIC</th>\n",
       "    </tr>\n",
       "  </thead>\n",
       "  <tbody>\n",
       "    <tr>\n",
       "      <th>17</th>\n",
       "      <td>1.0</td>\n",
       "      <td>1.0</td>\n",
       "      <td>409.133872</td>\n",
       "      <td>421.333297</td>\n",
       "      <td>414.088750</td>\n",
       "    </tr>\n",
       "    <tr>\n",
       "      <th>35</th>\n",
       "      <td>2.0</td>\n",
       "      <td>3.0</td>\n",
       "      <td>406.813966</td>\n",
       "      <td>428.162958</td>\n",
       "      <td>415.485002</td>\n",
       "    </tr>\n",
       "    <tr>\n",
       "      <th>51</th>\n",
       "      <td>3.0</td>\n",
       "      <td>3.0</td>\n",
       "      <td>406.049533</td>\n",
       "      <td>430.448382</td>\n",
       "      <td>415.959289</td>\n",
       "    </tr>\n",
       "    <tr>\n",
       "      <th>18</th>\n",
       "      <td>1.0</td>\n",
       "      <td>2.0</td>\n",
       "      <td>411.133839</td>\n",
       "      <td>426.383119</td>\n",
       "      <td>417.327436</td>\n",
       "    </tr>\n",
       "    <tr>\n",
       "      <th>33</th>\n",
       "      <td>2.0</td>\n",
       "      <td>1.0</td>\n",
       "      <td>411.133847</td>\n",
       "      <td>426.383127</td>\n",
       "      <td>417.327445</td>\n",
       "    </tr>\n",
       "  </tbody>\n",
       "</table>\n",
       "</div>"
      ],
      "text/plain": [
       "      p    q         AIC         BIC        HQIC\n",
       "17  1.0  1.0  409.133872  421.333297  414.088750\n",
       "35  2.0  3.0  406.813966  428.162958  415.485002\n",
       "51  3.0  3.0  406.049533  430.448382  415.959289\n",
       "18  1.0  2.0  411.133839  426.383119  417.327436\n",
       "33  2.0  1.0  411.133847  426.383127  417.327445"
      ]
     },
     "execution_count": 437,
     "metadata": {},
     "output_type": "execute_result"
    }
   ],
   "source": [
    "df_params.sort_values(by='HQIC').head()"
   ]
  },
  {
   "cell_type": "code",
   "execution_count": 438,
   "metadata": {},
   "outputs": [
    {
     "name": "stdout",
     "output_type": "stream",
     "text": [
      "1.0 1.0\n"
     ]
    }
   ],
   "source": [
    "top_row_hqic = df_params.sort_values(by='HQIC').iloc[0]\n",
    "p_hqic = top_row_hqic['p']\n",
    "q_hqic = top_row_hqic['q']\n",
    "print(p_hqic, q_hqic)"
   ]
  },
  {
   "cell_type": "code",
   "execution_count": 439,
   "metadata": {},
   "outputs": [],
   "source": [
    "model_aic = ARIMA(new_df[\"zróżnicowane dane\"], order=(p_aic, 0, q_aic)).fit()\n",
    "model_bic = ARIMA(new_df[\"zróżnicowane dane\"], order=(p_bic, 0, q_bic)).fit() \n",
    "model_hqic = ARIMA(new_df[\"zróżnicowane dane\"], order=(p_hqic, 0, q_hqic)).fit()"
   ]
  },
  {
   "cell_type": "code",
   "execution_count": 440,
   "metadata": {},
   "outputs": [
    {
     "name": "stdout",
     "output_type": "stream",
     "text": [
      "MSE dla AIC: 0.716598062883144\n",
      "\n",
      "MSE dla BIC: 0.7670447110720983\n",
      "\n",
      "MSE dla HQIC: 0.7670447110720983\n"
     ]
    }
   ],
   "source": [
    "print(f'MSE dla AIC: {model_aic.mse}\\n')\n",
    "print(f'MSE dla BIC: {model_bic.mse}\\n')\n",
    "print(f'MSE dla HQIC: {model_hqic.mse}')\n",
    "#  wybieram najmniejsze mse czyli model aic"
   ]
  },
  {
   "cell_type": "code",
   "execution_count": 441,
   "metadata": {},
   "outputs": [
    {
     "data": {
      "text/plain": [
       "const     0.056574\n",
       "ar.L1     0.464492\n",
       "ar.L2    -0.538948\n",
       "ar.L3     0.932666\n",
       "ma.L1    -0.179387\n",
       "ma.L2     0.635637\n",
       "ma.L3    -0.621315\n",
       "sigma2    0.703654\n",
       "dtype: float64"
      ]
     },
     "execution_count": 441,
     "metadata": {},
     "output_type": "execute_result"
    }
   ],
   "source": [
    "model_aic.params"
   ]
  },
  {
   "cell_type": "code",
   "execution_count": 442,
   "metadata": {},
   "outputs": [
    {
     "name": "stdout",
     "output_type": "stream",
     "text": [
      "[ 1.         -0.46449181  0.53894757 -0.93266565]\n",
      "[ 1.         -0.17938666  0.63563683 -0.62131464]\n"
     ]
    }
   ],
   "source": [
    "ar_coff_aic = model_aic.arparams \n",
    "ar_coff_aic = np.insert(-ar_coff_aic, 0, 1)\n",
    "\n",
    "ma_coff_aic = model_aic.maparams\n",
    "ma_coff_aic = np.insert(ma_coff_aic, 0, 1)\n",
    "\n",
    "scale_aic = model_aic.params[-1]\n",
    "\n",
    "print(ar_coff_aic)\n",
    "print(ma_coff_aic)"
   ]
  },
  {
   "cell_type": "code",
   "execution_count": 443,
   "metadata": {},
   "outputs": [],
   "source": [
    "arma_sample_aic = arma_generate_sample(ar_coff_aic, ma_coff_aic, nsample=len(new_df[\"zróżnicowane dane\"]), scale = np.sqrt(scale_aic))\n",
    "# arma_sample = model_aic.simulate(nsimulations=len(new_df[\"zróżnicowane dane\"]))"
   ]
  },
  {
   "cell_type": "code",
   "execution_count": 444,
   "metadata": {},
   "outputs": [
    {
     "data": {
      "application/vnd.plotly.v1+json": {
       "config": {
        "plotlyServerURL": "https://plot.ly"
       },
       "data": [
        {
         "hovertemplate": "x=%{x}<br>y=%{y}<extra></extra>",
         "legendgroup": "",
         "line": {
          "color": "#636efa",
          "dash": "solid"
         },
         "marker": {
          "symbol": "circle"
         },
         "mode": "lines",
         "name": "",
         "orientation": "v",
         "showlegend": false,
         "type": "scatter",
         "x": [
          "2021-01-10T00:00:00",
          "2021-01-17T00:00:00",
          "2021-01-24T00:00:00",
          "2021-01-31T00:00:00",
          "2021-02-07T00:00:00",
          "2021-02-14T00:00:00",
          "2021-02-21T00:00:00",
          "2021-02-28T00:00:00",
          "2021-03-07T00:00:00",
          "2021-03-14T00:00:00",
          "2021-03-21T00:00:00",
          "2021-03-28T00:00:00",
          "2021-04-04T00:00:00",
          "2021-04-11T00:00:00",
          "2021-04-18T00:00:00",
          "2021-04-25T00:00:00",
          "2021-05-02T00:00:00",
          "2021-05-09T00:00:00",
          "2021-05-16T00:00:00",
          "2021-05-23T00:00:00",
          "2021-05-30T00:00:00",
          "2021-06-06T00:00:00",
          "2021-06-13T00:00:00",
          "2021-06-20T00:00:00",
          "2021-06-27T00:00:00",
          "2021-07-04T00:00:00",
          "2021-07-11T00:00:00",
          "2021-07-18T00:00:00",
          "2021-07-25T00:00:00",
          "2021-08-01T00:00:00",
          "2021-08-08T00:00:00",
          "2021-08-15T00:00:00",
          "2021-08-22T00:00:00",
          "2021-08-29T00:00:00",
          "2021-09-05T00:00:00",
          "2021-09-12T00:00:00",
          "2021-09-19T00:00:00",
          "2021-09-26T00:00:00",
          "2021-10-03T00:00:00",
          "2021-10-10T00:00:00",
          "2021-10-17T00:00:00",
          "2021-10-24T00:00:00",
          "2021-10-31T00:00:00",
          "2021-11-07T00:00:00",
          "2021-11-14T00:00:00",
          "2021-11-21T00:00:00",
          "2021-11-28T00:00:00",
          "2021-12-05T00:00:00",
          "2021-12-12T00:00:00",
          "2021-12-19T00:00:00",
          "2021-12-26T00:00:00",
          "2022-01-02T00:00:00",
          "2022-01-09T00:00:00",
          "2022-01-16T00:00:00",
          "2022-01-23T00:00:00",
          "2022-01-30T00:00:00",
          "2022-02-06T00:00:00",
          "2022-02-13T00:00:00",
          "2022-02-20T00:00:00",
          "2022-02-27T00:00:00",
          "2022-03-06T00:00:00",
          "2022-03-13T00:00:00",
          "2022-03-20T00:00:00",
          "2022-03-27T00:00:00",
          "2022-04-03T00:00:00",
          "2022-04-10T00:00:00",
          "2022-04-17T00:00:00",
          "2022-04-24T00:00:00",
          "2022-05-01T00:00:00",
          "2022-05-08T00:00:00",
          "2022-05-15T00:00:00",
          "2022-05-22T00:00:00",
          "2022-05-29T00:00:00",
          "2022-06-05T00:00:00",
          "2022-06-12T00:00:00",
          "2022-06-19T00:00:00",
          "2022-06-26T00:00:00",
          "2022-07-03T00:00:00",
          "2022-07-10T00:00:00",
          "2022-07-17T00:00:00",
          "2022-07-24T00:00:00",
          "2022-07-31T00:00:00",
          "2022-08-07T00:00:00",
          "2022-08-14T00:00:00",
          "2022-08-21T00:00:00",
          "2022-08-28T00:00:00",
          "2022-09-04T00:00:00",
          "2022-09-11T00:00:00",
          "2022-09-18T00:00:00",
          "2022-09-25T00:00:00",
          "2022-10-02T00:00:00",
          "2022-10-09T00:00:00",
          "2022-10-16T00:00:00",
          "2022-10-23T00:00:00",
          "2022-10-30T00:00:00",
          "2022-11-06T00:00:00",
          "2022-11-13T00:00:00",
          "2022-11-20T00:00:00",
          "2022-11-27T00:00:00",
          "2022-12-04T00:00:00",
          "2022-12-11T00:00:00",
          "2022-12-18T00:00:00",
          "2022-12-25T00:00:00",
          "2023-01-01T00:00:00",
          "2023-01-08T00:00:00",
          "2023-01-15T00:00:00",
          "2023-01-22T00:00:00",
          "2023-01-29T00:00:00",
          "2023-02-05T00:00:00",
          "2023-02-12T00:00:00",
          "2023-02-19T00:00:00",
          "2023-02-26T00:00:00",
          "2023-03-05T00:00:00",
          "2023-03-12T00:00:00",
          "2023-03-19T00:00:00",
          "2023-03-26T00:00:00",
          "2023-04-02T00:00:00",
          "2023-04-09T00:00:00",
          "2023-04-16T00:00:00",
          "2023-04-23T00:00:00",
          "2023-04-30T00:00:00",
          "2023-05-07T00:00:00",
          "2023-05-14T00:00:00",
          "2023-05-21T00:00:00",
          "2023-05-28T00:00:00",
          "2023-06-04T00:00:00",
          "2023-06-11T00:00:00",
          "2023-06-18T00:00:00",
          "2023-06-25T00:00:00",
          "2023-07-02T00:00:00",
          "2023-07-09T00:00:00",
          "2023-07-16T00:00:00",
          "2023-07-23T00:00:00",
          "2023-07-30T00:00:00",
          "2023-08-06T00:00:00",
          "2023-08-13T00:00:00",
          "2023-08-20T00:00:00",
          "2023-08-27T00:00:00",
          "2023-09-03T00:00:00",
          "2023-09-10T00:00:00",
          "2023-09-17T00:00:00",
          "2023-09-24T00:00:00",
          "2023-10-01T00:00:00",
          "2023-10-08T00:00:00",
          "2023-10-15T00:00:00",
          "2023-10-22T00:00:00",
          "2023-10-29T00:00:00",
          "2023-11-05T00:00:00",
          "2023-11-12T00:00:00",
          "2023-11-19T00:00:00",
          "2023-11-26T00:00:00",
          "2023-12-03T00:00:00",
          "2023-12-10T00:00:00",
          "2023-12-17T00:00:00",
          "2023-12-24T00:00:00",
          "2023-12-31T00:00:00"
         ],
         "xaxis": "x",
         "y": [
          -0.17171717913475096,
          0.352799859777286,
          -0.36052695742770074,
          -0.5437008700849423,
          1.4768252553093664,
          1.4901986319328844,
          0.5952106932443649,
          0.7915032507489388,
          1.3627250970043678,
          1.793173339757219,
          1.7571967903094827,
          0.1456562435212021,
          1.1061854463492518,
          1.0087577324890589,
          1.930863347784702,
          1.9036290657062258,
          -0.42595580771660724,
          0.33384774409802115,
          2.0868249698855617,
          0.6180282556910286,
          0.17070528584233313,
          1.0701353277982513,
          3.5758402169259673,
          0.43350639599115426,
          0.4255689857532209,
          1.2522408190124095,
          1.2163257494360282,
          1.0477699400562952,
          1.0177028688621617,
          2.291105034362993,
          0.4196874257614873,
          0.03552554155774912,
          -1.0168641534165048,
          -1.3755425573493532,
          -1.3304146924390747,
          0.017554169738583092,
          -1.1931056542247203,
          -0.7661892494992965,
          -1.5735770361457102,
          -0.26780009582234254,
          -2.6496971887318193,
          -1.6346221442867117,
          -2.275982308268715,
          -2.106443623770815,
          -2.944854509837775,
          -1.6323798666581926,
          -1.0527069548752763,
          -2.211155365753079,
          -1.5385363431866295,
          -0.02136635615913307,
          -0.8179376333484383,
          -1.0599251327458465,
          -0.7847036344572391,
          0.3836629692820821,
          0.43978377404973834,
          -1.1632449482104783,
          -1.3966693535566437,
          -0.5417896452995524,
          -0.2979122926914879,
          -0.9979995730717774,
          0.4074447050893438,
          -0.4363792141880915,
          -0.5054453422830707,
          0.4801869541167363,
          0.7349990020633312,
          -0.9876859140700678,
          -0.17742138216223324,
          -1.7481616712267838,
          -1.3524932228195778,
          -1.9916786287918815,
          -1.9081321499575663,
          -0.2819008428897942,
          -0.5903988055352406,
          -0.164522380445849,
          0.5409298645533254,
          -0.7926804759110838,
          -1.0850537753957887,
          -1.0415887019149221,
          -1.1784855704553125,
          -0.8686212951112912,
          -0.6373913540510107,
          -1.4085806801802523,
          -0.35039760488273564,
          -0.4012838152746001,
          0.5101692346146973,
          1.3106692988085518,
          -0.838851016007021,
          0.6896501138212772,
          0.27351171094572835,
          0.73158537343196,
          0.34272992928368323,
          2.3665897030829393,
          0.7988300920647876,
          2.1719728181905316,
          1.3169325161618461,
          1.9770682505034176,
          1.1851996386424513,
          0.47616060280822403,
          1.6781917168474507,
          1.20765000467091,
          -0.5336993714346312,
          0.2066761011233067,
          0.6528399691199412,
          -0.5642347391375565,
          -0.4104064004407312,
          0.28621994183213895,
          0.9790834268593308,
          0.8079322983946039,
          0.0754174918547928,
          1.8803836554939986,
          0.07921546268356416,
          0.7072116740693026,
          1.6446204432652416,
          -0.48042226282226685,
          -0.813813869363261,
          -0.09067088603743512,
          0.4666741297299476,
          -0.37067659019424276,
          0.4096753321688785,
          -0.8766473286779978,
          -2.1577193198745666,
          -2.0154692293649505,
          -0.4604514831475616,
          -0.05235584225396217,
          -1.1952126430767356,
          -0.8417290914013034,
          -0.19673337367962448,
          -1.2085510567622133,
          -1.3690432599037885,
          -0.4990758580670748,
          -1.5517085362640581,
          -2.846753347693205,
          0.046945269356280406,
          0.37026246440432686,
          -0.4628623862347851,
          -0.29864791476277774,
          1.1973796983917215,
          -0.2234165483007196,
          -0.8067275879617866,
          0.41025532379396684,
          -0.28035277112597384,
          0.5510153400505036,
          0.317742855824564,
          0.09815238203060628,
          0.2260185483031006,
          -0.621453706422626,
          -0.04813532915128568,
          0.2436491178197107,
          0.19174211582145734,
          0.4763506639100453,
          -0.013935753838600684,
          0.6162092575503614,
          -0.36022552831616866,
          -1.0965263566459331,
          0.3336816062439684,
          -1.7020005099555204
         ],
         "yaxis": "y"
        }
       ],
       "layout": {
        "height": 500,
        "legend": {
         "tracegroupgap": 0
        },
        "margin": {
         "t": 60
        },
        "showlegend": false,
        "template": {
         "data": {
          "bar": [
           {
            "error_x": {
             "color": "#2a3f5f"
            },
            "error_y": {
             "color": "#2a3f5f"
            },
            "marker": {
             "line": {
              "color": "#E5ECF6",
              "width": 0.5
             },
             "pattern": {
              "fillmode": "overlay",
              "size": 10,
              "solidity": 0.2
             }
            },
            "type": "bar"
           }
          ],
          "barpolar": [
           {
            "marker": {
             "line": {
              "color": "#E5ECF6",
              "width": 0.5
             },
             "pattern": {
              "fillmode": "overlay",
              "size": 10,
              "solidity": 0.2
             }
            },
            "type": "barpolar"
           }
          ],
          "carpet": [
           {
            "aaxis": {
             "endlinecolor": "#2a3f5f",
             "gridcolor": "white",
             "linecolor": "white",
             "minorgridcolor": "white",
             "startlinecolor": "#2a3f5f"
            },
            "baxis": {
             "endlinecolor": "#2a3f5f",
             "gridcolor": "white",
             "linecolor": "white",
             "minorgridcolor": "white",
             "startlinecolor": "#2a3f5f"
            },
            "type": "carpet"
           }
          ],
          "choropleth": [
           {
            "colorbar": {
             "outlinewidth": 0,
             "ticks": ""
            },
            "type": "choropleth"
           }
          ],
          "contour": [
           {
            "colorbar": {
             "outlinewidth": 0,
             "ticks": ""
            },
            "colorscale": [
             [
              0,
              "#0d0887"
             ],
             [
              0.1111111111111111,
              "#46039f"
             ],
             [
              0.2222222222222222,
              "#7201a8"
             ],
             [
              0.3333333333333333,
              "#9c179e"
             ],
             [
              0.4444444444444444,
              "#bd3786"
             ],
             [
              0.5555555555555556,
              "#d8576b"
             ],
             [
              0.6666666666666666,
              "#ed7953"
             ],
             [
              0.7777777777777778,
              "#fb9f3a"
             ],
             [
              0.8888888888888888,
              "#fdca26"
             ],
             [
              1,
              "#f0f921"
             ]
            ],
            "type": "contour"
           }
          ],
          "contourcarpet": [
           {
            "colorbar": {
             "outlinewidth": 0,
             "ticks": ""
            },
            "type": "contourcarpet"
           }
          ],
          "heatmap": [
           {
            "colorbar": {
             "outlinewidth": 0,
             "ticks": ""
            },
            "colorscale": [
             [
              0,
              "#0d0887"
             ],
             [
              0.1111111111111111,
              "#46039f"
             ],
             [
              0.2222222222222222,
              "#7201a8"
             ],
             [
              0.3333333333333333,
              "#9c179e"
             ],
             [
              0.4444444444444444,
              "#bd3786"
             ],
             [
              0.5555555555555556,
              "#d8576b"
             ],
             [
              0.6666666666666666,
              "#ed7953"
             ],
             [
              0.7777777777777778,
              "#fb9f3a"
             ],
             [
              0.8888888888888888,
              "#fdca26"
             ],
             [
              1,
              "#f0f921"
             ]
            ],
            "type": "heatmap"
           }
          ],
          "heatmapgl": [
           {
            "colorbar": {
             "outlinewidth": 0,
             "ticks": ""
            },
            "colorscale": [
             [
              0,
              "#0d0887"
             ],
             [
              0.1111111111111111,
              "#46039f"
             ],
             [
              0.2222222222222222,
              "#7201a8"
             ],
             [
              0.3333333333333333,
              "#9c179e"
             ],
             [
              0.4444444444444444,
              "#bd3786"
             ],
             [
              0.5555555555555556,
              "#d8576b"
             ],
             [
              0.6666666666666666,
              "#ed7953"
             ],
             [
              0.7777777777777778,
              "#fb9f3a"
             ],
             [
              0.8888888888888888,
              "#fdca26"
             ],
             [
              1,
              "#f0f921"
             ]
            ],
            "type": "heatmapgl"
           }
          ],
          "histogram": [
           {
            "marker": {
             "pattern": {
              "fillmode": "overlay",
              "size": 10,
              "solidity": 0.2
             }
            },
            "type": "histogram"
           }
          ],
          "histogram2d": [
           {
            "colorbar": {
             "outlinewidth": 0,
             "ticks": ""
            },
            "colorscale": [
             [
              0,
              "#0d0887"
             ],
             [
              0.1111111111111111,
              "#46039f"
             ],
             [
              0.2222222222222222,
              "#7201a8"
             ],
             [
              0.3333333333333333,
              "#9c179e"
             ],
             [
              0.4444444444444444,
              "#bd3786"
             ],
             [
              0.5555555555555556,
              "#d8576b"
             ],
             [
              0.6666666666666666,
              "#ed7953"
             ],
             [
              0.7777777777777778,
              "#fb9f3a"
             ],
             [
              0.8888888888888888,
              "#fdca26"
             ],
             [
              1,
              "#f0f921"
             ]
            ],
            "type": "histogram2d"
           }
          ],
          "histogram2dcontour": [
           {
            "colorbar": {
             "outlinewidth": 0,
             "ticks": ""
            },
            "colorscale": [
             [
              0,
              "#0d0887"
             ],
             [
              0.1111111111111111,
              "#46039f"
             ],
             [
              0.2222222222222222,
              "#7201a8"
             ],
             [
              0.3333333333333333,
              "#9c179e"
             ],
             [
              0.4444444444444444,
              "#bd3786"
             ],
             [
              0.5555555555555556,
              "#d8576b"
             ],
             [
              0.6666666666666666,
              "#ed7953"
             ],
             [
              0.7777777777777778,
              "#fb9f3a"
             ],
             [
              0.8888888888888888,
              "#fdca26"
             ],
             [
              1,
              "#f0f921"
             ]
            ],
            "type": "histogram2dcontour"
           }
          ],
          "mesh3d": [
           {
            "colorbar": {
             "outlinewidth": 0,
             "ticks": ""
            },
            "type": "mesh3d"
           }
          ],
          "parcoords": [
           {
            "line": {
             "colorbar": {
              "outlinewidth": 0,
              "ticks": ""
             }
            },
            "type": "parcoords"
           }
          ],
          "pie": [
           {
            "automargin": true,
            "type": "pie"
           }
          ],
          "scatter": [
           {
            "fillpattern": {
             "fillmode": "overlay",
             "size": 10,
             "solidity": 0.2
            },
            "type": "scatter"
           }
          ],
          "scatter3d": [
           {
            "line": {
             "colorbar": {
              "outlinewidth": 0,
              "ticks": ""
             }
            },
            "marker": {
             "colorbar": {
              "outlinewidth": 0,
              "ticks": ""
             }
            },
            "type": "scatter3d"
           }
          ],
          "scattercarpet": [
           {
            "marker": {
             "colorbar": {
              "outlinewidth": 0,
              "ticks": ""
             }
            },
            "type": "scattercarpet"
           }
          ],
          "scattergeo": [
           {
            "marker": {
             "colorbar": {
              "outlinewidth": 0,
              "ticks": ""
             }
            },
            "type": "scattergeo"
           }
          ],
          "scattergl": [
           {
            "marker": {
             "colorbar": {
              "outlinewidth": 0,
              "ticks": ""
             }
            },
            "type": "scattergl"
           }
          ],
          "scattermapbox": [
           {
            "marker": {
             "colorbar": {
              "outlinewidth": 0,
              "ticks": ""
             }
            },
            "type": "scattermapbox"
           }
          ],
          "scatterpolar": [
           {
            "marker": {
             "colorbar": {
              "outlinewidth": 0,
              "ticks": ""
             }
            },
            "type": "scatterpolar"
           }
          ],
          "scatterpolargl": [
           {
            "marker": {
             "colorbar": {
              "outlinewidth": 0,
              "ticks": ""
             }
            },
            "type": "scatterpolargl"
           }
          ],
          "scatterternary": [
           {
            "marker": {
             "colorbar": {
              "outlinewidth": 0,
              "ticks": ""
             }
            },
            "type": "scatterternary"
           }
          ],
          "surface": [
           {
            "colorbar": {
             "outlinewidth": 0,
             "ticks": ""
            },
            "colorscale": [
             [
              0,
              "#0d0887"
             ],
             [
              0.1111111111111111,
              "#46039f"
             ],
             [
              0.2222222222222222,
              "#7201a8"
             ],
             [
              0.3333333333333333,
              "#9c179e"
             ],
             [
              0.4444444444444444,
              "#bd3786"
             ],
             [
              0.5555555555555556,
              "#d8576b"
             ],
             [
              0.6666666666666666,
              "#ed7953"
             ],
             [
              0.7777777777777778,
              "#fb9f3a"
             ],
             [
              0.8888888888888888,
              "#fdca26"
             ],
             [
              1,
              "#f0f921"
             ]
            ],
            "type": "surface"
           }
          ],
          "table": [
           {
            "cells": {
             "fill": {
              "color": "#EBF0F8"
             },
             "line": {
              "color": "white"
             }
            },
            "header": {
             "fill": {
              "color": "#C8D4E3"
             },
             "line": {
              "color": "white"
             }
            },
            "type": "table"
           }
          ]
         },
         "layout": {
          "annotationdefaults": {
           "arrowcolor": "#2a3f5f",
           "arrowhead": 0,
           "arrowwidth": 1
          },
          "autotypenumbers": "strict",
          "coloraxis": {
           "colorbar": {
            "outlinewidth": 0,
            "ticks": ""
           }
          },
          "colorscale": {
           "diverging": [
            [
             0,
             "#8e0152"
            ],
            [
             0.1,
             "#c51b7d"
            ],
            [
             0.2,
             "#de77ae"
            ],
            [
             0.3,
             "#f1b6da"
            ],
            [
             0.4,
             "#fde0ef"
            ],
            [
             0.5,
             "#f7f7f7"
            ],
            [
             0.6,
             "#e6f5d0"
            ],
            [
             0.7,
             "#b8e186"
            ],
            [
             0.8,
             "#7fbc41"
            ],
            [
             0.9,
             "#4d9221"
            ],
            [
             1,
             "#276419"
            ]
           ],
           "sequential": [
            [
             0,
             "#0d0887"
            ],
            [
             0.1111111111111111,
             "#46039f"
            ],
            [
             0.2222222222222222,
             "#7201a8"
            ],
            [
             0.3333333333333333,
             "#9c179e"
            ],
            [
             0.4444444444444444,
             "#bd3786"
            ],
            [
             0.5555555555555556,
             "#d8576b"
            ],
            [
             0.6666666666666666,
             "#ed7953"
            ],
            [
             0.7777777777777778,
             "#fb9f3a"
            ],
            [
             0.8888888888888888,
             "#fdca26"
            ],
            [
             1,
             "#f0f921"
            ]
           ],
           "sequentialminus": [
            [
             0,
             "#0d0887"
            ],
            [
             0.1111111111111111,
             "#46039f"
            ],
            [
             0.2222222222222222,
             "#7201a8"
            ],
            [
             0.3333333333333333,
             "#9c179e"
            ],
            [
             0.4444444444444444,
             "#bd3786"
            ],
            [
             0.5555555555555556,
             "#d8576b"
            ],
            [
             0.6666666666666666,
             "#ed7953"
            ],
            [
             0.7777777777777778,
             "#fb9f3a"
            ],
            [
             0.8888888888888888,
             "#fdca26"
            ],
            [
             1,
             "#f0f921"
            ]
           ]
          },
          "colorway": [
           "#636efa",
           "#EF553B",
           "#00cc96",
           "#ab63fa",
           "#FFA15A",
           "#19d3f3",
           "#FF6692",
           "#B6E880",
           "#FF97FF",
           "#FECB52"
          ],
          "font": {
           "color": "#2a3f5f"
          },
          "geo": {
           "bgcolor": "white",
           "lakecolor": "white",
           "landcolor": "#E5ECF6",
           "showlakes": true,
           "showland": true,
           "subunitcolor": "white"
          },
          "hoverlabel": {
           "align": "left"
          },
          "hovermode": "closest",
          "mapbox": {
           "style": "light"
          },
          "paper_bgcolor": "white",
          "plot_bgcolor": "#E5ECF6",
          "polar": {
           "angularaxis": {
            "gridcolor": "white",
            "linecolor": "white",
            "ticks": ""
           },
           "bgcolor": "#E5ECF6",
           "radialaxis": {
            "gridcolor": "white",
            "linecolor": "white",
            "ticks": ""
           }
          },
          "scene": {
           "xaxis": {
            "backgroundcolor": "#E5ECF6",
            "gridcolor": "white",
            "gridwidth": 2,
            "linecolor": "white",
            "showbackground": true,
            "ticks": "",
            "zerolinecolor": "white"
           },
           "yaxis": {
            "backgroundcolor": "#E5ECF6",
            "gridcolor": "white",
            "gridwidth": 2,
            "linecolor": "white",
            "showbackground": true,
            "ticks": "",
            "zerolinecolor": "white"
           },
           "zaxis": {
            "backgroundcolor": "#E5ECF6",
            "gridcolor": "white",
            "gridwidth": 2,
            "linecolor": "white",
            "showbackground": true,
            "ticks": "",
            "zerolinecolor": "white"
           }
          },
          "shapedefaults": {
           "line": {
            "color": "#2a3f5f"
           }
          },
          "ternary": {
           "aaxis": {
            "gridcolor": "white",
            "linecolor": "white",
            "ticks": ""
           },
           "baxis": {
            "gridcolor": "white",
            "linecolor": "white",
            "ticks": ""
           },
           "bgcolor": "#E5ECF6",
           "caxis": {
            "gridcolor": "white",
            "linecolor": "white",
            "ticks": ""
           }
          },
          "title": {
           "x": 0.05
          },
          "xaxis": {
           "automargin": true,
           "gridcolor": "white",
           "linecolor": "white",
           "ticks": "",
           "title": {
            "standoff": 15
           },
           "zerolinecolor": "white",
           "zerolinewidth": 2
          },
          "yaxis": {
           "automargin": true,
           "gridcolor": "white",
           "linecolor": "white",
           "ticks": "",
           "title": {
            "standoff": 15
           },
           "zerolinecolor": "white",
           "zerolinewidth": 2
          }
         }
        },
        "title": {
         "font": {
          "size": 18
         },
         "text": "Dopasowany model ARMA(3.0, 3.0) z WN(0, 0.7036542343034161)",
         "x": 0.5,
         "xanchor": "center"
        },
        "width": 1000,
        "xaxis": {
         "anchor": "y",
         "domain": [
          0,
          1
         ],
         "title": {
          "text": "Data"
         }
        },
        "yaxis": {
         "anchor": "x",
         "domain": [
          0,
          1
         ],
         "title": {
          "text": "Otrzymane wartości"
         }
        }
       }
      }
     },
     "metadata": {},
     "output_type": "display_data"
    }
   ],
   "source": [
    "fig = px.line(\n",
    "    x=new_df.index, \n",
    "    y=arma_sample_aic\n",
    ")\n",
    "\n",
    "\n",
    "fig.update_layout(\n",
    "    title={\n",
    "        'text': f\"Dopasowany model ARMA({p_aic}, {q_aic}) z WN({0}, {scale_aic})\",\n",
    "        'x': 0.5,  \n",
    "        'xanchor': 'center'\n",
    "    },\n",
    "    xaxis_title=\"Data\",\n",
    "    yaxis_title=\"Otrzymane wartości\",\n",
    "    title_font_size=18,\n",
    "    width=1000,\n",
    "    height=500,\n",
    "    showlegend=False\n",
    ")\n",
    "\n",
    "fig.show() "
   ]
  },
  {
   "cell_type": "code",
   "execution_count": 445,
   "metadata": {},
   "outputs": [],
   "source": [
    "def func_cf_interval(ar_coff, ma_coff, sigma, n, h, M, alph):\n",
    "    est_acf = np.zeros((M, h + 1))\n",
    "    \n",
    "    for i in range(M):\n",
    "        X_t = arma_generate_sample(ar_coff, ma_coff, nsample=n, scale = np.sqrt(sigma))\n",
    "        est_acf[i] = acf(X_t, nlags = h)\n",
    "\n",
    "    acf_up = np.zeros(h + 1)\n",
    "    acf_down = np.zeros(h + 1)\n",
    "\n",
    "    for k in range(h + 1):\n",
    "        acf_up[k] = np.quantile(est_acf[:,k], 1 - (alph/2))\n",
    "        acf_down[k] = np.quantile(est_acf[:,k], (alph/2))\n",
    "\n",
    "    return acf_up, acf_down"
   ]
  },
  {
   "cell_type": "code",
   "execution_count": 446,
   "metadata": {},
   "outputs": [],
   "source": [
    "up, down = func_cf_interval(ar_coff_aic, ma_coff_aic, scale_aic, len(new_df[\"zróżnicowane dane\"]), h, 10000, 0.05)"
   ]
  },
  {
   "cell_type": "code",
   "execution_count": 494,
   "metadata": {},
   "outputs": [
    {
     "data": {
      "application/vnd.plotly.v1+json": {
       "config": {
        "plotlyServerURL": "https://plot.ly"
       },
       "data": [
        {
         "fill": "toself",
         "fillcolor": "rgba(155, 220, 108, 0.3)",
         "line": {
          "color": "rgba(155, 220, 108, 0.45)"
         },
         "name": "Confidence Interval",
         "type": "scatter",
         "x": [
          0,
          1,
          2,
          3,
          4,
          5,
          6,
          7,
          8,
          9,
          10,
          11,
          12,
          13,
          14,
          15,
          16,
          17,
          18,
          19,
          20,
          21,
          22,
          23,
          24,
          25,
          26,
          27,
          28,
          29,
          30,
          31,
          32,
          33,
          34,
          35,
          36,
          37,
          38,
          39,
          40,
          41,
          42,
          43,
          44,
          45,
          46,
          47,
          48,
          49,
          50,
          51,
          52,
          53,
          54,
          55,
          56,
          57,
          58,
          59,
          60,
          61,
          62,
          63,
          64,
          65,
          66,
          67,
          68,
          69,
          70,
          71,
          72,
          73,
          74,
          75,
          76,
          77,
          78,
          79,
          80,
          81,
          82,
          83,
          84,
          85,
          86,
          87,
          88,
          89,
          90,
          91,
          92,
          93,
          94,
          95,
          96,
          97,
          98,
          99,
          100,
          100,
          99,
          98,
          97,
          96,
          95,
          94,
          93,
          92,
          91,
          90,
          89,
          88,
          87,
          86,
          85,
          84,
          83,
          82,
          81,
          80,
          79,
          78,
          77,
          76,
          75,
          74,
          73,
          72,
          71,
          70,
          69,
          68,
          67,
          66,
          65,
          64,
          63,
          62,
          61,
          60,
          59,
          58,
          57,
          56,
          55,
          54,
          53,
          52,
          51,
          50,
          49,
          48,
          47,
          46,
          45,
          44,
          43,
          42,
          41,
          40,
          39,
          38,
          37,
          36,
          35,
          34,
          33,
          32,
          31,
          30,
          29,
          28,
          27,
          26,
          25,
          24,
          23,
          22,
          21,
          20,
          19,
          18,
          17,
          16,
          15,
          14,
          13,
          12,
          11,
          10,
          9,
          8,
          7,
          6,
          5,
          4,
          3,
          2,
          1,
          0
         ],
         "y": [
          1,
          0.6797893429215016,
          0.636908262328886,
          0.6413347924652231,
          0.6192992465606042,
          0.5552568824244891,
          0.5447919434322225,
          0.5556737973825382,
          0.502125815018816,
          0.4647357598623365,
          0.4794632577894397,
          0.4556249934524836,
          0.40791168727471894,
          0.40723256663964086,
          0.4166078859415839,
          0.3635362925908193,
          0.3413850684921477,
          0.36030236082524,
          0.33488496635947557,
          0.2914084209460473,
          0.2969592917600718,
          0.31214659609341644,
          0.25968390625523474,
          0.2430015054021303,
          0.270936262659571,
          0.2494752924717899,
          0.209760911876719,
          0.21837824451179774,
          0.23503675167819754,
          0.18940405227545215,
          0.17862146974555496,
          0.21390938408503882,
          0.1801588165990023,
          0.15287567609200697,
          0.17424189863557205,
          0.1796739626179302,
          0.13958360297368874,
          0.1339251643806739,
          0.17126364646093678,
          0.14190911891012525,
          0.11574914973197675,
          0.1436418856205891,
          0.15372491456601636,
          0.11826152154464112,
          0.1200683358678022,
          0.1566039175163675,
          0.1272909676490708,
          0.10938401783381181,
          0.14191261745824688,
          0.15117466010639025,
          0.11541593848265982,
          0.12910281911717192,
          0.15656394892014971,
          0.12845478011378744,
          0.11565641587583528,
          0.145525629322808,
          0.14393721698730508,
          0.11852339102809405,
          0.12810429643191762,
          0.1521766881341337,
          0.12767912793034414,
          0.12042597150789662,
          0.14621660654614999,
          0.14064935354976815,
          0.12085683385561986,
          0.13305489286853608,
          0.15442023728777873,
          0.13419697446818754,
          0.12744959697197936,
          0.15385594887349463,
          0.1473627438363273,
          0.13035909079024294,
          0.14361272232930622,
          0.1547015710399858,
          0.13998643367079147,
          0.13646282408570667,
          0.15307703031987258,
          0.1471160520261672,
          0.13527679655964397,
          0.14643580586598406,
          0.1531771747486697,
          0.13584140415434987,
          0.13602647025981604,
          0.14767108824563863,
          0.14205469522469727,
          0.1311995705935473,
          0.1406325647275963,
          0.14676693880946978,
          0.129661565129505,
          0.12964225781836533,
          0.14028701266270546,
          0.13243075291769787,
          0.12482476942507667,
          0.1332886891352252,
          0.13545223612068882,
          0.12077601696005297,
          0.12215812035180897,
          0.13119292849898603,
          0.12271476989715553,
          0.11263446621279276,
          0.12091735649202302,
          -0.20378123621005295,
          -0.21283389795004914,
          -0.21160011895292322,
          -0.20522542742767785,
          -0.21662352834982074,
          -0.21926345151654314,
          -0.2134996485141865,
          -0.21795218282587642,
          -0.22969932325404904,
          -0.22584286821652244,
          -0.22202605985404625,
          -0.23145920633578548,
          -0.23779620123727793,
          -0.22629952023304667,
          -0.2342052862083552,
          -0.24319664731497964,
          -0.23953470289578746,
          -0.23531493855992425,
          -0.24904138418398272,
          -0.24929036562048607,
          -0.2389134714362427,
          -0.2479068779906172,
          -0.25843068307254374,
          -0.24871403980982054,
          -0.24865408630133645,
          -0.26028720016530865,
          -0.26153758952522965,
          -0.2540098655371135,
          -0.2629881806719662,
          -0.27312763703828197,
          -0.2603617024414934,
          -0.2581262039069147,
          -0.2751377754198954,
          -0.2729989355013281,
          -0.25679466684584734,
          -0.2722646867824924,
          -0.28705588336716176,
          -0.2664587017533545,
          -0.2669053119926203,
          -0.2869514818491095,
          -0.2768537700556745,
          -0.2644497632666856,
          -0.27719001372390856,
          -0.29030037952482624,
          -0.26786617027634324,
          -0.26851245438184573,
          -0.29219376815592923,
          -0.2761452858634381,
          -0.26166281148618514,
          -0.28139878196944007,
          -0.2910101504043063,
          -0.2634876207054978,
          -0.2731350213730922,
          -0.296058499217025,
          -0.2790529480464868,
          -0.25651172464733907,
          -0.2826282168755332,
          -0.2905998501563577,
          -0.26060575033749245,
          -0.26120211228258544,
          -0.29368270465384894,
          -0.26742351075475335,
          -0.25025861134788363,
          -0.2770089982612674,
          -0.27985722489041814,
          -0.24783727810491374,
          -0.2535850155140162,
          -0.2838266469818179,
          -0.2519491520882285,
          -0.2358898406974224,
          -0.2655757283169024,
          -0.2601626143670202,
          -0.2259732728161862,
          -0.23648859447691803,
          -0.26558004549949593,
          -0.2135100657462214,
          -0.19965721529371203,
          -0.23689258292672338,
          -0.2208421516962832,
          -0.1768630837675943,
          -0.18695982482614878,
          -0.2227704764720759,
          -0.15855722174733386,
          -0.13612183773411415,
          -0.18448921010108857,
          -0.1517848390904156,
          -0.0907615534503877,
          -0.11580686067337452,
          -0.15444998551955705,
          -0.05897565684553857,
          -0.03867566435329023,
          -0.09853958181119149,
          -0.044914868781714246,
          0.03440446075945267,
          0.007136691763323756,
          -0.013908222586198518,
          0.11459952749361481,
          0.14696400247650443,
          0.08382346383026885,
          0.18779585572344593,
          1
         ]
        },
        {
         "line": {
          "color": "#636efa"
         },
         "mode": "lines",
         "type": "scatter",
         "x": [
          0,
          0
         ],
         "y": [
          0,
          1
         ]
        },
        {
         "line": {
          "color": "#636efa"
         },
         "mode": "lines",
         "type": "scatter",
         "x": [
          1,
          1
         ],
         "y": [
          0,
          0.465178323578241
         ]
        },
        {
         "line": {
          "color": "#636efa"
         },
         "mode": "lines",
         "type": "scatter",
         "x": [
          2,
          2
         ],
         "y": [
          0,
          0.39298096653890163
         ]
        },
        {
         "line": {
          "color": "#636efa"
         },
         "mode": "lines",
         "type": "scatter",
         "x": [
          3,
          3
         ],
         "y": [
          0,
          0.4163288944612294
         ]
        },
        {
         "line": {
          "color": "#636efa"
         },
         "mode": "lines",
         "type": "scatter",
         "x": [
          4,
          4
         ],
         "y": [
          0,
          0.39006136516633827
         ]
        },
        {
         "line": {
          "color": "#636efa"
         },
         "mode": "lines",
         "type": "scatter",
         "x": [
          5,
          5
         ],
         "y": [
          0,
          0.2600192802038133
         ]
        },
        {
         "line": {
          "color": "#636efa"
         },
         "mode": "lines",
         "type": "scatter",
         "x": [
          6,
          6
         ],
         "y": [
          0,
          0.3222667632680182
         ]
        },
        {
         "line": {
          "color": "#636efa"
         },
         "mode": "lines",
         "type": "scatter",
         "x": [
          7,
          7
         ],
         "y": [
          0,
          0.3584420103140289
         ]
        },
        {
         "line": {
          "color": "#636efa"
         },
         "mode": "lines",
         "type": "scatter",
         "x": [
          8,
          8
         ],
         "y": [
          0,
          0.2484342713613896
         ]
        },
        {
         "line": {
          "color": "#636efa"
         },
         "mode": "lines",
         "type": "scatter",
         "x": [
          9,
          9
         ],
         "y": [
          0,
          0.20092978219331334
         ]
        },
        {
         "line": {
          "color": "#636efa"
         },
         "mode": "lines",
         "type": "scatter",
         "x": [
          10,
          10
         ],
         "y": [
          0,
          0.2347257726985211
         ]
        },
        {
         "line": {
          "color": "#636efa"
         },
         "mode": "lines",
         "type": "scatter",
         "x": [
          11,
          11
         ],
         "y": [
          0,
          0.17837705599453907
         ]
        },
        {
         "line": {
          "color": "#636efa"
         },
         "mode": "lines",
         "type": "scatter",
         "x": [
          12,
          12
         ],
         "y": [
          0,
          0.08040890522215816
         ]
        },
        {
         "line": {
          "color": "#636efa"
         },
         "mode": "lines",
         "type": "scatter",
         "x": [
          13,
          13
         ],
         "y": [
          0,
          0.0391535949536116
         ]
        },
        {
         "line": {
          "color": "#636efa"
         },
         "mode": "lines",
         "type": "scatter",
         "x": [
          14,
          14
         ],
         "y": [
          0,
          0.1172438109353808
         ]
        },
        {
         "line": {
          "color": "#636efa"
         },
         "mode": "lines",
         "type": "scatter",
         "x": [
          15,
          15
         ],
         "y": [
          0,
          -0.04388664878616131
         ]
        },
        {
         "line": {
          "color": "#636efa"
         },
         "mode": "lines",
         "type": "scatter",
         "x": [
          16,
          16
         ],
         "y": [
          0,
          -0.0595388583197935
         ]
        },
        {
         "line": {
          "color": "#636efa"
         },
         "mode": "lines",
         "type": "scatter",
         "x": [
          17,
          17
         ],
         "y": [
          0,
          -0.0396240167155747
         ]
        },
        {
         "line": {
          "color": "#636efa"
         },
         "mode": "lines",
         "type": "scatter",
         "x": [
          18,
          18
         ],
         "y": [
          0,
          -0.03294887840280157
         ]
        },
        {
         "line": {
          "color": "#636efa"
         },
         "mode": "lines",
         "type": "scatter",
         "x": [
          19,
          19
         ],
         "y": [
          0,
          -0.1950859515829003
         ]
        },
        {
         "line": {
          "color": "#636efa"
         },
         "mode": "lines",
         "type": "scatter",
         "x": [
          20,
          20
         ],
         "y": [
          0,
          -0.1786560382222667
         ]
        },
        {
         "line": {
          "color": "#636efa"
         },
         "mode": "lines",
         "type": "scatter",
         "x": [
          21,
          21
         ],
         "y": [
          0,
          -0.16025717958876173
         ]
        },
        {
         "line": {
          "color": "#636efa"
         },
         "mode": "lines",
         "type": "scatter",
         "x": [
          22,
          22
         ],
         "y": [
          0,
          -0.2695931955997927
         ]
        },
        {
         "line": {
          "color": "#636efa"
         },
         "mode": "lines",
         "type": "scatter",
         "x": [
          23,
          23
         ],
         "y": [
          0,
          -0.2438333502859817
         ]
        },
        {
         "line": {
          "color": "#636efa"
         },
         "mode": "lines",
         "type": "scatter",
         "x": [
          24,
          24
         ],
         "y": [
          0,
          -0.16009460561632308
         ]
        },
        {
         "line": {
          "color": "#636efa"
         },
         "mode": "lines",
         "type": "scatter",
         "x": [
          25,
          25
         ],
         "y": [
          0,
          -0.1576521367211907
         ]
        },
        {
         "line": {
          "color": "#636efa"
         },
         "mode": "lines",
         "type": "scatter",
         "x": [
          26,
          26
         ],
         "y": [
          0,
          -0.14588346328511126
         ]
        },
        {
         "line": {
          "color": "#636efa"
         },
         "mode": "lines",
         "type": "scatter",
         "x": [
          27,
          27
         ],
         "y": [
          0,
          -0.1457833814817596
         ]
        },
        {
         "line": {
          "color": "#636efa"
         },
         "mode": "lines",
         "type": "scatter",
         "x": [
          28,
          28
         ],
         "y": [
          0,
          -0.15917013554200887
         ]
        },
        {
         "line": {
          "color": "#636efa"
         },
         "mode": "lines",
         "type": "scatter",
         "x": [
          29,
          29
         ],
         "y": [
          0,
          -0.18598029334455488
         ]
        },
        {
         "line": {
          "color": "#636efa"
         },
         "mode": "lines",
         "type": "scatter",
         "x": [
          30,
          30
         ],
         "y": [
          0,
          -0.26076568367409675
         ]
        },
        {
         "line": {
          "color": "#636efa"
         },
         "mode": "lines",
         "type": "scatter",
         "x": [
          31,
          31
         ],
         "y": [
          0,
          -0.2075722617272272
         ]
        },
        {
         "line": {
          "color": "#636efa"
         },
         "mode": "lines",
         "type": "scatter",
         "x": [
          32,
          32
         ],
         "y": [
          0,
          -0.1724979193189938
         ]
        },
        {
         "line": {
          "color": "#636efa"
         },
         "mode": "lines",
         "type": "scatter",
         "x": [
          33,
          33
         ],
         "y": [
          0,
          -0.18069733590577328
         ]
        },
        {
         "line": {
          "color": "#636efa"
         },
         "mode": "lines",
         "type": "scatter",
         "x": [
          34,
          34
         ],
         "y": [
          0,
          -0.17950590087435936
         ]
        },
        {
         "line": {
          "color": "#636efa"
         },
         "mode": "lines",
         "type": "scatter",
         "x": [
          35,
          35
         ],
         "y": [
          0,
          -0.09647438359871062
         ]
        },
        {
         "line": {
          "color": "#636efa"
         },
         "mode": "lines",
         "type": "scatter",
         "x": [
          36,
          36
         ],
         "y": [
          0,
          -0.10214326017779525
         ]
        },
        {
         "line": {
          "color": "#636efa"
         },
         "mode": "lines",
         "type": "scatter",
         "x": [
          37,
          37
         ],
         "y": [
          0,
          -0.08440418475366987
         ]
        },
        {
         "line": {
          "color": "#636efa"
         },
         "mode": "lines",
         "type": "scatter",
         "x": [
          38,
          38
         ],
         "y": [
          0,
          -0.016893194698157022
         ]
        },
        {
         "line": {
          "color": "#636efa"
         },
         "mode": "lines",
         "type": "scatter",
         "x": [
          39,
          39
         ],
         "y": [
          0,
          -0.09882226408644283
         ]
        },
        {
         "line": {
          "color": "#636efa"
         },
         "mode": "lines",
         "type": "scatter",
         "x": [
          40,
          40
         ],
         "y": [
          0,
          -0.06223638800119577
         ]
        },
        {
         "line": {
          "color": "#636efa"
         },
         "mode": "lines",
         "type": "scatter",
         "x": [
          41,
          41
         ],
         "y": [
          0,
          -0.029201513200809704
         ]
        },
        {
         "line": {
          "color": "#636efa"
         },
         "mode": "lines",
         "type": "scatter",
         "x": [
          42,
          42
         ],
         "y": [
          0,
          0.022083746909587487
         ]
        },
        {
         "line": {
          "color": "#636efa"
         },
         "mode": "lines",
         "type": "scatter",
         "x": [
          43,
          43
         ],
         "y": [
          0,
          0.034775849104035035
         ]
        },
        {
         "line": {
          "color": "#636efa"
         },
         "mode": "lines",
         "type": "scatter",
         "x": [
          44,
          44
         ],
         "y": [
          0,
          0.009644701484209995
         ]
        },
        {
         "line": {
          "color": "#636efa"
         },
         "mode": "lines",
         "type": "scatter",
         "x": [
          45,
          45
         ],
         "y": [
          0,
          0.009402192626890807
         ]
        },
        {
         "line": {
          "color": "#636efa"
         },
         "mode": "lines",
         "type": "scatter",
         "x": [
          46,
          46
         ],
         "y": [
          0,
          -0.09939926653360068
         ]
        },
        {
         "line": {
          "color": "#636efa"
         },
         "mode": "lines",
         "type": "scatter",
         "x": [
          47,
          47
         ],
         "y": [
          0,
          -0.0771844561770845
         ]
        },
        {
         "line": {
          "color": "#636efa"
         },
         "mode": "lines",
         "type": "scatter",
         "x": [
          48,
          48
         ],
         "y": [
          0,
          -0.07814436180125026
         ]
        },
        {
         "line": {
          "color": "#636efa"
         },
         "mode": "lines",
         "type": "scatter",
         "x": [
          49,
          49
         ],
         "y": [
          0,
          -0.028886516571569876
         ]
        },
        {
         "line": {
          "color": "#636efa"
         },
         "mode": "lines",
         "type": "scatter",
         "x": [
          50,
          50
         ],
         "y": [
          0,
          -0.05522888172260553
         ]
        },
        {
         "line": {
          "color": "#636efa"
         },
         "mode": "lines",
         "type": "scatter",
         "x": [
          51,
          51
         ],
         "y": [
          0,
          0.010017388929584503
         ]
        },
        {
         "line": {
          "color": "#636efa"
         },
         "mode": "lines",
         "type": "scatter",
         "x": [
          52,
          52
         ],
         "y": [
          0,
          0.014456874520311462
         ]
        },
        {
         "line": {
          "color": "#636efa"
         },
         "mode": "lines",
         "type": "scatter",
         "x": [
          53,
          53
         ],
         "y": [
          0,
          -0.05144077147083405
         ]
        },
        {
         "line": {
          "color": "#636efa"
         },
         "mode": "lines",
         "type": "scatter",
         "x": [
          54,
          54
         ],
         "y": [
          0,
          -0.06077752366305725
         ]
        },
        {
         "line": {
          "color": "#636efa"
         },
         "mode": "lines",
         "type": "scatter",
         "x": [
          55,
          55
         ],
         "y": [
          0,
          -0.07413519950532393
         ]
        },
        {
         "line": {
          "color": "#636efa"
         },
         "mode": "lines",
         "type": "scatter",
         "x": [
          56,
          56
         ],
         "y": [
          0,
          -0.09801872146274794
         ]
        },
        {
         "line": {
          "color": "#636efa"
         },
         "mode": "lines",
         "type": "scatter",
         "x": [
          57,
          57
         ],
         "y": [
          0,
          -0.15351707185815933
         ]
        },
        {
         "line": {
          "color": "#636efa"
         },
         "mode": "lines",
         "type": "scatter",
         "x": [
          58,
          58
         ],
         "y": [
          0,
          -0.10559713607920644
         ]
        },
        {
         "line": {
          "color": "#636efa"
         },
         "mode": "lines",
         "type": "scatter",
         "x": [
          59,
          59
         ],
         "y": [
          0,
          -0.0709727296039555
         ]
        },
        {
         "line": {
          "color": "#636efa"
         },
         "mode": "lines",
         "type": "scatter",
         "x": [
          60,
          60
         ],
         "y": [
          0,
          -0.10006462947453512
         ]
        },
        {
         "line": {
          "color": "#636efa"
         },
         "mode": "lines",
         "type": "scatter",
         "x": [
          61,
          61
         ],
         "y": [
          0,
          -0.05646567931281609
         ]
        },
        {
         "line": {
          "color": "#636efa"
         },
         "mode": "lines",
         "type": "scatter",
         "x": [
          62,
          62
         ],
         "y": [
          0,
          -0.0723298373047776
         ]
        },
        {
         "line": {
          "color": "#636efa"
         },
         "mode": "lines",
         "type": "scatter",
         "x": [
          63,
          63
         ],
         "y": [
          0,
          -0.06875044900095646
         ]
        },
        {
         "line": {
          "color": "#636efa"
         },
         "mode": "lines",
         "type": "scatter",
         "x": [
          64,
          64
         ],
         "y": [
          0,
          -0.09354578992175822
         ]
        },
        {
         "line": {
          "color": "#636efa"
         },
         "mode": "lines",
         "type": "scatter",
         "x": [
          65,
          65
         ],
         "y": [
          0,
          -0.06170550064335839
         ]
        },
        {
         "line": {
          "color": "#636efa"
         },
         "mode": "lines",
         "type": "scatter",
         "x": [
          66,
          66
         ],
         "y": [
          0,
          -0.08238523983031425
         ]
        },
        {
         "line": {
          "color": "#636efa"
         },
         "mode": "lines",
         "type": "scatter",
         "x": [
          67,
          67
         ],
         "y": [
          0,
          0.011249261774932625
         ]
        },
        {
         "line": {
          "color": "#636efa"
         },
         "mode": "lines",
         "type": "scatter",
         "x": [
          68,
          68
         ],
         "y": [
          0,
          -0.04818178640996018
         ]
        },
        {
         "line": {
          "color": "#636efa"
         },
         "mode": "lines",
         "type": "scatter",
         "x": [
          69,
          69
         ],
         "y": [
          0,
          0.06756540488937895
         ]
        },
        {
         "line": {
          "color": "#636efa"
         },
         "mode": "lines",
         "type": "scatter",
         "x": [
          70,
          70
         ],
         "y": [
          0,
          0.023799374284136043
         ]
        },
        {
         "line": {
          "color": "#636efa"
         },
         "mode": "lines",
         "type": "scatter",
         "x": [
          71,
          71
         ],
         "y": [
          0,
          0.016367545296635252
         ]
        },
        {
         "line": {
          "color": "#636efa"
         },
         "mode": "lines",
         "type": "scatter",
         "x": [
          72,
          72
         ],
         "y": [
          0,
          0.0015696147679027665
         ]
        },
        {
         "line": {
          "color": "#636efa"
         },
         "mode": "lines",
         "type": "scatter",
         "x": [
          73,
          73
         ],
         "y": [
          0,
          0.017505840620252636
         ]
        },
        {
         "line": {
          "color": "#636efa"
         },
         "mode": "lines",
         "type": "scatter",
         "x": [
          74,
          74
         ],
         "y": [
          0,
          -0.013391551335449068
         ]
        },
        {
         "line": {
          "color": "#636efa"
         },
         "mode": "lines",
         "type": "scatter",
         "x": [
          75,
          75
         ],
         "y": [
          0,
          0.03768430593010243
         ]
        },
        {
         "line": {
          "color": "#636efa"
         },
         "mode": "lines",
         "type": "scatter",
         "x": [
          76,
          76
         ],
         "y": [
          0,
          0.07945773497573831
         ]
        },
        {
         "line": {
          "color": "#636efa"
         },
         "mode": "lines",
         "type": "scatter",
         "x": [
          77,
          77
         ],
         "y": [
          0,
          0.11477792401386445
         ]
        },
        {
         "line": {
          "color": "#636efa"
         },
         "mode": "lines",
         "type": "scatter",
         "x": [
          78,
          78
         ],
         "y": [
          0,
          0.03157435200608923
         ]
        },
        {
         "line": {
          "color": "#636efa"
         },
         "mode": "lines",
         "type": "scatter",
         "x": [
          79,
          79
         ],
         "y": [
          0,
          0.1129797239763445
         ]
        },
        {
         "line": {
          "color": "#636efa"
         },
         "mode": "lines",
         "type": "scatter",
         "x": [
          80,
          80
         ],
         "y": [
          0,
          0.10930076359697377
         ]
        },
        {
         "line": {
          "color": "#636efa"
         },
         "mode": "lines",
         "type": "scatter",
         "x": [
          81,
          81
         ],
         "y": [
          0,
          0.06339464143936116
         ]
        },
        {
         "line": {
          "color": "#636efa"
         },
         "mode": "lines",
         "type": "scatter",
         "x": [
          82,
          82
         ],
         "y": [
          0,
          0.006018704732608272
         ]
        },
        {
         "line": {
          "color": "#636efa"
         },
         "mode": "lines",
         "type": "scatter",
         "x": [
          83,
          83
         ],
         "y": [
          0,
          0.07112118566931637
         ]
        },
        {
         "line": {
          "color": "#636efa"
         },
         "mode": "lines",
         "type": "scatter",
         "x": [
          84,
          84
         ],
         "y": [
          0,
          0.0011695782480098517
         ]
        },
        {
         "line": {
          "color": "#636efa"
         },
         "mode": "lines",
         "type": "scatter",
         "x": [
          85,
          85
         ],
         "y": [
          0,
          0.0269887216043344
         ]
        },
        {
         "line": {
          "color": "#636efa"
         },
         "mode": "lines",
         "type": "scatter",
         "x": [
          86,
          86
         ],
         "y": [
          0,
          0.032085653751975224
         ]
        },
        {
         "line": {
          "color": "#636efa"
         },
         "mode": "lines",
         "type": "scatter",
         "x": [
          87,
          87
         ],
         "y": [
          0,
          0.07767595690410486
         ]
        },
        {
         "line": {
          "color": "#636efa"
         },
         "mode": "lines",
         "type": "scatter",
         "x": [
          88,
          88
         ],
         "y": [
          0,
          0.02618079303831708
         ]
        },
        {
         "line": {
          "color": "#636efa"
         },
         "mode": "lines",
         "type": "scatter",
         "x": [
          89,
          89
         ],
         "y": [
          0,
          -0.0020495564701688935
         ]
        },
        {
         "line": {
          "color": "#636efa"
         },
         "mode": "lines",
         "type": "scatter",
         "x": [
          90,
          90
         ],
         "y": [
          0,
          0.014330862903250747
         ]
        },
        {
         "line": {
          "color": "#636efa"
         },
         "mode": "lines",
         "type": "scatter",
         "x": [
          91,
          91
         ],
         "y": [
          0,
          0.010219701390482946
         ]
        },
        {
         "line": {
          "color": "#636efa"
         },
         "mode": "lines",
         "type": "scatter",
         "x": [
          92,
          92
         ],
         "y": [
          0,
          -0.049014779796436043
         ]
        },
        {
         "line": {
          "color": "#636efa"
         },
         "mode": "lines",
         "type": "scatter",
         "x": [
          93,
          93
         ],
         "y": [
          0,
          0.008382505922141908
         ]
        },
        {
         "line": {
          "color": "#636efa"
         },
         "mode": "lines",
         "type": "scatter",
         "x": [
          94,
          94
         ],
         "y": [
          0,
          0.013100900421334404
         ]
        },
        {
         "line": {
          "color": "#636efa"
         },
         "mode": "lines",
         "type": "scatter",
         "x": [
          95,
          95
         ],
         "y": [
          0,
          -0.04693048585109968
         ]
        },
        {
         "line": {
          "color": "#636efa"
         },
         "mode": "lines",
         "type": "scatter",
         "x": [
          96,
          96
         ],
         "y": [
          0,
          -0.021398257851000226
         ]
        },
        {
         "line": {
          "color": "#636efa"
         },
         "mode": "lines",
         "type": "scatter",
         "x": [
          97,
          97
         ],
         "y": [
          0,
          0.015419231036497137
         ]
        },
        {
         "line": {
          "color": "#636efa"
         },
         "mode": "lines",
         "type": "scatter",
         "x": [
          98,
          98
         ],
         "y": [
          0,
          -0.08870979560745246
         ]
        },
        {
         "line": {
          "color": "#636efa"
         },
         "mode": "lines",
         "type": "scatter",
         "x": [
          99,
          99
         ],
         "y": [
          0,
          -0.12096532092866394
         ]
        },
        {
         "line": {
          "color": "#636efa"
         },
         "mode": "lines",
         "type": "scatter",
         "x": [
          100,
          100
         ],
         "y": [
          0,
          -0.045853422115062645
         ]
        },
        {
         "line": {
          "color": "#636efa",
          "width": 2
         },
         "marker": {
          "size": 8,
          "symbol": "circle"
         },
         "mode": "markers",
         "type": "scatter",
         "x": [
          0,
          1,
          2,
          3,
          4,
          5,
          6,
          7,
          8,
          9,
          10,
          11,
          12,
          13,
          14,
          15,
          16,
          17,
          18,
          19,
          20,
          21,
          22,
          23,
          24,
          25,
          26,
          27,
          28,
          29,
          30,
          31,
          32,
          33,
          34,
          35,
          36,
          37,
          38,
          39,
          40,
          41,
          42,
          43,
          44,
          45,
          46,
          47,
          48,
          49,
          50,
          51,
          52,
          53,
          54,
          55,
          56,
          57,
          58,
          59,
          60,
          61,
          62,
          63,
          64,
          65,
          66,
          67,
          68,
          69,
          70,
          71,
          72,
          73,
          74,
          75,
          76,
          77,
          78,
          79,
          80,
          81,
          82,
          83,
          84,
          85,
          86,
          87,
          88,
          89,
          90,
          91,
          92,
          93,
          94,
          95,
          96,
          97,
          98,
          99,
          100
         ],
         "y": [
          1,
          0.465178323578241,
          0.39298096653890163,
          0.4163288944612294,
          0.39006136516633827,
          0.2600192802038133,
          0.3222667632680182,
          0.3584420103140289,
          0.2484342713613896,
          0.20092978219331334,
          0.2347257726985211,
          0.17837705599453907,
          0.08040890522215816,
          0.0391535949536116,
          0.1172438109353808,
          -0.04388664878616131,
          -0.0595388583197935,
          -0.0396240167155747,
          -0.03294887840280157,
          -0.1950859515829003,
          -0.1786560382222667,
          -0.16025717958876173,
          -0.2695931955997927,
          -0.2438333502859817,
          -0.16009460561632308,
          -0.1576521367211907,
          -0.14588346328511126,
          -0.1457833814817596,
          -0.15917013554200887,
          -0.18598029334455488,
          -0.26076568367409675,
          -0.2075722617272272,
          -0.1724979193189938,
          -0.18069733590577328,
          -0.17950590087435936,
          -0.09647438359871062,
          -0.10214326017779525,
          -0.08440418475366987,
          -0.016893194698157022,
          -0.09882226408644283,
          -0.06223638800119577,
          -0.029201513200809704,
          0.022083746909587487,
          0.034775849104035035,
          0.009644701484209995,
          0.009402192626890807,
          -0.09939926653360068,
          -0.0771844561770845,
          -0.07814436180125026,
          -0.028886516571569876,
          -0.05522888172260553,
          0.010017388929584503,
          0.014456874520311462,
          -0.05144077147083405,
          -0.06077752366305725,
          -0.07413519950532393,
          -0.09801872146274794,
          -0.15351707185815933,
          -0.10559713607920644,
          -0.0709727296039555,
          -0.10006462947453512,
          -0.05646567931281609,
          -0.0723298373047776,
          -0.06875044900095646,
          -0.09354578992175822,
          -0.06170550064335839,
          -0.08238523983031425,
          0.011249261774932625,
          -0.04818178640996018,
          0.06756540488937895,
          0.023799374284136043,
          0.016367545296635252,
          0.0015696147679027665,
          0.017505840620252636,
          -0.013391551335449068,
          0.03768430593010243,
          0.07945773497573831,
          0.11477792401386445,
          0.03157435200608923,
          0.1129797239763445,
          0.10930076359697377,
          0.06339464143936116,
          0.006018704732608272,
          0.07112118566931637,
          0.0011695782480098517,
          0.0269887216043344,
          0.032085653751975224,
          0.07767595690410486,
          0.02618079303831708,
          -0.0020495564701688935,
          0.014330862903250747,
          0.010219701390482946,
          -0.049014779796436043,
          0.008382505922141908,
          0.013100900421334404,
          -0.04693048585109968,
          -0.021398257851000226,
          0.015419231036497137,
          -0.08870979560745246,
          -0.12096532092866394,
          -0.045853422115062645
         ]
        }
       ],
       "layout": {
        "height": 500,
        "showlegend": false,
        "template": {
         "data": {
          "bar": [
           {
            "error_x": {
             "color": "#2a3f5f"
            },
            "error_y": {
             "color": "#2a3f5f"
            },
            "marker": {
             "line": {
              "color": "#E5ECF6",
              "width": 0.5
             },
             "pattern": {
              "fillmode": "overlay",
              "size": 10,
              "solidity": 0.2
             }
            },
            "type": "bar"
           }
          ],
          "barpolar": [
           {
            "marker": {
             "line": {
              "color": "#E5ECF6",
              "width": 0.5
             },
             "pattern": {
              "fillmode": "overlay",
              "size": 10,
              "solidity": 0.2
             }
            },
            "type": "barpolar"
           }
          ],
          "carpet": [
           {
            "aaxis": {
             "endlinecolor": "#2a3f5f",
             "gridcolor": "white",
             "linecolor": "white",
             "minorgridcolor": "white",
             "startlinecolor": "#2a3f5f"
            },
            "baxis": {
             "endlinecolor": "#2a3f5f",
             "gridcolor": "white",
             "linecolor": "white",
             "minorgridcolor": "white",
             "startlinecolor": "#2a3f5f"
            },
            "type": "carpet"
           }
          ],
          "choropleth": [
           {
            "colorbar": {
             "outlinewidth": 0,
             "ticks": ""
            },
            "type": "choropleth"
           }
          ],
          "contour": [
           {
            "colorbar": {
             "outlinewidth": 0,
             "ticks": ""
            },
            "colorscale": [
             [
              0,
              "#0d0887"
             ],
             [
              0.1111111111111111,
              "#46039f"
             ],
             [
              0.2222222222222222,
              "#7201a8"
             ],
             [
              0.3333333333333333,
              "#9c179e"
             ],
             [
              0.4444444444444444,
              "#bd3786"
             ],
             [
              0.5555555555555556,
              "#d8576b"
             ],
             [
              0.6666666666666666,
              "#ed7953"
             ],
             [
              0.7777777777777778,
              "#fb9f3a"
             ],
             [
              0.8888888888888888,
              "#fdca26"
             ],
             [
              1,
              "#f0f921"
             ]
            ],
            "type": "contour"
           }
          ],
          "contourcarpet": [
           {
            "colorbar": {
             "outlinewidth": 0,
             "ticks": ""
            },
            "type": "contourcarpet"
           }
          ],
          "heatmap": [
           {
            "colorbar": {
             "outlinewidth": 0,
             "ticks": ""
            },
            "colorscale": [
             [
              0,
              "#0d0887"
             ],
             [
              0.1111111111111111,
              "#46039f"
             ],
             [
              0.2222222222222222,
              "#7201a8"
             ],
             [
              0.3333333333333333,
              "#9c179e"
             ],
             [
              0.4444444444444444,
              "#bd3786"
             ],
             [
              0.5555555555555556,
              "#d8576b"
             ],
             [
              0.6666666666666666,
              "#ed7953"
             ],
             [
              0.7777777777777778,
              "#fb9f3a"
             ],
             [
              0.8888888888888888,
              "#fdca26"
             ],
             [
              1,
              "#f0f921"
             ]
            ],
            "type": "heatmap"
           }
          ],
          "heatmapgl": [
           {
            "colorbar": {
             "outlinewidth": 0,
             "ticks": ""
            },
            "colorscale": [
             [
              0,
              "#0d0887"
             ],
             [
              0.1111111111111111,
              "#46039f"
             ],
             [
              0.2222222222222222,
              "#7201a8"
             ],
             [
              0.3333333333333333,
              "#9c179e"
             ],
             [
              0.4444444444444444,
              "#bd3786"
             ],
             [
              0.5555555555555556,
              "#d8576b"
             ],
             [
              0.6666666666666666,
              "#ed7953"
             ],
             [
              0.7777777777777778,
              "#fb9f3a"
             ],
             [
              0.8888888888888888,
              "#fdca26"
             ],
             [
              1,
              "#f0f921"
             ]
            ],
            "type": "heatmapgl"
           }
          ],
          "histogram": [
           {
            "marker": {
             "pattern": {
              "fillmode": "overlay",
              "size": 10,
              "solidity": 0.2
             }
            },
            "type": "histogram"
           }
          ],
          "histogram2d": [
           {
            "colorbar": {
             "outlinewidth": 0,
             "ticks": ""
            },
            "colorscale": [
             [
              0,
              "#0d0887"
             ],
             [
              0.1111111111111111,
              "#46039f"
             ],
             [
              0.2222222222222222,
              "#7201a8"
             ],
             [
              0.3333333333333333,
              "#9c179e"
             ],
             [
              0.4444444444444444,
              "#bd3786"
             ],
             [
              0.5555555555555556,
              "#d8576b"
             ],
             [
              0.6666666666666666,
              "#ed7953"
             ],
             [
              0.7777777777777778,
              "#fb9f3a"
             ],
             [
              0.8888888888888888,
              "#fdca26"
             ],
             [
              1,
              "#f0f921"
             ]
            ],
            "type": "histogram2d"
           }
          ],
          "histogram2dcontour": [
           {
            "colorbar": {
             "outlinewidth": 0,
             "ticks": ""
            },
            "colorscale": [
             [
              0,
              "#0d0887"
             ],
             [
              0.1111111111111111,
              "#46039f"
             ],
             [
              0.2222222222222222,
              "#7201a8"
             ],
             [
              0.3333333333333333,
              "#9c179e"
             ],
             [
              0.4444444444444444,
              "#bd3786"
             ],
             [
              0.5555555555555556,
              "#d8576b"
             ],
             [
              0.6666666666666666,
              "#ed7953"
             ],
             [
              0.7777777777777778,
              "#fb9f3a"
             ],
             [
              0.8888888888888888,
              "#fdca26"
             ],
             [
              1,
              "#f0f921"
             ]
            ],
            "type": "histogram2dcontour"
           }
          ],
          "mesh3d": [
           {
            "colorbar": {
             "outlinewidth": 0,
             "ticks": ""
            },
            "type": "mesh3d"
           }
          ],
          "parcoords": [
           {
            "line": {
             "colorbar": {
              "outlinewidth": 0,
              "ticks": ""
             }
            },
            "type": "parcoords"
           }
          ],
          "pie": [
           {
            "automargin": true,
            "type": "pie"
           }
          ],
          "scatter": [
           {
            "fillpattern": {
             "fillmode": "overlay",
             "size": 10,
             "solidity": 0.2
            },
            "type": "scatter"
           }
          ],
          "scatter3d": [
           {
            "line": {
             "colorbar": {
              "outlinewidth": 0,
              "ticks": ""
             }
            },
            "marker": {
             "colorbar": {
              "outlinewidth": 0,
              "ticks": ""
             }
            },
            "type": "scatter3d"
           }
          ],
          "scattercarpet": [
           {
            "marker": {
             "colorbar": {
              "outlinewidth": 0,
              "ticks": ""
             }
            },
            "type": "scattercarpet"
           }
          ],
          "scattergeo": [
           {
            "marker": {
             "colorbar": {
              "outlinewidth": 0,
              "ticks": ""
             }
            },
            "type": "scattergeo"
           }
          ],
          "scattergl": [
           {
            "marker": {
             "colorbar": {
              "outlinewidth": 0,
              "ticks": ""
             }
            },
            "type": "scattergl"
           }
          ],
          "scattermapbox": [
           {
            "marker": {
             "colorbar": {
              "outlinewidth": 0,
              "ticks": ""
             }
            },
            "type": "scattermapbox"
           }
          ],
          "scatterpolar": [
           {
            "marker": {
             "colorbar": {
              "outlinewidth": 0,
              "ticks": ""
             }
            },
            "type": "scatterpolar"
           }
          ],
          "scatterpolargl": [
           {
            "marker": {
             "colorbar": {
              "outlinewidth": 0,
              "ticks": ""
             }
            },
            "type": "scatterpolargl"
           }
          ],
          "scatterternary": [
           {
            "marker": {
             "colorbar": {
              "outlinewidth": 0,
              "ticks": ""
             }
            },
            "type": "scatterternary"
           }
          ],
          "surface": [
           {
            "colorbar": {
             "outlinewidth": 0,
             "ticks": ""
            },
            "colorscale": [
             [
              0,
              "#0d0887"
             ],
             [
              0.1111111111111111,
              "#46039f"
             ],
             [
              0.2222222222222222,
              "#7201a8"
             ],
             [
              0.3333333333333333,
              "#9c179e"
             ],
             [
              0.4444444444444444,
              "#bd3786"
             ],
             [
              0.5555555555555556,
              "#d8576b"
             ],
             [
              0.6666666666666666,
              "#ed7953"
             ],
             [
              0.7777777777777778,
              "#fb9f3a"
             ],
             [
              0.8888888888888888,
              "#fdca26"
             ],
             [
              1,
              "#f0f921"
             ]
            ],
            "type": "surface"
           }
          ],
          "table": [
           {
            "cells": {
             "fill": {
              "color": "#EBF0F8"
             },
             "line": {
              "color": "white"
             }
            },
            "header": {
             "fill": {
              "color": "#C8D4E3"
             },
             "line": {
              "color": "white"
             }
            },
            "type": "table"
           }
          ]
         },
         "layout": {
          "annotationdefaults": {
           "arrowcolor": "#2a3f5f",
           "arrowhead": 0,
           "arrowwidth": 1
          },
          "autotypenumbers": "strict",
          "coloraxis": {
           "colorbar": {
            "outlinewidth": 0,
            "ticks": ""
           }
          },
          "colorscale": {
           "diverging": [
            [
             0,
             "#8e0152"
            ],
            [
             0.1,
             "#c51b7d"
            ],
            [
             0.2,
             "#de77ae"
            ],
            [
             0.3,
             "#f1b6da"
            ],
            [
             0.4,
             "#fde0ef"
            ],
            [
             0.5,
             "#f7f7f7"
            ],
            [
             0.6,
             "#e6f5d0"
            ],
            [
             0.7,
             "#b8e186"
            ],
            [
             0.8,
             "#7fbc41"
            ],
            [
             0.9,
             "#4d9221"
            ],
            [
             1,
             "#276419"
            ]
           ],
           "sequential": [
            [
             0,
             "#0d0887"
            ],
            [
             0.1111111111111111,
             "#46039f"
            ],
            [
             0.2222222222222222,
             "#7201a8"
            ],
            [
             0.3333333333333333,
             "#9c179e"
            ],
            [
             0.4444444444444444,
             "#bd3786"
            ],
            [
             0.5555555555555556,
             "#d8576b"
            ],
            [
             0.6666666666666666,
             "#ed7953"
            ],
            [
             0.7777777777777778,
             "#fb9f3a"
            ],
            [
             0.8888888888888888,
             "#fdca26"
            ],
            [
             1,
             "#f0f921"
            ]
           ],
           "sequentialminus": [
            [
             0,
             "#0d0887"
            ],
            [
             0.1111111111111111,
             "#46039f"
            ],
            [
             0.2222222222222222,
             "#7201a8"
            ],
            [
             0.3333333333333333,
             "#9c179e"
            ],
            [
             0.4444444444444444,
             "#bd3786"
            ],
            [
             0.5555555555555556,
             "#d8576b"
            ],
            [
             0.6666666666666666,
             "#ed7953"
            ],
            [
             0.7777777777777778,
             "#fb9f3a"
            ],
            [
             0.8888888888888888,
             "#fdca26"
            ],
            [
             1,
             "#f0f921"
            ]
           ]
          },
          "colorway": [
           "#636efa",
           "#EF553B",
           "#00cc96",
           "#ab63fa",
           "#FFA15A",
           "#19d3f3",
           "#FF6692",
           "#B6E880",
           "#FF97FF",
           "#FECB52"
          ],
          "font": {
           "color": "#2a3f5f"
          },
          "geo": {
           "bgcolor": "white",
           "lakecolor": "white",
           "landcolor": "#E5ECF6",
           "showlakes": true,
           "showland": true,
           "subunitcolor": "white"
          },
          "hoverlabel": {
           "align": "left"
          },
          "hovermode": "closest",
          "mapbox": {
           "style": "light"
          },
          "paper_bgcolor": "white",
          "plot_bgcolor": "#E5ECF6",
          "polar": {
           "angularaxis": {
            "gridcolor": "white",
            "linecolor": "white",
            "ticks": ""
           },
           "bgcolor": "#E5ECF6",
           "radialaxis": {
            "gridcolor": "white",
            "linecolor": "white",
            "ticks": ""
           }
          },
          "scene": {
           "xaxis": {
            "backgroundcolor": "#E5ECF6",
            "gridcolor": "white",
            "gridwidth": 2,
            "linecolor": "white",
            "showbackground": true,
            "ticks": "",
            "zerolinecolor": "white"
           },
           "yaxis": {
            "backgroundcolor": "#E5ECF6",
            "gridcolor": "white",
            "gridwidth": 2,
            "linecolor": "white",
            "showbackground": true,
            "ticks": "",
            "zerolinecolor": "white"
           },
           "zaxis": {
            "backgroundcolor": "#E5ECF6",
            "gridcolor": "white",
            "gridwidth": 2,
            "linecolor": "white",
            "showbackground": true,
            "ticks": "",
            "zerolinecolor": "white"
           }
          },
          "shapedefaults": {
           "line": {
            "color": "#2a3f5f"
           }
          },
          "ternary": {
           "aaxis": {
            "gridcolor": "white",
            "linecolor": "white",
            "ticks": ""
           },
           "baxis": {
            "gridcolor": "white",
            "linecolor": "white",
            "ticks": ""
           },
           "bgcolor": "#E5ECF6",
           "caxis": {
            "gridcolor": "white",
            "linecolor": "white",
            "ticks": ""
           }
          },
          "title": {
           "x": 0.05
          },
          "xaxis": {
           "automargin": true,
           "gridcolor": "white",
           "linecolor": "white",
           "ticks": "",
           "title": {
            "standoff": 15
           },
           "zerolinecolor": "white",
           "zerolinewidth": 2
          },
          "yaxis": {
           "automargin": true,
           "gridcolor": "white",
           "linecolor": "white",
           "ticks": "",
           "title": {
            "standoff": 15
           },
           "zerolinecolor": "white",
           "zerolinewidth": 2
          }
         }
        },
        "title": {
         "font": {
          "size": 18
         },
         "text": "Funkcja autokorelacji dla danych z przedziałem ufności",
         "x": 0.5,
         "xanchor": "center"
        },
        "width": 800,
        "xaxis": {
         "title": {
          "text": "h"
         }
        },
        "yaxis": {
         "title": {
          "text": "ACF"
         }
        }
       }
      }
     },
     "metadata": {},
     "output_type": "display_data"
    }
   ],
   "source": [
    "fig = go.Figure()\n",
    "\n",
    "fig.add_trace(\n",
    "    go.Scatter(\n",
    "        x=np.arange(0, h + 1).tolist() + np.arange(0, h + 1).tolist()[::-1], \n",
    "        y=up.tolist() + down.tolist()[::-1], \n",
    "        fill='toself',\n",
    "        fillcolor='rgba(155, 220, 108, 0.3)',\n",
    "        line=dict(color='rgba(155, 220, 108, 0.45)'),\n",
    "        name='Confidence Interval'\n",
    "    )\n",
    ")\n",
    "\n",
    "\n",
    "[fig.add_scatter(\n",
    "    x=(x,x), \n",
    "    y=(0,acf_boars[x]), \n",
    "    mode='lines', \n",
    "    line_color='#636efa'\n",
    "    ) for x in range(len(acf_boars))\n",
    "]\n",
    "\n",
    "fig.add_trace(\n",
    "    go.Scatter(\n",
    "        x=np.arange(0, h + 1),\n",
    "        y=acf_boars,\n",
    "        mode='markers',\n",
    "        line=dict(width=2, color = '#636efa'),\n",
    "        marker=dict(\n",
    "            symbol='circle',\n",
    "            size=8,\n",
    "        )\n",
    "    )\n",
    ")\n",
    "\n",
    "\n",
    "\n",
    "fig.update_layout(\n",
    "    title={\n",
    "        'text': f\"Funkcja autokorelacji dla danych z przedziałem ufności\",\n",
    "        'x': 0.5,  \n",
    "        'xanchor': 'center'\n",
    "    },\n",
    "    xaxis_title=\"h\",\n",
    "    yaxis_title=\"ACF\",\n",
    "    title_font_size=18,\n",
    "    width=800,\n",
    "    height=500,\n",
    "    showlegend=False\n",
    ")\n",
    "\n",
    "fig.show()\n"
   ]
  },
  {
   "cell_type": "code",
   "execution_count": 448,
   "metadata": {},
   "outputs": [],
   "source": [
    "alpha = 0.05\n",
    "X_t = np.zeros((1000, len(new_df[\"zróżnicowane dane\"])))\n",
    "\n",
    "for i in range(1000):\n",
    "    X_t[i] = arma_generate_sample(ar_coff_aic, ma_coff_aic, nsample=len(new_df[\"zróżnicowane dane\"]), scale = np.sqrt(scale_aic))\n",
    "\n",
    "q1 = np.zeros(len(new_df[\"zróżnicowane dane\"]))\n",
    "q2 = np.zeros(len(new_df[\"zróżnicowane dane\"]))\n",
    "\n",
    "for k in range(len(new_df[\"zróżnicowane dane\"])):\n",
    "    q1[k] = np.quantile(X_t[:, k], (alpha/2))\n",
    "    q2[k] = np.quantile(X_t[:, k], 1 - (alpha/2))"
   ]
  },
  {
   "cell_type": "code",
   "execution_count": 449,
   "metadata": {},
   "outputs": [
    {
     "data": {
      "application/vnd.plotly.v1+json": {
       "config": {
        "plotlyServerURL": "https://plot.ly"
       },
       "data": [
        {
         "hovertemplate": "x=%{x}<br>y=%{y}<extra></extra>",
         "legendgroup": "",
         "line": {
          "color": "#636efa",
          "dash": "solid"
         },
         "marker": {
          "symbol": "circle"
         },
         "mode": "lines",
         "name": "",
         "orientation": "v",
         "showlegend": false,
         "type": "scatter",
         "x": [
          "2021-01-10T00:00:00",
          "2021-01-17T00:00:00",
          "2021-01-24T00:00:00",
          "2021-01-31T00:00:00",
          "2021-02-07T00:00:00",
          "2021-02-14T00:00:00",
          "2021-02-21T00:00:00",
          "2021-02-28T00:00:00",
          "2021-03-07T00:00:00",
          "2021-03-14T00:00:00",
          "2021-03-21T00:00:00",
          "2021-03-28T00:00:00",
          "2021-04-04T00:00:00",
          "2021-04-11T00:00:00",
          "2021-04-18T00:00:00",
          "2021-04-25T00:00:00",
          "2021-05-02T00:00:00",
          "2021-05-09T00:00:00",
          "2021-05-16T00:00:00",
          "2021-05-23T00:00:00",
          "2021-05-30T00:00:00",
          "2021-06-06T00:00:00",
          "2021-06-13T00:00:00",
          "2021-06-20T00:00:00",
          "2021-06-27T00:00:00",
          "2021-07-04T00:00:00",
          "2021-07-11T00:00:00",
          "2021-07-18T00:00:00",
          "2021-07-25T00:00:00",
          "2021-08-01T00:00:00",
          "2021-08-08T00:00:00",
          "2021-08-15T00:00:00",
          "2021-08-22T00:00:00",
          "2021-08-29T00:00:00",
          "2021-09-05T00:00:00",
          "2021-09-12T00:00:00",
          "2021-09-19T00:00:00",
          "2021-09-26T00:00:00",
          "2021-10-03T00:00:00",
          "2021-10-10T00:00:00",
          "2021-10-17T00:00:00",
          "2021-10-24T00:00:00",
          "2021-10-31T00:00:00",
          "2021-11-07T00:00:00",
          "2021-11-14T00:00:00",
          "2021-11-21T00:00:00",
          "2021-11-28T00:00:00",
          "2021-12-05T00:00:00",
          "2021-12-12T00:00:00",
          "2021-12-19T00:00:00",
          "2021-12-26T00:00:00",
          "2022-01-02T00:00:00",
          "2022-01-09T00:00:00",
          "2022-01-16T00:00:00",
          "2022-01-23T00:00:00",
          "2022-01-30T00:00:00",
          "2022-02-06T00:00:00",
          "2022-02-13T00:00:00",
          "2022-02-20T00:00:00",
          "2022-02-27T00:00:00",
          "2022-03-06T00:00:00",
          "2022-03-13T00:00:00",
          "2022-03-20T00:00:00",
          "2022-03-27T00:00:00",
          "2022-04-03T00:00:00",
          "2022-04-10T00:00:00",
          "2022-04-17T00:00:00",
          "2022-04-24T00:00:00",
          "2022-05-01T00:00:00",
          "2022-05-08T00:00:00",
          "2022-05-15T00:00:00",
          "2022-05-22T00:00:00",
          "2022-05-29T00:00:00",
          "2022-06-05T00:00:00",
          "2022-06-12T00:00:00",
          "2022-06-19T00:00:00",
          "2022-06-26T00:00:00",
          "2022-07-03T00:00:00",
          "2022-07-10T00:00:00",
          "2022-07-17T00:00:00",
          "2022-07-24T00:00:00",
          "2022-07-31T00:00:00",
          "2022-08-07T00:00:00",
          "2022-08-14T00:00:00",
          "2022-08-21T00:00:00",
          "2022-08-28T00:00:00",
          "2022-09-04T00:00:00",
          "2022-09-11T00:00:00",
          "2022-09-18T00:00:00",
          "2022-09-25T00:00:00",
          "2022-10-02T00:00:00",
          "2022-10-09T00:00:00",
          "2022-10-16T00:00:00",
          "2022-10-23T00:00:00",
          "2022-10-30T00:00:00",
          "2022-11-06T00:00:00",
          "2022-11-13T00:00:00",
          "2022-11-20T00:00:00",
          "2022-11-27T00:00:00",
          "2022-12-04T00:00:00",
          "2022-12-11T00:00:00",
          "2022-12-18T00:00:00",
          "2022-12-25T00:00:00",
          "2023-01-01T00:00:00",
          "2023-01-08T00:00:00",
          "2023-01-15T00:00:00",
          "2023-01-22T00:00:00",
          "2023-01-29T00:00:00",
          "2023-02-05T00:00:00",
          "2023-02-12T00:00:00",
          "2023-02-19T00:00:00",
          "2023-02-26T00:00:00",
          "2023-03-05T00:00:00",
          "2023-03-12T00:00:00",
          "2023-03-19T00:00:00",
          "2023-03-26T00:00:00",
          "2023-04-02T00:00:00",
          "2023-04-09T00:00:00",
          "2023-04-16T00:00:00",
          "2023-04-23T00:00:00",
          "2023-04-30T00:00:00",
          "2023-05-07T00:00:00",
          "2023-05-14T00:00:00",
          "2023-05-21T00:00:00",
          "2023-05-28T00:00:00",
          "2023-06-04T00:00:00",
          "2023-06-11T00:00:00",
          "2023-06-18T00:00:00",
          "2023-06-25T00:00:00",
          "2023-07-02T00:00:00",
          "2023-07-09T00:00:00",
          "2023-07-16T00:00:00",
          "2023-07-23T00:00:00",
          "2023-07-30T00:00:00",
          "2023-08-06T00:00:00",
          "2023-08-13T00:00:00",
          "2023-08-20T00:00:00",
          "2023-08-27T00:00:00",
          "2023-09-03T00:00:00",
          "2023-09-10T00:00:00",
          "2023-09-17T00:00:00",
          "2023-09-24T00:00:00",
          "2023-10-01T00:00:00",
          "2023-10-08T00:00:00",
          "2023-10-15T00:00:00",
          "2023-10-22T00:00:00",
          "2023-10-29T00:00:00",
          "2023-11-05T00:00:00",
          "2023-11-12T00:00:00",
          "2023-11-19T00:00:00",
          "2023-11-26T00:00:00",
          "2023-12-03T00:00:00",
          "2023-12-10T00:00:00",
          "2023-12-17T00:00:00",
          "2023-12-24T00:00:00",
          "2023-12-31T00:00:00"
         ],
         "xaxis": "x",
         "y": [
          1.203905690799239,
          1.4423988249502262,
          2.1123395444372495,
          0.87951485625819,
          1.8305896620503121,
          1.3121359394458851,
          1.5634410180125222,
          -1.9305470532560145,
          0.6990371075721029,
          1.712599355432113,
          1.100491749141546,
          0.2001742913184703,
          0.8498680631115842,
          -0.05780379821699366,
          -1.0601524814723353,
          0.13195007684863658,
          0.6475350771883894,
          -2.35153538863561,
          0.31973882627764905,
          0.3828304198586787,
          -0.03894551294169357,
          0.6080857010186147,
          0.28906808458749556,
          -0.7823721597385678,
          -2.409384706430041,
          -0.25322793015063905,
          -0.495339533486562,
          -0.05231294126567665,
          -1.017892824538058,
          0.05104913915606257,
          0.20247172547131154,
          -0.8184777523106406,
          -0.12696639939305943,
          0.581530962626446,
          -0.38651602468622936,
          -0.34112098414032843,
          0.40790932192498985,
          0.5415640282065572,
          -0.7435368766801238,
          0.1657053086299456,
          0.3916987018694087,
          0.4928866613380105,
          0.9428495733430671,
          1.0715903602338779,
          1.669257300407759,
          1.679987755757935,
          2.0366309398790845,
          1.7145421884749972,
          1.53762424107917,
          1.214272823203597,
          1.3086457204933035,
          1.521143097463293,
          -2.526007173068394,
          0.7914311129034326,
          1.3291193886694979,
          -0.24830532678220862,
          0.551021170165229,
          -0.21594846257474298,
          -0.1295928615207842,
          -0.7618797791052758,
          -0.8294176113456011,
          -0.656176815219208,
          -0.6873338508928004,
          -0.19479036353782497,
          -0.46863462765390373,
          -1.091846333308916,
          -3.6291465254067274,
          -2.315516217706377,
          -1.6653260240985963,
          -1.140011009523346,
          -0.9536747459155661,
          -0.6595411263126927,
          -0.8546517077320326,
          -0.39737333933554275,
          -1.7049630670782792,
          -1.4230508918498743,
          -1.030949799787689,
          -0.9594750027875065,
          -2.942985841254441,
          -1.3903243357320574,
          -1.1912415580101943,
          -0.571891328608447,
          -0.6916424500306868,
          -0.29472294702775237,
          -1.820791422623909,
          0.16993915788292568,
          -0.8272972668036314,
          -0.06331322715118315,
          -0.5192891764010965,
          -0.3464165324475612,
          -0.8306486479726098,
          0.08551758226556316,
          -0.13865783005273524,
          0.1746764259224678,
          -0.23636563127668175,
          -0.7841227534667583,
          0.1961013761607271,
          1.0857663135197635,
          0.7902155025403781,
          0.3349255493721399,
          0.9142143591698195,
          0.4228113411938308,
          0.524295993737268,
          -0.37406118058666316,
          -1.2531627014637818,
          1.0549705808800427,
          0.8877765180187565,
          0.17684821258520422,
          -0.6815621940859806,
          0.5228680579409772,
          -0.2234099925736901,
          -0.9396381399829599,
          1.632413793606247,
          0.7181136589231354,
          0.3578902656792593,
          0.43804177517043996,
          1.033143143889867,
          -0.3852772660088304,
          1.1533422473523602,
          0.5297102399946523,
          1.9550000410031254,
          0.0580842125883434,
          0.44978781945076474,
          2.50680605879466,
          1.0057725680687,
          1.5269141034391858,
          0.8453694592291088,
          0.9529404199986109,
          0.15252166896982366,
          -0.6641236278944058,
          1.0073360195226622,
          0.31070293442459374,
          -0.05676127804558728,
          0.6732657041792951,
          1.0969223473211462,
          -1.3517393783324074,
          0.14600851991636965,
          -0.01277108368311275,
          0.43462342406646215,
          0.8328381327977077,
          -0.5542000130063971,
          -0.25330776280760325,
          -0.7802343670605159,
          -0.4923664849623943,
          -0.3858789775719096,
          -0.7203209274013025,
          -0.9658256666829725,
          -1.438663458622016,
          -0.6189480853178475,
          -0.17128547653118886,
          0.8350912576755292,
          -0.3199824529967037,
          -0.3071016756358702,
          -0.7867394543151649,
          -0.5130798535643715,
          -1.17230521120631
         ],
         "yaxis": "y"
        },
        {
         "line": {
          "color": "red",
          "width": 2
         },
         "mode": "lines",
         "type": "scatter",
         "x": [
          "2021-01-10T00:00:00",
          "2021-01-17T00:00:00",
          "2021-01-24T00:00:00",
          "2021-01-31T00:00:00",
          "2021-02-07T00:00:00",
          "2021-02-14T00:00:00",
          "2021-02-21T00:00:00",
          "2021-02-28T00:00:00",
          "2021-03-07T00:00:00",
          "2021-03-14T00:00:00",
          "2021-03-21T00:00:00",
          "2021-03-28T00:00:00",
          "2021-04-04T00:00:00",
          "2021-04-11T00:00:00",
          "2021-04-18T00:00:00",
          "2021-04-25T00:00:00",
          "2021-05-02T00:00:00",
          "2021-05-09T00:00:00",
          "2021-05-16T00:00:00",
          "2021-05-23T00:00:00",
          "2021-05-30T00:00:00",
          "2021-06-06T00:00:00",
          "2021-06-13T00:00:00",
          "2021-06-20T00:00:00",
          "2021-06-27T00:00:00",
          "2021-07-04T00:00:00",
          "2021-07-11T00:00:00",
          "2021-07-18T00:00:00",
          "2021-07-25T00:00:00",
          "2021-08-01T00:00:00",
          "2021-08-08T00:00:00",
          "2021-08-15T00:00:00",
          "2021-08-22T00:00:00",
          "2021-08-29T00:00:00",
          "2021-09-05T00:00:00",
          "2021-09-12T00:00:00",
          "2021-09-19T00:00:00",
          "2021-09-26T00:00:00",
          "2021-10-03T00:00:00",
          "2021-10-10T00:00:00",
          "2021-10-17T00:00:00",
          "2021-10-24T00:00:00",
          "2021-10-31T00:00:00",
          "2021-11-07T00:00:00",
          "2021-11-14T00:00:00",
          "2021-11-21T00:00:00",
          "2021-11-28T00:00:00",
          "2021-12-05T00:00:00",
          "2021-12-12T00:00:00",
          "2021-12-19T00:00:00",
          "2021-12-26T00:00:00",
          "2022-01-02T00:00:00",
          "2022-01-09T00:00:00",
          "2022-01-16T00:00:00",
          "2022-01-23T00:00:00",
          "2022-01-30T00:00:00",
          "2022-02-06T00:00:00",
          "2022-02-13T00:00:00",
          "2022-02-20T00:00:00",
          "2022-02-27T00:00:00",
          "2022-03-06T00:00:00",
          "2022-03-13T00:00:00",
          "2022-03-20T00:00:00",
          "2022-03-27T00:00:00",
          "2022-04-03T00:00:00",
          "2022-04-10T00:00:00",
          "2022-04-17T00:00:00",
          "2022-04-24T00:00:00",
          "2022-05-01T00:00:00",
          "2022-05-08T00:00:00",
          "2022-05-15T00:00:00",
          "2022-05-22T00:00:00",
          "2022-05-29T00:00:00",
          "2022-06-05T00:00:00",
          "2022-06-12T00:00:00",
          "2022-06-19T00:00:00",
          "2022-06-26T00:00:00",
          "2022-07-03T00:00:00",
          "2022-07-10T00:00:00",
          "2022-07-17T00:00:00",
          "2022-07-24T00:00:00",
          "2022-07-31T00:00:00",
          "2022-08-07T00:00:00",
          "2022-08-14T00:00:00",
          "2022-08-21T00:00:00",
          "2022-08-28T00:00:00",
          "2022-09-04T00:00:00",
          "2022-09-11T00:00:00",
          "2022-09-18T00:00:00",
          "2022-09-25T00:00:00",
          "2022-10-02T00:00:00",
          "2022-10-09T00:00:00",
          "2022-10-16T00:00:00",
          "2022-10-23T00:00:00",
          "2022-10-30T00:00:00",
          "2022-11-06T00:00:00",
          "2022-11-13T00:00:00",
          "2022-11-20T00:00:00",
          "2022-11-27T00:00:00",
          "2022-12-04T00:00:00",
          "2022-12-11T00:00:00",
          "2022-12-18T00:00:00",
          "2022-12-25T00:00:00",
          "2023-01-01T00:00:00",
          "2023-01-08T00:00:00",
          "2023-01-15T00:00:00",
          "2023-01-22T00:00:00",
          "2023-01-29T00:00:00",
          "2023-02-05T00:00:00",
          "2023-02-12T00:00:00",
          "2023-02-19T00:00:00",
          "2023-02-26T00:00:00",
          "2023-03-05T00:00:00",
          "2023-03-12T00:00:00",
          "2023-03-19T00:00:00",
          "2023-03-26T00:00:00",
          "2023-04-02T00:00:00",
          "2023-04-09T00:00:00",
          "2023-04-16T00:00:00",
          "2023-04-23T00:00:00",
          "2023-04-30T00:00:00",
          "2023-05-07T00:00:00",
          "2023-05-14T00:00:00",
          "2023-05-21T00:00:00",
          "2023-05-28T00:00:00",
          "2023-06-04T00:00:00",
          "2023-06-11T00:00:00",
          "2023-06-18T00:00:00",
          "2023-06-25T00:00:00",
          "2023-07-02T00:00:00",
          "2023-07-09T00:00:00",
          "2023-07-16T00:00:00",
          "2023-07-23T00:00:00",
          "2023-07-30T00:00:00",
          "2023-08-06T00:00:00",
          "2023-08-13T00:00:00",
          "2023-08-20T00:00:00",
          "2023-08-27T00:00:00",
          "2023-09-03T00:00:00",
          "2023-09-10T00:00:00",
          "2023-09-17T00:00:00",
          "2023-09-24T00:00:00",
          "2023-10-01T00:00:00",
          "2023-10-08T00:00:00",
          "2023-10-15T00:00:00",
          "2023-10-22T00:00:00",
          "2023-10-29T00:00:00",
          "2023-11-05T00:00:00",
          "2023-11-12T00:00:00",
          "2023-11-19T00:00:00",
          "2023-11-26T00:00:00",
          "2023-12-03T00:00:00",
          "2023-12-10T00:00:00",
          "2023-12-17T00:00:00",
          "2023-12-24T00:00:00",
          "2023-12-31T00:00:00"
         ],
         "y": [
          -1.6347618212405102,
          -1.7794136575364021,
          -1.774416652501332,
          -1.7494737210440967,
          -1.876021846306403,
          -1.764072726324144,
          -2.107936216741684,
          -2.0286674928795674,
          -2.0241466534209898,
          -2.1379312515338156,
          -2.0210133275848,
          -2.121733600061173,
          -2.0354186805306704,
          -1.9691216897883468,
          -2.0607075204972776,
          -2.0640439183434713,
          -2.0115775063598913,
          -2.0136141184952985,
          -2.124502038376915,
          -2.044448582406822,
          -2.0425595021403473,
          -2.072191509114607,
          -2.314221652654333,
          -2.1649588824962485,
          -2.177509925366738,
          -2.2758149810628368,
          -2.099230697395045,
          -2.080082117974244,
          -1.9444247306934117,
          -2.1743207405983416,
          -2.2140534559420773,
          -2.135132770574836,
          -2.1014253144098545,
          -2.2892295869249506,
          -2.12233385905057,
          -2.0639390334727623,
          -2.044963757675544,
          -2.0990520344131016,
          -2.236616810388605,
          -2.139870465686537,
          -2.1479521736200367,
          -2.2264104243410636,
          -2.1952186147950736,
          -2.1257583857786524,
          -2.2152590669816523,
          -2.1402641868200827,
          -2.329299325844495,
          -2.309940172251753,
          -2.276067369658874,
          -2.143110623406852,
          -2.0220377914853773,
          -2.240008454944553,
          -2.1417777264678755,
          -2.1221298326988105,
          -2.1719280778633228,
          -2.1441585359879256,
          -2.107586912069933,
          -2.0879302093060264,
          -2.2665921471248045,
          -2.1702793847214528,
          -2.1373341371458756,
          -2.0420501778345033,
          -2.2062341184732035,
          -2.113368365726052,
          -1.9426204552425042,
          -2.1291118089922763,
          -2.105656748619878,
          -2.175905170165987,
          -2.1733524166262406,
          -2.1841008506045108,
          -2.207142167478814,
          -1.992937798482577,
          -2.0344301531959843,
          -2.014208031813897,
          -1.980530181277785,
          -2.1270848725352813,
          -2.075996631880986,
          -2.0292569274189276,
          -2.088024516408834,
          -2.099490102287843,
          -2.059982731908228,
          -1.9920667015502522,
          -2.177102179903644,
          -2.0511555721613495,
          -2.019103347416472,
          -2.1696643276644028,
          -2.219846594444337,
          -1.989472793148026,
          -2.09050732785796,
          -2.1173604957763454,
          -2.1352536737949546,
          -2.0375536523492035,
          -2.182996671208516,
          -1.9707210429687052,
          -1.990011025788069,
          -2.0338711979334443,
          -1.9833689879584664,
          -2.0699230391554844,
          -1.989754433815541,
          -2.077334858063085,
          -2.0281138119926316,
          -2.2006566141783916,
          -2.2095309463862423,
          -2.2913256307973815,
          -2.1803015592583366,
          -2.216380609714004,
          -2.3231152252579457,
          -2.243102011979708,
          -2.158421927450296,
          -2.018223359338746,
          -2.397811759021509,
          -2.14909163586748,
          -2.3079845760796975,
          -2.3246293020312225,
          -2.181016420867863,
          -2.2879452922556793,
          -2.287906776994812,
          -2.3280626269681806,
          -2.037606449648931,
          -2.270285437741961,
          -2.191327397861879,
          -2.1618752826957204,
          -2.119239074230716,
          -1.9702526530235502,
          -2.0151358501200294,
          -2.147697190650561,
          -2.0879169275521976,
          -2.121154774926761,
          -2.045411926574872,
          -2.0852770826395504,
          -2.0822278544210238,
          -2.2627173734793873,
          -2.0981774668991005,
          -2.2139624800387128,
          -2.008229931010037,
          -2.146855254871799,
          -2.0341151785416267,
          -2.0039194430279514,
          -2.232393473063602,
          -1.9489211729925013,
          -2.140284721003901,
          -2.052153460978447,
          -2.1133656021233045,
          -2.247308114584892,
          -2.1786899466112146,
          -2.0057581854671165,
          -2.253158160771776,
          -2.065252031760164,
          -2.1309562011020255,
          -2.189022554158057,
          -2.111046555595701,
          -2.1204496043755894,
          -2.110465827398798,
          -2.1875233924600077,
          -2.0298818753499885,
          -1.9857915434154976
         ]
        },
        {
         "line": {
          "color": "red",
          "width": 2
         },
         "mode": "lines",
         "type": "scatter",
         "x": [
          "2021-01-10T00:00:00",
          "2021-01-17T00:00:00",
          "2021-01-24T00:00:00",
          "2021-01-31T00:00:00",
          "2021-02-07T00:00:00",
          "2021-02-14T00:00:00",
          "2021-02-21T00:00:00",
          "2021-02-28T00:00:00",
          "2021-03-07T00:00:00",
          "2021-03-14T00:00:00",
          "2021-03-21T00:00:00",
          "2021-03-28T00:00:00",
          "2021-04-04T00:00:00",
          "2021-04-11T00:00:00",
          "2021-04-18T00:00:00",
          "2021-04-25T00:00:00",
          "2021-05-02T00:00:00",
          "2021-05-09T00:00:00",
          "2021-05-16T00:00:00",
          "2021-05-23T00:00:00",
          "2021-05-30T00:00:00",
          "2021-06-06T00:00:00",
          "2021-06-13T00:00:00",
          "2021-06-20T00:00:00",
          "2021-06-27T00:00:00",
          "2021-07-04T00:00:00",
          "2021-07-11T00:00:00",
          "2021-07-18T00:00:00",
          "2021-07-25T00:00:00",
          "2021-08-01T00:00:00",
          "2021-08-08T00:00:00",
          "2021-08-15T00:00:00",
          "2021-08-22T00:00:00",
          "2021-08-29T00:00:00",
          "2021-09-05T00:00:00",
          "2021-09-12T00:00:00",
          "2021-09-19T00:00:00",
          "2021-09-26T00:00:00",
          "2021-10-03T00:00:00",
          "2021-10-10T00:00:00",
          "2021-10-17T00:00:00",
          "2021-10-24T00:00:00",
          "2021-10-31T00:00:00",
          "2021-11-07T00:00:00",
          "2021-11-14T00:00:00",
          "2021-11-21T00:00:00",
          "2021-11-28T00:00:00",
          "2021-12-05T00:00:00",
          "2021-12-12T00:00:00",
          "2021-12-19T00:00:00",
          "2021-12-26T00:00:00",
          "2022-01-02T00:00:00",
          "2022-01-09T00:00:00",
          "2022-01-16T00:00:00",
          "2022-01-23T00:00:00",
          "2022-01-30T00:00:00",
          "2022-02-06T00:00:00",
          "2022-02-13T00:00:00",
          "2022-02-20T00:00:00",
          "2022-02-27T00:00:00",
          "2022-03-06T00:00:00",
          "2022-03-13T00:00:00",
          "2022-03-20T00:00:00",
          "2022-03-27T00:00:00",
          "2022-04-03T00:00:00",
          "2022-04-10T00:00:00",
          "2022-04-17T00:00:00",
          "2022-04-24T00:00:00",
          "2022-05-01T00:00:00",
          "2022-05-08T00:00:00",
          "2022-05-15T00:00:00",
          "2022-05-22T00:00:00",
          "2022-05-29T00:00:00",
          "2022-06-05T00:00:00",
          "2022-06-12T00:00:00",
          "2022-06-19T00:00:00",
          "2022-06-26T00:00:00",
          "2022-07-03T00:00:00",
          "2022-07-10T00:00:00",
          "2022-07-17T00:00:00",
          "2022-07-24T00:00:00",
          "2022-07-31T00:00:00",
          "2022-08-07T00:00:00",
          "2022-08-14T00:00:00",
          "2022-08-21T00:00:00",
          "2022-08-28T00:00:00",
          "2022-09-04T00:00:00",
          "2022-09-11T00:00:00",
          "2022-09-18T00:00:00",
          "2022-09-25T00:00:00",
          "2022-10-02T00:00:00",
          "2022-10-09T00:00:00",
          "2022-10-16T00:00:00",
          "2022-10-23T00:00:00",
          "2022-10-30T00:00:00",
          "2022-11-06T00:00:00",
          "2022-11-13T00:00:00",
          "2022-11-20T00:00:00",
          "2022-11-27T00:00:00",
          "2022-12-04T00:00:00",
          "2022-12-11T00:00:00",
          "2022-12-18T00:00:00",
          "2022-12-25T00:00:00",
          "2023-01-01T00:00:00",
          "2023-01-08T00:00:00",
          "2023-01-15T00:00:00",
          "2023-01-22T00:00:00",
          "2023-01-29T00:00:00",
          "2023-02-05T00:00:00",
          "2023-02-12T00:00:00",
          "2023-02-19T00:00:00",
          "2023-02-26T00:00:00",
          "2023-03-05T00:00:00",
          "2023-03-12T00:00:00",
          "2023-03-19T00:00:00",
          "2023-03-26T00:00:00",
          "2023-04-02T00:00:00",
          "2023-04-09T00:00:00",
          "2023-04-16T00:00:00",
          "2023-04-23T00:00:00",
          "2023-04-30T00:00:00",
          "2023-05-07T00:00:00",
          "2023-05-14T00:00:00",
          "2023-05-21T00:00:00",
          "2023-05-28T00:00:00",
          "2023-06-04T00:00:00",
          "2023-06-11T00:00:00",
          "2023-06-18T00:00:00",
          "2023-06-25T00:00:00",
          "2023-07-02T00:00:00",
          "2023-07-09T00:00:00",
          "2023-07-16T00:00:00",
          "2023-07-23T00:00:00",
          "2023-07-30T00:00:00",
          "2023-08-06T00:00:00",
          "2023-08-13T00:00:00",
          "2023-08-20T00:00:00",
          "2023-08-27T00:00:00",
          "2023-09-03T00:00:00",
          "2023-09-10T00:00:00",
          "2023-09-17T00:00:00",
          "2023-09-24T00:00:00",
          "2023-10-01T00:00:00",
          "2023-10-08T00:00:00",
          "2023-10-15T00:00:00",
          "2023-10-22T00:00:00",
          "2023-10-29T00:00:00",
          "2023-11-05T00:00:00",
          "2023-11-12T00:00:00",
          "2023-11-19T00:00:00",
          "2023-11-26T00:00:00",
          "2023-12-03T00:00:00",
          "2023-12-10T00:00:00",
          "2023-12-17T00:00:00",
          "2023-12-24T00:00:00",
          "2023-12-31T00:00:00"
         ],
         "y": [
          1.542924447193837,
          1.691423465509021,
          1.8948378767861331,
          1.7515466621406628,
          1.958114047999429,
          1.8944763972638217,
          2.026229756832403,
          1.8687951528114823,
          2.024213030446059,
          1.973540919827301,
          1.9045311896164492,
          2.116939410258486,
          2.148212113986201,
          2.141481577175887,
          2.441902642847563,
          2.0692263715633303,
          2.164185372800329,
          2.11532590446705,
          2.1388745922745365,
          1.9832719400275973,
          2.1354679875507387,
          2.1379092193566,
          2.1185971001270287,
          2.1150935447282664,
          2.1614307091128304,
          2.2308258674511277,
          2.1261766400920474,
          2.0850174703664877,
          2.1103963914318444,
          2.1390784622361063,
          2.1292050341001567,
          2.2952941216477374,
          2.162975160936662,
          2.2053098201061334,
          2.1027960434863884,
          2.313152215190823,
          2.2738633052591966,
          2.184173255576546,
          2.0385210337612705,
          2.1309100566497396,
          2.22442197499947,
          2.0476339491507667,
          1.9374911391071803,
          2.057070975120548,
          2.1734044497625473,
          2.15212208242608,
          2.1849052077724447,
          2.146498852721048,
          2.1931512514022806,
          2.0762727157290732,
          2.1195260449527007,
          2.147786662051338,
          2.2119230459213757,
          2.0247061533145114,
          2.10798135329231,
          2.1731632007639967,
          2.3178847740168353,
          2.129689542940742,
          2.142196760616491,
          2.0989059776083043,
          2.09648022813385,
          2.1400420898104167,
          2.2320614498965603,
          2.09142670127111,
          2.2408677113793805,
          1.9890170475665698,
          2.078023146588944,
          2.1491373521216484,
          2.2556415102299874,
          2.162301432352198,
          2.116377757220214,
          2.2243153501746065,
          2.071243464312485,
          2.042709590303717,
          2.1179918070578267,
          2.2168473617205158,
          2.2876084297073582,
          2.1833785488853645,
          2.077096930424805,
          2.1792964917065643,
          2.0973537324555926,
          2.205071739232481,
          2.2808468007744884,
          2.343970729079701,
          2.290726429031484,
          2.1912945678230673,
          2.0712875020835835,
          2.186916373293309,
          2.318627489151764,
          2.2007723969129973,
          2.3125757040846464,
          1.9790419601679607,
          2.0634616772632643,
          2.1328024666752605,
          2.236515327242942,
          2.2542100919773658,
          2.2076854200361327,
          2.131408047451034,
          2.279283470394309,
          2.1249375518503575,
          2.160796168796212,
          2.166111214260072,
          2.2039376922718996,
          2.1773442933520006,
          2.1376290221773657,
          2.0526243364623546,
          2.137338068983945,
          2.202070699369946,
          2.3131181243771812,
          2.1050852197407024,
          2.3455723868771905,
          2.3302186368649487,
          2.1141561725802704,
          2.177967266947802,
          2.4581900099113536,
          2.073829601089961,
          2.3048828523072324,
          2.380784471041277,
          2.245798195270372,
          2.24787217610213,
          2.1313536513361098,
          2.081466764902773,
          2.1314851444125456,
          2.240327770575155,
          2.242334425584051,
          2.080979618616654,
          2.370500916594337,
          2.178448410966683,
          2.277681175348705,
          2.3894210329907715,
          2.335447856025239,
          2.1755008820059882,
          2.2124987372589353,
          2.1834426406267085,
          2.16774267618941,
          2.2328010734533046,
          2.171820207685772,
          2.120484159637076,
          2.1401994344116813,
          2.2332065054689703,
          2.1333714620796242,
          2.2891555183297907,
          2.0180659975408073,
          2.170516467763013,
          2.11975337390202,
          2.0447135350003807,
          2.119789951849496,
          2.1201110318130683,
          2.0909743839974064,
          2.106653794612593,
          2.2958915273692875,
          2.1146047764549785,
          2.3111209185931507,
          2.244508171680135,
          2.1894443331892104,
          2.0475200938340397
         ]
        }
       ],
       "layout": {
        "height": 500,
        "legend": {
         "tracegroupgap": 0
        },
        "margin": {
         "t": 60
        },
        "showlegend": false,
        "template": {
         "data": {
          "bar": [
           {
            "error_x": {
             "color": "#2a3f5f"
            },
            "error_y": {
             "color": "#2a3f5f"
            },
            "marker": {
             "line": {
              "color": "#E5ECF6",
              "width": 0.5
             },
             "pattern": {
              "fillmode": "overlay",
              "size": 10,
              "solidity": 0.2
             }
            },
            "type": "bar"
           }
          ],
          "barpolar": [
           {
            "marker": {
             "line": {
              "color": "#E5ECF6",
              "width": 0.5
             },
             "pattern": {
              "fillmode": "overlay",
              "size": 10,
              "solidity": 0.2
             }
            },
            "type": "barpolar"
           }
          ],
          "carpet": [
           {
            "aaxis": {
             "endlinecolor": "#2a3f5f",
             "gridcolor": "white",
             "linecolor": "white",
             "minorgridcolor": "white",
             "startlinecolor": "#2a3f5f"
            },
            "baxis": {
             "endlinecolor": "#2a3f5f",
             "gridcolor": "white",
             "linecolor": "white",
             "minorgridcolor": "white",
             "startlinecolor": "#2a3f5f"
            },
            "type": "carpet"
           }
          ],
          "choropleth": [
           {
            "colorbar": {
             "outlinewidth": 0,
             "ticks": ""
            },
            "type": "choropleth"
           }
          ],
          "contour": [
           {
            "colorbar": {
             "outlinewidth": 0,
             "ticks": ""
            },
            "colorscale": [
             [
              0,
              "#0d0887"
             ],
             [
              0.1111111111111111,
              "#46039f"
             ],
             [
              0.2222222222222222,
              "#7201a8"
             ],
             [
              0.3333333333333333,
              "#9c179e"
             ],
             [
              0.4444444444444444,
              "#bd3786"
             ],
             [
              0.5555555555555556,
              "#d8576b"
             ],
             [
              0.6666666666666666,
              "#ed7953"
             ],
             [
              0.7777777777777778,
              "#fb9f3a"
             ],
             [
              0.8888888888888888,
              "#fdca26"
             ],
             [
              1,
              "#f0f921"
             ]
            ],
            "type": "contour"
           }
          ],
          "contourcarpet": [
           {
            "colorbar": {
             "outlinewidth": 0,
             "ticks": ""
            },
            "type": "contourcarpet"
           }
          ],
          "heatmap": [
           {
            "colorbar": {
             "outlinewidth": 0,
             "ticks": ""
            },
            "colorscale": [
             [
              0,
              "#0d0887"
             ],
             [
              0.1111111111111111,
              "#46039f"
             ],
             [
              0.2222222222222222,
              "#7201a8"
             ],
             [
              0.3333333333333333,
              "#9c179e"
             ],
             [
              0.4444444444444444,
              "#bd3786"
             ],
             [
              0.5555555555555556,
              "#d8576b"
             ],
             [
              0.6666666666666666,
              "#ed7953"
             ],
             [
              0.7777777777777778,
              "#fb9f3a"
             ],
             [
              0.8888888888888888,
              "#fdca26"
             ],
             [
              1,
              "#f0f921"
             ]
            ],
            "type": "heatmap"
           }
          ],
          "heatmapgl": [
           {
            "colorbar": {
             "outlinewidth": 0,
             "ticks": ""
            },
            "colorscale": [
             [
              0,
              "#0d0887"
             ],
             [
              0.1111111111111111,
              "#46039f"
             ],
             [
              0.2222222222222222,
              "#7201a8"
             ],
             [
              0.3333333333333333,
              "#9c179e"
             ],
             [
              0.4444444444444444,
              "#bd3786"
             ],
             [
              0.5555555555555556,
              "#d8576b"
             ],
             [
              0.6666666666666666,
              "#ed7953"
             ],
             [
              0.7777777777777778,
              "#fb9f3a"
             ],
             [
              0.8888888888888888,
              "#fdca26"
             ],
             [
              1,
              "#f0f921"
             ]
            ],
            "type": "heatmapgl"
           }
          ],
          "histogram": [
           {
            "marker": {
             "pattern": {
              "fillmode": "overlay",
              "size": 10,
              "solidity": 0.2
             }
            },
            "type": "histogram"
           }
          ],
          "histogram2d": [
           {
            "colorbar": {
             "outlinewidth": 0,
             "ticks": ""
            },
            "colorscale": [
             [
              0,
              "#0d0887"
             ],
             [
              0.1111111111111111,
              "#46039f"
             ],
             [
              0.2222222222222222,
              "#7201a8"
             ],
             [
              0.3333333333333333,
              "#9c179e"
             ],
             [
              0.4444444444444444,
              "#bd3786"
             ],
             [
              0.5555555555555556,
              "#d8576b"
             ],
             [
              0.6666666666666666,
              "#ed7953"
             ],
             [
              0.7777777777777778,
              "#fb9f3a"
             ],
             [
              0.8888888888888888,
              "#fdca26"
             ],
             [
              1,
              "#f0f921"
             ]
            ],
            "type": "histogram2d"
           }
          ],
          "histogram2dcontour": [
           {
            "colorbar": {
             "outlinewidth": 0,
             "ticks": ""
            },
            "colorscale": [
             [
              0,
              "#0d0887"
             ],
             [
              0.1111111111111111,
              "#46039f"
             ],
             [
              0.2222222222222222,
              "#7201a8"
             ],
             [
              0.3333333333333333,
              "#9c179e"
             ],
             [
              0.4444444444444444,
              "#bd3786"
             ],
             [
              0.5555555555555556,
              "#d8576b"
             ],
             [
              0.6666666666666666,
              "#ed7953"
             ],
             [
              0.7777777777777778,
              "#fb9f3a"
             ],
             [
              0.8888888888888888,
              "#fdca26"
             ],
             [
              1,
              "#f0f921"
             ]
            ],
            "type": "histogram2dcontour"
           }
          ],
          "mesh3d": [
           {
            "colorbar": {
             "outlinewidth": 0,
             "ticks": ""
            },
            "type": "mesh3d"
           }
          ],
          "parcoords": [
           {
            "line": {
             "colorbar": {
              "outlinewidth": 0,
              "ticks": ""
             }
            },
            "type": "parcoords"
           }
          ],
          "pie": [
           {
            "automargin": true,
            "type": "pie"
           }
          ],
          "scatter": [
           {
            "fillpattern": {
             "fillmode": "overlay",
             "size": 10,
             "solidity": 0.2
            },
            "type": "scatter"
           }
          ],
          "scatter3d": [
           {
            "line": {
             "colorbar": {
              "outlinewidth": 0,
              "ticks": ""
             }
            },
            "marker": {
             "colorbar": {
              "outlinewidth": 0,
              "ticks": ""
             }
            },
            "type": "scatter3d"
           }
          ],
          "scattercarpet": [
           {
            "marker": {
             "colorbar": {
              "outlinewidth": 0,
              "ticks": ""
             }
            },
            "type": "scattercarpet"
           }
          ],
          "scattergeo": [
           {
            "marker": {
             "colorbar": {
              "outlinewidth": 0,
              "ticks": ""
             }
            },
            "type": "scattergeo"
           }
          ],
          "scattergl": [
           {
            "marker": {
             "colorbar": {
              "outlinewidth": 0,
              "ticks": ""
             }
            },
            "type": "scattergl"
           }
          ],
          "scattermapbox": [
           {
            "marker": {
             "colorbar": {
              "outlinewidth": 0,
              "ticks": ""
             }
            },
            "type": "scattermapbox"
           }
          ],
          "scatterpolar": [
           {
            "marker": {
             "colorbar": {
              "outlinewidth": 0,
              "ticks": ""
             }
            },
            "type": "scatterpolar"
           }
          ],
          "scatterpolargl": [
           {
            "marker": {
             "colorbar": {
              "outlinewidth": 0,
              "ticks": ""
             }
            },
            "type": "scatterpolargl"
           }
          ],
          "scatterternary": [
           {
            "marker": {
             "colorbar": {
              "outlinewidth": 0,
              "ticks": ""
             }
            },
            "type": "scatterternary"
           }
          ],
          "surface": [
           {
            "colorbar": {
             "outlinewidth": 0,
             "ticks": ""
            },
            "colorscale": [
             [
              0,
              "#0d0887"
             ],
             [
              0.1111111111111111,
              "#46039f"
             ],
             [
              0.2222222222222222,
              "#7201a8"
             ],
             [
              0.3333333333333333,
              "#9c179e"
             ],
             [
              0.4444444444444444,
              "#bd3786"
             ],
             [
              0.5555555555555556,
              "#d8576b"
             ],
             [
              0.6666666666666666,
              "#ed7953"
             ],
             [
              0.7777777777777778,
              "#fb9f3a"
             ],
             [
              0.8888888888888888,
              "#fdca26"
             ],
             [
              1,
              "#f0f921"
             ]
            ],
            "type": "surface"
           }
          ],
          "table": [
           {
            "cells": {
             "fill": {
              "color": "#EBF0F8"
             },
             "line": {
              "color": "white"
             }
            },
            "header": {
             "fill": {
              "color": "#C8D4E3"
             },
             "line": {
              "color": "white"
             }
            },
            "type": "table"
           }
          ]
         },
         "layout": {
          "annotationdefaults": {
           "arrowcolor": "#2a3f5f",
           "arrowhead": 0,
           "arrowwidth": 1
          },
          "autotypenumbers": "strict",
          "coloraxis": {
           "colorbar": {
            "outlinewidth": 0,
            "ticks": ""
           }
          },
          "colorscale": {
           "diverging": [
            [
             0,
             "#8e0152"
            ],
            [
             0.1,
             "#c51b7d"
            ],
            [
             0.2,
             "#de77ae"
            ],
            [
             0.3,
             "#f1b6da"
            ],
            [
             0.4,
             "#fde0ef"
            ],
            [
             0.5,
             "#f7f7f7"
            ],
            [
             0.6,
             "#e6f5d0"
            ],
            [
             0.7,
             "#b8e186"
            ],
            [
             0.8,
             "#7fbc41"
            ],
            [
             0.9,
             "#4d9221"
            ],
            [
             1,
             "#276419"
            ]
           ],
           "sequential": [
            [
             0,
             "#0d0887"
            ],
            [
             0.1111111111111111,
             "#46039f"
            ],
            [
             0.2222222222222222,
             "#7201a8"
            ],
            [
             0.3333333333333333,
             "#9c179e"
            ],
            [
             0.4444444444444444,
             "#bd3786"
            ],
            [
             0.5555555555555556,
             "#d8576b"
            ],
            [
             0.6666666666666666,
             "#ed7953"
            ],
            [
             0.7777777777777778,
             "#fb9f3a"
            ],
            [
             0.8888888888888888,
             "#fdca26"
            ],
            [
             1,
             "#f0f921"
            ]
           ],
           "sequentialminus": [
            [
             0,
             "#0d0887"
            ],
            [
             0.1111111111111111,
             "#46039f"
            ],
            [
             0.2222222222222222,
             "#7201a8"
            ],
            [
             0.3333333333333333,
             "#9c179e"
            ],
            [
             0.4444444444444444,
             "#bd3786"
            ],
            [
             0.5555555555555556,
             "#d8576b"
            ],
            [
             0.6666666666666666,
             "#ed7953"
            ],
            [
             0.7777777777777778,
             "#fb9f3a"
            ],
            [
             0.8888888888888888,
             "#fdca26"
            ],
            [
             1,
             "#f0f921"
            ]
           ]
          },
          "colorway": [
           "#636efa",
           "#EF553B",
           "#00cc96",
           "#ab63fa",
           "#FFA15A",
           "#19d3f3",
           "#FF6692",
           "#B6E880",
           "#FF97FF",
           "#FECB52"
          ],
          "font": {
           "color": "#2a3f5f"
          },
          "geo": {
           "bgcolor": "white",
           "lakecolor": "white",
           "landcolor": "#E5ECF6",
           "showlakes": true,
           "showland": true,
           "subunitcolor": "white"
          },
          "hoverlabel": {
           "align": "left"
          },
          "hovermode": "closest",
          "mapbox": {
           "style": "light"
          },
          "paper_bgcolor": "white",
          "plot_bgcolor": "#E5ECF6",
          "polar": {
           "angularaxis": {
            "gridcolor": "white",
            "linecolor": "white",
            "ticks": ""
           },
           "bgcolor": "#E5ECF6",
           "radialaxis": {
            "gridcolor": "white",
            "linecolor": "white",
            "ticks": ""
           }
          },
          "scene": {
           "xaxis": {
            "backgroundcolor": "#E5ECF6",
            "gridcolor": "white",
            "gridwidth": 2,
            "linecolor": "white",
            "showbackground": true,
            "ticks": "",
            "zerolinecolor": "white"
           },
           "yaxis": {
            "backgroundcolor": "#E5ECF6",
            "gridcolor": "white",
            "gridwidth": 2,
            "linecolor": "white",
            "showbackground": true,
            "ticks": "",
            "zerolinecolor": "white"
           },
           "zaxis": {
            "backgroundcolor": "#E5ECF6",
            "gridcolor": "white",
            "gridwidth": 2,
            "linecolor": "white",
            "showbackground": true,
            "ticks": "",
            "zerolinecolor": "white"
           }
          },
          "shapedefaults": {
           "line": {
            "color": "#2a3f5f"
           }
          },
          "ternary": {
           "aaxis": {
            "gridcolor": "white",
            "linecolor": "white",
            "ticks": ""
           },
           "baxis": {
            "gridcolor": "white",
            "linecolor": "white",
            "ticks": ""
           },
           "bgcolor": "#E5ECF6",
           "caxis": {
            "gridcolor": "white",
            "linecolor": "white",
            "ticks": ""
           }
          },
          "title": {
           "x": 0.05
          },
          "xaxis": {
           "automargin": true,
           "gridcolor": "white",
           "linecolor": "white",
           "ticks": "",
           "title": {
            "standoff": 15
           },
           "zerolinecolor": "white",
           "zerolinewidth": 2
          },
          "yaxis": {
           "automargin": true,
           "gridcolor": "white",
           "linecolor": "white",
           "ticks": "",
           "title": {
            "standoff": 15
           },
           "zerolinecolor": "white",
           "zerolinewidth": 2
          }
         }
        },
        "title": {
         "font": {
          "size": 18
         },
         "text": "Dane z liniami kwantylowymi z alpha = 0.05",
         "x": 0.5,
         "xanchor": "center"
        },
        "width": 1000,
        "xaxis": {
         "anchor": "y",
         "domain": [
          0,
          1
         ],
         "title": {
          "text": "Data"
         }
        },
        "yaxis": {
         "anchor": "x",
         "domain": [
          0,
          1
         ],
         "title": {
          "text": "Otrzymane wartości"
         }
        }
       }
      }
     },
     "metadata": {},
     "output_type": "display_data"
    }
   ],
   "source": [
    "fig = px.line(\n",
    "    x=new_df.index, \n",
    "    y=new_df[\"zróżnicowane dane\"])\n",
    "\n",
    "\n",
    "fig.add_scatter(\n",
    "    x=new_df.index,\n",
    "    y=q1, \n",
    "    mode='lines', \n",
    "    line=dict(color='red', width=2)\n",
    ")\n",
    "\n",
    "fig.add_scatter(\n",
    "    x=new_df.index,\n",
    "    y=q2, \n",
    "    mode='lines', \n",
    "    line=dict(color='red', width=2)\n",
    ")\n",
    "\n",
    "\n",
    "fig.update_layout(\n",
    "    title={\n",
    "        'text': f\"Dane z liniami kwantylowymi z alpha = {alpha}\",\n",
    "        'x': 0.5,  \n",
    "        'xanchor': 'center'\n",
    "    },\n",
    "    xaxis_title=\"Data\",\n",
    "    yaxis_title=\"Otrzymane wartości\",\n",
    "    title_font_size=18,\n",
    "    width=1000,\n",
    "    height=500,\n",
    "    showlegend=False\n",
    ")\n",
    "\n",
    "fig.show()\n"
   ]
  },
  {
   "cell_type": "code",
   "execution_count": 450,
   "metadata": {},
   "outputs": [],
   "source": [
    "res = model_aic.resid"
   ]
  },
  {
   "cell_type": "code",
   "execution_count": 495,
   "metadata": {},
   "outputs": [
    {
     "data": {
      "application/vnd.plotly.v1+json": {
       "config": {
        "plotlyServerURL": "https://plot.ly"
       },
       "data": [
        {
         "hovertemplate": "x=%{x}<br>y=%{y}<extra></extra>",
         "legendgroup": "",
         "marker": {
          "color": "#636efa",
          "symbol": "circle"
         },
         "mode": "markers",
         "name": "",
         "orientation": "v",
         "showlegend": false,
         "type": "scatter",
         "x": [
          0,
          1,
          2,
          3,
          4,
          5,
          6,
          7,
          8,
          9,
          10,
          11,
          12,
          13,
          14,
          15,
          16,
          17,
          18,
          19,
          20,
          21,
          22,
          23,
          24,
          25,
          26,
          27,
          28,
          29,
          30,
          31,
          32,
          33,
          34,
          35,
          36,
          37,
          38,
          39,
          40,
          41,
          42,
          43,
          44,
          45,
          46,
          47,
          48,
          49,
          50,
          51,
          52,
          53,
          54,
          55,
          56,
          57,
          58,
          59,
          60,
          61,
          62,
          63,
          64,
          65,
          66,
          67,
          68,
          69,
          70,
          71,
          72,
          73,
          74,
          75,
          76,
          77,
          78,
          79,
          80,
          81,
          82,
          83,
          84,
          85,
          86,
          87,
          88,
          89,
          90,
          91,
          92,
          93,
          94,
          95,
          96,
          97,
          98,
          99,
          100,
          101,
          102,
          103,
          104,
          105,
          106,
          107,
          108,
          109,
          110,
          111,
          112,
          113,
          114,
          115,
          116,
          117,
          118,
          119,
          120,
          121,
          122,
          123,
          124,
          125,
          126,
          127,
          128,
          129,
          130,
          131,
          132,
          133,
          134,
          135,
          136,
          137,
          138,
          139,
          140,
          141,
          142,
          143,
          144,
          145,
          146,
          147,
          148,
          149,
          150,
          151,
          152,
          153,
          154,
          155
         ],
         "xaxis": "x",
         "y": [
          1.1473318228953004,
          0.7816778181451054,
          1.222741233417259,
          -0.3607797430326316,
          0.8008288852600902,
          -0.04300430673393607,
          0.4274152712914405,
          -3.0907631185591193,
          0.3407125294477223,
          1.047581387908912,
          0.6324048163040863,
          -0.35598550898941794,
          -0.08330844434355134,
          -0.800459280561485,
          -1.0826027740431878,
          0.03085465600314133,
          0.24798604825334503,
          -2.226916934117718,
          1.0837171720239018,
          0.08087859247985313,
          0.13470965058205464,
          1.1588868281583529,
          -0.20141274439169005,
          -1.234890888376175,
          -1.8594100819729182,
          0.47180011202804284,
          -0.46250998287108624,
          0.7636058343268894,
          -0.31500016763908134,
          0.13097867956062867,
          0.36026807915522663,
          -0.15357705519646925,
          0.13343799288415764,
          0.3445892731645478,
          -0.08554025352898503,
          0.11223769053100424,
          0.09398553829685807,
          0.4144461181374412,
          -0.3800677607961865,
          0.1426818720685362,
          -0.0780977474663071,
          0.747030338077159,
          1.034891884378701,
          0.19305037159711758,
          1.0550921597495246,
          1.3028347025665963,
          0.8362391641826157,
          0.08892982810742711,
          0.5571189643798292,
          0.07815684532255296,
          -0.31716332898332067,
          0.36385767666212465,
          -3.353093269015659,
          0.5255909212499181,
          0.6164380472900464,
          -0.3901210076903878,
          0.5014623855948567,
          -1.1339826654403518,
          -0.27225938332584715,
          -0.3595205990483928,
          -0.9470050588460467,
          -0.6799209775396653,
          0.12833710510236185,
          0.40334984105427796,
          -0.5751204513734856,
          -0.6257205381297313,
          -2.698397473158132,
          -1.2338648843808053,
          -0.4333006291076562,
          0.7933582950105424,
          0.48181591371500576,
          0.0283769434852712,
          0.18456770680501045,
          0.8397375664069531,
          -1.3226274810924288,
          -0.7122889355820998,
          0.30681320248048327,
          0.020901025623086378,
          -2.366957589828998,
          0.1652944739212303,
          0.30103295201776237,
          0.4484666479742312,
          0.21262860406622242,
          0.7615688439275392,
          -1.2511683647429432,
          0.9175588890096151,
          -0.18832267096575273,
          0.709116523272032,
          -0.2855534755707192,
          0.0055597885908676425,
          -0.27579723218041796,
          0.5305758884225964,
          -0.03708337665762493,
          0.5368211828612703,
          -0.0305762697573754,
          -0.8284971366311075,
          0.46617220055745817,
          1.3756040004865686,
          0.5509028235292522,
          -0.12353856116993245,
          0.6460692374454167,
          -0.02972513372617297,
          0.007599258250050367,
          -0.8288219313666341,
          -1.3712257499709866,
          1.2238302273419164,
          0.6393452821572104,
          -0.021018675413133375,
          -0.9270212465576738,
          0.34293307991808153,
          -0.3689573649553683,
          -0.7864445840328967,
          1.7592035336096217,
          0.240033630472558,
          0.20891103817952913,
          0.10613156965334852,
          0.3801652883035914,
          -0.8403581565761565,
          1.1460899857185238,
          -0.209352476681416,
          1.3938050344678752,
          -0.5530802283515346,
          -0.14076615904472545,
          1.6899978516498808,
          0.07064277344712999,
          0.8343413119524685,
          -0.5131129087076893,
          -0.14133196716175145,
          -0.44749102390171247,
          -1.3270884271925798,
          0.4597586174209284,
          -0.01744059217204913,
          -0.16664584408737274,
          0.18638519124320713,
          0.5843226525139754,
          -1.5706555884543671,
          0.19174388586265526,
          -0.444436257450103,
          0.5945048305958389,
          0.9881458166434456,
          -1.1796519629904725,
          -0.4307463355846447,
          -0.459577005670432,
          -0.2991823735362761,
          -0.37863248909553787,
          -0.2500592751717802,
          -0.378093991974662,
          -1.1705147792961155,
          0.06754974592266971,
          0.7548297823736965,
          1.2800699507909625,
          -0.4391254186892246,
          0.01988828671059162,
          -0.5254288534858824,
          -0.4024716527553033,
          -0.8054596197234318
         ],
         "yaxis": "y"
        },
        {
         "line": {
          "color": "black",
          "width": 2
         },
         "mode": "lines",
         "type": "scatter",
         "x": [
          0,
          1,
          2,
          3,
          4,
          5,
          6,
          7,
          8,
          9,
          10,
          11,
          12,
          13,
          14,
          15,
          16,
          17,
          18,
          19,
          20,
          21,
          22,
          23,
          24,
          25,
          26,
          27,
          28,
          29,
          30,
          31,
          32,
          33,
          34,
          35,
          36,
          37,
          38,
          39,
          40,
          41,
          42,
          43,
          44,
          45,
          46,
          47,
          48,
          49,
          50,
          51,
          52,
          53,
          54,
          55,
          56,
          57,
          58,
          59,
          60,
          61,
          62,
          63,
          64,
          65,
          66,
          67,
          68,
          69,
          70,
          71,
          72,
          73,
          74,
          75,
          76,
          77,
          78,
          79,
          80,
          81,
          82,
          83,
          84,
          85,
          86,
          87,
          88,
          89,
          90,
          91,
          92,
          93,
          94,
          95,
          96,
          97,
          98,
          99,
          100,
          101,
          102,
          103,
          104,
          105,
          106,
          107,
          108,
          109,
          110,
          111,
          112,
          113,
          114,
          115,
          116,
          117,
          118,
          119,
          120,
          121,
          122,
          123,
          124,
          125,
          126,
          127,
          128,
          129,
          130,
          131,
          132,
          133,
          134,
          135,
          136,
          137,
          138,
          139,
          140,
          141,
          142,
          143,
          144,
          145,
          146,
          147,
          148,
          149,
          150,
          151,
          152,
          153,
          154,
          155
         ],
         "y": [
          -1.7,
          -1.7,
          -1.7,
          -1.7,
          -1.7,
          -1.7,
          -1.7,
          -1.7,
          -1.7,
          -1.7,
          -1.7,
          -1.7,
          -1.7,
          -1.7,
          -1.7,
          -1.7,
          -1.7,
          -1.7,
          -1.7,
          -1.7,
          -1.7,
          -1.7,
          -1.7,
          -1.7,
          -1.7,
          -1.7,
          -1.7,
          -1.7,
          -1.7,
          -1.7,
          -1.7,
          -1.7,
          -1.7,
          -1.7,
          -1.7,
          -1.7,
          -1.7,
          -1.7,
          -1.7,
          -1.7,
          -1.7,
          -1.7,
          -1.7,
          -1.7,
          -1.7,
          -1.7,
          -1.7,
          -1.7,
          -1.7,
          -1.7,
          -1.7,
          -1.7,
          -1.7,
          -1.7,
          -1.7,
          -1.7,
          -1.7,
          -1.7,
          -1.7,
          -1.7,
          -1.7,
          -1.7,
          -1.7,
          -1.7,
          -1.7,
          -1.7,
          -1.7,
          -1.7,
          -1.7,
          -1.7,
          -1.7,
          -1.7,
          -1.7,
          -1.7,
          -1.7,
          -1.7,
          -1.7,
          -1.7,
          -1.7,
          -1.7,
          -1.7,
          -1.7,
          -1.7,
          -1.7,
          -1.7,
          -1.7,
          -1.7,
          -1.7,
          -1.7,
          -1.7,
          -1.7,
          -1.7,
          -1.7,
          -1.7,
          -1.7,
          -1.7,
          -1.7,
          -1.7,
          -1.7,
          -1.7,
          -1.7,
          -1.7,
          -1.7,
          -1.7,
          -1.7,
          -1.7,
          -1.7,
          -1.7,
          -1.7,
          -1.7,
          -1.7,
          -1.7,
          -1.7,
          -1.7,
          -1.7,
          -1.7,
          -1.7,
          -1.7,
          -1.7,
          -1.7,
          -1.7,
          -1.7,
          -1.7,
          -1.7,
          -1.7,
          -1.7,
          -1.7,
          -1.7,
          -1.7,
          -1.7,
          -1.7,
          -1.7,
          -1.7,
          -1.7,
          -1.7,
          -1.7,
          -1.7,
          -1.7,
          -1.7,
          -1.7,
          -1.7,
          -1.7,
          -1.7,
          -1.7,
          -1.7,
          -1.7,
          -1.7,
          -1.7,
          -1.7,
          -1.7,
          -1.7,
          -1.7,
          -1.7,
          -1.7,
          -1.7,
          -1.7
         ]
        },
        {
         "line": {
          "color": "black",
          "width": 2
         },
         "mode": "lines",
         "type": "scatter",
         "x": [
          0,
          1,
          2,
          3,
          4,
          5,
          6,
          7,
          8,
          9,
          10,
          11,
          12,
          13,
          14,
          15,
          16,
          17,
          18,
          19,
          20,
          21,
          22,
          23,
          24,
          25,
          26,
          27,
          28,
          29,
          30,
          31,
          32,
          33,
          34,
          35,
          36,
          37,
          38,
          39,
          40,
          41,
          42,
          43,
          44,
          45,
          46,
          47,
          48,
          49,
          50,
          51,
          52,
          53,
          54,
          55,
          56,
          57,
          58,
          59,
          60,
          61,
          62,
          63,
          64,
          65,
          66,
          67,
          68,
          69,
          70,
          71,
          72,
          73,
          74,
          75,
          76,
          77,
          78,
          79,
          80,
          81,
          82,
          83,
          84,
          85,
          86,
          87,
          88,
          89,
          90,
          91,
          92,
          93,
          94,
          95,
          96,
          97,
          98,
          99,
          100,
          101,
          102,
          103,
          104,
          105,
          106,
          107,
          108,
          109,
          110,
          111,
          112,
          113,
          114,
          115,
          116,
          117,
          118,
          119,
          120,
          121,
          122,
          123,
          124,
          125,
          126,
          127,
          128,
          129,
          130,
          131,
          132,
          133,
          134,
          135,
          136,
          137,
          138,
          139,
          140,
          141,
          142,
          143,
          144,
          145,
          146,
          147,
          148,
          149,
          150,
          151,
          152,
          153,
          154,
          155
         ],
         "y": [
          1.7,
          1.7,
          1.7,
          1.7,
          1.7,
          1.7,
          1.7,
          1.7,
          1.7,
          1.7,
          1.7,
          1.7,
          1.7,
          1.7,
          1.7,
          1.7,
          1.7,
          1.7,
          1.7,
          1.7,
          1.7,
          1.7,
          1.7,
          1.7,
          1.7,
          1.7,
          1.7,
          1.7,
          1.7,
          1.7,
          1.7,
          1.7,
          1.7,
          1.7,
          1.7,
          1.7,
          1.7,
          1.7,
          1.7,
          1.7,
          1.7,
          1.7,
          1.7,
          1.7,
          1.7,
          1.7,
          1.7,
          1.7,
          1.7,
          1.7,
          1.7,
          1.7,
          1.7,
          1.7,
          1.7,
          1.7,
          1.7,
          1.7,
          1.7,
          1.7,
          1.7,
          1.7,
          1.7,
          1.7,
          1.7,
          1.7,
          1.7,
          1.7,
          1.7,
          1.7,
          1.7,
          1.7,
          1.7,
          1.7,
          1.7,
          1.7,
          1.7,
          1.7,
          1.7,
          1.7,
          1.7,
          1.7,
          1.7,
          1.7,
          1.7,
          1.7,
          1.7,
          1.7,
          1.7,
          1.7,
          1.7,
          1.7,
          1.7,
          1.7,
          1.7,
          1.7,
          1.7,
          1.7,
          1.7,
          1.7,
          1.7,
          1.7,
          1.7,
          1.7,
          1.7,
          1.7,
          1.7,
          1.7,
          1.7,
          1.7,
          1.7,
          1.7,
          1.7,
          1.7,
          1.7,
          1.7,
          1.7,
          1.7,
          1.7,
          1.7,
          1.7,
          1.7,
          1.7,
          1.7,
          1.7,
          1.7,
          1.7,
          1.7,
          1.7,
          1.7,
          1.7,
          1.7,
          1.7,
          1.7,
          1.7,
          1.7,
          1.7,
          1.7,
          1.7,
          1.7,
          1.7,
          1.7,
          1.7,
          1.7,
          1.7,
          1.7,
          1.7,
          1.7,
          1.7,
          1.7,
          1.7,
          1.7,
          1.7,
          1.7,
          1.7,
          1.7
         ]
        },
        {
         "line": {
          "color": "red",
          "width": 2
         },
         "mode": "lines",
         "name": "E(epsilon)",
         "type": "scatter",
         "x": [
          0,
          1,
          2,
          3,
          4,
          5,
          6,
          7,
          8,
          9,
          10,
          11,
          12,
          13,
          14,
          15,
          16,
          17,
          18,
          19,
          20,
          21,
          22,
          23,
          24,
          25,
          26,
          27,
          28,
          29,
          30,
          31,
          32,
          33,
          34,
          35,
          36,
          37,
          38,
          39,
          40,
          41,
          42,
          43,
          44,
          45,
          46,
          47,
          48,
          49,
          50,
          51,
          52,
          53,
          54,
          55,
          56,
          57,
          58,
          59,
          60,
          61,
          62,
          63,
          64,
          65,
          66,
          67,
          68,
          69,
          70,
          71,
          72,
          73,
          74,
          75,
          76,
          77,
          78,
          79,
          80,
          81,
          82,
          83,
          84,
          85,
          86,
          87,
          88,
          89,
          90,
          91,
          92,
          93,
          94,
          95,
          96,
          97,
          98,
          99,
          100,
          101,
          102,
          103,
          104,
          105,
          106,
          107,
          108,
          109,
          110,
          111,
          112,
          113,
          114,
          115,
          116,
          117,
          118,
          119,
          120,
          121,
          122,
          123,
          124,
          125,
          126,
          127,
          128,
          129,
          130,
          131,
          132,
          133,
          134,
          135,
          136,
          137,
          138,
          139,
          140,
          141,
          142,
          143,
          144,
          145,
          146,
          147,
          148,
          149,
          150,
          151,
          152,
          153,
          154,
          155
         ],
         "y": [
          0,
          0,
          0,
          0,
          0,
          0,
          0,
          0,
          0,
          0,
          0,
          0,
          0,
          0,
          0,
          0,
          0,
          0,
          0,
          0,
          0,
          0,
          0,
          0,
          0,
          0,
          0,
          0,
          0,
          0,
          0,
          0,
          0,
          0,
          0,
          0,
          0,
          0,
          0,
          0,
          0,
          0,
          0,
          0,
          0,
          0,
          0,
          0,
          0,
          0,
          0,
          0,
          0,
          0,
          0,
          0,
          0,
          0,
          0,
          0,
          0,
          0,
          0,
          0,
          0,
          0,
          0,
          0,
          0,
          0,
          0,
          0,
          0,
          0,
          0,
          0,
          0,
          0,
          0,
          0,
          0,
          0,
          0,
          0,
          0,
          0,
          0,
          0,
          0,
          0,
          0,
          0,
          0,
          0,
          0,
          0,
          0,
          0,
          0,
          0,
          0,
          0,
          0,
          0,
          0,
          0,
          0,
          0,
          0,
          0,
          0,
          0,
          0,
          0,
          0,
          0,
          0,
          0,
          0,
          0,
          0,
          0,
          0,
          0,
          0,
          0,
          0,
          0,
          0,
          0,
          0,
          0,
          0,
          0,
          0,
          0,
          0,
          0,
          0,
          0,
          0,
          0,
          0,
          0,
          0,
          0,
          0,
          0,
          0,
          0,
          0,
          0,
          0,
          0,
          0,
          0
         ]
        }
       ],
       "layout": {
        "height": 500,
        "legend": {
         "tracegroupgap": 0
        },
        "margin": {
         "t": 60
        },
        "showlegend": false,
        "template": {
         "data": {
          "bar": [
           {
            "error_x": {
             "color": "#2a3f5f"
            },
            "error_y": {
             "color": "#2a3f5f"
            },
            "marker": {
             "line": {
              "color": "#E5ECF6",
              "width": 0.5
             },
             "pattern": {
              "fillmode": "overlay",
              "size": 10,
              "solidity": 0.2
             }
            },
            "type": "bar"
           }
          ],
          "barpolar": [
           {
            "marker": {
             "line": {
              "color": "#E5ECF6",
              "width": 0.5
             },
             "pattern": {
              "fillmode": "overlay",
              "size": 10,
              "solidity": 0.2
             }
            },
            "type": "barpolar"
           }
          ],
          "carpet": [
           {
            "aaxis": {
             "endlinecolor": "#2a3f5f",
             "gridcolor": "white",
             "linecolor": "white",
             "minorgridcolor": "white",
             "startlinecolor": "#2a3f5f"
            },
            "baxis": {
             "endlinecolor": "#2a3f5f",
             "gridcolor": "white",
             "linecolor": "white",
             "minorgridcolor": "white",
             "startlinecolor": "#2a3f5f"
            },
            "type": "carpet"
           }
          ],
          "choropleth": [
           {
            "colorbar": {
             "outlinewidth": 0,
             "ticks": ""
            },
            "type": "choropleth"
           }
          ],
          "contour": [
           {
            "colorbar": {
             "outlinewidth": 0,
             "ticks": ""
            },
            "colorscale": [
             [
              0,
              "#0d0887"
             ],
             [
              0.1111111111111111,
              "#46039f"
             ],
             [
              0.2222222222222222,
              "#7201a8"
             ],
             [
              0.3333333333333333,
              "#9c179e"
             ],
             [
              0.4444444444444444,
              "#bd3786"
             ],
             [
              0.5555555555555556,
              "#d8576b"
             ],
             [
              0.6666666666666666,
              "#ed7953"
             ],
             [
              0.7777777777777778,
              "#fb9f3a"
             ],
             [
              0.8888888888888888,
              "#fdca26"
             ],
             [
              1,
              "#f0f921"
             ]
            ],
            "type": "contour"
           }
          ],
          "contourcarpet": [
           {
            "colorbar": {
             "outlinewidth": 0,
             "ticks": ""
            },
            "type": "contourcarpet"
           }
          ],
          "heatmap": [
           {
            "colorbar": {
             "outlinewidth": 0,
             "ticks": ""
            },
            "colorscale": [
             [
              0,
              "#0d0887"
             ],
             [
              0.1111111111111111,
              "#46039f"
             ],
             [
              0.2222222222222222,
              "#7201a8"
             ],
             [
              0.3333333333333333,
              "#9c179e"
             ],
             [
              0.4444444444444444,
              "#bd3786"
             ],
             [
              0.5555555555555556,
              "#d8576b"
             ],
             [
              0.6666666666666666,
              "#ed7953"
             ],
             [
              0.7777777777777778,
              "#fb9f3a"
             ],
             [
              0.8888888888888888,
              "#fdca26"
             ],
             [
              1,
              "#f0f921"
             ]
            ],
            "type": "heatmap"
           }
          ],
          "heatmapgl": [
           {
            "colorbar": {
             "outlinewidth": 0,
             "ticks": ""
            },
            "colorscale": [
             [
              0,
              "#0d0887"
             ],
             [
              0.1111111111111111,
              "#46039f"
             ],
             [
              0.2222222222222222,
              "#7201a8"
             ],
             [
              0.3333333333333333,
              "#9c179e"
             ],
             [
              0.4444444444444444,
              "#bd3786"
             ],
             [
              0.5555555555555556,
              "#d8576b"
             ],
             [
              0.6666666666666666,
              "#ed7953"
             ],
             [
              0.7777777777777778,
              "#fb9f3a"
             ],
             [
              0.8888888888888888,
              "#fdca26"
             ],
             [
              1,
              "#f0f921"
             ]
            ],
            "type": "heatmapgl"
           }
          ],
          "histogram": [
           {
            "marker": {
             "pattern": {
              "fillmode": "overlay",
              "size": 10,
              "solidity": 0.2
             }
            },
            "type": "histogram"
           }
          ],
          "histogram2d": [
           {
            "colorbar": {
             "outlinewidth": 0,
             "ticks": ""
            },
            "colorscale": [
             [
              0,
              "#0d0887"
             ],
             [
              0.1111111111111111,
              "#46039f"
             ],
             [
              0.2222222222222222,
              "#7201a8"
             ],
             [
              0.3333333333333333,
              "#9c179e"
             ],
             [
              0.4444444444444444,
              "#bd3786"
             ],
             [
              0.5555555555555556,
              "#d8576b"
             ],
             [
              0.6666666666666666,
              "#ed7953"
             ],
             [
              0.7777777777777778,
              "#fb9f3a"
             ],
             [
              0.8888888888888888,
              "#fdca26"
             ],
             [
              1,
              "#f0f921"
             ]
            ],
            "type": "histogram2d"
           }
          ],
          "histogram2dcontour": [
           {
            "colorbar": {
             "outlinewidth": 0,
             "ticks": ""
            },
            "colorscale": [
             [
              0,
              "#0d0887"
             ],
             [
              0.1111111111111111,
              "#46039f"
             ],
             [
              0.2222222222222222,
              "#7201a8"
             ],
             [
              0.3333333333333333,
              "#9c179e"
             ],
             [
              0.4444444444444444,
              "#bd3786"
             ],
             [
              0.5555555555555556,
              "#d8576b"
             ],
             [
              0.6666666666666666,
              "#ed7953"
             ],
             [
              0.7777777777777778,
              "#fb9f3a"
             ],
             [
              0.8888888888888888,
              "#fdca26"
             ],
             [
              1,
              "#f0f921"
             ]
            ],
            "type": "histogram2dcontour"
           }
          ],
          "mesh3d": [
           {
            "colorbar": {
             "outlinewidth": 0,
             "ticks": ""
            },
            "type": "mesh3d"
           }
          ],
          "parcoords": [
           {
            "line": {
             "colorbar": {
              "outlinewidth": 0,
              "ticks": ""
             }
            },
            "type": "parcoords"
           }
          ],
          "pie": [
           {
            "automargin": true,
            "type": "pie"
           }
          ],
          "scatter": [
           {
            "fillpattern": {
             "fillmode": "overlay",
             "size": 10,
             "solidity": 0.2
            },
            "type": "scatter"
           }
          ],
          "scatter3d": [
           {
            "line": {
             "colorbar": {
              "outlinewidth": 0,
              "ticks": ""
             }
            },
            "marker": {
             "colorbar": {
              "outlinewidth": 0,
              "ticks": ""
             }
            },
            "type": "scatter3d"
           }
          ],
          "scattercarpet": [
           {
            "marker": {
             "colorbar": {
              "outlinewidth": 0,
              "ticks": ""
             }
            },
            "type": "scattercarpet"
           }
          ],
          "scattergeo": [
           {
            "marker": {
             "colorbar": {
              "outlinewidth": 0,
              "ticks": ""
             }
            },
            "type": "scattergeo"
           }
          ],
          "scattergl": [
           {
            "marker": {
             "colorbar": {
              "outlinewidth": 0,
              "ticks": ""
             }
            },
            "type": "scattergl"
           }
          ],
          "scattermapbox": [
           {
            "marker": {
             "colorbar": {
              "outlinewidth": 0,
              "ticks": ""
             }
            },
            "type": "scattermapbox"
           }
          ],
          "scatterpolar": [
           {
            "marker": {
             "colorbar": {
              "outlinewidth": 0,
              "ticks": ""
             }
            },
            "type": "scatterpolar"
           }
          ],
          "scatterpolargl": [
           {
            "marker": {
             "colorbar": {
              "outlinewidth": 0,
              "ticks": ""
             }
            },
            "type": "scatterpolargl"
           }
          ],
          "scatterternary": [
           {
            "marker": {
             "colorbar": {
              "outlinewidth": 0,
              "ticks": ""
             }
            },
            "type": "scatterternary"
           }
          ],
          "surface": [
           {
            "colorbar": {
             "outlinewidth": 0,
             "ticks": ""
            },
            "colorscale": [
             [
              0,
              "#0d0887"
             ],
             [
              0.1111111111111111,
              "#46039f"
             ],
             [
              0.2222222222222222,
              "#7201a8"
             ],
             [
              0.3333333333333333,
              "#9c179e"
             ],
             [
              0.4444444444444444,
              "#bd3786"
             ],
             [
              0.5555555555555556,
              "#d8576b"
             ],
             [
              0.6666666666666666,
              "#ed7953"
             ],
             [
              0.7777777777777778,
              "#fb9f3a"
             ],
             [
              0.8888888888888888,
              "#fdca26"
             ],
             [
              1,
              "#f0f921"
             ]
            ],
            "type": "surface"
           }
          ],
          "table": [
           {
            "cells": {
             "fill": {
              "color": "#EBF0F8"
             },
             "line": {
              "color": "white"
             }
            },
            "header": {
             "fill": {
              "color": "#C8D4E3"
             },
             "line": {
              "color": "white"
             }
            },
            "type": "table"
           }
          ]
         },
         "layout": {
          "annotationdefaults": {
           "arrowcolor": "#2a3f5f",
           "arrowhead": 0,
           "arrowwidth": 1
          },
          "autotypenumbers": "strict",
          "coloraxis": {
           "colorbar": {
            "outlinewidth": 0,
            "ticks": ""
           }
          },
          "colorscale": {
           "diverging": [
            [
             0,
             "#8e0152"
            ],
            [
             0.1,
             "#c51b7d"
            ],
            [
             0.2,
             "#de77ae"
            ],
            [
             0.3,
             "#f1b6da"
            ],
            [
             0.4,
             "#fde0ef"
            ],
            [
             0.5,
             "#f7f7f7"
            ],
            [
             0.6,
             "#e6f5d0"
            ],
            [
             0.7,
             "#b8e186"
            ],
            [
             0.8,
             "#7fbc41"
            ],
            [
             0.9,
             "#4d9221"
            ],
            [
             1,
             "#276419"
            ]
           ],
           "sequential": [
            [
             0,
             "#0d0887"
            ],
            [
             0.1111111111111111,
             "#46039f"
            ],
            [
             0.2222222222222222,
             "#7201a8"
            ],
            [
             0.3333333333333333,
             "#9c179e"
            ],
            [
             0.4444444444444444,
             "#bd3786"
            ],
            [
             0.5555555555555556,
             "#d8576b"
            ],
            [
             0.6666666666666666,
             "#ed7953"
            ],
            [
             0.7777777777777778,
             "#fb9f3a"
            ],
            [
             0.8888888888888888,
             "#fdca26"
            ],
            [
             1,
             "#f0f921"
            ]
           ],
           "sequentialminus": [
            [
             0,
             "#0d0887"
            ],
            [
             0.1111111111111111,
             "#46039f"
            ],
            [
             0.2222222222222222,
             "#7201a8"
            ],
            [
             0.3333333333333333,
             "#9c179e"
            ],
            [
             0.4444444444444444,
             "#bd3786"
            ],
            [
             0.5555555555555556,
             "#d8576b"
            ],
            [
             0.6666666666666666,
             "#ed7953"
            ],
            [
             0.7777777777777778,
             "#fb9f3a"
            ],
            [
             0.8888888888888888,
             "#fdca26"
            ],
            [
             1,
             "#f0f921"
            ]
           ]
          },
          "colorway": [
           "#636efa",
           "#EF553B",
           "#00cc96",
           "#ab63fa",
           "#FFA15A",
           "#19d3f3",
           "#FF6692",
           "#B6E880",
           "#FF97FF",
           "#FECB52"
          ],
          "font": {
           "color": "#2a3f5f"
          },
          "geo": {
           "bgcolor": "white",
           "lakecolor": "white",
           "landcolor": "#E5ECF6",
           "showlakes": true,
           "showland": true,
           "subunitcolor": "white"
          },
          "hoverlabel": {
           "align": "left"
          },
          "hovermode": "closest",
          "mapbox": {
           "style": "light"
          },
          "paper_bgcolor": "white",
          "plot_bgcolor": "#E5ECF6",
          "polar": {
           "angularaxis": {
            "gridcolor": "white",
            "linecolor": "white",
            "ticks": ""
           },
           "bgcolor": "#E5ECF6",
           "radialaxis": {
            "gridcolor": "white",
            "linecolor": "white",
            "ticks": ""
           }
          },
          "scene": {
           "xaxis": {
            "backgroundcolor": "#E5ECF6",
            "gridcolor": "white",
            "gridwidth": 2,
            "linecolor": "white",
            "showbackground": true,
            "ticks": "",
            "zerolinecolor": "white"
           },
           "yaxis": {
            "backgroundcolor": "#E5ECF6",
            "gridcolor": "white",
            "gridwidth": 2,
            "linecolor": "white",
            "showbackground": true,
            "ticks": "",
            "zerolinecolor": "white"
           },
           "zaxis": {
            "backgroundcolor": "#E5ECF6",
            "gridcolor": "white",
            "gridwidth": 2,
            "linecolor": "white",
            "showbackground": true,
            "ticks": "",
            "zerolinecolor": "white"
           }
          },
          "shapedefaults": {
           "line": {
            "color": "#2a3f5f"
           }
          },
          "ternary": {
           "aaxis": {
            "gridcolor": "white",
            "linecolor": "white",
            "ticks": ""
           },
           "baxis": {
            "gridcolor": "white",
            "linecolor": "white",
            "ticks": ""
           },
           "bgcolor": "#E5ECF6",
           "caxis": {
            "gridcolor": "white",
            "linecolor": "white",
            "ticks": ""
           }
          },
          "title": {
           "x": 0.05
          },
          "xaxis": {
           "automargin": true,
           "gridcolor": "white",
           "linecolor": "white",
           "ticks": "",
           "title": {
            "standoff": 15
           },
           "zerolinecolor": "white",
           "zerolinewidth": 2
          },
          "yaxis": {
           "automargin": true,
           "gridcolor": "white",
           "linecolor": "white",
           "ticks": "",
           "title": {
            "standoff": 15
           },
           "zerolinecolor": "white",
           "zerolinewidth": 2
          }
         }
        },
        "title": {
         "font": {
          "size": 18
         },
         "text": "Wizualizacja residuów",
         "x": 0.5,
         "xanchor": "center"
        },
        "width": 800,
        "xaxis": {
         "anchor": "y",
         "domain": [
          0,
          1
         ],
         "title": {
          "text": "index"
         }
        },
        "yaxis": {
         "anchor": "x",
         "domain": [
          0,
          1
         ],
         "range": [
          -3,
          3
         ],
         "title": {
          "text": "Otrzymane wartości"
         }
        }
       }
      }
     },
     "metadata": {},
     "output_type": "display_data"
    }
   ],
   "source": [
    "fig = px.scatter(x=range(len(res)), y=res)\n",
    "\n",
    "x_values = list(range(len(res)))\n",
    "\n",
    "fig.add_scatter(\n",
    "    x=x_values,\n",
    "    y=np.array([-1.7]*len(res)), \n",
    "    mode='lines', \n",
    "    line=dict(color='black', width=2)\n",
    ")\n",
    "\n",
    "fig.add_scatter(\n",
    "    x=x_values,\n",
    "    y=np.array([1.7]*len(res)), \n",
    "    mode='lines', \n",
    "    line=dict(color='black', width=2)\n",
    ")\n",
    "\n",
    "fig.add_scatter(\n",
    "    x=x_values,\n",
    "    y=np.array([0]*len(res)), \n",
    "    mode='lines', \n",
    "    line=dict(color='red', width=2),\n",
    "    name='E(epsilon)'\n",
    ")\n",
    "\n",
    "\n",
    "fig.update_layout(\n",
    "    title={\n",
    "        'text': \"Wizualizacja residuów\",\n",
    "        'x': 0.5,  \n",
    "        'xanchor': 'center'\n",
    "    },\n",
    "    xaxis_title=\"index\",\n",
    "    yaxis_title=\"Otrzymane wartości\",\n",
    "    title_font_size=18,\n",
    "    width=800,\n",
    "    height=500,\n",
    "    showlegend=False\n",
    ")\n",
    "\n",
    "fig.update_yaxes(range=[-3, 3])\n",
    "\n",
    "fig.show()\n"
   ]
  },
  {
   "cell_type": "code",
   "execution_count": 452,
   "metadata": {},
   "outputs": [],
   "source": [
    "acf_res = acf(res, nlags=h)"
   ]
  },
  {
   "cell_type": "code",
   "execution_count": 453,
   "metadata": {},
   "outputs": [
    {
     "data": {
      "application/vnd.plotly.v1+json": {
       "config": {
        "plotlyServerURL": "https://plot.ly"
       },
       "data": [
        {
         "line": {
          "color": "#767FFA"
         },
         "mode": "lines",
         "showlegend": false,
         "type": "scatter",
         "x": [
          0,
          0
         ],
         "y": [
          0,
          1
         ]
        },
        {
         "line": {
          "color": "#767FFA"
         },
         "mode": "lines",
         "showlegend": false,
         "type": "scatter",
         "x": [
          1,
          1
         ],
         "y": [
          0,
          -0.003667540332635025
         ]
        },
        {
         "line": {
          "color": "#767FFA"
         },
         "mode": "lines",
         "showlegend": false,
         "type": "scatter",
         "x": [
          2,
          2
         ],
         "y": [
          0,
          0.020132691099357773
         ]
        },
        {
         "line": {
          "color": "#767FFA"
         },
         "mode": "lines",
         "showlegend": false,
         "type": "scatter",
         "x": [
          3,
          3
         ],
         "y": [
          0,
          -0.04379275164878688
         ]
        },
        {
         "line": {
          "color": "#767FFA"
         },
         "mode": "lines",
         "showlegend": false,
         "type": "scatter",
         "x": [
          4,
          4
         ],
         "y": [
          0,
          -0.018657859977183895
         ]
        },
        {
         "line": {
          "color": "#767FFA"
         },
         "mode": "lines",
         "showlegend": false,
         "type": "scatter",
         "x": [
          5,
          5
         ],
         "y": [
          0,
          -0.050090139013719094
         ]
        },
        {
         "line": {
          "color": "#767FFA"
         },
         "mode": "lines",
         "showlegend": false,
         "type": "scatter",
         "x": [
          6,
          6
         ],
         "y": [
          0,
          0.046919076376768946
         ]
        },
        {
         "line": {
          "color": "#767FFA"
         },
         "mode": "lines",
         "showlegend": false,
         "type": "scatter",
         "x": [
          7,
          7
         ],
         "y": [
          0,
          0.037003750580445124
         ]
        },
        {
         "line": {
          "color": "#767FFA"
         },
         "mode": "lines",
         "showlegend": false,
         "type": "scatter",
         "x": [
          8,
          8
         ],
         "y": [
          0,
          0.021167440555027433
         ]
        },
        {
         "line": {
          "color": "#767FFA"
         },
         "mode": "lines",
         "showlegend": false,
         "type": "scatter",
         "x": [
          9,
          9
         ],
         "y": [
          0,
          0.0628753891134873
         ]
        },
        {
         "line": {
          "color": "#767FFA"
         },
         "mode": "lines",
         "showlegend": false,
         "type": "scatter",
         "x": [
          10,
          10
         ],
         "y": [
          0,
          0.03259661577546684
         ]
        },
        {
         "line": {
          "color": "#767FFA"
         },
         "mode": "lines",
         "showlegend": false,
         "type": "scatter",
         "x": [
          11,
          11
         ],
         "y": [
          0,
          0.010998676825744486
         ]
        },
        {
         "line": {
          "color": "#767FFA"
         },
         "mode": "lines",
         "showlegend": false,
         "type": "scatter",
         "x": [
          12,
          12
         ],
         "y": [
          0,
          0.047681848891008606
         ]
        },
        {
         "line": {
          "color": "#767FFA"
         },
         "mode": "lines",
         "showlegend": false,
         "type": "scatter",
         "x": [
          13,
          13
         ],
         "y": [
          0,
          -0.07395718372673352
         ]
        },
        {
         "line": {
          "color": "#767FFA"
         },
         "mode": "lines",
         "showlegend": false,
         "type": "scatter",
         "x": [
          14,
          14
         ],
         "y": [
          0,
          0.06475102353115672
         ]
        },
        {
         "line": {
          "color": "#767FFA"
         },
         "mode": "lines",
         "showlegend": false,
         "type": "scatter",
         "x": [
          15,
          15
         ],
         "y": [
          0,
          -0.06547430900857354
         ]
        },
        {
         "line": {
          "color": "#767FFA"
         },
         "mode": "lines",
         "showlegend": false,
         "type": "scatter",
         "x": [
          16,
          16
         ],
         "y": [
          0,
          0.02131423942276371
         ]
        },
        {
         "line": {
          "color": "#767FFA"
         },
         "mode": "lines",
         "showlegend": false,
         "type": "scatter",
         "x": [
          17,
          17
         ],
         "y": [
          0,
          -0.056327075916628826
         ]
        },
        {
         "line": {
          "color": "#767FFA"
         },
         "mode": "lines",
         "showlegend": false,
         "type": "scatter",
         "x": [
          18,
          18
         ],
         "y": [
          0,
          0.06193186251505082
         ]
        },
        {
         "line": {
          "color": "#767FFA"
         },
         "mode": "lines",
         "showlegend": false,
         "type": "scatter",
         "x": [
          19,
          19
         ],
         "y": [
          0,
          -0.07681876487952666
         ]
        },
        {
         "line": {
          "color": "#767FFA"
         },
         "mode": "lines",
         "showlegend": false,
         "type": "scatter",
         "x": [
          20,
          20
         ],
         "y": [
          0,
          -0.09024300098354998
         ]
        },
        {
         "line": {
          "color": "#767FFA"
         },
         "mode": "lines",
         "showlegend": false,
         "type": "scatter",
         "x": [
          21,
          21
         ],
         "y": [
          0,
          -0.08053611922699841
         ]
        },
        {
         "line": {
          "color": "#767FFA"
         },
         "mode": "lines",
         "showlegend": false,
         "type": "scatter",
         "x": [
          22,
          22
         ],
         "y": [
          0,
          -0.16059419311990766
         ]
        },
        {
         "line": {
          "color": "#767FFA"
         },
         "mode": "lines",
         "showlegend": false,
         "type": "scatter",
         "x": [
          23,
          23
         ],
         "y": [
          0,
          -0.07230099004455093
         ]
        },
        {
         "line": {
          "color": "#767FFA"
         },
         "mode": "lines",
         "showlegend": false,
         "type": "scatter",
         "x": [
          24,
          24
         ],
         "y": [
          0,
          -0.04785764165675165
         ]
        },
        {
         "line": {
          "color": "#767FFA"
         },
         "mode": "lines",
         "showlegend": false,
         "type": "scatter",
         "x": [
          25,
          25
         ],
         "y": [
          0,
          -0.01119122107221545
         ]
        },
        {
         "line": {
          "color": "#767FFA"
         },
         "mode": "lines",
         "showlegend": false,
         "type": "scatter",
         "x": [
          26,
          26
         ],
         "y": [
          0,
          0.12817525073664765
         ]
        },
        {
         "line": {
          "color": "#767FFA"
         },
         "mode": "lines",
         "showlegend": false,
         "type": "scatter",
         "x": [
          27,
          27
         ],
         "y": [
          0,
          0.042201425227162755
         ]
        },
        {
         "line": {
          "color": "#767FFA"
         },
         "mode": "lines",
         "showlegend": false,
         "type": "scatter",
         "x": [
          28,
          28
         ],
         "y": [
          0,
          -0.051577550403397766
         ]
        },
        {
         "line": {
          "color": "#767FFA"
         },
         "mode": "lines",
         "showlegend": false,
         "type": "scatter",
         "x": [
          29,
          29
         ],
         "y": [
          0,
          0.03147564460792363
         ]
        },
        {
         "line": {
          "color": "#767FFA"
         },
         "mode": "lines",
         "showlegend": false,
         "type": "scatter",
         "x": [
          30,
          30
         ],
         "y": [
          0,
          -0.11730983947918562
         ]
        },
        {
         "line": {
          "color": "#767FFA"
         },
         "mode": "lines",
         "showlegend": false,
         "type": "scatter",
         "x": [
          31,
          31
         ],
         "y": [
          0,
          -0.1441894192529481
         ]
        },
        {
         "line": {
          "color": "#767FFA"
         },
         "mode": "lines",
         "showlegend": false,
         "type": "scatter",
         "x": [
          32,
          32
         ],
         "y": [
          0,
          -0.033855259451890406
         ]
        },
        {
         "line": {
          "color": "#767FFA"
         },
         "mode": "lines",
         "showlegend": false,
         "type": "scatter",
         "x": [
          33,
          33
         ],
         "y": [
          0,
          0.00825783819341948
         ]
        },
        {
         "line": {
          "color": "#767FFA"
         },
         "mode": "lines",
         "showlegend": false,
         "type": "scatter",
         "x": [
          34,
          34
         ],
         "y": [
          0,
          -0.11770752503200953
         ]
        },
        {
         "line": {
          "color": "#767FFA"
         },
         "mode": "lines",
         "showlegend": false,
         "type": "scatter",
         "x": [
          35,
          35
         ],
         "y": [
          0,
          -0.011478443453540006
         ]
        },
        {
         "line": {
          "color": "#767FFA"
         },
         "mode": "lines",
         "showlegend": false,
         "type": "scatter",
         "x": [
          36,
          36
         ],
         "y": [
          0,
          0.035465651737128304
         ]
        },
        {
         "line": {
          "color": "#767FFA"
         },
         "mode": "lines",
         "showlegend": false,
         "type": "scatter",
         "x": [
          37,
          37
         ],
         "y": [
          0,
          0.0334566529839873
         ]
        },
        {
         "line": {
          "color": "#767FFA"
         },
         "mode": "lines",
         "showlegend": false,
         "type": "scatter",
         "x": [
          38,
          38
         ],
         "y": [
          0,
          0.04309591603825377
         ]
        },
        {
         "line": {
          "color": "#767FFA"
         },
         "mode": "lines",
         "showlegend": false,
         "type": "scatter",
         "x": [
          39,
          39
         ],
         "y": [
          0,
          -0.09778745660148572
         ]
        },
        {
         "line": {
          "color": "#767FFA"
         },
         "mode": "lines",
         "showlegend": false,
         "type": "scatter",
         "x": [
          40,
          40
         ],
         "y": [
          0,
          0.026867959673670016
         ]
        },
        {
         "line": {
          "color": "#767FFA"
         },
         "mode": "lines",
         "showlegend": false,
         "type": "scatter",
         "x": [
          41,
          41
         ],
         "y": [
          0,
          -0.025477021541955403
         ]
        },
        {
         "line": {
          "color": "#767FFA"
         },
         "mode": "lines",
         "showlegend": false,
         "type": "scatter",
         "x": [
          42,
          42
         ],
         "y": [
          0,
          0.03924865800148146
         ]
        },
        {
         "line": {
          "color": "#767FFA"
         },
         "mode": "lines",
         "showlegend": false,
         "type": "scatter",
         "x": [
          43,
          43
         ],
         "y": [
          0,
          0.157768883082292
         ]
        },
        {
         "line": {
          "color": "#767FFA"
         },
         "mode": "lines",
         "showlegend": false,
         "type": "scatter",
         "x": [
          44,
          44
         ],
         "y": [
          0,
          0.06925595987727305
         ]
        },
        {
         "line": {
          "color": "#767FFA"
         },
         "mode": "lines",
         "showlegend": false,
         "type": "scatter",
         "x": [
          45,
          45
         ],
         "y": [
          0,
          0.02263047377554217
         ]
        },
        {
         "line": {
          "color": "#767FFA"
         },
         "mode": "lines",
         "showlegend": false,
         "type": "scatter",
         "x": [
          46,
          46
         ],
         "y": [
          0,
          -0.12983577871669755
         ]
        },
        {
         "line": {
          "color": "#767FFA"
         },
         "mode": "lines",
         "showlegend": false,
         "type": "scatter",
         "x": [
          47,
          47
         ],
         "y": [
          0,
          -0.018911872645953454
         ]
        },
        {
         "line": {
          "color": "#767FFA"
         },
         "mode": "lines",
         "showlegend": false,
         "type": "scatter",
         "x": [
          48,
          48
         ],
         "y": [
          0,
          -0.09580937751918508
         ]
        },
        {
         "line": {
          "color": "#767FFA"
         },
         "mode": "lines",
         "showlegend": false,
         "type": "scatter",
         "x": [
          49,
          49
         ],
         "y": [
          0,
          0.003616657534719102
         ]
        },
        {
         "line": {
          "color": "#767FFA"
         },
         "mode": "lines",
         "showlegend": false,
         "type": "scatter",
         "x": [
          50,
          50
         ],
         "y": [
          0,
          0.010497124033397138
         ]
        },
        {
         "line": {
          "color": "#767FFA"
         },
         "mode": "lines",
         "showlegend": false,
         "type": "scatter",
         "x": [
          51,
          51
         ],
         "y": [
          0,
          0.11228469410710071
         ]
        },
        {
         "line": {
          "color": "#767FFA"
         },
         "mode": "lines",
         "showlegend": false,
         "type": "scatter",
         "x": [
          52,
          52
         ],
         "y": [
          0,
          0.07490215622283852
         ]
        },
        {
         "line": {
          "color": "#767FFA"
         },
         "mode": "lines",
         "showlegend": false,
         "type": "scatter",
         "x": [
          53,
          53
         ],
         "y": [
          0,
          0.009445853104054124
         ]
        },
        {
         "line": {
          "color": "#767FFA"
         },
         "mode": "lines",
         "showlegend": false,
         "type": "scatter",
         "x": [
          54,
          54
         ],
         "y": [
          0,
          0.04441150360969348
         ]
        },
        {
         "line": {
          "color": "#767FFA"
         },
         "mode": "lines",
         "showlegend": false,
         "type": "scatter",
         "x": [
          55,
          55
         ],
         "y": [
          0,
          -0.03266320717106355
         ]
        },
        {
         "line": {
          "color": "#767FFA"
         },
         "mode": "lines",
         "showlegend": false,
         "type": "scatter",
         "x": [
          56,
          56
         ],
         "y": [
          0,
          -0.062150444967829004
         ]
        },
        {
         "line": {
          "color": "#767FFA"
         },
         "mode": "lines",
         "showlegend": false,
         "type": "scatter",
         "x": [
          57,
          57
         ],
         "y": [
          0,
          -0.10107846960729033
         ]
        },
        {
         "line": {
          "color": "#767FFA"
         },
         "mode": "lines",
         "showlegend": false,
         "type": "scatter",
         "x": [
          58,
          58
         ],
         "y": [
          0,
          -0.03327269318599579
         ]
        },
        {
         "line": {
          "color": "#767FFA"
         },
         "mode": "lines",
         "showlegend": false,
         "type": "scatter",
         "x": [
          59,
          59
         ],
         "y": [
          0,
          -0.023570157982456347
         ]
        },
        {
         "line": {
          "color": "#767FFA"
         },
         "mode": "lines",
         "showlegend": false,
         "type": "scatter",
         "x": [
          60,
          60
         ],
         "y": [
          0,
          -0.038740821080334886
         ]
        },
        {
         "line": {
          "color": "#767FFA"
         },
         "mode": "lines",
         "showlegend": false,
         "type": "scatter",
         "x": [
          61,
          61
         ],
         "y": [
          0,
          0.08158157258699651
         ]
        },
        {
         "line": {
          "color": "#767FFA"
         },
         "mode": "lines",
         "showlegend": false,
         "type": "scatter",
         "x": [
          62,
          62
         ],
         "y": [
          0,
          -0.039606543823455076
         ]
        },
        {
         "line": {
          "color": "#767FFA"
         },
         "mode": "lines",
         "showlegend": false,
         "type": "scatter",
         "x": [
          63,
          63
         ],
         "y": [
          0,
          -0.024993137197118744
         ]
        },
        {
         "line": {
          "color": "#767FFA"
         },
         "mode": "lines",
         "showlegend": false,
         "type": "scatter",
         "x": [
          64,
          64
         ],
         "y": [
          0,
          -0.017871434069577828
         ]
        },
        {
         "line": {
          "color": "#767FFA"
         },
         "mode": "lines",
         "showlegend": false,
         "type": "scatter",
         "x": [
          65,
          65
         ],
         "y": [
          0,
          -0.016032470033878244
         ]
        },
        {
         "line": {
          "color": "#767FFA"
         },
         "mode": "lines",
         "showlegend": false,
         "type": "scatter",
         "x": [
          66,
          66
         ],
         "y": [
          0,
          -0.1414756732621561
         ]
        },
        {
         "line": {
          "color": "#767FFA"
         },
         "mode": "lines",
         "showlegend": false,
         "type": "scatter",
         "x": [
          67,
          67
         ],
         "y": [
          0,
          0.10875298682230472
         ]
        },
        {
         "line": {
          "color": "#767FFA"
         },
         "mode": "lines",
         "showlegend": false,
         "type": "scatter",
         "x": [
          68,
          68
         ],
         "y": [
          0,
          -0.049805340518081165
         ]
        },
        {
         "line": {
          "color": "#767FFA"
         },
         "mode": "lines",
         "showlegend": false,
         "type": "scatter",
         "x": [
          69,
          69
         ],
         "y": [
          0,
          0.09985413525285122
         ]
        },
        {
         "line": {
          "color": "#767FFA"
         },
         "mode": "lines",
         "showlegend": false,
         "type": "scatter",
         "x": [
          70,
          70
         ],
         "y": [
          0,
          0.017926323994399133
         ]
        },
        {
         "line": {
          "color": "#767FFA"
         },
         "mode": "lines",
         "showlegend": false,
         "type": "scatter",
         "x": [
          71,
          71
         ],
         "y": [
          0,
          0.05686160388102441
         ]
        },
        {
         "line": {
          "color": "#767FFA"
         },
         "mode": "lines",
         "showlegend": false,
         "type": "scatter",
         "x": [
          72,
          72
         ],
         "y": [
          0,
          -0.036503393710651436
         ]
        },
        {
         "line": {
          "color": "#767FFA"
         },
         "mode": "lines",
         "showlegend": false,
         "type": "scatter",
         "x": [
          73,
          73
         ],
         "y": [
          0,
          -0.054700937736929765
         ]
        },
        {
         "line": {
          "color": "#767FFA"
         },
         "mode": "lines",
         "showlegend": false,
         "type": "scatter",
         "x": [
          74,
          74
         ],
         "y": [
          0,
          -0.060419768120522285
         ]
        },
        {
         "line": {
          "color": "#767FFA"
         },
         "mode": "lines",
         "showlegend": false,
         "type": "scatter",
         "x": [
          75,
          75
         ],
         "y": [
          0,
          0.02943184445179271
         ]
        },
        {
         "line": {
          "color": "#767FFA"
         },
         "mode": "lines",
         "showlegend": false,
         "type": "scatter",
         "x": [
          76,
          76
         ],
         "y": [
          0,
          0.008297876663733
         ]
        },
        {
         "line": {
          "color": "#767FFA"
         },
         "mode": "lines",
         "showlegend": false,
         "type": "scatter",
         "x": [
          77,
          77
         ],
         "y": [
          0,
          0.11300419140171811
         ]
        },
        {
         "line": {
          "color": "#767FFA"
         },
         "mode": "lines",
         "showlegend": false,
         "type": "scatter",
         "x": [
          78,
          78
         ],
         "y": [
          0,
          -0.005669951595416296
         ]
        },
        {
         "line": {
          "color": "#767FFA"
         },
         "mode": "lines",
         "showlegend": false,
         "type": "scatter",
         "x": [
          79,
          79
         ],
         "y": [
          0,
          0.09014561811783034
         ]
        },
        {
         "line": {
          "color": "#767FFA"
         },
         "mode": "lines",
         "showlegend": false,
         "type": "scatter",
         "x": [
          80,
          80
         ],
         "y": [
          0,
          0.048031082210566706
         ]
        },
        {
         "line": {
          "color": "#767FFA"
         },
         "mode": "lines",
         "showlegend": false,
         "type": "scatter",
         "x": [
          81,
          81
         ],
         "y": [
          0,
          0.06497056275044719
         ]
        },
        {
         "line": {
          "color": "#767FFA"
         },
         "mode": "lines",
         "showlegend": false,
         "type": "scatter",
         "x": [
          82,
          82
         ],
         "y": [
          0,
          -0.05384358005800603
         ]
        },
        {
         "line": {
          "color": "#767FFA"
         },
         "mode": "lines",
         "showlegend": false,
         "type": "scatter",
         "x": [
          83,
          83
         ],
         "y": [
          0,
          0.00833483486505575
         ]
        },
        {
         "line": {
          "color": "#767FFA"
         },
         "mode": "lines",
         "showlegend": false,
         "type": "scatter",
         "x": [
          84,
          84
         ],
         "y": [
          0,
          -0.08453517993321177
         ]
        },
        {
         "line": {
          "color": "#767FFA"
         },
         "mode": "lines",
         "showlegend": false,
         "type": "scatter",
         "x": [
          85,
          85
         ],
         "y": [
          0,
          0.047176238541101694
         ]
        },
        {
         "line": {
          "color": "#767FFA"
         },
         "mode": "lines",
         "showlegend": false,
         "type": "scatter",
         "x": [
          86,
          86
         ],
         "y": [
          0,
          -0.03491234604787885
         ]
        },
        {
         "line": {
          "color": "#767FFA"
         },
         "mode": "lines",
         "showlegend": false,
         "type": "scatter",
         "x": [
          87,
          87
         ],
         "y": [
          0,
          0.053611117644632916
         ]
        },
        {
         "line": {
          "color": "#767FFA"
         },
         "mode": "lines",
         "showlegend": false,
         "type": "scatter",
         "x": [
          88,
          88
         ],
         "y": [
          0,
          0.0570282476120986
         ]
        },
        {
         "line": {
          "color": "#767FFA"
         },
         "mode": "lines",
         "showlegend": false,
         "type": "scatter",
         "x": [
          89,
          89
         ],
         "y": [
          0,
          -0.01235030143876538
         ]
        },
        {
         "line": {
          "color": "#767FFA"
         },
         "mode": "lines",
         "showlegend": false,
         "type": "scatter",
         "x": [
          90,
          90
         ],
         "y": [
          0,
          -0.030872375174352342
         ]
        },
        {
         "line": {
          "color": "#767FFA"
         },
         "mode": "lines",
         "showlegend": false,
         "type": "scatter",
         "x": [
          91,
          91
         ],
         "y": [
          0,
          0.043194785402285885
         ]
        },
        {
         "line": {
          "color": "#767FFA"
         },
         "mode": "lines",
         "showlegend": false,
         "type": "scatter",
         "x": [
          92,
          92
         ],
         "y": [
          0,
          -0.029375235483485168
         ]
        },
        {
         "line": {
          "color": "#767FFA"
         },
         "mode": "lines",
         "showlegend": false,
         "type": "scatter",
         "x": [
          93,
          93
         ],
         "y": [
          0,
          0.008319253621453191
         ]
        },
        {
         "line": {
          "color": "#767FFA"
         },
         "mode": "lines",
         "showlegend": false,
         "type": "scatter",
         "x": [
          94,
          94
         ],
         "y": [
          0,
          0.024222752054640282
         ]
        },
        {
         "line": {
          "color": "#767FFA"
         },
         "mode": "lines",
         "showlegend": false,
         "type": "scatter",
         "x": [
          95,
          95
         ],
         "y": [
          0,
          -0.0013529167132547407
         ]
        },
        {
         "line": {
          "color": "#767FFA"
         },
         "mode": "lines",
         "showlegend": false,
         "type": "scatter",
         "x": [
          96,
          96
         ],
         "y": [
          0,
          0.03133701954440349
         ]
        },
        {
         "line": {
          "color": "#767FFA"
         },
         "mode": "lines",
         "showlegend": false,
         "type": "scatter",
         "x": [
          97,
          97
         ],
         "y": [
          0,
          0.05962282302974781
         ]
        },
        {
         "line": {
          "color": "#767FFA"
         },
         "mode": "lines",
         "showlegend": false,
         "type": "scatter",
         "x": [
          98,
          98
         ],
         "y": [
          0,
          -0.07569350623162979
         ]
        },
        {
         "line": {
          "color": "#767FFA"
         },
         "mode": "lines",
         "showlegend": false,
         "type": "scatter",
         "x": [
          99,
          99
         ],
         "y": [
          0,
          -0.08920163685374126
         ]
        },
        {
         "line": {
          "color": "#767FFA"
         },
         "mode": "lines",
         "showlegend": false,
         "type": "scatter",
         "x": [
          100,
          100
         ],
         "y": [
          0,
          -0.018451998795657194
         ]
        },
        {
         "line": {
          "color": "#767FFA",
          "width": 2
         },
         "marker": {
          "size": 8,
          "symbol": "circle"
         },
         "mode": "markers",
         "showlegend": false,
         "type": "scatter",
         "x": [
          0,
          1,
          2,
          3,
          4,
          5,
          6,
          7,
          8,
          9,
          10,
          11,
          12,
          13,
          14,
          15,
          16,
          17,
          18,
          19,
          20,
          21,
          22,
          23,
          24,
          25,
          26,
          27,
          28,
          29,
          30,
          31,
          32,
          33,
          34,
          35,
          36,
          37,
          38,
          39,
          40,
          41,
          42,
          43,
          44,
          45,
          46,
          47,
          48,
          49,
          50,
          51,
          52,
          53,
          54,
          55,
          56,
          57,
          58,
          59,
          60,
          61,
          62,
          63,
          64,
          65,
          66,
          67,
          68,
          69,
          70,
          71,
          72,
          73,
          74,
          75,
          76,
          77,
          78,
          79,
          80,
          81,
          82,
          83,
          84,
          85,
          86,
          87,
          88,
          89,
          90,
          91,
          92,
          93,
          94,
          95,
          96,
          97,
          98,
          99,
          100
         ],
         "y": [
          1,
          -0.003667540332635025,
          0.020132691099357773,
          -0.04379275164878688,
          -0.018657859977183895,
          -0.050090139013719094,
          0.046919076376768946,
          0.037003750580445124,
          0.021167440555027433,
          0.0628753891134873,
          0.03259661577546684,
          0.010998676825744486,
          0.047681848891008606,
          -0.07395718372673352,
          0.06475102353115672,
          -0.06547430900857354,
          0.02131423942276371,
          -0.056327075916628826,
          0.06193186251505082,
          -0.07681876487952666,
          -0.09024300098354998,
          -0.08053611922699841,
          -0.16059419311990766,
          -0.07230099004455093,
          -0.04785764165675165,
          -0.01119122107221545,
          0.12817525073664765,
          0.042201425227162755,
          -0.051577550403397766,
          0.03147564460792363,
          -0.11730983947918562,
          -0.1441894192529481,
          -0.033855259451890406,
          0.00825783819341948,
          -0.11770752503200953,
          -0.011478443453540006,
          0.035465651737128304,
          0.0334566529839873,
          0.04309591603825377,
          -0.09778745660148572,
          0.026867959673670016,
          -0.025477021541955403,
          0.03924865800148146,
          0.157768883082292,
          0.06925595987727305,
          0.02263047377554217,
          -0.12983577871669755,
          -0.018911872645953454,
          -0.09580937751918508,
          0.003616657534719102,
          0.010497124033397138,
          0.11228469410710071,
          0.07490215622283852,
          0.009445853104054124,
          0.04441150360969348,
          -0.03266320717106355,
          -0.062150444967829004,
          -0.10107846960729033,
          -0.03327269318599579,
          -0.023570157982456347,
          -0.038740821080334886,
          0.08158157258699651,
          -0.039606543823455076,
          -0.024993137197118744,
          -0.017871434069577828,
          -0.016032470033878244,
          -0.1414756732621561,
          0.10875298682230472,
          -0.049805340518081165,
          0.09985413525285122,
          0.017926323994399133,
          0.05686160388102441,
          -0.036503393710651436,
          -0.054700937736929765,
          -0.060419768120522285,
          0.02943184445179271,
          0.008297876663733,
          0.11300419140171811,
          -0.005669951595416296,
          0.09014561811783034,
          0.048031082210566706,
          0.06497056275044719,
          -0.05384358005800603,
          0.00833483486505575,
          -0.08453517993321177,
          0.047176238541101694,
          -0.03491234604787885,
          0.053611117644632916,
          0.0570282476120986,
          -0.01235030143876538,
          -0.030872375174352342,
          0.043194785402285885,
          -0.029375235483485168,
          0.008319253621453191,
          0.024222752054640282,
          -0.0013529167132547407,
          0.03133701954440349,
          0.05962282302974781,
          -0.07569350623162979,
          -0.08920163685374126,
          -0.018451998795657194
         ]
        }
       ],
       "layout": {
        "height": 500,
        "template": {
         "data": {
          "bar": [
           {
            "error_x": {
             "color": "#2a3f5f"
            },
            "error_y": {
             "color": "#2a3f5f"
            },
            "marker": {
             "line": {
              "color": "#E5ECF6",
              "width": 0.5
             },
             "pattern": {
              "fillmode": "overlay",
              "size": 10,
              "solidity": 0.2
             }
            },
            "type": "bar"
           }
          ],
          "barpolar": [
           {
            "marker": {
             "line": {
              "color": "#E5ECF6",
              "width": 0.5
             },
             "pattern": {
              "fillmode": "overlay",
              "size": 10,
              "solidity": 0.2
             }
            },
            "type": "barpolar"
           }
          ],
          "carpet": [
           {
            "aaxis": {
             "endlinecolor": "#2a3f5f",
             "gridcolor": "white",
             "linecolor": "white",
             "minorgridcolor": "white",
             "startlinecolor": "#2a3f5f"
            },
            "baxis": {
             "endlinecolor": "#2a3f5f",
             "gridcolor": "white",
             "linecolor": "white",
             "minorgridcolor": "white",
             "startlinecolor": "#2a3f5f"
            },
            "type": "carpet"
           }
          ],
          "choropleth": [
           {
            "colorbar": {
             "outlinewidth": 0,
             "ticks": ""
            },
            "type": "choropleth"
           }
          ],
          "contour": [
           {
            "colorbar": {
             "outlinewidth": 0,
             "ticks": ""
            },
            "colorscale": [
             [
              0,
              "#0d0887"
             ],
             [
              0.1111111111111111,
              "#46039f"
             ],
             [
              0.2222222222222222,
              "#7201a8"
             ],
             [
              0.3333333333333333,
              "#9c179e"
             ],
             [
              0.4444444444444444,
              "#bd3786"
             ],
             [
              0.5555555555555556,
              "#d8576b"
             ],
             [
              0.6666666666666666,
              "#ed7953"
             ],
             [
              0.7777777777777778,
              "#fb9f3a"
             ],
             [
              0.8888888888888888,
              "#fdca26"
             ],
             [
              1,
              "#f0f921"
             ]
            ],
            "type": "contour"
           }
          ],
          "contourcarpet": [
           {
            "colorbar": {
             "outlinewidth": 0,
             "ticks": ""
            },
            "type": "contourcarpet"
           }
          ],
          "heatmap": [
           {
            "colorbar": {
             "outlinewidth": 0,
             "ticks": ""
            },
            "colorscale": [
             [
              0,
              "#0d0887"
             ],
             [
              0.1111111111111111,
              "#46039f"
             ],
             [
              0.2222222222222222,
              "#7201a8"
             ],
             [
              0.3333333333333333,
              "#9c179e"
             ],
             [
              0.4444444444444444,
              "#bd3786"
             ],
             [
              0.5555555555555556,
              "#d8576b"
             ],
             [
              0.6666666666666666,
              "#ed7953"
             ],
             [
              0.7777777777777778,
              "#fb9f3a"
             ],
             [
              0.8888888888888888,
              "#fdca26"
             ],
             [
              1,
              "#f0f921"
             ]
            ],
            "type": "heatmap"
           }
          ],
          "heatmapgl": [
           {
            "colorbar": {
             "outlinewidth": 0,
             "ticks": ""
            },
            "colorscale": [
             [
              0,
              "#0d0887"
             ],
             [
              0.1111111111111111,
              "#46039f"
             ],
             [
              0.2222222222222222,
              "#7201a8"
             ],
             [
              0.3333333333333333,
              "#9c179e"
             ],
             [
              0.4444444444444444,
              "#bd3786"
             ],
             [
              0.5555555555555556,
              "#d8576b"
             ],
             [
              0.6666666666666666,
              "#ed7953"
             ],
             [
              0.7777777777777778,
              "#fb9f3a"
             ],
             [
              0.8888888888888888,
              "#fdca26"
             ],
             [
              1,
              "#f0f921"
             ]
            ],
            "type": "heatmapgl"
           }
          ],
          "histogram": [
           {
            "marker": {
             "pattern": {
              "fillmode": "overlay",
              "size": 10,
              "solidity": 0.2
             }
            },
            "type": "histogram"
           }
          ],
          "histogram2d": [
           {
            "colorbar": {
             "outlinewidth": 0,
             "ticks": ""
            },
            "colorscale": [
             [
              0,
              "#0d0887"
             ],
             [
              0.1111111111111111,
              "#46039f"
             ],
             [
              0.2222222222222222,
              "#7201a8"
             ],
             [
              0.3333333333333333,
              "#9c179e"
             ],
             [
              0.4444444444444444,
              "#bd3786"
             ],
             [
              0.5555555555555556,
              "#d8576b"
             ],
             [
              0.6666666666666666,
              "#ed7953"
             ],
             [
              0.7777777777777778,
              "#fb9f3a"
             ],
             [
              0.8888888888888888,
              "#fdca26"
             ],
             [
              1,
              "#f0f921"
             ]
            ],
            "type": "histogram2d"
           }
          ],
          "histogram2dcontour": [
           {
            "colorbar": {
             "outlinewidth": 0,
             "ticks": ""
            },
            "colorscale": [
             [
              0,
              "#0d0887"
             ],
             [
              0.1111111111111111,
              "#46039f"
             ],
             [
              0.2222222222222222,
              "#7201a8"
             ],
             [
              0.3333333333333333,
              "#9c179e"
             ],
             [
              0.4444444444444444,
              "#bd3786"
             ],
             [
              0.5555555555555556,
              "#d8576b"
             ],
             [
              0.6666666666666666,
              "#ed7953"
             ],
             [
              0.7777777777777778,
              "#fb9f3a"
             ],
             [
              0.8888888888888888,
              "#fdca26"
             ],
             [
              1,
              "#f0f921"
             ]
            ],
            "type": "histogram2dcontour"
           }
          ],
          "mesh3d": [
           {
            "colorbar": {
             "outlinewidth": 0,
             "ticks": ""
            },
            "type": "mesh3d"
           }
          ],
          "parcoords": [
           {
            "line": {
             "colorbar": {
              "outlinewidth": 0,
              "ticks": ""
             }
            },
            "type": "parcoords"
           }
          ],
          "pie": [
           {
            "automargin": true,
            "type": "pie"
           }
          ],
          "scatter": [
           {
            "fillpattern": {
             "fillmode": "overlay",
             "size": 10,
             "solidity": 0.2
            },
            "type": "scatter"
           }
          ],
          "scatter3d": [
           {
            "line": {
             "colorbar": {
              "outlinewidth": 0,
              "ticks": ""
             }
            },
            "marker": {
             "colorbar": {
              "outlinewidth": 0,
              "ticks": ""
             }
            },
            "type": "scatter3d"
           }
          ],
          "scattercarpet": [
           {
            "marker": {
             "colorbar": {
              "outlinewidth": 0,
              "ticks": ""
             }
            },
            "type": "scattercarpet"
           }
          ],
          "scattergeo": [
           {
            "marker": {
             "colorbar": {
              "outlinewidth": 0,
              "ticks": ""
             }
            },
            "type": "scattergeo"
           }
          ],
          "scattergl": [
           {
            "marker": {
             "colorbar": {
              "outlinewidth": 0,
              "ticks": ""
             }
            },
            "type": "scattergl"
           }
          ],
          "scattermapbox": [
           {
            "marker": {
             "colorbar": {
              "outlinewidth": 0,
              "ticks": ""
             }
            },
            "type": "scattermapbox"
           }
          ],
          "scatterpolar": [
           {
            "marker": {
             "colorbar": {
              "outlinewidth": 0,
              "ticks": ""
             }
            },
            "type": "scatterpolar"
           }
          ],
          "scatterpolargl": [
           {
            "marker": {
             "colorbar": {
              "outlinewidth": 0,
              "ticks": ""
             }
            },
            "type": "scatterpolargl"
           }
          ],
          "scatterternary": [
           {
            "marker": {
             "colorbar": {
              "outlinewidth": 0,
              "ticks": ""
             }
            },
            "type": "scatterternary"
           }
          ],
          "surface": [
           {
            "colorbar": {
             "outlinewidth": 0,
             "ticks": ""
            },
            "colorscale": [
             [
              0,
              "#0d0887"
             ],
             [
              0.1111111111111111,
              "#46039f"
             ],
             [
              0.2222222222222222,
              "#7201a8"
             ],
             [
              0.3333333333333333,
              "#9c179e"
             ],
             [
              0.4444444444444444,
              "#bd3786"
             ],
             [
              0.5555555555555556,
              "#d8576b"
             ],
             [
              0.6666666666666666,
              "#ed7953"
             ],
             [
              0.7777777777777778,
              "#fb9f3a"
             ],
             [
              0.8888888888888888,
              "#fdca26"
             ],
             [
              1,
              "#f0f921"
             ]
            ],
            "type": "surface"
           }
          ],
          "table": [
           {
            "cells": {
             "fill": {
              "color": "#EBF0F8"
             },
             "line": {
              "color": "white"
             }
            },
            "header": {
             "fill": {
              "color": "#C8D4E3"
             },
             "line": {
              "color": "white"
             }
            },
            "type": "table"
           }
          ]
         },
         "layout": {
          "annotationdefaults": {
           "arrowcolor": "#2a3f5f",
           "arrowhead": 0,
           "arrowwidth": 1
          },
          "autotypenumbers": "strict",
          "coloraxis": {
           "colorbar": {
            "outlinewidth": 0,
            "ticks": ""
           }
          },
          "colorscale": {
           "diverging": [
            [
             0,
             "#8e0152"
            ],
            [
             0.1,
             "#c51b7d"
            ],
            [
             0.2,
             "#de77ae"
            ],
            [
             0.3,
             "#f1b6da"
            ],
            [
             0.4,
             "#fde0ef"
            ],
            [
             0.5,
             "#f7f7f7"
            ],
            [
             0.6,
             "#e6f5d0"
            ],
            [
             0.7,
             "#b8e186"
            ],
            [
             0.8,
             "#7fbc41"
            ],
            [
             0.9,
             "#4d9221"
            ],
            [
             1,
             "#276419"
            ]
           ],
           "sequential": [
            [
             0,
             "#0d0887"
            ],
            [
             0.1111111111111111,
             "#46039f"
            ],
            [
             0.2222222222222222,
             "#7201a8"
            ],
            [
             0.3333333333333333,
             "#9c179e"
            ],
            [
             0.4444444444444444,
             "#bd3786"
            ],
            [
             0.5555555555555556,
             "#d8576b"
            ],
            [
             0.6666666666666666,
             "#ed7953"
            ],
            [
             0.7777777777777778,
             "#fb9f3a"
            ],
            [
             0.8888888888888888,
             "#fdca26"
            ],
            [
             1,
             "#f0f921"
            ]
           ],
           "sequentialminus": [
            [
             0,
             "#0d0887"
            ],
            [
             0.1111111111111111,
             "#46039f"
            ],
            [
             0.2222222222222222,
             "#7201a8"
            ],
            [
             0.3333333333333333,
             "#9c179e"
            ],
            [
             0.4444444444444444,
             "#bd3786"
            ],
            [
             0.5555555555555556,
             "#d8576b"
            ],
            [
             0.6666666666666666,
             "#ed7953"
            ],
            [
             0.7777777777777778,
             "#fb9f3a"
            ],
            [
             0.8888888888888888,
             "#fdca26"
            ],
            [
             1,
             "#f0f921"
            ]
           ]
          },
          "colorway": [
           "#636efa",
           "#EF553B",
           "#00cc96",
           "#ab63fa",
           "#FFA15A",
           "#19d3f3",
           "#FF6692",
           "#B6E880",
           "#FF97FF",
           "#FECB52"
          ],
          "font": {
           "color": "#2a3f5f"
          },
          "geo": {
           "bgcolor": "white",
           "lakecolor": "white",
           "landcolor": "#E5ECF6",
           "showlakes": true,
           "showland": true,
           "subunitcolor": "white"
          },
          "hoverlabel": {
           "align": "left"
          },
          "hovermode": "closest",
          "mapbox": {
           "style": "light"
          },
          "paper_bgcolor": "white",
          "plot_bgcolor": "#E5ECF6",
          "polar": {
           "angularaxis": {
            "gridcolor": "white",
            "linecolor": "white",
            "ticks": ""
           },
           "bgcolor": "#E5ECF6",
           "radialaxis": {
            "gridcolor": "white",
            "linecolor": "white",
            "ticks": ""
           }
          },
          "scene": {
           "xaxis": {
            "backgroundcolor": "#E5ECF6",
            "gridcolor": "white",
            "gridwidth": 2,
            "linecolor": "white",
            "showbackground": true,
            "ticks": "",
            "zerolinecolor": "white"
           },
           "yaxis": {
            "backgroundcolor": "#E5ECF6",
            "gridcolor": "white",
            "gridwidth": 2,
            "linecolor": "white",
            "showbackground": true,
            "ticks": "",
            "zerolinecolor": "white"
           },
           "zaxis": {
            "backgroundcolor": "#E5ECF6",
            "gridcolor": "white",
            "gridwidth": 2,
            "linecolor": "white",
            "showbackground": true,
            "ticks": "",
            "zerolinecolor": "white"
           }
          },
          "shapedefaults": {
           "line": {
            "color": "#2a3f5f"
           }
          },
          "ternary": {
           "aaxis": {
            "gridcolor": "white",
            "linecolor": "white",
            "ticks": ""
           },
           "baxis": {
            "gridcolor": "white",
            "linecolor": "white",
            "ticks": ""
           },
           "bgcolor": "#E5ECF6",
           "caxis": {
            "gridcolor": "white",
            "linecolor": "white",
            "ticks": ""
           }
          },
          "title": {
           "x": 0.05
          },
          "xaxis": {
           "automargin": true,
           "gridcolor": "white",
           "linecolor": "white",
           "ticks": "",
           "title": {
            "standoff": 15
           },
           "zerolinecolor": "white",
           "zerolinewidth": 2
          },
          "yaxis": {
           "automargin": true,
           "gridcolor": "white",
           "linecolor": "white",
           "ticks": "",
           "title": {
            "standoff": 15
           },
           "zerolinecolor": "white",
           "zerolinewidth": 2
          }
         }
        },
        "title": {
         "font": {
          "size": 18
         },
         "text": "Funkcja autokorelacji dla residuów",
         "x": 0.5,
         "xanchor": "center"
        },
        "width": 800,
        "xaxis": {
         "tickfont": {
          "size": 14
         },
         "title": {
          "text": "h"
         }
        },
        "yaxis": {
         "tickfont": {
          "size": 14
         },
         "title": {
          "text": "ACF"
         }
        }
       }
      }
     },
     "metadata": {},
     "output_type": "display_data"
    }
   ],
   "source": [
    "fig = go.Figure()\n",
    "\n",
    "[fig.add_scatter(x=(x,x), y=(0,acf_res[x]), mode='lines', line_color='#767FFA') \n",
    "     for x in range(len(acf_boars))]\n",
    "\n",
    "fig.add_trace(\n",
    "    go.Scatter(\n",
    "        x=np.arange(0, h + 1),\n",
    "        y=acf_res,\n",
    "        mode='markers',\n",
    "        line=dict(width=2, color = '#767FFA'),\n",
    "        marker=dict(\n",
    "            symbol='circle',\n",
    "            size=8,\n",
    "        )\n",
    "    )\n",
    ")\n",
    "\n",
    "fig.update_layout(\n",
    "    title={\n",
    "        'text': \"Funkcja autokorelacji dla residuów\",\n",
    "        'x': 0.5,  \n",
    "        'xanchor': 'center'\n",
    "    },\n",
    "    xaxis_title=\"h\",\n",
    "    yaxis_title=\"ACF\",\n",
    "    title_font_size=18,\n",
    "    xaxis=dict(\n",
    "        tickfont_size=14\n",
    "    ),\n",
    "    yaxis=dict(\n",
    "        tickfont_size=14\n",
    "    ),\n",
    "    width=800,\n",
    "    height=500\n",
    ")\n",
    "\n",
    "fig.update_traces(showlegend=False)\n",
    "fig.show()\n"
   ]
  },
  {
   "cell_type": "code",
   "execution_count": 454,
   "metadata": {},
   "outputs": [
    {
     "name": "stdout",
     "output_type": "stream",
     "text": [
      "Test Kołmogorowa-Smirnowa:   KstestResult(statistic=0.09796075162537637, pvalue=0.09361350093454412)\n",
      "Test Shapiro-Wilka:   ShapiroResult(statistic=0.9458855390548706, pvalue=1.0388900591351558e-05)\n",
      "Test Jarque-Bera:   Jarque_beraResult(statistic=57.455677006256565, pvalue=3.339550858072471e-13)\n"
     ]
    }
   ],
   "source": [
    "# Test Kołmogorowa-Smirnowa\n",
    "ks_test = stats.kstest((res - np.mean(res))/np.sqrt(scale_aic), \"norm\")\n",
    "\n",
    "# Test Shapiro-Wilka\n",
    "shapiro_test = stats.shapiro(res)\n",
    "\n",
    "# Test Jarque-Bera\n",
    "jarque_bera_test = stats.jarque_bera(res)\n",
    "\n",
    "\n",
    "print(\"Test Kołmogorowa-Smirnowa:   \" + str(ks_test))\n",
    "print(\"Test Shapiro-Wilka:   \" + str(shapiro_test))\n",
    "print(\"Test Jarque-Bera:   \" + str(jarque_bera_test)) # nie jest normalny"
   ]
  },
  {
   "cell_type": "code",
   "execution_count": 455,
   "metadata": {},
   "outputs": [
    {
     "name": "stderr",
     "output_type": "stream",
     "text": [
      "[distfit] >INFO> fit\n",
      "[distfit] >INFO> transform\n",
      "[distfit] >INFO> [norm      ] [0.00 sec] [RSS: 0.106814] [loc=-0.030 scale=0.846]\n",
      "[distfit] >INFO> [expon     ] [0.0 sec] [RSS: 0.991987] [loc=-3.353 scale=3.323]\n",
      "[distfit] >INFO> [pareto    ] [0.23 sec] [RSS: 1.06271] [loc=-418604815.455 scale=418604812.102]\n",
      "[distfit] >INFO> [dweibull  ] [0.03 sec] [RSS: 0.0543321] [loc=-0.023 scale=0.639]\n",
      "[distfit] >INFO> [t         ] [0.08 sec] [RSS: 0.0497282] [loc=0.043 scale=0.636]\n",
      "[distfit] >INFO> [genextreme] [0.17 sec] [RSS: 0.115084] [loc=-0.268 scale=0.917]\n",
      "[distfit] >INFO> [gamma     ] [0.17 sec] [RSS: 0.128553] [loc=-16.477 scale=0.047]\n",
      "[distfit] >INFO> [lognorm   ] [0.31 sec] [RSS: 0.105185] [loc=-562.877 scale=562.851]\n",
      "[distfit] >INFO> [beta      ] [0.07 sec] [RSS: 0.105957] [loc=-4.514 scale=6.666]\n",
      "[distfit] >INFO> [uniform   ] [0.0 sec] [RSS: 0.649222] [loc=-3.353 scale=5.112]\n",
      "[distfit] >INFO> [loggamma  ] [0.04 sec] [RSS: 0.0822525] [loc=-0.574 scale=1.080]\n",
      "[distfit] >INFO> Compute confidence intervals [parametric]\n"
     ]
    },
    {
     "data": {
      "text/plain": [
       "{'model': {'name': 't',\n",
       "  'score': 0.04972821263609057,\n",
       "  'loc': 0.04292957980340624,\n",
       "  'scale': 0.6358722936950958,\n",
       "  'arg': (4.357400653738461,),\n",
       "  'params': (4.357400653738461, 0.04292957980340624, 0.6358722936950958),\n",
       "  'model': <scipy.stats._distn_infrastructure.rv_frozen at 0x1d5e6821660>,\n",
       "  'bootstrap_score': 0,\n",
       "  'bootstrap_pass': None,\n",
       "  'color': '#e41a1c',\n",
       "  'CII_min_alpha': -1.2813287220277936,\n",
       "  'CII_max_alpha': 1.367187881634606},\n",
       " 'summary':           name     score               loc             scale  \\\n",
       " 0            t  0.049728           0.04293          0.635872   \n",
       " 1     dweibull  0.054332          -0.02346          0.639213   \n",
       " 2     loggamma  0.082252         -0.574324          1.079676   \n",
       " 3      lognorm  0.105185       -562.877165        562.851001   \n",
       " 4         beta  0.105957         -4.514176          6.666302   \n",
       " 5         norm  0.106814         -0.030057          0.845987   \n",
       " 6   genextreme  0.115084         -0.268365          0.916559   \n",
       " 7        gamma  0.128553        -16.477218          0.047222   \n",
       " 8      uniform  0.649222         -3.353093          5.112297   \n",
       " 9        expon  0.991987         -3.353093          3.323037   \n",
       " 10      pareto   1.06271 -418604815.455157  418604812.102064   \n",
       " \n",
       "                                        arg  \\\n",
       " 0                     (4.357400653738461,)   \n",
       " 1                    (1.0769611787524997,)   \n",
       " 2                     (2.131206433095224,)   \n",
       " 3                 (0.0014973544561715886,)   \n",
       " 4   (8.795952462563811, 4.332296449986899)   \n",
       " 5                                       ()   \n",
       " 6                   (0.43094012892426503,)   \n",
       " 7                    (348.03434547932227,)   \n",
       " 8                                       ()   \n",
       " 9                                       ()   \n",
       " 10                   (143873248.76268405,)   \n",
       " \n",
       "                                                params  \\\n",
       " 0   (4.357400653738461, 0.04292957980340624, 0.635...   \n",
       " 1   (1.0769611787524997, -0.02345953070181172, 0.6...   \n",
       " 2   (2.131206433095224, -0.574324459600382, 1.0796...   \n",
       " 3   (0.0014973544561715886, -562.8771648674062, 56...   \n",
       " 4   (8.795952462563811, 4.332296449986899, -4.5141...   \n",
       " 5          (-0.03005651765493418, 0.8459873927131555)   \n",
       " 6   (0.43094012892426503, -0.26836527961578327, 0....   \n",
       " 7   (348.03434547932227, -16.477218004283394, 0.04...   \n",
       " 8             (-3.353093269015659, 5.112296802625281)   \n",
       " 9             (-3.353093269015659, 3.323036751360725)   \n",
       " 10  (143873248.76268405, -418604815.4551573, 41860...   \n",
       " \n",
       "                                                 model bootstrap_score  \\\n",
       " 0   <scipy.stats._distn_infrastructure.rv_frozen o...               0   \n",
       " 1   <scipy.stats._distn_infrastructure.rv_frozen o...               0   \n",
       " 2   <scipy.stats._distn_infrastructure.rv_frozen o...               0   \n",
       " 3   <scipy.stats._distn_infrastructure.rv_frozen o...               0   \n",
       " 4   <scipy.stats._distn_infrastructure.rv_frozen o...               0   \n",
       " 5   <scipy.stats._distn_infrastructure.rv_frozen o...               0   \n",
       " 6   <scipy.stats._distn_infrastructure.rv_frozen o...               0   \n",
       " 7   <scipy.stats._distn_infrastructure.rv_frozen o...               0   \n",
       " 8   <scipy.stats._distn_infrastructure.rv_frozen o...               0   \n",
       " 9   <scipy.stats._distn_infrastructure.rv_frozen o...               0   \n",
       " 10  <scipy.stats._distn_infrastructure.rv_frozen o...               0   \n",
       " \n",
       "    bootstrap_pass    color  \n",
       " 0            None  #e41a1c  \n",
       " 1            None  #e41a1c  \n",
       " 2            None  #377eb8  \n",
       " 3            None  #4daf4a  \n",
       " 4            None  #984ea3  \n",
       " 5            None  #ff7f00  \n",
       " 6            None  #ffff33  \n",
       " 7            None  #a65628  \n",
       " 8            None  #f781bf  \n",
       " 9            None  #999999  \n",
       " 10           None  #999999  ,\n",
       " 'histdata': (array([0.04012447, 0.        , 0.02006224, 0.04012447, 0.02006224,\n",
       "         0.02006224, 0.18056012, 0.16049788, 0.16049788, 0.54168036,\n",
       "         0.64199154, 0.48149365, 0.40124471, 0.20062236, 0.18056012,\n",
       "         0.04012447]),\n",
       "  array([-3.19333399e+00, -2.87381544e+00, -2.55429689e+00, -2.23477834e+00,\n",
       "         -1.91525979e+00, -1.59574124e+00, -1.27622269e+00, -9.56704143e-01,\n",
       "         -6.37185593e-01, -3.17667042e-01,  1.85150771e-03,  3.21370058e-01,\n",
       "          6.40888608e-01,  9.60407158e-01,  1.27992571e+00,  1.59944426e+00])),\n",
       " 'size': 156,\n",
       " 'alpha': 0.05,\n",
       " 'stats': 'RSS',\n",
       " 'bins': 'auto',\n",
       " 'bound': 'both',\n",
       " 'name': 'popular',\n",
       " 'method': 'parametric',\n",
       " 'multtest': 'fdr_bh',\n",
       " 'n_perm': 10000,\n",
       " 'smooth': None,\n",
       " 'weighted': True,\n",
       " 'f': 1.5,\n",
       " 'n_boots': None,\n",
       " 'random_state': None}"
      ]
     },
     "execution_count": 455,
     "metadata": {},
     "output_type": "execute_result"
    }
   ],
   "source": [
    "dfit = distfit()\n",
    "dfit.fit_transform(res)\n",
    "# dfit.plot() "
   ]
  },
  {
   "cell_type": "code",
   "execution_count": 497,
   "metadata": {},
   "outputs": [
    {
     "name": "stdout",
     "output_type": "stream",
     "text": [
      "t-statistic = -0.4423241177022889\n",
      "p-value = 0.6588712664981433\n",
      "Nie mamy podstaw by odrzucić hipotezę zerową, że średnia residuów jest równa 0\n"
     ]
    }
   ],
   "source": [
    "def t_test(X): \n",
    "    t_stat, p_val = stats.ttest_1samp(a=X, popmean = 0)\n",
    "    print(\"t-statistic = \" + str(t_stat))  \n",
    "    print(\"p-value = \" + str(p_val)) \n",
    "    if p_val < 0.05:\n",
    "        print('Odrzucamy hipotezę zerową, że średnia residuów jest równa 0')\n",
    "    else:\n",
    "        print('Nie mamy podstaw by odrzucić hipotezę zerową, że średnia residuów jest równa 0')\n",
    "\n",
    "t_test(res)"
   ]
  },
  {
   "cell_type": "code",
   "execution_count": 498,
   "metadata": {},
   "outputs": [
    {
     "data": {
      "text/plain": [
       "-0.03005651765493418"
      ]
     },
     "execution_count": 498,
     "metadata": {},
     "output_type": "execute_result"
    }
   ],
   "source": [
    "np.mean(res)"
   ]
  },
  {
   "cell_type": "code",
   "execution_count": 456,
   "metadata": {},
   "outputs": [
    {
     "name": "stdout",
     "output_type": "stream",
     "text": [
      "(4.357400653738461, 0.04292957980340624, 0.6358722936950958)\n"
     ]
    }
   ],
   "source": [
    "ecdf = ECDF(res)\n",
    "t = np.linspace(np.min(res), np.max(res), 1000)\n",
    "params = stats.t.fit(res)\n",
    "t_student = stats.t(*params)\n",
    "th_F = t_student.cdf(t)\n",
    "th_f = t_student.pdf(t)\n",
    "print(params)"
   ]
  },
  {
   "cell_type": "code",
   "execution_count": 457,
   "metadata": {},
   "outputs": [
    {
     "data": {
      "application/vnd.plotly.v1+json": {
       "config": {
        "plotlyServerURL": "https://plot.ly"
       },
       "data": [
        {
         "mode": "lines",
         "name": "Dystrybuanta empiryczna",
         "type": "scatter",
         "x": [
          null,
          -3.353093269015659,
          -3.0907631185591193,
          -2.698397473158132,
          -2.366957589828998,
          -2.226916934117718,
          -1.8594100819729182,
          -1.5706555884543671,
          -1.3712257499709866,
          -1.3270884271925798,
          -1.3226274810924288,
          -1.2511683647429432,
          -1.234890888376175,
          -1.2338648843808053,
          -1.1796519629904725,
          -1.1705147792961155,
          -1.1339826654403518,
          -1.0826027740431878,
          -0.9470050588460467,
          -0.9270212465576738,
          -0.8403581565761565,
          -0.8288219313666341,
          -0.8284971366311075,
          -0.8054596197234318,
          -0.800459280561485,
          -0.7864445840328967,
          -0.7122889355820998,
          -0.6799209775396653,
          -0.6257205381297313,
          -0.5751204513734856,
          -0.5530802283515346,
          -0.5254288534858824,
          -0.5131129087076893,
          -0.46250998287108624,
          -0.459577005670432,
          -0.44749102390171247,
          -0.444436257450103,
          -0.4391254186892246,
          -0.4333006291076562,
          -0.4307463355846447,
          -0.4024716527553033,
          -0.3901210076903878,
          -0.3800677607961865,
          -0.37863248909553787,
          -0.378093991974662,
          -0.3689573649553683,
          -0.3607797430326316,
          -0.3595205990483928,
          -0.35598550898941794,
          -0.31716332898332067,
          -0.31500016763908134,
          -0.2991823735362761,
          -0.2855534755707192,
          -0.27579723218041796,
          -0.27225938332584715,
          -0.2500592751717802,
          -0.209352476681416,
          -0.20141274439169005,
          -0.18832267096575273,
          -0.16664584408737274,
          -0.15357705519646925,
          -0.14133196716175145,
          -0.14076615904472545,
          -0.12353856116993245,
          -0.08554025352898503,
          -0.08330844434355134,
          -0.0780977474663071,
          -0.04300430673393607,
          -0.03708337665762493,
          -0.0305762697573754,
          -0.02972513372617297,
          -0.021018675413133375,
          -0.01744059217204913,
          0.0055597885908676425,
          0.007599258250050367,
          0.01988828671059162,
          0.020901025623086378,
          0.0283769434852712,
          0.03085465600314133,
          0.06754974592266971,
          0.07064277344712999,
          0.07815684532255296,
          0.08087859247985313,
          0.08892982810742711,
          0.09398553829685807,
          0.10613156965334852,
          0.11223769053100424,
          0.12833710510236185,
          0.13097867956062867,
          0.13343799288415764,
          0.13470965058205464,
          0.1426818720685362,
          0.1652944739212303,
          0.18456770680501045,
          0.18638519124320713,
          0.19174388586265526,
          0.19305037159711758,
          0.20891103817952913,
          0.21262860406622242,
          0.240033630472558,
          0.24798604825334503,
          0.30103295201776237,
          0.30681320248048327,
          0.3407125294477223,
          0.34293307991808153,
          0.3445892731645478,
          0.36026807915522663,
          0.36385767666212465,
          0.3801652883035914,
          0.40334984105427796,
          0.4144461181374412,
          0.4274152712914405,
          0.4484666479742312,
          0.4597586174209284,
          0.46617220055745817,
          0.47180011202804284,
          0.48181591371500576,
          0.5014623855948567,
          0.5255909212499181,
          0.5305758884225964,
          0.5368211828612703,
          0.5509028235292522,
          0.5571189643798292,
          0.5843226525139754,
          0.5945048305958389,
          0.6164380472900464,
          0.6324048163040863,
          0.6393452821572104,
          0.6460692374454167,
          0.709116523272032,
          0.747030338077159,
          0.7548297823736965,
          0.7615688439275392,
          0.7636058343268894,
          0.7816778181451054,
          0.7933582950105424,
          0.8008288852600902,
          0.8343413119524685,
          0.8362391641826157,
          0.8397375664069531,
          0.9175588890096151,
          0.9881458166434456,
          1.034891884378701,
          1.047581387908912,
          1.0550921597495246,
          1.0837171720239018,
          1.1460899857185238,
          1.1473318228953004,
          1.1588868281583529,
          1.222741233417259,
          1.2238302273419164,
          1.2800699507909625,
          1.3028347025665963,
          1.3756040004865686,
          1.3938050344678752,
          1.6899978516498808,
          1.7592035336096217
         ],
         "y": [
          0,
          0.00641025641025641,
          0.01282051282051282,
          0.019230769230769232,
          0.02564102564102564,
          0.03205128205128205,
          0.03846153846153846,
          0.04487179487179487,
          0.05128205128205128,
          0.05769230769230769,
          0.0641025641025641,
          0.07051282051282051,
          0.07692307692307693,
          0.08333333333333334,
          0.08974358974358974,
          0.09615384615384616,
          0.10256410256410256,
          0.10897435897435898,
          0.11538461538461539,
          0.12179487179487179,
          0.1282051282051282,
          0.1346153846153846,
          0.14102564102564102,
          0.14743589743589744,
          0.15384615384615385,
          0.16025641025641027,
          0.16666666666666666,
          0.17307692307692307,
          0.1794871794871795,
          0.1858974358974359,
          0.19230769230769232,
          0.1987179487179487,
          0.20512820512820512,
          0.21153846153846154,
          0.21794871794871795,
          0.22435897435897437,
          0.23076923076923075,
          0.23717948717948717,
          0.24358974358974358,
          0.25,
          0.2564102564102564,
          0.2628205128205128,
          0.2692307692307692,
          0.2756410256410256,
          0.282051282051282,
          0.28846153846153844,
          0.2948717948717948,
          0.30128205128205127,
          0.30769230769230765,
          0.3141025641025641,
          0.3205128205128205,
          0.32692307692307687,
          0.3333333333333333,
          0.3397435897435897,
          0.34615384615384615,
          0.35256410256410253,
          0.3589743589743589,
          0.36538461538461536,
          0.37179487179487175,
          0.3782051282051282,
          0.3846153846153846,
          0.39102564102564097,
          0.3974358974358974,
          0.4038461538461538,
          0.41025641025641024,
          0.41666666666666663,
          0.423076923076923,
          0.42948717948717946,
          0.43589743589743585,
          0.4423076923076923,
          0.4487179487179487,
          0.45512820512820507,
          0.4615384615384615,
          0.4679487179487179,
          0.47435897435897434,
          0.4807692307692307,
          0.4871794871794871,
          0.49358974358974356,
          0.49999999999999994,
          0.5064102564102564,
          0.5128205128205128,
          0.5192307692307692,
          0.5256410256410255,
          0.532051282051282,
          0.5384615384615384,
          0.5448717948717948,
          0.5512820512820512,
          0.5576923076923076,
          0.5641025641025641,
          0.5705128205128205,
          0.5769230769230769,
          0.5833333333333333,
          0.5897435897435896,
          0.5961538461538461,
          0.6025641025641025,
          0.6089743589743589,
          0.6153846153846153,
          0.6217948717948718,
          0.6282051282051282,
          0.6346153846153846,
          0.641025641025641,
          0.6474358974358974,
          0.6538461538461539,
          0.6602564102564102,
          0.6666666666666666,
          0.673076923076923,
          0.6794871794871794,
          0.6858974358974359,
          0.6923076923076923,
          0.6987179487179487,
          0.7051282051282051,
          0.7115384615384615,
          0.717948717948718,
          0.7243589743589743,
          0.7307692307692307,
          0.7371794871794871,
          0.7435897435897435,
          0.75,
          0.7564102564102564,
          0.7628205128205128,
          0.7692307692307692,
          0.7756410256410255,
          0.782051282051282,
          0.7884615384615384,
          0.7948717948717948,
          0.8012820512820512,
          0.8076923076923076,
          0.8141025641025641,
          0.8205128205128205,
          0.8269230769230769,
          0.8333333333333333,
          0.8397435897435896,
          0.8461538461538461,
          0.8525641025641025,
          0.8589743589743589,
          0.8653846153846153,
          0.8717948717948717,
          0.8782051282051282,
          0.8846153846153846,
          0.891025641025641,
          0.8974358974358974,
          0.9038461538461537,
          0.9102564102564102,
          0.9166666666666666,
          0.923076923076923,
          0.9294871794871794,
          0.9358974358974358,
          0.9423076923076923,
          0.9487179487179487,
          0.9551282051282051,
          0.9615384615384615,
          0.9679487179487178,
          0.9743589743589743,
          0.9807692307692307,
          0.9871794871794871,
          0.9935897435897435,
          1
         ]
        },
        {
         "line": {
          "dash": "dash"
         },
         "mode": "lines",
         "name": "Dystrybuanta rozkładu t-studenta(4.36, 0.04, 0.64)",
         "type": "scatter",
         "x": [
          -3.353093269015659,
          -3.347975854798817,
          -3.3428584405819746,
          -3.3377410263651326,
          -3.3326236121482906,
          -3.327506197931448,
          -3.322388783714606,
          -3.3172713694977642,
          -3.312153955280922,
          -3.30703654106408,
          -3.301919126847238,
          -3.2968017126303955,
          -3.2916842984135535,
          -3.2865668841967115,
          -3.281449469979869,
          -3.276332055763027,
          -3.271214641546185,
          -3.2660972273293427,
          -3.2609798131125007,
          -3.2558623988956588,
          -3.2507449846788163,
          -3.2456275704619744,
          -3.2405101562451324,
          -3.23539274202829,
          -3.230275327811448,
          -3.225157913594606,
          -3.2200404993777636,
          -3.2149230851609216,
          -3.2098056709440796,
          -3.2046882567272372,
          -3.1995708425103953,
          -3.1944534282935533,
          -3.189336014076711,
          -3.184218599859869,
          -3.179101185643027,
          -3.1739837714261845,
          -3.1688663572093425,
          -3.1637489429925005,
          -3.158631528775658,
          -3.153514114558816,
          -3.148396700341974,
          -3.1432792861251317,
          -3.1381618719082898,
          -3.133044457691448,
          -3.1279270434746054,
          -3.1228096292577634,
          -3.1176922150409214,
          -3.112574800824079,
          -3.107457386607237,
          -3.102339972390395,
          -3.0972225581735526,
          -3.0921051439567107,
          -3.0869877297398687,
          -3.0818703155230263,
          -3.0767529013061843,
          -3.0716354870893423,
          -3.0665180728725,
          -3.061400658655658,
          -3.056283244438816,
          -3.0511658302219735,
          -3.0460484160051315,
          -3.0409310017882896,
          -3.035813587571447,
          -3.030696173354605,
          -3.025578759137763,
          -3.0204613449209208,
          -3.015343930704079,
          -3.010226516487237,
          -3.0051091022703944,
          -2.9999916880535524,
          -2.9948742738367105,
          -2.989756859619868,
          -2.984639445403026,
          -2.979522031186184,
          -2.9744046169693417,
          -2.9692872027524997,
          -2.9641697885356577,
          -2.9590523743188153,
          -2.9539349601019733,
          -2.9488175458851313,
          -2.9437001316682894,
          -2.938582717451447,
          -2.933465303234605,
          -2.928347889017763,
          -2.9232304748009206,
          -2.9181130605840786,
          -2.9129956463672366,
          -2.907878232150394,
          -2.9027608179335522,
          -2.8976434037167103,
          -2.892525989499868,
          -2.887408575283026,
          -2.882291161066184,
          -2.8771737468493415,
          -2.8720563326324995,
          -2.8669389184156575,
          -2.861821504198815,
          -2.856704089981973,
          -2.851586675765131,
          -2.8464692615482887,
          -2.8413518473314467,
          -2.8362344331146048,
          -2.8311170188977623,
          -2.8259996046809204,
          -2.8208821904640784,
          -2.815764776247236,
          -2.810647362030394,
          -2.805529947813552,
          -2.8004125335967096,
          -2.7952951193798676,
          -2.7901777051630257,
          -2.7850602909461832,
          -2.7799428767293413,
          -2.7748254625124993,
          -2.769708048295657,
          -2.764590634078815,
          -2.759473219861973,
          -2.7543558056451305,
          -2.7492383914282885,
          -2.7441209772114465,
          -2.739003562994604,
          -2.733886148777762,
          -2.72876873456092,
          -2.7236513203440778,
          -2.7185339061272358,
          -2.713416491910394,
          -2.7082990776935514,
          -2.7031816634767094,
          -2.6980642492598674,
          -2.692946835043025,
          -2.687829420826183,
          -2.682712006609341,
          -2.6775945923924986,
          -2.6724771781756567,
          -2.6673597639588147,
          -2.6622423497419723,
          -2.6571249355251303,
          -2.6520075213082883,
          -2.646890107091446,
          -2.641772692874604,
          -2.636655278657762,
          -2.6315378644409195,
          -2.6264204502240776,
          -2.6213030360072356,
          -2.616185621790393,
          -2.611068207573551,
          -2.605950793356709,
          -2.600833379139867,
          -2.595715964923025,
          -2.590598550706183,
          -2.5854811364893404,
          -2.5803637222724984,
          -2.5752463080556565,
          -2.570128893838814,
          -2.565011479621972,
          -2.55989406540513,
          -2.5547766511882877,
          -2.5496592369714457,
          -2.5445418227546037,
          -2.5394244085377613,
          -2.5343069943209193,
          -2.5291895801040774,
          -2.524072165887235,
          -2.518954751670393,
          -2.513837337453551,
          -2.5087199232367086,
          -2.5036025090198666,
          -2.4984850948030246,
          -2.493367680586182,
          -2.48825026636934,
          -2.4831328521524982,
          -2.478015437935656,
          -2.472898023718814,
          -2.467780609501972,
          -2.4626631952851294,
          -2.4575457810682875,
          -2.4524283668514455,
          -2.447310952634603,
          -2.442193538417761,
          -2.437076124200919,
          -2.4319587099840767,
          -2.4268412957672347,
          -2.4217238815503928,
          -2.4166064673335503,
          -2.4114890531167084,
          -2.4063716388998664,
          -2.401254224683024,
          -2.396136810466182,
          -2.39101939624934,
          -2.3859019820324976,
          -2.3807845678156556,
          -2.3756671535988136,
          -2.370549739381971,
          -2.3654323251651292,
          -2.3603149109482873,
          -2.355197496731445,
          -2.350080082514603,
          -2.344962668297761,
          -2.3398452540809185,
          -2.3347278398640765,
          -2.3296104256472345,
          -2.324493011430392,
          -2.31937559721355,
          -2.314258182996708,
          -2.3091407687798657,
          -2.3040233545630238,
          -2.298905940346182,
          -2.2937885261293394,
          -2.2886711119124974,
          -2.2835536976956554,
          -2.278436283478813,
          -2.273318869261971,
          -2.268201455045129,
          -2.2630840408282866,
          -2.2579666266114446,
          -2.2528492123946027,
          -2.2477317981777603,
          -2.2426143839609183,
          -2.2374969697440763,
          -2.232379555527234,
          -2.227262141310392,
          -2.22214472709355,
          -2.2170273128767075,
          -2.2119098986598655,
          -2.2067924844430236,
          -2.201675070226181,
          -2.196557656009339,
          -2.191440241792497,
          -2.1863228275756548,
          -2.181205413358813,
          -2.176087999141971,
          -2.1709705849251284,
          -2.1658531707082864,
          -2.1607357564914444,
          -2.155618342274602,
          -2.15050092805776,
          -2.145383513840918,
          -2.1402660996240757,
          -2.1351486854072337,
          -2.1300312711903917,
          -2.1249138569735493,
          -2.1197964427567073,
          -2.1146790285398653,
          -2.109561614323023,
          -2.104444200106181,
          -2.099326785889339,
          -2.0942093716724965,
          -2.0890919574556546,
          -2.0839745432388126,
          -2.07885712902197,
          -2.073739714805128,
          -2.0686223005882862,
          -2.063504886371444,
          -2.058387472154602,
          -2.05327005793776,
          -2.0481526437209174,
          -2.0430352295040755,
          -2.0379178152872335,
          -2.032800401070391,
          -2.027682986853549,
          -2.022565572636707,
          -2.0174481584198647,
          -2.0123307442030227,
          -2.0072133299861807,
          -2.0020959157693383,
          -1.9969785015524963,
          -1.9918610873356541,
          -1.9867436731188122,
          -1.98162625890197,
          -1.9765088446851278,
          -1.9713914304682858,
          -1.9662740162514436,
          -1.9611566020346014,
          -1.9560391878177594,
          -1.9509217736009172,
          -1.945804359384075,
          -1.940686945167233,
          -1.9355695309503909,
          -1.9304521167335487,
          -1.9253347025167067,
          -1.9202172882998645,
          -1.9150998740830223,
          -1.9099824598661803,
          -1.9048650456493381,
          -1.899747631432496,
          -1.894630217215654,
          -1.8895128029988117,
          -1.8843953887819695,
          -1.8792779745651276,
          -1.8741605603482854,
          -1.8690431461314432,
          -1.8639257319146012,
          -1.858808317697759,
          -1.8536909034809168,
          -1.8485734892640748,
          -1.8434560750472326,
          -1.8383386608303904,
          -1.8332212466135485,
          -1.8281038323967063,
          -1.822986418179864,
          -1.817869003963022,
          -1.81275158974618,
          -1.8076341755293377,
          -1.8025167613124957,
          -1.7973993470956535,
          -1.7922819328788113,
          -1.7871645186619693,
          -1.7820471044451272,
          -1.776929690228285,
          -1.771812276011443,
          -1.7666948617946008,
          -1.7615774475777586,
          -1.7564600333609166,
          -1.7513426191440744,
          -1.7462252049272322,
          -1.7411077907103902,
          -1.735990376493548,
          -1.7308729622767058,
          -1.7257555480598639,
          -1.7206381338430217,
          -1.7155207196261797,
          -1.7104033054093375,
          -1.7052858911924953,
          -1.7001684769756533,
          -1.6950510627588111,
          -1.689933648541969,
          -1.684816234325127,
          -1.6796988201082848,
          -1.6745814058914426,
          -1.6694639916746006,
          -1.6643465774577584,
          -1.6592291632409162,
          -1.6541117490240742,
          -1.648994334807232,
          -1.6438769205903898,
          -1.6387595063735478,
          -1.6336420921567056,
          -1.6285246779398634,
          -1.6234072637230215,
          -1.6182898495061793,
          -1.613172435289337,
          -1.608055021072495,
          -1.602937606855653,
          -1.5978201926388107,
          -1.5927027784219687,
          -1.5875853642051265,
          -1.5824679499882843,
          -1.5773505357714424,
          -1.5722331215546002,
          -1.567115707337758,
          -1.561998293120916,
          -1.5568808789040738,
          -1.5517634646872316,
          -1.5466460504703896,
          -1.5415286362535474,
          -1.5364112220367052,
          -1.5312938078198632,
          -1.526176393603021,
          -1.5210589793861788,
          -1.5159415651693369,
          -1.5108241509524947,
          -1.5057067367356525,
          -1.5005893225188105,
          -1.4954719083019683,
          -1.490354494085126,
          -1.4852370798682841,
          -1.480119665651442,
          -1.4750022514345997,
          -1.4698848372177578,
          -1.4647674230009156,
          -1.4596500087840734,
          -1.4545325945672314,
          -1.4494151803503892,
          -1.444297766133547,
          -1.439180351916705,
          -1.4340629376998628,
          -1.4289455234830206,
          -1.4238281092661786,
          -1.4187106950493364,
          -1.4135932808324942,
          -1.4084758666156523,
          -1.40335845239881,
          -1.3982410381819679,
          -1.393123623965126,
          -1.3880062097482837,
          -1.3828887955314415,
          -1.3777713813145995,
          -1.3726539670977573,
          -1.3675365528809151,
          -1.3624191386640732,
          -1.357301724447231,
          -1.3521843102303888,
          -1.3470668960135468,
          -1.3419494817967048,
          -1.3368320675798624,
          -1.3317146533630204,
          -1.3265972391461784,
          -1.321479824929336,
          -1.316362410712494,
          -1.311244996495652,
          -1.3061275822788097,
          -1.3010101680619677,
          -1.2958927538451257,
          -1.2907753396282833,
          -1.2856579254114413,
          -1.2805405111945993,
          -1.275423096977757,
          -1.270305682760915,
          -1.265188268544073,
          -1.2600708543272305,
          -1.2549534401103886,
          -1.2498360258935466,
          -1.2447186116767042,
          -1.2396011974598622,
          -1.2344837832430202,
          -1.2293663690261778,
          -1.2242489548093358,
          -1.2191315405924938,
          -1.2140141263756514,
          -1.2088967121588094,
          -1.2037792979419675,
          -1.198661883725125,
          -1.193544469508283,
          -1.188427055291441,
          -1.1833096410745987,
          -1.1781922268577567,
          -1.1730748126409147,
          -1.1679573984240723,
          -1.1628399842072303,
          -1.1577225699903884,
          -1.152605155773546,
          -1.147487741556704,
          -1.142370327339862,
          -1.1372529131230196,
          -1.1321354989061776,
          -1.1270180846893356,
          -1.1219006704724932,
          -1.1167832562556512,
          -1.1116658420388092,
          -1.1065484278219668,
          -1.1014310136051249,
          -1.0963135993882829,
          -1.0911961851714405,
          -1.0860787709545985,
          -1.0809613567377565,
          -1.075843942520914,
          -1.0707265283040721,
          -1.0656091140872301,
          -1.0604916998703877,
          -1.0553742856535457,
          -1.0502568714367038,
          -1.0451394572198613,
          -1.0400220430030194,
          -1.0349046287861774,
          -1.029787214569335,
          -1.024669800352493,
          -1.019552386135651,
          -1.0144349719188086,
          -1.0093175577019666,
          -1.0042001434851247,
          -0.9990827292682822,
          -0.9939653150514403,
          -0.9888479008345983,
          -0.9837304866177559,
          -0.9786130724009139,
          -0.9734956581840719,
          -0.9683782439672295,
          -0.9632608297503875,
          -0.9581434155335455,
          -0.9530260013167031,
          -0.9479085870998611,
          -0.9427911728830192,
          -0.9376737586661767,
          -0.9325563444493348,
          -0.9274389302324928,
          -0.9223215160156504,
          -0.9172041017988084,
          -0.9120866875819664,
          -0.906969273365124,
          -0.901851859148282,
          -0.8967344449314401,
          -0.8916170307145976,
          -0.8864996164977557,
          -0.8813822022809137,
          -0.8762647880640713,
          -0.8711473738472293,
          -0.8660299596303873,
          -0.8609125454135449,
          -0.8557951311967029,
          -0.8506777169798609,
          -0.8455603027630185,
          -0.8404428885461765,
          -0.8353254743293346,
          -0.8302080601124922,
          -0.8250906458956502,
          -0.8199732316788082,
          -0.8148558174619658,
          -0.8097384032451238,
          -0.8046209890282818,
          -0.7995035748114394,
          -0.7943861605945974,
          -0.7892687463777555,
          -0.784151332160913,
          -0.7790339179440711,
          -0.7739165037272291,
          -0.7687990895103867,
          -0.7636816752935447,
          -0.7585642610767027,
          -0.7534468468598603,
          -0.7483294326430183,
          -0.7432120184261763,
          -0.7380946042093339,
          -0.732977189992492,
          -0.72785977577565,
          -0.7227423615588076,
          -0.7176249473419656,
          -0.7125075331251236,
          -0.7073901189082812,
          -0.7022727046914392,
          -0.6971552904745972,
          -0.6920378762577548,
          -0.6869204620409128,
          -0.6818030478240709,
          -0.6766856336072284,
          -0.6715682193903865,
          -0.6664508051735445,
          -0.6613333909567021,
          -0.6562159767398601,
          -0.6510985625230181,
          -0.6459811483061757,
          -0.6408637340893337,
          -0.6357463198724917,
          -0.6306289056556493,
          -0.6255114914388074,
          -0.6203940772219654,
          -0.615276663005123,
          -0.610159248788281,
          -0.605041834571439,
          -0.5999244203545966,
          -0.5948070061377546,
          -0.5896895919209126,
          -0.5845721777040702,
          -0.5794547634872282,
          -0.5743373492703863,
          -0.5692199350535438,
          -0.5641025208367019,
          -0.5589851066198599,
          -0.5538676924030175,
          -0.5487502781861755,
          -0.5436328639693335,
          -0.5385154497524911,
          -0.5333980355356491,
          -0.5282806213188072,
          -0.5231632071019647,
          -0.5180457928851228,
          -0.5129283786682808,
          -0.5078109644514384,
          -0.5026935502345964,
          -0.4975761360177544,
          -0.492458721800912,
          -0.48734130758407,
          -0.48222389336722804,
          -0.4771064791503856,
          -0.47198906493354364,
          -0.46687165071670167,
          -0.46175423649985925,
          -0.4566368222830173,
          -0.4515194080661753,
          -0.4464019938493329,
          -0.4412845796324909,
          -0.4361671654156489,
          -0.4310497511988065,
          -0.42593233698196453,
          -0.42081492276512256,
          -0.41569750854828014,
          -0.41058009433143816,
          -0.4054626801145962,
          -0.40034526589775377,
          -0.3952278516809118,
          -0.3901104374640698,
          -0.3849930232472274,
          -0.3798756090303854,
          -0.37475819481354344,
          -0.369640780596701,
          -0.36452336637985905,
          -0.3594059521630171,
          -0.35428853794617465,
          -0.3491711237293327,
          -0.3440537095124907,
          -0.3389362952956483,
          -0.3338188810788063,
          -0.32870146686196433,
          -0.3235840526451219,
          -0.31846663842827994,
          -0.31334922421143796,
          -0.30823180999459554,
          -0.30311439577775356,
          -0.2979969815609116,
          -0.29287956734406917,
          -0.2877621531272272,
          -0.2826447389103852,
          -0.2775273246935428,
          -0.2724099104767008,
          -0.26729249625985885,
          -0.2621750820430164,
          -0.25705766782617445,
          -0.2519402536093325,
          -0.24682283939249006,
          -0.24170542517564808,
          -0.2365880109588061,
          -0.23147059674196369,
          -0.2263531825251217,
          -0.22123576830827973,
          -0.21611835409143731,
          -0.21100093987459534,
          -0.20588352565775336,
          -0.20076611144091094,
          -0.19564869722406897,
          -0.190531283007227,
          -0.18541386879038457,
          -0.1802964545735426,
          -0.17517904035670062,
          -0.1700616261398582,
          -0.16494421192301623,
          -0.15982679770617425,
          -0.15470938348933183,
          -0.14959196927248986,
          -0.14447455505564788,
          -0.13935714083880546,
          -0.13423972662196348,
          -0.1291223124051215,
          -0.12400489818827909,
          -0.11888748397143711,
          -0.11377006975459514,
          -0.10865265553775272,
          -0.10353524132091074,
          -0.09841782710406877,
          -0.09330041288722635,
          -0.08818299867038437,
          -0.0830655844535424,
          -0.07794817023670042,
          -0.072830756019858,
          -0.06771334180301603,
          -0.06259592758617405,
          -0.05747851336933163,
          -0.052361099152489654,
          -0.04724368493564768,
          -0.04212627071880526,
          -0.03700885650196328,
          -0.03189144228512131,
          -0.026774028068278888,
          -0.021656613851436912,
          -0.016539199634594937,
          -0.011421785417752517,
          -0.006304371200910541,
          -0.0011869569840685656,
          0.003930457232773854,
          0.00904787144961583,
          0.014165285666457805,
          0.019282699883300225,
          0.0244001141001422,
          0.029517528316984176,
          0.034634942533826596,
          0.03975235675066857,
          0.04486977096751055,
          0.04998718518435297,
          0.05510459940119494,
          0.06022201361803692,
          0.06533942783487934,
          0.07045684205172131,
          0.07557425626856329,
          0.08069167048540571,
          0.08580908470224768,
          0.09092649891908966,
          0.09604391313593208,
          0.10116132735277406,
          0.10627874156961603,
          0.11139615578645845,
          0.11651357000330043,
          0.1216309842201424,
          0.12674839843698482,
          0.1318658126538268,
          0.13698322687066877,
          0.1421006410875112,
          0.14721805530435317,
          0.15233546952119514,
          0.15745288373803756,
          0.16257029795487954,
          0.16768771217172151,
          0.17280512638856393,
          0.1779225406054059,
          0.18303995482224789,
          0.1881573690390903,
          0.19327478325593228,
          0.19839219747277426,
          0.20350961168961668,
          0.20862702590645865,
          0.21374444012330063,
          0.21886185434014305,
          0.22397926855698502,
          0.229096682773827,
          0.23421409699066942,
          0.2393315112075114,
          0.24444892542435337,
          0.2495663396411958,
          0.25468375385803776,
          0.25980116807487974,
          0.26491858229172216,
          0.27003599650856414,
          0.2751534107254061,
          0.28027082494224853,
          0.2853882391590905,
          0.2905056533759325,
          0.2956230675927749,
          0.3007404818096169,
          0.30585789602645885,
          0.3109753102433013,
          0.31609272446014325,
          0.3212101386769852,
          0.32632755289382764,
          0.3314449671106696,
          0.3365623813275116,
          0.341679795544354,
          0.346797209761196,
          0.35191462397803797,
          0.3570320381948804,
          0.36214945241172236,
          0.36726686662856434,
          0.37238428084540676,
          0.37750169506224873,
          0.3826191092790907,
          0.3877365234959331,
          0.3928539377127751,
          0.3979713519296171,
          0.4030887661464595,
          0.4082061803633015,
          0.41332359458014345,
          0.41844100879698587,
          0.42355842301382784,
          0.4286758372306698,
          0.43379325144751224,
          0.4389106656643542,
          0.4440280798811962,
          0.4491454940980386,
          0.4542629083148806,
          0.45938032253172256,
          0.464497736748565,
          0.46961515096540696,
          0.47473256518224893,
          0.47984997939909135,
          0.48496739361593333,
          0.4900848078327753,
          0.4952022220496177,
          0.5003196362664597,
          0.5054370504833017,
          0.5105544647001441,
          0.5156718789169861,
          0.520789293133828,
          0.5259067073506705,
          0.5310241215675124,
          0.5361415357843544,
          0.5412589500011968,
          0.5463763642180388,
          0.5514937784348808,
          0.5566111926517232,
          0.5617286068685652,
          0.5668460210854072,
          0.5719634353022496,
          0.5770808495190916,
          0.5821982637359335,
          0.587315677952776,
          0.5924330921696179,
          0.5975505063864599,
          0.6026679206033023,
          0.6077853348201443,
          0.6129027490369863,
          0.6180201632538287,
          0.6231375774706707,
          0.6282549916875126,
          0.6333724059043551,
          0.638489820121197,
          0.643607234338039,
          0.6487246485548814,
          0.653842062771723,
          0.6589594769885654,
          0.6640768912054078,
          0.6691943054222493,
          0.6743117196390918,
          0.6794291338559342,
          0.6845465480727757,
          0.6896639622896181,
          0.6947813765064605,
          0.6998987907233021,
          0.7050162049401445,
          0.7101336191569869,
          0.7152510333738284,
          0.7203684475906709,
          0.7254858618075133,
          0.7306032760243548,
          0.7357206902411972,
          0.7408381044580397,
          0.7459555186748812,
          0.7510729328917236,
          0.756190347108566,
          0.7613077613254076,
          0.76642517554225,
          0.7715425897590924,
          0.7766600039759339,
          0.7817774181927764,
          0.7868948324096188,
          0.7920122466264603,
          0.7971296608433027,
          0.8022470750601451,
          0.8073644892769867,
          0.8124819034938291,
          0.8175993177106715,
          0.822716731927513,
          0.8278341461443555,
          0.8329515603611979,
          0.8380689745780394,
          0.8431863887948818,
          0.8483038030117243,
          0.8534212172285658,
          0.8585386314454082,
          0.8636560456622506,
          0.8687734598790922,
          0.8738908740959346,
          0.879008288312777,
          0.8841257025296185,
          0.889243116746461,
          0.8943605309633034,
          0.8994779451801449,
          0.9045953593969873,
          0.9097127736138297,
          0.9148301878306713,
          0.9199476020475137,
          0.9250650162643561,
          0.9301824304811976,
          0.9352998446980401,
          0.9404172589148825,
          0.945534673131724,
          0.9506520873485664,
          0.9557695015654089,
          0.9608869157822504,
          0.9660043299990928,
          0.9711217442159352,
          0.9762391584327768,
          0.9813565726496192,
          0.9864739868664616,
          0.9915914010833031,
          0.9967088153001455,
          1.001826229516988,
          1.0069436437338295,
          1.012061057950672,
          1.0171784721675143,
          1.0222958863843559,
          1.0274133006011983,
          1.0325307148180407,
          1.0376481290348822,
          1.0427655432517247,
          1.047882957468567,
          1.0530003716854086,
          1.058117785902251,
          1.0632352001190934,
          1.068352614335935,
          1.0734700285527774,
          1.0785874427696198,
          1.0837048569864614,
          1.0888222712033038,
          1.0939396854201462,
          1.0990570996369877,
          1.1041745138538301,
          1.1092919280706726,
          1.114409342287514,
          1.1195267565043565,
          1.124644170721199,
          1.1297615849380405,
          1.1348789991548829,
          1.1399964133717253,
          1.1451138275885668,
          1.1502312418054093,
          1.1553486560222517,
          1.1604660702390932,
          1.1655834844559356,
          1.170700898672778,
          1.1758183128896196,
          1.180935727106462,
          1.1860531413233044,
          1.191170555540146,
          1.1962879697569884,
          1.2014053839738308,
          1.2065227981906723,
          1.2116402124075147,
          1.2167576266243572,
          1.2218750408411987,
          1.226992455058041,
          1.2321098692748835,
          1.237227283491725,
          1.2423446977085675,
          1.24746211192541,
          1.2525795261422514,
          1.2576969403590939,
          1.2628143545759363,
          1.2679317687927778,
          1.2730491830096202,
          1.2781665972264626,
          1.2832840114433042,
          1.2884014256601466,
          1.293518839876989,
          1.2986362540938305,
          1.303753668310673,
          1.3088710825275154,
          1.313988496744357,
          1.3191059109611993,
          1.3242233251780418,
          1.3293407393948833,
          1.3344581536117257,
          1.3395755678285681,
          1.3446929820454097,
          1.349810396262252,
          1.3549278104790945,
          1.360045224695936,
          1.3651626389127784,
          1.3702800531296209,
          1.3753974673464624,
          1.3805148815633048,
          1.3856322957801472,
          1.3907497099969888,
          1.3958671242138312,
          1.4009845384306736,
          1.4061019526475151,
          1.4112193668643576,
          1.4163367810812,
          1.4214541952980415,
          1.426571609514884,
          1.4316890237317264,
          1.4368064379485679,
          1.4419238521654103,
          1.4470412663822527,
          1.4521586805990943,
          1.4572760948159367,
          1.462393509032779,
          1.4675109232496206,
          1.472628337466463,
          1.4777457516833055,
          1.482863165900147,
          1.4879805801169894,
          1.4930979943338318,
          1.4982154085506734,
          1.5033328227675158,
          1.5084502369843582,
          1.5135676512011997,
          1.5186850654180422,
          1.5238024796348846,
          1.528919893851726,
          1.5340373080685685,
          1.539154722285411,
          1.5442721365022525,
          1.549389550719095,
          1.5545069649359373,
          1.5596243791527789,
          1.5647417933696213,
          1.5698592075864637,
          1.5749766218033052,
          1.5800940360201476,
          1.58521145023699,
          1.5903288644538316,
          1.595446278670674,
          1.6005636928875164,
          1.605681107104358,
          1.6107985213212004,
          1.6159159355380428,
          1.6210333497548843,
          1.6261507639717268,
          1.6312681781885692,
          1.6363855924054107,
          1.6415030066222531,
          1.6466204208390955,
          1.651737835055937,
          1.6568552492727795,
          1.661972663489622,
          1.6670900777064634,
          1.6722074919233059,
          1.6773249061401483,
          1.6824423203569898,
          1.6875597345738322,
          1.6926771487906747,
          1.6977945630075162,
          1.7029119772243586,
          1.708029391441201,
          1.7131468056580426,
          1.718264219874885,
          1.7233816340917274,
          1.728499048308569,
          1.7336164625254114,
          1.7387338767422538,
          1.7438512909590953,
          1.7489687051759377,
          1.7540861193927801,
          1.7592035336096217
         ],
         "y": [
          0.002318255820134349,
          0.0023318160503106033,
          0.0023454716841018594,
          0.0023592234996504353,
          0.0023730722822601974,
          0.0023870188244693403,
          0.002401063926124001,
          0.002415208394452639,
          0.00242945304414129,
          0.0024437986974095976,
          0.002458246184087722,
          0.0024727963416940855,
          0.002487450015513977,
          0.0025022080586790236,
          0.002517071332247575,
          0.0025320407052859145,
          0.002547117054950443,
          0.0025623012665707294,
          0.002577594233733485,
          0.002592996858367509,
          0.0026085100508295394,
          0.0026241347299910665,
          0.0026398718233261406,
          0.002655722267000121,
          0.002671687005959449,
          0.002687766994022403,
          0.0027039631939708673,
          0.0027202765776431354,
          0.0027367081260277564,
          0.002753258829358414,
          0.0027699296872098775,
          0.002786721708595045,
          0.0028036359120630467,
          0.002820673325798452,
          0.0028378349877216306,
          0.002855121945590193,
          0.0028725352571015855,
          0.002890075989996865,
          0.0029077452221656043,
          0.002925544041752018,
          0.0029434735472622484,
          0.002961534847672885,
          0.0029797290625406996,
          0.0029980573221136423,
          0.0030165207674430544,
          0.003035120550497176,
          0.003053857834275936,
          0.0030727337929270537,
          0.0030917496118634145,
          0.003110906487881822,
          0.0031302056292830836,
          0.003149648255993448,
          0.0031692355996874345,
          0.0031889689039120463,
          0.0032088494242124154,
          0.0032288784282588708,
          0.0032490571959754417,
          0.003269387019669826,
          0.0032898692041648703,
          0.0033105050669315194,
          0.0033312959382232697,
          0.0033522431612122232,
          0.003373348092126622,
          0.0033946121003899975,
          0.0034160365687619077,
          0.003437622893480273,
          0.0034593724844053492,
          0.0034812867651653583,
          0.003503367173303782,
          0.003525615160428329,
          0.003548032192361664,
          0.0035706197492937934,
          0.0035933793259362674,
          0.0036163124316781264,
          0.0036394205907436476,
          0.0036627053423518917,
          0.0036861682408781214,
          0.003709810856017049,
          0.003733634772947987,
          0.0037576415925018695,
          0.003781832931330262,
          0.003806210422076269,
          0.0038307757135474206,
          0.003855530470890611,
          0.0038804763757689775,
          0.003905615126540896,
          0.00393094843844103,
          0.0039564780437634445,
          0.003982205692046876,
          0.004008133150262156,
          0.004034262203001779,
          0.004060594652671687,
          0.004087132319685288,
          0.004113877042659714,
          0.004140830678614356,
          0.004167995103171743,
          0.004195372210760696,
          0.004222963914821907,
          0.004250772148015883,
          0.004278798862433305,
          0.004307046029807855,
          0.004335515641731502,
          0.004364209709872355,
          0.004393130266194952,
          0.004422279363183237,
          0.004451659074066062,
          0.004481271493045368,
          0.004511118735526981,
          0.004541202938354171,
          0.00457152626004388,
          0.004602090881025778,
          0.004632899003884054,
          0.004663952853602061,
          0.004695254677809843,
          0.004726806747034574,
          0.004758611354953843,
          0.00479067081865203,
          0.004822987478879616,
          0.004855563700315533,
          0.004888401871832632,
          0.00492150440676623,
          0.00495487374318584,
          0.004988512344170065,
          0.005022422698084743,
          0.005056607318864339,
          0.005091068746296681,
          0.005125809546311026,
          0.005160832311269476,
          0.005196139660261893,
          0.005231734239404233,
          0.005267618722140404,
          0.005303795809547706,
          0.0053402682306458215,
          0.005377038742709466,
          0.005414110131584758,
          0.005451485212009243,
          0.005489166827935747,
          0.005527157852860065,
          0.005565461190152433,
          0.005604079773392963,
          0.005643016566711061,
          0.00568227456512879,
          0.00572185679490833,
          0.0057617663139034846,
          0.005802006211915421,
          0.0058425796110525225,
          0.005883489666094537,
          0.005924739564861025,
          0.005966332528584128,
          0.006008271812285789,
          0.006050560705159356,
          0.006093202530955771,
          0.006136200648374262,
          0.006179558451457693,
          0.006223279369992535,
          0.006267366869913608,
          0.006311824453713582,
          0.006356655660857337,
          0.006401864068201161,
          0.006447453290416987,
          0.006493426980421539,
          0.006539788829810681,
          0.0065865425692987435,
          0.006633691969163145,
          0.006681240839694249,
          0.006729193031650515,
          0.0067775524367189935,
          0.006826322987981326,
          0.006875508660385239,
          0.006925113471221519,
          0.0069751414806067235,
          0.007025596791971529,
          0.007076483552554869,
          0.007127805953903857,
          0.0071795682323797,
          0.00723177466966943,
          0.00728442959330385,
          0.007337537377181421,
          0.0073911024420984335,
          0.00744512925628537,
          0.007499622335949622,
          0.007554586245824547,
          0.007610025599725063,
          0.007665945061109683,
          0.007722349343649269,
          0.007779243211802428,
          0.00783663148139761,
          0.007894519020222163,
          0.007952910748618243,
          0.008011811640085709,
          0.008071226721892127,
          0.008131161075689938,
          0.008191619838140821,
          0.008252608201547407,
          0.008314131414492403,
          0.008376194782485176,
          0.0084388036686159,
          0.008501963494217394,
          0.008565679739534668,
          0.008629957944402272,
          0.008694803708929624,
          0.008760222694194263,
          0.008826220622943207,
          0.008892803280302541,
          0.008959976514495182,
          0.009027746237567049,
          0.009096118426121683,
          0.009165099122063404,
          0.009234694433349035,
          0.009304910534748453,
          0.009375753668613892,
          0.009447230145658157,
          0.009519346345741876,
          0.009592108718669856,
          0.009665523784996584,
          0.009739598136841093,
          0.00981433843871125,
          0.009889751428337375,
          0.009965843917515703,
          0.010042622792961317,
          0.010120095017171038,
          0.010198267629296093,
          0.010277147746024918,
          0.010356742562475896,
          0.010437059353100492,
          0.01051810547259656,
          0.010599888356832107,
          0.010682415523779598,
          0.010765694574460942,
          0.010849733193903052,
          0.010934539152104414,
          0.011020120305012572,
          0.011106484595512587,
          0.011193640054426725,
          0.011281594801525508,
          0.011370357046549939,
          0.011459935090245479,
          0.011550337325407454,
          0.011641572237938217,
          0.01173364840791619,
          0.011826574510676846,
          0.011920359317905662,
          0.012015011698743392,
          0.012110540620903453,
          0.012206955151801825,
          0.012304264459699413,
          0.012402477814857081,
          0.012501604590703309,
          0.012601654265014835,
          0.01270263642111019,
          0.012804560749056292,
          0.012907437046888305,
          0.013011275221842766,
          0.013116085291604056,
          0.013221877385564629,
          0.013328661746098593,
          0.013436448729849311,
          0.013545248809030767,
          0.01365507257274291,
          0.013765930728301082,
          0.013877834102579893,
          0.01399079364337103,
          0.01410482042075585,
          0.014219925628492391,
          0.014336120585417058,
          0.014453416736861048,
          0.014571825656081765,
          0.014691359045709161,
          0.014812028739207192,
          0.014933846702350418,
          0.015056825034716104,
          0.015180975971191593,
          0.015306311883497178,
          0.015432845281724785,
          0.015560588815892208,
          0.015689555277513322,
          0.0158197576011841,
          0.015951208866184768,
          0.01608392229809807,
          0.016217911270443718,
          0.016353189306329192,
          0.01648977008011698,
          0.01662766741910823,
          0.016766895305243112,
          0.016907467876817715,
          0.01704939943021785,
          0.017192704421669605,
          0.01733739746900676,
          0.01748349335345533,
          0.01763100702143512,
          0.017779953586378357,
          0.017930348330565563,
          0.018082206706978778,
          0.018235544341171944,
          0.01839037703315886,
          0.018546720759318493,
          0.018704591674317636,
          0.018864006113051435,
          0.019024980592601194,
          0.019187531814209995,
          0.019351676665275798,
          0.01951743222136249,
          0.019684815748228272,
          0.01985384470387219,
          0.020024536740598106,
          0.020196909707096578,
          0.02037098165054444,
          0.020546770818722224,
          0.020724295662149266,
          0.020903574836236564,
          0.021084627203457447,
          0.021267471835535855,
          0.02145212801565238,
          0.021638615240667874,
          0.02182695322336463,
          0.022017161894705282,
          0.022209261406108988,
          0.022403272131745113,
          0.022599214670844275,
          0.022797109850026614,
          0.022996978725647245,
          0.023198842586158824,
          0.023402722954490886,
          0.02360864159044638,
          0.023816620493114605,
          0.024026681903300737,
          0.024238848305971995,
          0.024453142432719878,
          0.02466958726423863,
          0.024888206032819445,
          0.02510902222486066,
          0.025332059583393258,
          0.025557342110621658,
          0.02578489407047984,
          0.02601473999120198,
          0.02624690466790784,
          0.026481413165202555,
          0.02671829081979016,
          0.026957563243101175,
          0.027199256323933347,
          0.027443396231105744,
          0.027690009416125216,
          0.02793912261586581,
          0.028190762855259576,
          0.028444957449999475,
          0.028701734009253313,
          0.028961120438388433,
          0.02922314494170681,
          0.029487836025190152,
          0.02975522249925404,
          0.03002533348151141,
          0.03029819839954407,
          0.030573846993682305,
          0.03085230931979141,
          0.031133615752065347,
          0.031417796985826064,
          0.03170488404032854,
          0.03199490826157051,
          0.03228790132510632,
          0.03258389523886404,
          0.03288292234596567,
          0.03318501532754867,
          0.03349020720558936,
          0.033798531345726045,
          0.03411002146008191,
          0.03442471161008667,
          0.03474263620929592,
          0.03506383002620713,
          0.03538832818707179,
          0.035716166178702616,
          0.03604737985127418,
          0.036382005421116845,
          0.03672007947350251,
          0.03706163896542065,
          0.03740672122834451,
          0.037755363970985216,
          0.03810760528203331,
          0.03846348363288623,
          0.03882303788036032,
          0.03918630726938638,
          0.039553331435687,
          0.039924150408434805,
          0.040298804612889726,
          0.040677334873013726,
          0.04105978241406222,
          0.04144618886514994,
          0.04183659626178951,
          0.042231047048402234,
          0.04262958408079788,
          0.04303225062862287,
          0.043439090377774645,
          0.043850147432780574,
          0.0442654663191393,
          0.04468509198562302,
          0.04510906980653827,
          0.04553744558394346,
          0.045970265549821476,
          0.046407576368204466,
          0.04684942513724917,
          0.04729585939126088,
          0.04774692710266291,
          0.04820267668390999,
          0.04866315698934321,
          0.04912841731698396,
          0.04959850741026354,
          0.05007347745968836,
          0.05055337810443479,
          0.05103826043387421,
          0.05152817598902345,
          0.05202317676391904,
          0.0525233152069114,
          0.05302864422187788,
          0.053539217169349486,
          0.05405508786755043,
          0.05457631059334586,
          0.05510294008309601,
          0.055635031533412246,
          0.05617264060181341,
          0.05671582340727767,
          0.05726463653068743,
          0.05781913701516407,
          0.058379382366288264,
          0.05894543055220298,
          0.05951734000359573,
          0.06009516961355582,
          0.06067897873730356,
          0.06126882719178706,
          0.06186477525514397,
          0.062466883666022176,
          0.06307521362275831,
          0.06368982678240748,
          0.06431078525962189,
          0.06493815162537378,
          0.06557198890551816,
          0.06621236057919111,
          0.0668593305770407,
          0.06751296327928394,
          0.06817332351358737,
          0.06884047655276594,
          0.06951448811229557,
          0.07019542434763526,
          0.0708833518513542,
          0.07157833765005865,
          0.07228044920111427,
          0.07298975438915949,
          0.07370632152240457,
          0.07443021932871144,
          0.07516151695145028,
          0.075900283945127,
          0.07664659027077682,
          0.0774005062911196,
          0.07816210276547136,
          0.07893145084440649,
          0.07970862206416651,
          0.08049368834081007,
          0.08128672196409764,
          0.0820877955911082,
          0.08289698223958065,
          0.08371435528097516,
          0.08453998843325033,
          0.08537395575334944,
          0.08621633162939185,
          0.08706719077256267,
          0.08792660820869788,
          0.08879465926955682,
          0.08967141958377932,
          0.09055696506752056,
          0.0914513719147594,
          0.09235471658727452,
          0.09326707580428312,
          0.09418852653173802,
          0.09511914597127669,
          0.09605901154881817,
          0.09700820090280195,
          0.09796679187206563,
          0.09893486248335447,
          0.09991249093845841,
          0.10089975560097364,
          0.10189673498268126,
          0.10290350772954046,
          0.10392015260729147,
          0.1049467484866623,
          0.1059833743281772,
          0.1070301091665615,
          0.10808703209473818,
          0.1091542222474131,
          0.11023175878424601,
          0.11131972087260075,
          0.11241818766987345,
          0.11352723830539595,
          0.11464695186190872,
          0.11577740735660157,
          0.11691868372172028,
          0.11807085978473507,
          0.11923401424806868,
          0.1204082256683819,
          0.12159357243541619,
          0.1227901327503875,
          0.12399798460393453,
          0.12521720575361744,
          0.12644787370096452,
          0.1276900656680708,
          0.12894385857374335,
          0.13020932900919432,
          0.13148655321328437,
          0.13277560704731317,
          0.13407656596935932,
          0.13538950500817146,
          0.1367144987366107,
          0.1380516212446461,
          0.1394009461119063,
          0.14076254637978872,
          0.14213649452312876,
          0.1435228624214343,
          0.1449217213296864,
          0.14633314184871135,
          0.14775719389513023,
          0.14919394667088637,
          0.15064346863236097,
          0.15210582745907983,
          0.15358109002201703,
          0.15506932235150303,
          0.1565705896047463,
          0.15808495603297115,
          0.1596124849481848,
          0.16115323868957934,
          0.16270727858957887,
          0.1642746649395404,
          0.1658554569551204,
          0.16744971274131626,
          0.16905748925719266,
          0.17067884228030875,
          0.17231382637085377,
          0.17396249483550585,
          0.17562489969102946,
          0.17730109162762087,
          0.17899111997202077,
          0.18069503265040632,
          0.18241287615107923,
          0.18414469548696522,
          0.18589053415794451,
          0.18765043411302665,
          0.1894244357123903,
          0.1912125776893067,
          0.19301489711196496,
          0.1948314293452179,
          0.19666220801227202,
          0.19850726495633914,
          0.20036663020227252,
          0.20224033191820937,
          0.2041283963772438,
          0.20603084791914875,
          0.20794770891217645,
          0.20987899971495766,
          0.21182473863852413,
          0.2137849419084842,
          0.21575962362736975,
          0.2177487957371874,
          0.21975246798219755,
          0.2217706478719487,
          0.22380334064459345,
          0.22585054923051845,
          0.22791227421631258,
          0.22998851380909968,
          0.23207926380127658,
          0.23418451753566966,
          0.2363042658711552,
          0.23843849714876164,
          0.24058719715829374,
          0.24275034910550158,
          0.2449279335798307,
          0.24711992852278203,
          0.24932630919691476,
          0.251547048155521,
          0.25378211521300714,
          0.2560314774160098,
          0.25829509901528297,
          0.26057294143838433,
          0.2628649632631931,
          0.2651711201922934,
          0.2674913650282529,
          0.26982564764982764,
          0.27217391498912924,
          0.2745361110097778,
          0.2769121766860786,
          0.27930204998325203,
          0.2817056658387438,
          0.28412295614464766,
          0.28655384973127446,
          0.28899827235188913,
          0.29145614666865005,
          0.29392739223977904,
          0.29641192550798734,
          0.29890965979018524,
          0.30142050526850606,
          0.30394436898266497,
          0.3064811548236801,
          0.3090307635289835,
          0.3115930926789411,
          0.31416803669480586,
          0.31675548683813015,
          0.3193553312116524,
          0.3219674547616811,
          0.3245917392819987,
          0.32722806341929667,
          0.3298763026801638,
          0.332536329439644,
          0.3352080129513745,
          0.3378912193593215,
          0.34058581171112595,
          0.34329164997306844,
          0.34600859104666304,
          0.34873648878689356,
          0.3514751940220921,
          0.3542245545754712,
          0.3569844152883136,
          0.35975461804482,
          0.3625350017986178,
          0.3653254026009338,
          0.36812565363042515,
          0.3709355852246666,
          0.37375502491329404,
          0.37658379745279286,
          0.37942172486292547,
          0.38226862646479254,
          0.38512431892051163,
          0.38798861627450393,
          0.3908613299963781,
          0.39374226902539056,
          0.39663123981646736,
          0.3995280463877734,
          0.40243249036980144,
          0.40534437105596466,
          0.40826348545466873,
          0.4111896283428375,
          0.41412259232086535,
          0.4170621678689722,
          0.4200081434049277,
          0.42296030534311463,
          0.4259184381549034,
          0.4288823244302977,
          0.43185174494082157,
          0.434826478703607,
          0.43780630304665025,
          0.4407909936751916,
          0.44378032473918083,
          0.44677406890178994,
          0.4497719974089247,
          0.45277388015969483,
          0.4557794857777986,
          0.458788581683773,
          0.4618009341680637,
          0.4648163084648694,
          0.46783446882670726,
          0.47085517859965254,
          0.47387820029920347,
          0.4769032956867162,
          0.47993022584636036,
          0.4829587512625448,
          0.4859886318977558,
          0.4890196272707577,
          0.4920514965351026,
          0.495083998557892,
          0.4981168919987369,
          0.5011499353888649,
          0.5041828872103137,
          0.507215505975159,
          0.5102475503047242,
          0.5132787790087114,
          0.5163089511642015,
          0.5193378261944707,
          0.5223651639475653,
          0.5253907247745804,
          0.5284142696075941,
          0.5314355600371946,
          0.534454358389555,
          0.5374704278030006,
          0.5404835323040146,
          0.5434934368826327,
          0.546499907567179,
          0.549502711498287,
          0.5525016170021606,
          0.555496393663029,
          0.5584868123947437,
          0.5614726455114725,
          0.5644536667974493,
          0.5674296515757313,
          0.5704003767759194,
          0.5733656210008082,
          0.5763251645919143,
          0.57927878969385,
          0.5822262803175062,
          0.5851674224020001,
          0.5881020038753588,
          0.5910298147139048,
          0.5939506470003064,
          0.5968642949802644,
          0.599770555117809,
          0.6026692261491711,
          0.6055601091352079,
          0.608443007512356,
          0.6113177271420869,
          0.6141840763588425,
          0.6170418660164353,
          0.6198909095328881,
          0.6227310229336973,
          0.6255620248935105,
          0.628383736776194,
          0.6311959826732836,
          0.6339985894408118,
          0.636791386734491,
          0.6395742070432546,
          0.6423468857211465,
          0.6451092610175533,
          0.6478611741057749,
          0.650602469109939,
          0.653332993130249,
          0.6560525962665731,
          0.6587611316403783,
          0.6614584554150087,
          0.6641444268143153,
          0.6668189081396495,
          0.6694817647852191,
          0.6721328652518241,
          0.6747720811589817,
          0.6773992872554491,
          0.6800143614281609,
          0.6826171847095968,
          0.6852076412835906,
          0.6877856184896012,
          0.6903510068254632,
          0.6929036999486347,
          0.6954435946759614,
          0.6979705909819831,
          0.7004845919957978,
          0.7029855039965089,
          0.7054732364072824,
          0.7079477017880325,
          0.7104088158267641,
          0.7128564973295993,
          0.7152906682095117,
          0.7177112534737953,
          0.7201181812103006,
          0.7225113825724596,
          0.7248907917631331,
          0.7272563460173087,
          0.7296079855836781,
          0.7319456537051234,
          0.7342692965981468,
          0.7365788634312684,
          0.7388743063024279,
          0.7411555802154199,
          0.7434226430553934,
          0.7456754555634479,
          0.7479139813103591,
          0.7501381866694624,
          0.7523480407887293,
          0.7545435155620686,
          0.7567245855998821,
          0.758891228198906,
          0.7610434233113748,
          0.7631811535135324,
          0.7653044039735275,
          0.7674131624187208,
          0.7695074191024367,
          0.7715871667701892,
          0.7736524006254176,
          0.7757031182947507,
          0.7777393197928429,
          0.7797610074868035,
          0.7817681860602512,
          0.7837608624770201,
          0.7857390459445515,
          0.7877027478769936,
          0.7896519818580383,
          0.7915867636035265,
          0.7935071109238415,
          0.7954130436861232,
          0.797304583776326,
          0.7991817550611451,
          0.8010445833498383,
          0.8028930963559656,
          0.8047273236590713,
          0.8065472966663316,
          0.8083530485741907,
          0.8101446143300064,
          0.8119220305937287,
          0.8136853356996306,
          0.8154345696181131,
          0.8171697739176007,
          0.8188909917265546,
          0.8205982676956103,
          0.8222916479598704,
          0.8239711801013624,
          0.8256369131116772,
          0.8272888973548124,
          0.82892718453023,
          0.8305518276361437,
          0.8321628809330535,
          0.8337603999075418,
          0.8353444412363399,
          0.8369150627506826,
          0.8384723234009633,
          0.8400162832216969,
          0.8415470032968062,
          0.8430645457252431,
          0.8445689735869488,
          0.8460603509091703,
          0.8475387426331389,
          0.8490042145811169,
          0.850456833423825,
          0.8518966666482586,
          0.8533237825258927,
          0.8547382500812922,
          0.8561401390611278,
          0.8575295199036029,
          0.8589064637083013,
          0.8602710422064568,
          0.8616233277316488,
          0.862963393190933,
          0.8642913120364042,
          0.8656071582371995,
          0.8669110062519421,
          0.8682029310016303,
          0.8694830078429705,
          0.8707513125421605,
          0.872007921249121,
          0.8732529104721762,
          0.8744863570531882,
          0.8757083381431419,
          0.8769189311781802,
          0.878118213856093,
          0.8793062641132566,
          0.8804831601020221,
          0.8816489801685556,
          0.8828038028311247,
          0.8839477067588324,
          0.8850807707507954,
          0.8862030737157669,
          0.8873146946521968,
          0.8884157126287342,
          0.8895062067651623,
          0.8905862562137687,
          0.8916559401411431,
          0.8927153377104043,
          0.8937645280638488,
          0.8948035903060192,
          0.895832603487192,
          0.896851646587272,
          0.8978607985001016,
          0.8988601380181704,
          0.8998497438177268,
          0.9008296944442847,
          0.9018000682985245,
          0.9027609436225774,
          0.9037123984866944,
          0.9046545107762956,
          0.9055873581793872,
          0.9065110181743521,
          0.9074255680181023,
          0.9083310847345886,
          0.9092276451036652,
          0.9101153256503045,
          0.9109942026341514,
          0.9118643520394204,
          0.9127258495651228,
          0.913578770615624,
          0.9144231902915222,
          0.9152591833808463,
          0.9160868243505649,
          0.9169061873384033,
          0.9177173461449628,
          0.9185203742261356,
          0.9193153446858117,
          0.9201023302688737,
          0.9208814033544689,
          0.9216526359495615,
          0.9224160996827524,
          0.9231718657983654,
          0.9239200051507939,
          0.9246605881991028,
          0.9253936850018797,
          0.9261193652123316,
          0.9268376980736224,
          0.9275487524144429,
          0.9282525966448134,
          0.9289492987521097,
          0.9296389262973098,
          0.9303215464114553,
          0.9309972257923248,
          0.9316660307013106,
          0.9323280269604981,
          0.9329832799499422,
          0.9336318546051328,
          0.9342738154146497,
          0.9349092264180002,
          0.9355381512036329,
          0.9361606529071275,
          0.9367767942095525,
          0.9373866373359899,
          0.937990244054218,
          0.938587675673554,
          0.9391789930438473,
          0.9397642565546219,
          0.9403435261343641,
          0.9409168612499496,
          0.9414843209062081,
          0.9420459636456218,
          0.9426018475481504,
          0.9431520302311847,
          0.9436965688496208,
          0.9442355200960517,
          0.9447689402010747,
          0.9452968849337109,
          0.9458194096019302,
          0.9463365690532839,
          0.9468484176756361,
          0.9473550093979951,
          0.947856397691438,
          0.9483526355701289,
          0.948843775592425,
          0.9493298698620682,
          0.9498109700294611,
          0.950287127293021,
          0.9507583924006128,
          0.9512248156510563,
          0.9516864468957043,
          0.9521433355400909,
          0.952595530545646,
          0.9530430804314738,
          0.9534860332761931,
          0.953924436719837,
          0.9543583379658088,
          0.9547877837828934,
          0.9552128205073199,
          0.9556334940448751,
          0.9560498498730643,
          0.9564619330433184,
          0.9568697881832445,
          0.9572734594989182,
          0.9576729907772157,
          0.9580684253881838,
          0.9584598062874455,
          0.9588471760186414,
          0.9592305767159002,
          0.9596100501063436,
          0.9599856375126179,
          0.960357379855453,
          0.9607253176562481,
          0.9610894910396814,
          0.9614499397363412,
          0.9618067030853794,
          0.962159820037185,
          0.9625093291560749,
          0.9628552686230017,
          0.9631976762382783,
          0.9635365894243156,
          0.9638720452283739,
          0.9642040803253262,
          0.9645327310204324,
          0.9648580332521217,
          0.9651800225947861,
          0.9654987342615783,
          0.965814203107218,
          0.9661264636308031,
          0.9664355499786242,
          0.966741495946984,
          0.9670443349850176,
          0.9673441001975162,
          0.9676408243477491,
          0.9679345398602884,
          0.9682252788238299,
          0.9685130729940142,
          0.9687979537962449,
          0.9690799523285026,
          0.9693590993641563,
          0.9696354253547695,
          0.9699089604329008,
          0.9701797344148988,
          0.9704477768036913,
          0.9707131167915654,
          0.970975783262942,
          0.9712358047971408,
          0.9714932096711367,
          0.9717480258623075,
          0.9720002810511713,
          0.9722500026241133,
          0.9724972176761032,
          0.9727419530134003,
          0.9729842351562469,
          0.9732240903415513,
          0.9734615445255576,
          0.973696623386501,
          0.9739293523272542,
          0.9741597564779567,
          0.974387860698632,
          0.9746136895817911,
          0.9748372674550211,
          0.9750586183835593,
          0.9752777661728534
         ]
        }
       ],
       "layout": {
        "height": 500,
        "legend": {
         "orientation": "h",
         "x": 0.5,
         "xanchor": "center",
         "y": -0.3,
         "yanchor": "bottom"
        },
        "showlegend": true,
        "template": {
         "data": {
          "bar": [
           {
            "error_x": {
             "color": "#2a3f5f"
            },
            "error_y": {
             "color": "#2a3f5f"
            },
            "marker": {
             "line": {
              "color": "#E5ECF6",
              "width": 0.5
             },
             "pattern": {
              "fillmode": "overlay",
              "size": 10,
              "solidity": 0.2
             }
            },
            "type": "bar"
           }
          ],
          "barpolar": [
           {
            "marker": {
             "line": {
              "color": "#E5ECF6",
              "width": 0.5
             },
             "pattern": {
              "fillmode": "overlay",
              "size": 10,
              "solidity": 0.2
             }
            },
            "type": "barpolar"
           }
          ],
          "carpet": [
           {
            "aaxis": {
             "endlinecolor": "#2a3f5f",
             "gridcolor": "white",
             "linecolor": "white",
             "minorgridcolor": "white",
             "startlinecolor": "#2a3f5f"
            },
            "baxis": {
             "endlinecolor": "#2a3f5f",
             "gridcolor": "white",
             "linecolor": "white",
             "minorgridcolor": "white",
             "startlinecolor": "#2a3f5f"
            },
            "type": "carpet"
           }
          ],
          "choropleth": [
           {
            "colorbar": {
             "outlinewidth": 0,
             "ticks": ""
            },
            "type": "choropleth"
           }
          ],
          "contour": [
           {
            "colorbar": {
             "outlinewidth": 0,
             "ticks": ""
            },
            "colorscale": [
             [
              0,
              "#0d0887"
             ],
             [
              0.1111111111111111,
              "#46039f"
             ],
             [
              0.2222222222222222,
              "#7201a8"
             ],
             [
              0.3333333333333333,
              "#9c179e"
             ],
             [
              0.4444444444444444,
              "#bd3786"
             ],
             [
              0.5555555555555556,
              "#d8576b"
             ],
             [
              0.6666666666666666,
              "#ed7953"
             ],
             [
              0.7777777777777778,
              "#fb9f3a"
             ],
             [
              0.8888888888888888,
              "#fdca26"
             ],
             [
              1,
              "#f0f921"
             ]
            ],
            "type": "contour"
           }
          ],
          "contourcarpet": [
           {
            "colorbar": {
             "outlinewidth": 0,
             "ticks": ""
            },
            "type": "contourcarpet"
           }
          ],
          "heatmap": [
           {
            "colorbar": {
             "outlinewidth": 0,
             "ticks": ""
            },
            "colorscale": [
             [
              0,
              "#0d0887"
             ],
             [
              0.1111111111111111,
              "#46039f"
             ],
             [
              0.2222222222222222,
              "#7201a8"
             ],
             [
              0.3333333333333333,
              "#9c179e"
             ],
             [
              0.4444444444444444,
              "#bd3786"
             ],
             [
              0.5555555555555556,
              "#d8576b"
             ],
             [
              0.6666666666666666,
              "#ed7953"
             ],
             [
              0.7777777777777778,
              "#fb9f3a"
             ],
             [
              0.8888888888888888,
              "#fdca26"
             ],
             [
              1,
              "#f0f921"
             ]
            ],
            "type": "heatmap"
           }
          ],
          "heatmapgl": [
           {
            "colorbar": {
             "outlinewidth": 0,
             "ticks": ""
            },
            "colorscale": [
             [
              0,
              "#0d0887"
             ],
             [
              0.1111111111111111,
              "#46039f"
             ],
             [
              0.2222222222222222,
              "#7201a8"
             ],
             [
              0.3333333333333333,
              "#9c179e"
             ],
             [
              0.4444444444444444,
              "#bd3786"
             ],
             [
              0.5555555555555556,
              "#d8576b"
             ],
             [
              0.6666666666666666,
              "#ed7953"
             ],
             [
              0.7777777777777778,
              "#fb9f3a"
             ],
             [
              0.8888888888888888,
              "#fdca26"
             ],
             [
              1,
              "#f0f921"
             ]
            ],
            "type": "heatmapgl"
           }
          ],
          "histogram": [
           {
            "marker": {
             "pattern": {
              "fillmode": "overlay",
              "size": 10,
              "solidity": 0.2
             }
            },
            "type": "histogram"
           }
          ],
          "histogram2d": [
           {
            "colorbar": {
             "outlinewidth": 0,
             "ticks": ""
            },
            "colorscale": [
             [
              0,
              "#0d0887"
             ],
             [
              0.1111111111111111,
              "#46039f"
             ],
             [
              0.2222222222222222,
              "#7201a8"
             ],
             [
              0.3333333333333333,
              "#9c179e"
             ],
             [
              0.4444444444444444,
              "#bd3786"
             ],
             [
              0.5555555555555556,
              "#d8576b"
             ],
             [
              0.6666666666666666,
              "#ed7953"
             ],
             [
              0.7777777777777778,
              "#fb9f3a"
             ],
             [
              0.8888888888888888,
              "#fdca26"
             ],
             [
              1,
              "#f0f921"
             ]
            ],
            "type": "histogram2d"
           }
          ],
          "histogram2dcontour": [
           {
            "colorbar": {
             "outlinewidth": 0,
             "ticks": ""
            },
            "colorscale": [
             [
              0,
              "#0d0887"
             ],
             [
              0.1111111111111111,
              "#46039f"
             ],
             [
              0.2222222222222222,
              "#7201a8"
             ],
             [
              0.3333333333333333,
              "#9c179e"
             ],
             [
              0.4444444444444444,
              "#bd3786"
             ],
             [
              0.5555555555555556,
              "#d8576b"
             ],
             [
              0.6666666666666666,
              "#ed7953"
             ],
             [
              0.7777777777777778,
              "#fb9f3a"
             ],
             [
              0.8888888888888888,
              "#fdca26"
             ],
             [
              1,
              "#f0f921"
             ]
            ],
            "type": "histogram2dcontour"
           }
          ],
          "mesh3d": [
           {
            "colorbar": {
             "outlinewidth": 0,
             "ticks": ""
            },
            "type": "mesh3d"
           }
          ],
          "parcoords": [
           {
            "line": {
             "colorbar": {
              "outlinewidth": 0,
              "ticks": ""
             }
            },
            "type": "parcoords"
           }
          ],
          "pie": [
           {
            "automargin": true,
            "type": "pie"
           }
          ],
          "scatter": [
           {
            "fillpattern": {
             "fillmode": "overlay",
             "size": 10,
             "solidity": 0.2
            },
            "type": "scatter"
           }
          ],
          "scatter3d": [
           {
            "line": {
             "colorbar": {
              "outlinewidth": 0,
              "ticks": ""
             }
            },
            "marker": {
             "colorbar": {
              "outlinewidth": 0,
              "ticks": ""
             }
            },
            "type": "scatter3d"
           }
          ],
          "scattercarpet": [
           {
            "marker": {
             "colorbar": {
              "outlinewidth": 0,
              "ticks": ""
             }
            },
            "type": "scattercarpet"
           }
          ],
          "scattergeo": [
           {
            "marker": {
             "colorbar": {
              "outlinewidth": 0,
              "ticks": ""
             }
            },
            "type": "scattergeo"
           }
          ],
          "scattergl": [
           {
            "marker": {
             "colorbar": {
              "outlinewidth": 0,
              "ticks": ""
             }
            },
            "type": "scattergl"
           }
          ],
          "scattermapbox": [
           {
            "marker": {
             "colorbar": {
              "outlinewidth": 0,
              "ticks": ""
             }
            },
            "type": "scattermapbox"
           }
          ],
          "scatterpolar": [
           {
            "marker": {
             "colorbar": {
              "outlinewidth": 0,
              "ticks": ""
             }
            },
            "type": "scatterpolar"
           }
          ],
          "scatterpolargl": [
           {
            "marker": {
             "colorbar": {
              "outlinewidth": 0,
              "ticks": ""
             }
            },
            "type": "scatterpolargl"
           }
          ],
          "scatterternary": [
           {
            "marker": {
             "colorbar": {
              "outlinewidth": 0,
              "ticks": ""
             }
            },
            "type": "scatterternary"
           }
          ],
          "surface": [
           {
            "colorbar": {
             "outlinewidth": 0,
             "ticks": ""
            },
            "colorscale": [
             [
              0,
              "#0d0887"
             ],
             [
              0.1111111111111111,
              "#46039f"
             ],
             [
              0.2222222222222222,
              "#7201a8"
             ],
             [
              0.3333333333333333,
              "#9c179e"
             ],
             [
              0.4444444444444444,
              "#bd3786"
             ],
             [
              0.5555555555555556,
              "#d8576b"
             ],
             [
              0.6666666666666666,
              "#ed7953"
             ],
             [
              0.7777777777777778,
              "#fb9f3a"
             ],
             [
              0.8888888888888888,
              "#fdca26"
             ],
             [
              1,
              "#f0f921"
             ]
            ],
            "type": "surface"
           }
          ],
          "table": [
           {
            "cells": {
             "fill": {
              "color": "#EBF0F8"
             },
             "line": {
              "color": "white"
             }
            },
            "header": {
             "fill": {
              "color": "#C8D4E3"
             },
             "line": {
              "color": "white"
             }
            },
            "type": "table"
           }
          ]
         },
         "layout": {
          "annotationdefaults": {
           "arrowcolor": "#2a3f5f",
           "arrowhead": 0,
           "arrowwidth": 1
          },
          "autotypenumbers": "strict",
          "coloraxis": {
           "colorbar": {
            "outlinewidth": 0,
            "ticks": ""
           }
          },
          "colorscale": {
           "diverging": [
            [
             0,
             "#8e0152"
            ],
            [
             0.1,
             "#c51b7d"
            ],
            [
             0.2,
             "#de77ae"
            ],
            [
             0.3,
             "#f1b6da"
            ],
            [
             0.4,
             "#fde0ef"
            ],
            [
             0.5,
             "#f7f7f7"
            ],
            [
             0.6,
             "#e6f5d0"
            ],
            [
             0.7,
             "#b8e186"
            ],
            [
             0.8,
             "#7fbc41"
            ],
            [
             0.9,
             "#4d9221"
            ],
            [
             1,
             "#276419"
            ]
           ],
           "sequential": [
            [
             0,
             "#0d0887"
            ],
            [
             0.1111111111111111,
             "#46039f"
            ],
            [
             0.2222222222222222,
             "#7201a8"
            ],
            [
             0.3333333333333333,
             "#9c179e"
            ],
            [
             0.4444444444444444,
             "#bd3786"
            ],
            [
             0.5555555555555556,
             "#d8576b"
            ],
            [
             0.6666666666666666,
             "#ed7953"
            ],
            [
             0.7777777777777778,
             "#fb9f3a"
            ],
            [
             0.8888888888888888,
             "#fdca26"
            ],
            [
             1,
             "#f0f921"
            ]
           ],
           "sequentialminus": [
            [
             0,
             "#0d0887"
            ],
            [
             0.1111111111111111,
             "#46039f"
            ],
            [
             0.2222222222222222,
             "#7201a8"
            ],
            [
             0.3333333333333333,
             "#9c179e"
            ],
            [
             0.4444444444444444,
             "#bd3786"
            ],
            [
             0.5555555555555556,
             "#d8576b"
            ],
            [
             0.6666666666666666,
             "#ed7953"
            ],
            [
             0.7777777777777778,
             "#fb9f3a"
            ],
            [
             0.8888888888888888,
             "#fdca26"
            ],
            [
             1,
             "#f0f921"
            ]
           ]
          },
          "colorway": [
           "#636efa",
           "#EF553B",
           "#00cc96",
           "#ab63fa",
           "#FFA15A",
           "#19d3f3",
           "#FF6692",
           "#B6E880",
           "#FF97FF",
           "#FECB52"
          ],
          "font": {
           "color": "#2a3f5f"
          },
          "geo": {
           "bgcolor": "white",
           "lakecolor": "white",
           "landcolor": "#E5ECF6",
           "showlakes": true,
           "showland": true,
           "subunitcolor": "white"
          },
          "hoverlabel": {
           "align": "left"
          },
          "hovermode": "closest",
          "mapbox": {
           "style": "light"
          },
          "paper_bgcolor": "white",
          "plot_bgcolor": "#E5ECF6",
          "polar": {
           "angularaxis": {
            "gridcolor": "white",
            "linecolor": "white",
            "ticks": ""
           },
           "bgcolor": "#E5ECF6",
           "radialaxis": {
            "gridcolor": "white",
            "linecolor": "white",
            "ticks": ""
           }
          },
          "scene": {
           "xaxis": {
            "backgroundcolor": "#E5ECF6",
            "gridcolor": "white",
            "gridwidth": 2,
            "linecolor": "white",
            "showbackground": true,
            "ticks": "",
            "zerolinecolor": "white"
           },
           "yaxis": {
            "backgroundcolor": "#E5ECF6",
            "gridcolor": "white",
            "gridwidth": 2,
            "linecolor": "white",
            "showbackground": true,
            "ticks": "",
            "zerolinecolor": "white"
           },
           "zaxis": {
            "backgroundcolor": "#E5ECF6",
            "gridcolor": "white",
            "gridwidth": 2,
            "linecolor": "white",
            "showbackground": true,
            "ticks": "",
            "zerolinecolor": "white"
           }
          },
          "shapedefaults": {
           "line": {
            "color": "#2a3f5f"
           }
          },
          "ternary": {
           "aaxis": {
            "gridcolor": "white",
            "linecolor": "white",
            "ticks": ""
           },
           "baxis": {
            "gridcolor": "white",
            "linecolor": "white",
            "ticks": ""
           },
           "bgcolor": "#E5ECF6",
           "caxis": {
            "gridcolor": "white",
            "linecolor": "white",
            "ticks": ""
           }
          },
          "title": {
           "x": 0.05
          },
          "xaxis": {
           "automargin": true,
           "gridcolor": "white",
           "linecolor": "white",
           "ticks": "",
           "title": {
            "standoff": 15
           },
           "zerolinecolor": "white",
           "zerolinewidth": 2
          },
          "yaxis": {
           "automargin": true,
           "gridcolor": "white",
           "linecolor": "white",
           "ticks": "",
           "title": {
            "standoff": 15
           },
           "zerolinecolor": "white",
           "zerolinewidth": 2
          }
         }
        },
        "title": {
         "text": "Porównanie dystrubuant",
         "x": 0.5,
         "xanchor": "center"
        },
        "width": 800,
        "xaxis": {
         "title": {
          "text": "x"
         }
        },
        "yaxis": {
         "title": {
          "text": "F(x)"
         }
        }
       }
      }
     },
     "metadata": {},
     "output_type": "display_data"
    }
   ],
   "source": [
    "fig = go.Figure()\n",
    "\n",
    "fig.add_trace(\n",
    "    go.Scatter(\n",
    "        x=ecdf.x, \n",
    "        y=ecdf.y, \n",
    "        mode='lines', \n",
    "        name='Dystrybuanta empiryczna'\n",
    "    )\n",
    ")\n",
    "\n",
    "fig.add_trace(\n",
    "    go.Scatter(\n",
    "        x=t, \n",
    "        y=th_F, \n",
    "        mode='lines', \n",
    "        name=f'Dystrybuanta rozkładu t-studenta({round(params[0], 2)}, {round(params[1], 2)}, {round(params[2], 2)})',\n",
    "        line=dict(dash='dash')  \n",
    "    )\n",
    ")\n",
    "\n",
    "\n",
    "fig.update_layout(\n",
    "    title={\n",
    "        'text': 'Porównanie dystrubuant',\n",
    "        'x': 0.5,  \n",
    "        'xanchor': 'center'\n",
    "    },\n",
    "    xaxis_title='x',\n",
    "    yaxis_title='F(x)',\n",
    "    showlegend=True,\n",
    "    width=800,\n",
    "    height=500,\n",
    "    legend=dict(\n",
    "        orientation='h', \n",
    "        yanchor='bottom',  \n",
    "        xanchor='center',  \n",
    "        x=0.5,  \n",
    "        y=-0.3)\n",
    ")\n",
    "\n",
    "\n",
    "fig.show()"
   ]
  },
  {
   "cell_type": "code",
   "execution_count": 458,
   "metadata": {},
   "outputs": [
    {
     "data": {
      "application/vnd.plotly.v1+json": {
       "config": {
        "plotlyServerURL": "https://plot.ly"
       },
       "data": [
        {
         "histnorm": "probability density",
         "name": "Gęstość empiryczna",
         "type": "histogram",
         "x": [
          1.1473318228953004,
          0.7816778181451054,
          1.222741233417259,
          -0.3607797430326316,
          0.8008288852600902,
          -0.04300430673393607,
          0.4274152712914405,
          -3.0907631185591193,
          0.3407125294477223,
          1.047581387908912,
          0.6324048163040863,
          -0.35598550898941794,
          -0.08330844434355134,
          -0.800459280561485,
          -1.0826027740431878,
          0.03085465600314133,
          0.24798604825334503,
          -2.226916934117718,
          1.0837171720239018,
          0.08087859247985313,
          0.13470965058205464,
          1.1588868281583529,
          -0.20141274439169005,
          -1.234890888376175,
          -1.8594100819729182,
          0.47180011202804284,
          -0.46250998287108624,
          0.7636058343268894,
          -0.31500016763908134,
          0.13097867956062867,
          0.36026807915522663,
          -0.15357705519646925,
          0.13343799288415764,
          0.3445892731645478,
          -0.08554025352898503,
          0.11223769053100424,
          0.09398553829685807,
          0.4144461181374412,
          -0.3800677607961865,
          0.1426818720685362,
          -0.0780977474663071,
          0.747030338077159,
          1.034891884378701,
          0.19305037159711758,
          1.0550921597495246,
          1.3028347025665963,
          0.8362391641826157,
          0.08892982810742711,
          0.5571189643798292,
          0.07815684532255296,
          -0.31716332898332067,
          0.36385767666212465,
          -3.353093269015659,
          0.5255909212499181,
          0.6164380472900464,
          -0.3901210076903878,
          0.5014623855948567,
          -1.1339826654403518,
          -0.27225938332584715,
          -0.3595205990483928,
          -0.9470050588460467,
          -0.6799209775396653,
          0.12833710510236185,
          0.40334984105427796,
          -0.5751204513734856,
          -0.6257205381297313,
          -2.698397473158132,
          -1.2338648843808053,
          -0.4333006291076562,
          0.7933582950105424,
          0.48181591371500576,
          0.0283769434852712,
          0.18456770680501045,
          0.8397375664069531,
          -1.3226274810924288,
          -0.7122889355820998,
          0.30681320248048327,
          0.020901025623086378,
          -2.366957589828998,
          0.1652944739212303,
          0.30103295201776237,
          0.4484666479742312,
          0.21262860406622242,
          0.7615688439275392,
          -1.2511683647429432,
          0.9175588890096151,
          -0.18832267096575273,
          0.709116523272032,
          -0.2855534755707192,
          0.0055597885908676425,
          -0.27579723218041796,
          0.5305758884225964,
          -0.03708337665762493,
          0.5368211828612703,
          -0.0305762697573754,
          -0.8284971366311075,
          0.46617220055745817,
          1.3756040004865686,
          0.5509028235292522,
          -0.12353856116993245,
          0.6460692374454167,
          -0.02972513372617297,
          0.007599258250050367,
          -0.8288219313666341,
          -1.3712257499709866,
          1.2238302273419164,
          0.6393452821572104,
          -0.021018675413133375,
          -0.9270212465576738,
          0.34293307991808153,
          -0.3689573649553683,
          -0.7864445840328967,
          1.7592035336096217,
          0.240033630472558,
          0.20891103817952913,
          0.10613156965334852,
          0.3801652883035914,
          -0.8403581565761565,
          1.1460899857185238,
          -0.209352476681416,
          1.3938050344678752,
          -0.5530802283515346,
          -0.14076615904472545,
          1.6899978516498808,
          0.07064277344712999,
          0.8343413119524685,
          -0.5131129087076893,
          -0.14133196716175145,
          -0.44749102390171247,
          -1.3270884271925798,
          0.4597586174209284,
          -0.01744059217204913,
          -0.16664584408737274,
          0.18638519124320713,
          0.5843226525139754,
          -1.5706555884543671,
          0.19174388586265526,
          -0.444436257450103,
          0.5945048305958389,
          0.9881458166434456,
          -1.1796519629904725,
          -0.4307463355846447,
          -0.459577005670432,
          -0.2991823735362761,
          -0.37863248909553787,
          -0.2500592751717802,
          -0.378093991974662,
          -1.1705147792961155,
          0.06754974592266971,
          0.7548297823736965,
          1.2800699507909625,
          -0.4391254186892246,
          0.01988828671059162,
          -0.5254288534858824,
          -0.4024716527553033,
          -0.8054596197234318
         ]
        },
        {
         "mode": "lines",
         "name": "Gęstość rozkładu t-studenta(4.36, 0.04, 0.64)",
         "type": "scatter",
         "x": [
          -3.353093269015659,
          -3.347975854798817,
          -3.3428584405819746,
          -3.3377410263651326,
          -3.3326236121482906,
          -3.327506197931448,
          -3.322388783714606,
          -3.3172713694977642,
          -3.312153955280922,
          -3.30703654106408,
          -3.301919126847238,
          -3.2968017126303955,
          -3.2916842984135535,
          -3.2865668841967115,
          -3.281449469979869,
          -3.276332055763027,
          -3.271214641546185,
          -3.2660972273293427,
          -3.2609798131125007,
          -3.2558623988956588,
          -3.2507449846788163,
          -3.2456275704619744,
          -3.2405101562451324,
          -3.23539274202829,
          -3.230275327811448,
          -3.225157913594606,
          -3.2200404993777636,
          -3.2149230851609216,
          -3.2098056709440796,
          -3.2046882567272372,
          -3.1995708425103953,
          -3.1944534282935533,
          -3.189336014076711,
          -3.184218599859869,
          -3.179101185643027,
          -3.1739837714261845,
          -3.1688663572093425,
          -3.1637489429925005,
          -3.158631528775658,
          -3.153514114558816,
          -3.148396700341974,
          -3.1432792861251317,
          -3.1381618719082898,
          -3.133044457691448,
          -3.1279270434746054,
          -3.1228096292577634,
          -3.1176922150409214,
          -3.112574800824079,
          -3.107457386607237,
          -3.102339972390395,
          -3.0972225581735526,
          -3.0921051439567107,
          -3.0869877297398687,
          -3.0818703155230263,
          -3.0767529013061843,
          -3.0716354870893423,
          -3.0665180728725,
          -3.061400658655658,
          -3.056283244438816,
          -3.0511658302219735,
          -3.0460484160051315,
          -3.0409310017882896,
          -3.035813587571447,
          -3.030696173354605,
          -3.025578759137763,
          -3.0204613449209208,
          -3.015343930704079,
          -3.010226516487237,
          -3.0051091022703944,
          -2.9999916880535524,
          -2.9948742738367105,
          -2.989756859619868,
          -2.984639445403026,
          -2.979522031186184,
          -2.9744046169693417,
          -2.9692872027524997,
          -2.9641697885356577,
          -2.9590523743188153,
          -2.9539349601019733,
          -2.9488175458851313,
          -2.9437001316682894,
          -2.938582717451447,
          -2.933465303234605,
          -2.928347889017763,
          -2.9232304748009206,
          -2.9181130605840786,
          -2.9129956463672366,
          -2.907878232150394,
          -2.9027608179335522,
          -2.8976434037167103,
          -2.892525989499868,
          -2.887408575283026,
          -2.882291161066184,
          -2.8771737468493415,
          -2.8720563326324995,
          -2.8669389184156575,
          -2.861821504198815,
          -2.856704089981973,
          -2.851586675765131,
          -2.8464692615482887,
          -2.8413518473314467,
          -2.8362344331146048,
          -2.8311170188977623,
          -2.8259996046809204,
          -2.8208821904640784,
          -2.815764776247236,
          -2.810647362030394,
          -2.805529947813552,
          -2.8004125335967096,
          -2.7952951193798676,
          -2.7901777051630257,
          -2.7850602909461832,
          -2.7799428767293413,
          -2.7748254625124993,
          -2.769708048295657,
          -2.764590634078815,
          -2.759473219861973,
          -2.7543558056451305,
          -2.7492383914282885,
          -2.7441209772114465,
          -2.739003562994604,
          -2.733886148777762,
          -2.72876873456092,
          -2.7236513203440778,
          -2.7185339061272358,
          -2.713416491910394,
          -2.7082990776935514,
          -2.7031816634767094,
          -2.6980642492598674,
          -2.692946835043025,
          -2.687829420826183,
          -2.682712006609341,
          -2.6775945923924986,
          -2.6724771781756567,
          -2.6673597639588147,
          -2.6622423497419723,
          -2.6571249355251303,
          -2.6520075213082883,
          -2.646890107091446,
          -2.641772692874604,
          -2.636655278657762,
          -2.6315378644409195,
          -2.6264204502240776,
          -2.6213030360072356,
          -2.616185621790393,
          -2.611068207573551,
          -2.605950793356709,
          -2.600833379139867,
          -2.595715964923025,
          -2.590598550706183,
          -2.5854811364893404,
          -2.5803637222724984,
          -2.5752463080556565,
          -2.570128893838814,
          -2.565011479621972,
          -2.55989406540513,
          -2.5547766511882877,
          -2.5496592369714457,
          -2.5445418227546037,
          -2.5394244085377613,
          -2.5343069943209193,
          -2.5291895801040774,
          -2.524072165887235,
          -2.518954751670393,
          -2.513837337453551,
          -2.5087199232367086,
          -2.5036025090198666,
          -2.4984850948030246,
          -2.493367680586182,
          -2.48825026636934,
          -2.4831328521524982,
          -2.478015437935656,
          -2.472898023718814,
          -2.467780609501972,
          -2.4626631952851294,
          -2.4575457810682875,
          -2.4524283668514455,
          -2.447310952634603,
          -2.442193538417761,
          -2.437076124200919,
          -2.4319587099840767,
          -2.4268412957672347,
          -2.4217238815503928,
          -2.4166064673335503,
          -2.4114890531167084,
          -2.4063716388998664,
          -2.401254224683024,
          -2.396136810466182,
          -2.39101939624934,
          -2.3859019820324976,
          -2.3807845678156556,
          -2.3756671535988136,
          -2.370549739381971,
          -2.3654323251651292,
          -2.3603149109482873,
          -2.355197496731445,
          -2.350080082514603,
          -2.344962668297761,
          -2.3398452540809185,
          -2.3347278398640765,
          -2.3296104256472345,
          -2.324493011430392,
          -2.31937559721355,
          -2.314258182996708,
          -2.3091407687798657,
          -2.3040233545630238,
          -2.298905940346182,
          -2.2937885261293394,
          -2.2886711119124974,
          -2.2835536976956554,
          -2.278436283478813,
          -2.273318869261971,
          -2.268201455045129,
          -2.2630840408282866,
          -2.2579666266114446,
          -2.2528492123946027,
          -2.2477317981777603,
          -2.2426143839609183,
          -2.2374969697440763,
          -2.232379555527234,
          -2.227262141310392,
          -2.22214472709355,
          -2.2170273128767075,
          -2.2119098986598655,
          -2.2067924844430236,
          -2.201675070226181,
          -2.196557656009339,
          -2.191440241792497,
          -2.1863228275756548,
          -2.181205413358813,
          -2.176087999141971,
          -2.1709705849251284,
          -2.1658531707082864,
          -2.1607357564914444,
          -2.155618342274602,
          -2.15050092805776,
          -2.145383513840918,
          -2.1402660996240757,
          -2.1351486854072337,
          -2.1300312711903917,
          -2.1249138569735493,
          -2.1197964427567073,
          -2.1146790285398653,
          -2.109561614323023,
          -2.104444200106181,
          -2.099326785889339,
          -2.0942093716724965,
          -2.0890919574556546,
          -2.0839745432388126,
          -2.07885712902197,
          -2.073739714805128,
          -2.0686223005882862,
          -2.063504886371444,
          -2.058387472154602,
          -2.05327005793776,
          -2.0481526437209174,
          -2.0430352295040755,
          -2.0379178152872335,
          -2.032800401070391,
          -2.027682986853549,
          -2.022565572636707,
          -2.0174481584198647,
          -2.0123307442030227,
          -2.0072133299861807,
          -2.0020959157693383,
          -1.9969785015524963,
          -1.9918610873356541,
          -1.9867436731188122,
          -1.98162625890197,
          -1.9765088446851278,
          -1.9713914304682858,
          -1.9662740162514436,
          -1.9611566020346014,
          -1.9560391878177594,
          -1.9509217736009172,
          -1.945804359384075,
          -1.940686945167233,
          -1.9355695309503909,
          -1.9304521167335487,
          -1.9253347025167067,
          -1.9202172882998645,
          -1.9150998740830223,
          -1.9099824598661803,
          -1.9048650456493381,
          -1.899747631432496,
          -1.894630217215654,
          -1.8895128029988117,
          -1.8843953887819695,
          -1.8792779745651276,
          -1.8741605603482854,
          -1.8690431461314432,
          -1.8639257319146012,
          -1.858808317697759,
          -1.8536909034809168,
          -1.8485734892640748,
          -1.8434560750472326,
          -1.8383386608303904,
          -1.8332212466135485,
          -1.8281038323967063,
          -1.822986418179864,
          -1.817869003963022,
          -1.81275158974618,
          -1.8076341755293377,
          -1.8025167613124957,
          -1.7973993470956535,
          -1.7922819328788113,
          -1.7871645186619693,
          -1.7820471044451272,
          -1.776929690228285,
          -1.771812276011443,
          -1.7666948617946008,
          -1.7615774475777586,
          -1.7564600333609166,
          -1.7513426191440744,
          -1.7462252049272322,
          -1.7411077907103902,
          -1.735990376493548,
          -1.7308729622767058,
          -1.7257555480598639,
          -1.7206381338430217,
          -1.7155207196261797,
          -1.7104033054093375,
          -1.7052858911924953,
          -1.7001684769756533,
          -1.6950510627588111,
          -1.689933648541969,
          -1.684816234325127,
          -1.6796988201082848,
          -1.6745814058914426,
          -1.6694639916746006,
          -1.6643465774577584,
          -1.6592291632409162,
          -1.6541117490240742,
          -1.648994334807232,
          -1.6438769205903898,
          -1.6387595063735478,
          -1.6336420921567056,
          -1.6285246779398634,
          -1.6234072637230215,
          -1.6182898495061793,
          -1.613172435289337,
          -1.608055021072495,
          -1.602937606855653,
          -1.5978201926388107,
          -1.5927027784219687,
          -1.5875853642051265,
          -1.5824679499882843,
          -1.5773505357714424,
          -1.5722331215546002,
          -1.567115707337758,
          -1.561998293120916,
          -1.5568808789040738,
          -1.5517634646872316,
          -1.5466460504703896,
          -1.5415286362535474,
          -1.5364112220367052,
          -1.5312938078198632,
          -1.526176393603021,
          -1.5210589793861788,
          -1.5159415651693369,
          -1.5108241509524947,
          -1.5057067367356525,
          -1.5005893225188105,
          -1.4954719083019683,
          -1.490354494085126,
          -1.4852370798682841,
          -1.480119665651442,
          -1.4750022514345997,
          -1.4698848372177578,
          -1.4647674230009156,
          -1.4596500087840734,
          -1.4545325945672314,
          -1.4494151803503892,
          -1.444297766133547,
          -1.439180351916705,
          -1.4340629376998628,
          -1.4289455234830206,
          -1.4238281092661786,
          -1.4187106950493364,
          -1.4135932808324942,
          -1.4084758666156523,
          -1.40335845239881,
          -1.3982410381819679,
          -1.393123623965126,
          -1.3880062097482837,
          -1.3828887955314415,
          -1.3777713813145995,
          -1.3726539670977573,
          -1.3675365528809151,
          -1.3624191386640732,
          -1.357301724447231,
          -1.3521843102303888,
          -1.3470668960135468,
          -1.3419494817967048,
          -1.3368320675798624,
          -1.3317146533630204,
          -1.3265972391461784,
          -1.321479824929336,
          -1.316362410712494,
          -1.311244996495652,
          -1.3061275822788097,
          -1.3010101680619677,
          -1.2958927538451257,
          -1.2907753396282833,
          -1.2856579254114413,
          -1.2805405111945993,
          -1.275423096977757,
          -1.270305682760915,
          -1.265188268544073,
          -1.2600708543272305,
          -1.2549534401103886,
          -1.2498360258935466,
          -1.2447186116767042,
          -1.2396011974598622,
          -1.2344837832430202,
          -1.2293663690261778,
          -1.2242489548093358,
          -1.2191315405924938,
          -1.2140141263756514,
          -1.2088967121588094,
          -1.2037792979419675,
          -1.198661883725125,
          -1.193544469508283,
          -1.188427055291441,
          -1.1833096410745987,
          -1.1781922268577567,
          -1.1730748126409147,
          -1.1679573984240723,
          -1.1628399842072303,
          -1.1577225699903884,
          -1.152605155773546,
          -1.147487741556704,
          -1.142370327339862,
          -1.1372529131230196,
          -1.1321354989061776,
          -1.1270180846893356,
          -1.1219006704724932,
          -1.1167832562556512,
          -1.1116658420388092,
          -1.1065484278219668,
          -1.1014310136051249,
          -1.0963135993882829,
          -1.0911961851714405,
          -1.0860787709545985,
          -1.0809613567377565,
          -1.075843942520914,
          -1.0707265283040721,
          -1.0656091140872301,
          -1.0604916998703877,
          -1.0553742856535457,
          -1.0502568714367038,
          -1.0451394572198613,
          -1.0400220430030194,
          -1.0349046287861774,
          -1.029787214569335,
          -1.024669800352493,
          -1.019552386135651,
          -1.0144349719188086,
          -1.0093175577019666,
          -1.0042001434851247,
          -0.9990827292682822,
          -0.9939653150514403,
          -0.9888479008345983,
          -0.9837304866177559,
          -0.9786130724009139,
          -0.9734956581840719,
          -0.9683782439672295,
          -0.9632608297503875,
          -0.9581434155335455,
          -0.9530260013167031,
          -0.9479085870998611,
          -0.9427911728830192,
          -0.9376737586661767,
          -0.9325563444493348,
          -0.9274389302324928,
          -0.9223215160156504,
          -0.9172041017988084,
          -0.9120866875819664,
          -0.906969273365124,
          -0.901851859148282,
          -0.8967344449314401,
          -0.8916170307145976,
          -0.8864996164977557,
          -0.8813822022809137,
          -0.8762647880640713,
          -0.8711473738472293,
          -0.8660299596303873,
          -0.8609125454135449,
          -0.8557951311967029,
          -0.8506777169798609,
          -0.8455603027630185,
          -0.8404428885461765,
          -0.8353254743293346,
          -0.8302080601124922,
          -0.8250906458956502,
          -0.8199732316788082,
          -0.8148558174619658,
          -0.8097384032451238,
          -0.8046209890282818,
          -0.7995035748114394,
          -0.7943861605945974,
          -0.7892687463777555,
          -0.784151332160913,
          -0.7790339179440711,
          -0.7739165037272291,
          -0.7687990895103867,
          -0.7636816752935447,
          -0.7585642610767027,
          -0.7534468468598603,
          -0.7483294326430183,
          -0.7432120184261763,
          -0.7380946042093339,
          -0.732977189992492,
          -0.72785977577565,
          -0.7227423615588076,
          -0.7176249473419656,
          -0.7125075331251236,
          -0.7073901189082812,
          -0.7022727046914392,
          -0.6971552904745972,
          -0.6920378762577548,
          -0.6869204620409128,
          -0.6818030478240709,
          -0.6766856336072284,
          -0.6715682193903865,
          -0.6664508051735445,
          -0.6613333909567021,
          -0.6562159767398601,
          -0.6510985625230181,
          -0.6459811483061757,
          -0.6408637340893337,
          -0.6357463198724917,
          -0.6306289056556493,
          -0.6255114914388074,
          -0.6203940772219654,
          -0.615276663005123,
          -0.610159248788281,
          -0.605041834571439,
          -0.5999244203545966,
          -0.5948070061377546,
          -0.5896895919209126,
          -0.5845721777040702,
          -0.5794547634872282,
          -0.5743373492703863,
          -0.5692199350535438,
          -0.5641025208367019,
          -0.5589851066198599,
          -0.5538676924030175,
          -0.5487502781861755,
          -0.5436328639693335,
          -0.5385154497524911,
          -0.5333980355356491,
          -0.5282806213188072,
          -0.5231632071019647,
          -0.5180457928851228,
          -0.5129283786682808,
          -0.5078109644514384,
          -0.5026935502345964,
          -0.4975761360177544,
          -0.492458721800912,
          -0.48734130758407,
          -0.48222389336722804,
          -0.4771064791503856,
          -0.47198906493354364,
          -0.46687165071670167,
          -0.46175423649985925,
          -0.4566368222830173,
          -0.4515194080661753,
          -0.4464019938493329,
          -0.4412845796324909,
          -0.4361671654156489,
          -0.4310497511988065,
          -0.42593233698196453,
          -0.42081492276512256,
          -0.41569750854828014,
          -0.41058009433143816,
          -0.4054626801145962,
          -0.40034526589775377,
          -0.3952278516809118,
          -0.3901104374640698,
          -0.3849930232472274,
          -0.3798756090303854,
          -0.37475819481354344,
          -0.369640780596701,
          -0.36452336637985905,
          -0.3594059521630171,
          -0.35428853794617465,
          -0.3491711237293327,
          -0.3440537095124907,
          -0.3389362952956483,
          -0.3338188810788063,
          -0.32870146686196433,
          -0.3235840526451219,
          -0.31846663842827994,
          -0.31334922421143796,
          -0.30823180999459554,
          -0.30311439577775356,
          -0.2979969815609116,
          -0.29287956734406917,
          -0.2877621531272272,
          -0.2826447389103852,
          -0.2775273246935428,
          -0.2724099104767008,
          -0.26729249625985885,
          -0.2621750820430164,
          -0.25705766782617445,
          -0.2519402536093325,
          -0.24682283939249006,
          -0.24170542517564808,
          -0.2365880109588061,
          -0.23147059674196369,
          -0.2263531825251217,
          -0.22123576830827973,
          -0.21611835409143731,
          -0.21100093987459534,
          -0.20588352565775336,
          -0.20076611144091094,
          -0.19564869722406897,
          -0.190531283007227,
          -0.18541386879038457,
          -0.1802964545735426,
          -0.17517904035670062,
          -0.1700616261398582,
          -0.16494421192301623,
          -0.15982679770617425,
          -0.15470938348933183,
          -0.14959196927248986,
          -0.14447455505564788,
          -0.13935714083880546,
          -0.13423972662196348,
          -0.1291223124051215,
          -0.12400489818827909,
          -0.11888748397143711,
          -0.11377006975459514,
          -0.10865265553775272,
          -0.10353524132091074,
          -0.09841782710406877,
          -0.09330041288722635,
          -0.08818299867038437,
          -0.0830655844535424,
          -0.07794817023670042,
          -0.072830756019858,
          -0.06771334180301603,
          -0.06259592758617405,
          -0.05747851336933163,
          -0.052361099152489654,
          -0.04724368493564768,
          -0.04212627071880526,
          -0.03700885650196328,
          -0.03189144228512131,
          -0.026774028068278888,
          -0.021656613851436912,
          -0.016539199634594937,
          -0.011421785417752517,
          -0.006304371200910541,
          -0.0011869569840685656,
          0.003930457232773854,
          0.00904787144961583,
          0.014165285666457805,
          0.019282699883300225,
          0.0244001141001422,
          0.029517528316984176,
          0.034634942533826596,
          0.03975235675066857,
          0.04486977096751055,
          0.04998718518435297,
          0.05510459940119494,
          0.06022201361803692,
          0.06533942783487934,
          0.07045684205172131,
          0.07557425626856329,
          0.08069167048540571,
          0.08580908470224768,
          0.09092649891908966,
          0.09604391313593208,
          0.10116132735277406,
          0.10627874156961603,
          0.11139615578645845,
          0.11651357000330043,
          0.1216309842201424,
          0.12674839843698482,
          0.1318658126538268,
          0.13698322687066877,
          0.1421006410875112,
          0.14721805530435317,
          0.15233546952119514,
          0.15745288373803756,
          0.16257029795487954,
          0.16768771217172151,
          0.17280512638856393,
          0.1779225406054059,
          0.18303995482224789,
          0.1881573690390903,
          0.19327478325593228,
          0.19839219747277426,
          0.20350961168961668,
          0.20862702590645865,
          0.21374444012330063,
          0.21886185434014305,
          0.22397926855698502,
          0.229096682773827,
          0.23421409699066942,
          0.2393315112075114,
          0.24444892542435337,
          0.2495663396411958,
          0.25468375385803776,
          0.25980116807487974,
          0.26491858229172216,
          0.27003599650856414,
          0.2751534107254061,
          0.28027082494224853,
          0.2853882391590905,
          0.2905056533759325,
          0.2956230675927749,
          0.3007404818096169,
          0.30585789602645885,
          0.3109753102433013,
          0.31609272446014325,
          0.3212101386769852,
          0.32632755289382764,
          0.3314449671106696,
          0.3365623813275116,
          0.341679795544354,
          0.346797209761196,
          0.35191462397803797,
          0.3570320381948804,
          0.36214945241172236,
          0.36726686662856434,
          0.37238428084540676,
          0.37750169506224873,
          0.3826191092790907,
          0.3877365234959331,
          0.3928539377127751,
          0.3979713519296171,
          0.4030887661464595,
          0.4082061803633015,
          0.41332359458014345,
          0.41844100879698587,
          0.42355842301382784,
          0.4286758372306698,
          0.43379325144751224,
          0.4389106656643542,
          0.4440280798811962,
          0.4491454940980386,
          0.4542629083148806,
          0.45938032253172256,
          0.464497736748565,
          0.46961515096540696,
          0.47473256518224893,
          0.47984997939909135,
          0.48496739361593333,
          0.4900848078327753,
          0.4952022220496177,
          0.5003196362664597,
          0.5054370504833017,
          0.5105544647001441,
          0.5156718789169861,
          0.520789293133828,
          0.5259067073506705,
          0.5310241215675124,
          0.5361415357843544,
          0.5412589500011968,
          0.5463763642180388,
          0.5514937784348808,
          0.5566111926517232,
          0.5617286068685652,
          0.5668460210854072,
          0.5719634353022496,
          0.5770808495190916,
          0.5821982637359335,
          0.587315677952776,
          0.5924330921696179,
          0.5975505063864599,
          0.6026679206033023,
          0.6077853348201443,
          0.6129027490369863,
          0.6180201632538287,
          0.6231375774706707,
          0.6282549916875126,
          0.6333724059043551,
          0.638489820121197,
          0.643607234338039,
          0.6487246485548814,
          0.653842062771723,
          0.6589594769885654,
          0.6640768912054078,
          0.6691943054222493,
          0.6743117196390918,
          0.6794291338559342,
          0.6845465480727757,
          0.6896639622896181,
          0.6947813765064605,
          0.6998987907233021,
          0.7050162049401445,
          0.7101336191569869,
          0.7152510333738284,
          0.7203684475906709,
          0.7254858618075133,
          0.7306032760243548,
          0.7357206902411972,
          0.7408381044580397,
          0.7459555186748812,
          0.7510729328917236,
          0.756190347108566,
          0.7613077613254076,
          0.76642517554225,
          0.7715425897590924,
          0.7766600039759339,
          0.7817774181927764,
          0.7868948324096188,
          0.7920122466264603,
          0.7971296608433027,
          0.8022470750601451,
          0.8073644892769867,
          0.8124819034938291,
          0.8175993177106715,
          0.822716731927513,
          0.8278341461443555,
          0.8329515603611979,
          0.8380689745780394,
          0.8431863887948818,
          0.8483038030117243,
          0.8534212172285658,
          0.8585386314454082,
          0.8636560456622506,
          0.8687734598790922,
          0.8738908740959346,
          0.879008288312777,
          0.8841257025296185,
          0.889243116746461,
          0.8943605309633034,
          0.8994779451801449,
          0.9045953593969873,
          0.9097127736138297,
          0.9148301878306713,
          0.9199476020475137,
          0.9250650162643561,
          0.9301824304811976,
          0.9352998446980401,
          0.9404172589148825,
          0.945534673131724,
          0.9506520873485664,
          0.9557695015654089,
          0.9608869157822504,
          0.9660043299990928,
          0.9711217442159352,
          0.9762391584327768,
          0.9813565726496192,
          0.9864739868664616,
          0.9915914010833031,
          0.9967088153001455,
          1.001826229516988,
          1.0069436437338295,
          1.012061057950672,
          1.0171784721675143,
          1.0222958863843559,
          1.0274133006011983,
          1.0325307148180407,
          1.0376481290348822,
          1.0427655432517247,
          1.047882957468567,
          1.0530003716854086,
          1.058117785902251,
          1.0632352001190934,
          1.068352614335935,
          1.0734700285527774,
          1.0785874427696198,
          1.0837048569864614,
          1.0888222712033038,
          1.0939396854201462,
          1.0990570996369877,
          1.1041745138538301,
          1.1092919280706726,
          1.114409342287514,
          1.1195267565043565,
          1.124644170721199,
          1.1297615849380405,
          1.1348789991548829,
          1.1399964133717253,
          1.1451138275885668,
          1.1502312418054093,
          1.1553486560222517,
          1.1604660702390932,
          1.1655834844559356,
          1.170700898672778,
          1.1758183128896196,
          1.180935727106462,
          1.1860531413233044,
          1.191170555540146,
          1.1962879697569884,
          1.2014053839738308,
          1.2065227981906723,
          1.2116402124075147,
          1.2167576266243572,
          1.2218750408411987,
          1.226992455058041,
          1.2321098692748835,
          1.237227283491725,
          1.2423446977085675,
          1.24746211192541,
          1.2525795261422514,
          1.2576969403590939,
          1.2628143545759363,
          1.2679317687927778,
          1.2730491830096202,
          1.2781665972264626,
          1.2832840114433042,
          1.2884014256601466,
          1.293518839876989,
          1.2986362540938305,
          1.303753668310673,
          1.3088710825275154,
          1.313988496744357,
          1.3191059109611993,
          1.3242233251780418,
          1.3293407393948833,
          1.3344581536117257,
          1.3395755678285681,
          1.3446929820454097,
          1.349810396262252,
          1.3549278104790945,
          1.360045224695936,
          1.3651626389127784,
          1.3702800531296209,
          1.3753974673464624,
          1.3805148815633048,
          1.3856322957801472,
          1.3907497099969888,
          1.3958671242138312,
          1.4009845384306736,
          1.4061019526475151,
          1.4112193668643576,
          1.4163367810812,
          1.4214541952980415,
          1.426571609514884,
          1.4316890237317264,
          1.4368064379485679,
          1.4419238521654103,
          1.4470412663822527,
          1.4521586805990943,
          1.4572760948159367,
          1.462393509032779,
          1.4675109232496206,
          1.472628337466463,
          1.4777457516833055,
          1.482863165900147,
          1.4879805801169894,
          1.4930979943338318,
          1.4982154085506734,
          1.5033328227675158,
          1.5084502369843582,
          1.5135676512011997,
          1.5186850654180422,
          1.5238024796348846,
          1.528919893851726,
          1.5340373080685685,
          1.539154722285411,
          1.5442721365022525,
          1.549389550719095,
          1.5545069649359373,
          1.5596243791527789,
          1.5647417933696213,
          1.5698592075864637,
          1.5749766218033052,
          1.5800940360201476,
          1.58521145023699,
          1.5903288644538316,
          1.595446278670674,
          1.6005636928875164,
          1.605681107104358,
          1.6107985213212004,
          1.6159159355380428,
          1.6210333497548843,
          1.6261507639717268,
          1.6312681781885692,
          1.6363855924054107,
          1.6415030066222531,
          1.6466204208390955,
          1.651737835055937,
          1.6568552492727795,
          1.661972663489622,
          1.6670900777064634,
          1.6722074919233059,
          1.6773249061401483,
          1.6824423203569898,
          1.6875597345738322,
          1.6926771487906747,
          1.6977945630075162,
          1.7029119772243586,
          1.708029391441201,
          1.7131468056580426,
          1.718264219874885,
          1.7233816340917274,
          1.728499048308569,
          1.7336164625254114,
          1.7387338767422538,
          1.7438512909590953,
          1.7489687051759377,
          1.7540861193927801,
          1.7592035336096217
         ],
         "y": [
          0.0026405495824606056,
          0.0026591169504643045,
          0.0026778356811627546,
          0.002696707166942186,
          0.0027157328143352123,
          0.0027349140441766642,
          0.0027542522917612202,
          0.0027737490070029337,
          0.0027934056545966075,
          0.0028132237141810447,
          0.0028332046805042716,
          0.002853350063590659,
          0.0028736613889100275,
          0.002894140197548747,
          0.0029147880463828504,
          0.00293560650825318,
          0.0029565971721426105,
          0.00297776164335536,
          0.0029991015436984033,
          0.0030206185116650654,
          0.0030423142026207435,
          0.003064190288990834,
          0.0030862484604509133,
          0.0031084904241191267,
          0.0031309179047508827,
          0.003153532644935845,
          0.0031763364052972537,
          0.0031993309646936204,
          0.0032225181204228056,
          0.003245899688428534,
          0.0032694775035093226,
          0.0032932534195299567,
          0.0033172293096354064,
          0.00334140706646733,
          0.003365788602383144,
          0.003390375849677704,
          0.003415170760807593,
          0.0034401753086181278,
          0.0034653914865730344,
          0.0034908213089868754,
          0.0035164668112602454,
          0.0035423300501177687,
          0.0035684131038489293,
          0.0035947180725518155,
          0.003621247078379709,
          0.0036480022657906707,
          0.003674985801800093,
          0.003702199876236281,
          0.003729646701999049,
          0.0037573285153214755,
          0.0037852475760347375,
          0.0038134061678361357,
          0.003841806598560335,
          0.0038704512004538345,
          0.0038993423304527503,
          0.003928482370463909,
          0.00395787372764932,
          0.0039875188347140555,
          0.004017420150197592,
          0.0040475801587686565,
          0.004078001371523557,
          0.004108686326288192,
          0.004139637587923599,
          0.00417085774863522,
          0.004202349428285871,
          0.004234115274712482,
          0.00426615796404663,
          0.004298480201038947,
          0.004331084719387422,
          0.004363974282069634,
          0.004397151681679038,
          0.004430619740765241,
          0.00446438131217839,
          0.00449843927941775,
          0.004532796556984427,
          0.004567456090738367,
          0.004602420858259664,
          0.004637693869214198,
          0.004673278165723712,
          0.004709176822740332,
          0.004745392948425606,
          0.004781929684534122,
          0.00481879020680175,
          0.004855977725338568,
          0.004893495485026533,
          0.004931346765921939,
          0.004969534883662769,
          0.005008063189880916,
          0.005046935072619404,
          0.005086153956754666,
          0.005125723304423886,
          0.0051656466154575255,
          0.005205927427817064,
          0.00524656931803803,
          0.005287575901678382,
          0.005328950833772311,
          0.005370697809289515,
          0.005412820563600015,
          0.005455322872944636,
          0.005498208554911096,
          0.0055414814689158836,
          0.00558514551669198,
          0.005629204642782458,
          0.00567366283503998,
          0.0057185241251324365,
          0.005763792589054631,
          0.005809472347646137,
          0.005855567567115437,
          0.005902082459570375,
          0.005949021283555004,
          0.005996388344592981,
          0.0060441879957374,
          0.006092424638127374,
          0.0061411027215512734,
          0.006190226745016813,
          0.006239801257327921,
          0.006289830857668685,
          0.0063403201961942475,
          0.00639127397462889,
          0.006442696946871271,
          0.006494593919606998,
          0.006546969752928584,
          0.006599829360962831,
          0.006653177712505827,
          0.006707019831665505,
          0.006761360798512052,
          0.006816205749736048,
          0.0068715598793145415,
          0.006927428439185165,
          0.006983816739928335,
          0.0070407301514576436,
          0.007098174103718552,
          0.007156154087395458,
          0.00721467565462728,
          0.0072737444197315945,
          0.00733336605993749,
          0.007393546316127129,
          0.007454290993586325,
          0.007515605962763988,
          0.0075774971600406854,
          0.00763997058850646,
          0.007703032318747878,
          0.007766688489644497,
          0.00783094530917486,
          0.007895809055232102,
          0.007961286076449288,
          0.008027382793034575,
          0.008094105697616339,
          0.008161461356098325,
          0.008229456408525087,
          0.008298097569957518,
          0.008367391631358951,
          0.008437345460491704,
          0.008507966002824306,
          0.008579260282449359,
          0.008651235403012431,
          0.008723898548651807,
          0.008797256984949426,
          0.008871318059893,
          0.008946089204849524,
          0.009021577935550217,
          0.009097791853087143,
          0.009174738644921462,
          0.009252426085903567,
          0.009330862039305238,
          0.009410054457863897,
          0.009490011384838994,
          0.00957074095508087,
          0.009652251396112132,
          0.009734551029221524,
          0.009817648270570667,
          0.009901551632313658,
          0.009986269723729683,
          0.010071811252368789,
          0.010158185025211,
          0.010245399949838752,
          0.010333465035623018,
          0.010422389394923065,
          0.01051218224430006,
          0.010602852905744716,
          0.010694410807918955,
          0.010786865487411921,
          0.010880226590010382,
          0.010974503871983619,
          0.01106970720138306,
          0.011165846559356755,
          0.01126293204147875,
          0.011360973859093636,
          0.011459982340676318,
          0.011559967933207262,
          0.011660941203563162,
          0.011762912839923449,
          0.011865893653192528,
          0.01196989457843802,
          0.012074926676345186,
          0.012181001134687598,
          0.012288129269814173,
          0.012396322528152908,
          0.01250559248773119,
          0.012615950859713084,
          0.012727409489953524,
          0.012839980360569787,
          0.012953675591530074,
          0.013068507442259826,
          0.0131844883132653,
          0.013301630747775135,
          0.013419947433399703,
          0.013539451203808494,
          0.013660155040425588,
          0.013782072074143715,
          0.013905215587056393,
          0.014029599014208916,
          0.014155235945368033,
          0.014282140126810543,
          0.014410325463130688,
          0.01453980601906703,
          0.014670596021348412,
          0.014802709860559322,
          0.014936162093024986,
          0.015070967442716016,
          0.015207140803172902,
          0.015344697239450514,
          0.01548365199008265,
          0.015624020469066751,
          0.015765818267869058,
          0.015909061157450114,
          0.016053765090310854,
          0.016199946202559434,
          0.016347620815998852,
          0.016496805440235372,
          0.01664751677480819,
          0.016799771711340006,
          0.016953587335708897,
          0.017108980930241616,
          0.01726596997592821,
          0.017424572154658115,
          0.017584805351478057,
          0.017746687656871405,
          0.017910237369059393,
          0.018075472996324275,
          0.018242413259354277,
          0.01841107709361051,
          0.018581483651716132,
          0.018753652305867348,
          0.01892760265026673,
          0.019103354503578723,
          0.01928092791140738,
          0.019460343148796255,
          0.019641620722750844,
          0.01982478137478314,
          0.020009846083478573,
          0.020196836067085354,
          0.02038577278612619,
          0.0205766779460321,
          0.020769573499798997,
          0.020964481650666132,
          0.021161424854816983,
          0.021360425824102504,
          0.02156150752878641,
          0.02176469320031245,
          0.02197000633409413,
          0.022177470692326038,
          0.022387110306817185,
          0.022598949481846226,
          0.022813012797038283,
          0.02302932511026322,
          0.02324791156055552,
          0.02346879757105539,
          0.023692008851970963,
          0.023917571403561263,
          0.024145511519140413,
          0.02437585578810187,
          0.024608631098963347,
          0.024843864642431743,
          0.02508158391448793,
          0.02532181671949129,
          0.025564591173303362,
          0.02580993570643081,
          0.026057879067186915,
          0.02630845032487162,
          0.02656167887296961,
          0.026817594432365977,
          0.02707622705457944,
          0.02733760712501232,
          0.027601765366216963,
          0.027868732841178426,
          0.028138540956612473,
          0.02841122146627889,
          0.02868680647430921,
          0.028965328438548654,
          0.029246820173911284,
          0.029531314855748374,
          0.029818846023228752,
          0.03010944758273108,
          0.030403153811246766,
          0.03069999935979355,
          0.031000019256838263,
          0.031303248911728664,
          0.03160972411813322,
          0.031919481057487986,
          0.032232556302450026,
          0.03254898682035622,
          0.032868809976686564,
          0.03319206353853134,
          0.03351878567806059,
          0.03384901497599551,
          0.03418279042508017,
          0.03452015143355307,
          0.03486113782861637,
          0.035205789859903046,
          0.03555414820293954,
          0.03590625396260311,
          0.03626214867657269,
          0.036621874318771876,
          0.03698547330280221,
          0.03735298848536616,
          0.03772446316967741,
          0.03809994110885756,
          0.03847946650931746,
          0.03886308403412137,
          0.03925083880633249,
          0.0396427764123382,
          0.04003894290515275,
          0.04043938480769608,
          0.040844149116046516,
          0.04125328330266576,
          0.041666835319593414,
          0.04208485360160993,
          0.042507387069364924,
          0.0429344851324694,
          0.043366197692548986,
          0.04380257514625623,
          0.04424366838823952,
          0.044689528814065745,
          0.04514020832309485,
          0.045595759321302956,
          0.04605623472405182,
          0.046521687958801704,
          0.0469921729677647,
          0.047467744210495794,
          0.04794845666641855,
          0.04843436583728212,
          0.04892552774954732,
          0.0494219989566967,
          0.0499238365414676,
          0.05043109811800276,
          0.05094384183391622,
          0.05146212637227004,
          0.051986010953459276,
          0.05251555533699997,
          0.05305081982321749,
          0.05359186525483093,
          0.05413875301842867,
          0.05469154504583236,
          0.05525030381534398,
          0.055815092352871735,
          0.056385974232930874,
          0.056963013579514075,
          0.05754627506682753,
          0.05813582391988681,
          0.05873172591496912,
          0.05933404737991529,
          0.05994285519427761,
          0.06055821678930761,
          0.06118020014777866,
          0.061808873803637664,
          0.062444306841480904,
          0.06308656889584699,
          0.06373573015032279,
          0.06439186133645486,
          0.06505503373246127,
          0.06572531916173675,
          0.06640278999114632,
          0.06708751912909842,
          0.06777958002339383,
          0.06847904665884133,
          0.06918599355463488,
          0.0699004957614837,
          0.07062262885849004,
          0.07135246894976563,
          0.0720900926607804,
          0.0728355771344359,
          0.07358900002685528,
          0.07435043950288259,
          0.07511997423128262,
          0.07589768337963487,
          0.07668364660891096,
          0.07747794406773006,
          0.07828065638628094,
          0.07909186466990435,
          0.07991165049232589,
          0.0807400958885304,
          0.08157728334726926,
          0.08242329580319158,
          0.08327821662858935,
          0.0841421296247474,
          0.08501511901288944,
          0.08589726942470895,
          0.08678866589247643,
          0.08768939383871287,
          0.0885995390654182,
          0.08951918774284641,
          0.09044842639781564,
          0.0913873419015437,
          0.09233602145699706,
          0.09329455258574533,
          0.09426302311430736,
          0.09524152115998016,
          0.09623013511613938,
          0.09722895363699999,
          0.0982380656218249,
          0.09925756019857376,
          0.10028752670697602,
          0.10132805468102021,
          0.10237923383084731,
          0.1034411540240354,
          0.10451390526626493,
          0.10559757768135405,
          0.10669226149064964,
          0.10779804699176446,
          0.10891502453664849,
          0.11004328450898138,
          0.11118291730087503,
          0.1123340132888752,
          0.11349666280924862,
          0.11467095613254509,
          0.1158569834374226,
          0.11705483478372318,
          0.11826460008478769,
          0.11948636907899954,
          0.12072023130054314,
          0.12196627604936673,
          0.12322459236033982,
          0.12449526897159088,
          0.1257783942920154,
          0.1270740563679444,
          0.12838234284896083,
          0.12970334095285255,
          0.13103713742969436,
          0.13238381852504477,
          0.1337434699422492,
          0.13511617680384114,
          0.13650202361202776,
          0.13790109420825322,
          0.13931347173183106,
          0.14073923857763368,
          0.14217847635283293,
          0.1436312658326827,
          0.14509768691533623,
          0.14657781857568805,
          0.1480717388182383,
          0.14957952462896776,
          0.15110125192621976,
          0.1526369955105839,
          0.15418682901377478,
          0.155750824846501,
          0.15732905414532228,
          0.15892158671848886,
          0.16052849099076064,
          0.16214983394720536,
          0.16378568107597202,
          0.16543609631003936,
          0.16710114196794038,
          0.16878087869346048,
          0.17047536539431365,
          0.1721846591797971,
          0.17390881529742683,
          0.17564788706855913,
          0.1774019258230025,
          0.17917098083262462,
          0.18095509924396166,
          0.1827543260098391,
          0.18456870382000842,
          0.1863982730308143,
          0.18824307159390055,
          0.19010313498396655,
          0.19197849612558762,
          0.19386918531911593,
          0.19577523016567297,
          0.19769665549125473,
          0.19963348326996577,
          0.2015857325464012,
          0.20355341935719923,
          0.20553655665178497,
          0.20753515421233057,
          0.2095492185729545,
          0.21157875293819084,
          0.21362375710075265,
          0.21568422735862086,
          0.2177601564314927,
          0.2198515333766181,
          0.2219583435040609,
          0.22408056829142445,
          0.22621818529807447,
          0.22837116807890168,
          0.23053948609766828,
          0.23272310463997686,
          0.23492198472591047,
          0.2371360830223921,
          0.23936535175530887,
          0.24160973862145416,
          0.24386918670034297,
          0.24614363436594988,
          0.24843301519843086,
          0.2507372578958872,
          0.25305628618623016,
          0.2553900187392102,
          0.2577383690786771,
          0.2601012454951357,
          0.2624785509586645,
          0.2648701830322742,
          0.2672760337857703,
          0.26969598971020026,
          0.2721299316329612,
          0.2745777346336444,
          0.2770392679606993,
          0.2795143949489982,
          0.28200297293838816,
          0.2845048531933118,
          0.2870198808235918,
          0.2895478947064631,
          0.2920887274099464,
          0.2946422051176598,
          0.2972081475551581,
          0.2997863679178992,
          0.3023766728009393,
          0.3049788621304497,
          0.30759272909716384,
          0.31021806009185365,
          0.3128546346429378,
          0.315502225356333,
          0.31816059785765016,
          0.32082951073684396,
          0.3235087154954263,
          0.32619795649635347,
          0.32889697091669395,
          0.3316054887031929,
          0.334323232530843,
          0.33704991776457377,
          0.3397852524241713,
          0.3425289371525455,
          0.34528066518745354,
          0.34804012233679354,
          0.35080698695758583,
          0.35358092993874735,
          0.3563616146877774,
          0.3591486971214652,
          0.36194182566072924,
          0.36474064122969707,
          0.3675447772591403,
          0.3703538596943671,
          0.3731675070076795,
          0.37598533021550534,
          0.3788069329003015,
          0.38163191123733303,
          0.3844598540264289,
          0.3872903427288071,
          0.3901229515090669,
          0.39295724728243914,
          0.3957927897673823,
          0.3986291315436101,
          0.40146581811563603,
          0.40430238798191004,
          0.40713837270962244,
          0.4099732970152524,
          0.4128066788509197,
          0.41563802949660883,
          0.41846685365832276,
          0.4212926495722181,
          0.42411490911477295,
          0.42693311791902894,
          0.42974675549694974,
          0.4325552953679224,
          0.43535820519343743,
          0.43815494691796175,
          0.4409449769160213,
          0.443727746145509,
          0.44650270030720973,
          0.44926928001054733,
          0.4520269209455403,
          0.4547750540609467,
          0.45751310574857584,
          0.46024049803373646,
          0.46295664877177783,
          0.4656609718506799,
          0.46835287739964104,
          0.47103177200359575,
          0.47369705892359776,
          0.47634813832298795,
          0.47898440749926424,
          0.48160526112155666,
          0.48421009147361127,
          0.48679828870216735,
          0.48936924107061375,
          0.49192233521780027,
          0.4944569564218639,
          0.4969724888689336,
          0.49946831592656155,
          0.5019438204217208,
          0.5043983849232031,
          0.5068313920282481,
          0.509242224653211,
          0.5116302663280878,
          0.5139949014946987,
          0.5163355158083177,
          0.5186514964425459,
          0.5209422323971996,
          0.5232071148089917,
          0.5254455372647695,
          0.5276568961170699,
          0.5298405908017435,
          0.5319960241573949,
          0.5341226027463812,
          0.536219737177101,
          0.5382868424273055,
          0.540323338168156,
          0.5423286490887446,
          0.5443022052207999,
          0.5462434422632799,
          0.5481518019065662,
          0.5500267321559594,
          0.5518676876541786,
          0.5536741300025623,
          0.5554455280806634,
          0.5571813583639383,
          0.5588811052392162,
          0.560544261317644,
          0.5621703277447943,
          0.5637588145076314,
          0.5653092407380195,
          0.5668211350124718,
          0.5682940356478285,
          0.5697274909925584,
          0.5711210597133816,
          0.5724743110769138,
          0.5737868252260296,
          0.5750581934506553,
          0.576288018452696,
          0.5774759146048157,
          0.5786215082027847,
          0.5797244377111218,
          0.5807843540017565,
          0.5818009205854544,
          0.5827738138357401,
          0.583702723205075,
          0.5845873514330397,
          0.5854274147462956,
          0.5862226430500873,
          0.5869727801110799,
          0.5876775837313122,
          0.5883368259130738,
          0.5889502930145127,
          0.5895177858957934,
          0.5900391200556399,
          0.5905141257580991,
          0.5909426481493852,
          0.5913245473646596,
          0.5916596986246294,
          0.5919479923218468,
          0.5921893340966098,
          0.5923836449023724,
          0.5925308610605935,
          0.5926309343049511,
          0.592683831814879,
          0.5926895362383784,
          0.592648045704081,
          0.5925593738225534,
          0.5924235496768299,
          0.5922406178021988,
          0.5920106381552565,
          0.5917336860722654,
          0.5914098522168775,
          0.591039242517264,
          0.5906219780927457,
          0.5901581951699982,
          0.5896480449889338,
          0.589091693698369,
          0.5884893222416042,
          0.5878411262320442,
          0.5871473158190029,
          0.5864081155438565,
          0.5856237641867033,
          0.5847945146037111,
          0.5839206335553384,
          0.5830024015256284,
          0.5820401125327777,
          0.5810340739312035,
          0.579984606205325,
          0.5788920427552953,
          0.57775672967493,
          0.5765790255220719,
          0.5753593010816522,
          0.5740979391217141,
          0.5727953341426587,
          0.5714518921199946,
          0.5700680302408722,
          0.5686441766346813,
          0.5671807700980065,
          0.565678259814234,
          0.5641371050681048,
          0.5625577749555153,
          0.5609407480888686,
          0.5592865122982844,
          0.5575955643289675,
          0.5558684095350535,
          0.5541055615702273,
          0.5523075420754398,
          0.5504748803640167,
          0.548608113104482,
          0.5467077840013918,
          0.5447744434744948,
          0.5428086483365205,
          0.5408109614698949,
          0.5387819515026895,
          0.5367221924840957,
          0.5346322635597226,
          0.5325127486470033,
          0.5303642361109991,
          0.5281873184408857,
          0.5259825919273875,
          0.5237506563414466,
          0.5214921146143799,
          0.5192075725197934,
          0.5168976383575028,
          0.5145629226397147,
          0.5122040377797044,
          0.5098215977832314,
          0.5074162179429191,
          0.5049885145358175,
          0.5025391045243713,
          0.5000686052609904,
          0.49757763419643103,
          0.4950668085921749,
          0.4925367452369925,
          0.4899880601678643,
          0.4874213683954323,
          0.48483728363413875,
          0.4822364180372057,
          0.4796193819366019,
          0.47698678358812485,
          0.4743392289217385,
          0.4716773212972751,
          0.4690016612656181,
          0.46631284633546916,
          0.4636114707457937,
          0.46089812524403223,
          0.4581733968701563,
          0.45543786874664416,
          0.45269211987443486,
          0.44993672493491743,
          0.44717225409801,
          0.4443992728363598,
          0.4416183417457042,
          0.438830016371419,
          0.4360348470412682,
          0.4332333787043729,
          0.4304261507764038,
          0.4276136969909924,
          0.42479654525735694,
          0.4219752175241307,
          0.4191502296493651,
          0.4163220912766919,
          0.41349130571760556,
          0.41065836983983023,
          0.40782377396172986,
          0.4049880017527163,
          0.4021515301395936,
          0.3993148292187937,
          0.3964783621744321,
          0.39364258520212025,
          0.3908079474384654,
          0.38797489089618414,
          0.3851438504047448,
          0.3823152535564686,
          0.37948952065799535,
          0.3766670646870267,
          0.3738482912542618,
          0.3710335985704246,
          0.36822337741829153,
          0.36541801112961636,
          0.36261787556685776,
          0.35982333910959907,
          0.3570347626455621,
          0.3542524995661067,
          0.35147689576610486,
          0.34870828964808903,
          0.34594701213055523,
          0.34319338666031435,
          0.34044772922878375,
          0.33771034839209924,
          0.33498154529493895,
          0.3322616136979491,
          0.3295508400086516,
          0.32684950331572316,
          0.324157875426538,
          0.3214762209078532,
          0.31880479712952553,
          0.31614385431115644,
          0.31349363557154175,
          0.3108543769808208,
          0.3082263076152194,
          0.30560964961426923,
          0.3030046182403986,
          0.3004114219407943,
          0.29783026241141736,
          0.2952613346630749,
          0.2927048270894475,
          0.2901609215369624,
          0.2876297933764174,
          0.2851116115762578,
          0.2826065387774051,
          0.28011473136954235,
          0.27763633956876843,
          0.27517150749651953,
          0.2727203732596739,
          0.27028306903175175,
          0.2678597211351184,
          0.2654504501241095,
          0.2630553708689976,
          0.260674592640713,
          0.25830821919624314,
          0.2559563488646366,
          0.2536190746335297,
          0.2512964842361261,
          0.24898866023856253,
          0.24669568012758203,
          0.24441761639845383,
          0.2421545366430767,
          0.23990650363819552,
          0.23767357543367387,
          0.235455805440767,
          0.23325324252032917,
          0.23106593107090656,
          0.22889391111666327,
          0.2267372183950825,
          0.2245958844443982,
          0.22246993669071116,
          0.22035939853473713,
          0.21826428943814802,
          0.21618462500946503,
          0.21412041708945853,
          0.21207167383601797,
          0.2100383998084593,
          0.20802059605122744,
          0.20601826017696412,
          0.20403138644891133,
          0.20205996586261582,
          0.20010398622690664,
          0.19816343224412356,
          0.19623828558956424,
          0.19432852499012812,
          0.1924341263021387,
          0.19055506258831645,
          0.1886913041938854,
          0.1868428188217974,
          0.18500957160705273,
          0.1831915251901021,
          0.18138863978931843,
          0.17960087327252233,
          0.17782818122754648,
          0.17607051703183604,
          0.17432783192106574,
          0.17260007505676955,
          0.17088719359297727,
          0.1691891327418448,
          0.16750583583827675,
          0.16583724440353817,
          0.16418329820784477,
          0.16254393533193445,
          0.16091909222761722,
          0.15930870377729758,
          0.157712703352474,
          0.1561310228712135,
          0.1545635928546013,
          0.153010342482167,
          0.15147119964629271,
          0.14994609100560197,
          0.14843494203733323,
          0.1469376770887067,
          0.14545421942728226,
          0.14398449129031815,
          0.14252841393313542,
          0.14108590767649343,
          0.13965689195298137,
          0.13824128535243796,
          0.13683900566640106,
          0.13544996993159703,
          0.1340740944724806,
          0.1327112949428299,
          0.13136148636640646,
          0.13002458317669222,
          0.12870049925570923,
          0.1273891479719324,
          0.12609044221730886,
          0.1248042944433889,
          0.12353061669658152,
          0.12226932065254699,
          0.12102031764973309,
          0.11978351872206822,
          0.11855883463082392,
          0.11734617589565467,
          0.11614545282482797,
          0.1149565755446578,
          0.11377945402814976,
          0.11261399812287065,
          0.11146011757805672,
          0.11031772207096804,
          0.10918672123250298,
          0.10806702467208623,
          0.10695854200183841,
          0.10586118286004148,
          0.10477485693391243,
          0.10369947398169498,
          0.10263494385408195,
          0.10158117651498143,
          0.1005380820616364,
          0.09950557074410987,
          0.09848355298414965,
          0.09747193939344102,
          0.09647064079125986,
          0.09547956822154012,
          0.09449863296936337,
          0.09352774657688362,
          0.09256682085869997,
          0.09161576791668535,
          0.09067450015428395,
          0.08974293029028943,
          0.08882097137211262,
          0.0879085367885503,
          0.08700554028206718,
          0.08611189596059923,
          0.08522751830888957,
          0.08435232219936965,
          0.08348622290259163,
          0.08262913609722504,
          0.08178097787962794,
          0.08094166477300026,
          0.08011111373612988,
          0.07928924217174321,
          0.07847596793446557,
          0.07767120933840434,
          0.07687488516436253,
          0.07608691466669176,
          0.07530721757979318,
          0.0745357141242773,
          0.07377232501278819,
          0.07301697145550233,
          0.07226957516531185,
          0.07153005836269698,
          0.07079834378029815,
          0.07007435466719644,
          0.06935801479290733,
          0.0686492484510979,
          0.06794798046303457,
          0.06725413618076796,
          0.06656764149006261,
          0.0658884228130795,
          0.06521640711081711,
          0.06455152188531811,
          0.06389369518165018,
          0.06324285558966493,
          0.06259893224554298,
          0.06196185483313208,
          0.06133155358508317,
          0.06070795928379053,
          0.06009100326214398,
          0.05948061740409671,
          0.05887673414505502,
          0.05827928647209714,
          0.057688207924024903,
          0.0571034325912534,
          0.05652489511554651,
          0.05595253068960038,
          0.05538627505648126,
          0.054826064508923675,
          0.05427183588849162,
          0.05372352658460865,
          0.05318107453346249,
          0.05264441821678617,
          0.052113496660522056,
          0.05158824943337336,
          0.05106861664524508,
          0.050554538945580575,
          0.050045957521597566,
          0.04954281409642599,
          0.04904505092715308,
          0.04855261080277901,
          0.04806543704208604,
          0.04758347349142526,
          0.047106664522424985,
          0.04663495502962251,
          0.04616829042802386,
          0.04570661665059484,
          0.04524988014568526,
          0.04479802787439009,
          0.04435100730785128,
          0.04390876642450143,
          0.04347125370725321,
          0.04303841814063744,
          0.04261020920789154
         ]
        }
       ],
       "layout": {
        "height": 500,
        "legend": {
         "orientation": "h",
         "x": 0.5,
         "xanchor": "center",
         "y": -0.3,
         "yanchor": "bottom"
        },
        "showlegend": true,
        "template": {
         "data": {
          "bar": [
           {
            "error_x": {
             "color": "#2a3f5f"
            },
            "error_y": {
             "color": "#2a3f5f"
            },
            "marker": {
             "line": {
              "color": "#E5ECF6",
              "width": 0.5
             },
             "pattern": {
              "fillmode": "overlay",
              "size": 10,
              "solidity": 0.2
             }
            },
            "type": "bar"
           }
          ],
          "barpolar": [
           {
            "marker": {
             "line": {
              "color": "#E5ECF6",
              "width": 0.5
             },
             "pattern": {
              "fillmode": "overlay",
              "size": 10,
              "solidity": 0.2
             }
            },
            "type": "barpolar"
           }
          ],
          "carpet": [
           {
            "aaxis": {
             "endlinecolor": "#2a3f5f",
             "gridcolor": "white",
             "linecolor": "white",
             "minorgridcolor": "white",
             "startlinecolor": "#2a3f5f"
            },
            "baxis": {
             "endlinecolor": "#2a3f5f",
             "gridcolor": "white",
             "linecolor": "white",
             "minorgridcolor": "white",
             "startlinecolor": "#2a3f5f"
            },
            "type": "carpet"
           }
          ],
          "choropleth": [
           {
            "colorbar": {
             "outlinewidth": 0,
             "ticks": ""
            },
            "type": "choropleth"
           }
          ],
          "contour": [
           {
            "colorbar": {
             "outlinewidth": 0,
             "ticks": ""
            },
            "colorscale": [
             [
              0,
              "#0d0887"
             ],
             [
              0.1111111111111111,
              "#46039f"
             ],
             [
              0.2222222222222222,
              "#7201a8"
             ],
             [
              0.3333333333333333,
              "#9c179e"
             ],
             [
              0.4444444444444444,
              "#bd3786"
             ],
             [
              0.5555555555555556,
              "#d8576b"
             ],
             [
              0.6666666666666666,
              "#ed7953"
             ],
             [
              0.7777777777777778,
              "#fb9f3a"
             ],
             [
              0.8888888888888888,
              "#fdca26"
             ],
             [
              1,
              "#f0f921"
             ]
            ],
            "type": "contour"
           }
          ],
          "contourcarpet": [
           {
            "colorbar": {
             "outlinewidth": 0,
             "ticks": ""
            },
            "type": "contourcarpet"
           }
          ],
          "heatmap": [
           {
            "colorbar": {
             "outlinewidth": 0,
             "ticks": ""
            },
            "colorscale": [
             [
              0,
              "#0d0887"
             ],
             [
              0.1111111111111111,
              "#46039f"
             ],
             [
              0.2222222222222222,
              "#7201a8"
             ],
             [
              0.3333333333333333,
              "#9c179e"
             ],
             [
              0.4444444444444444,
              "#bd3786"
             ],
             [
              0.5555555555555556,
              "#d8576b"
             ],
             [
              0.6666666666666666,
              "#ed7953"
             ],
             [
              0.7777777777777778,
              "#fb9f3a"
             ],
             [
              0.8888888888888888,
              "#fdca26"
             ],
             [
              1,
              "#f0f921"
             ]
            ],
            "type": "heatmap"
           }
          ],
          "heatmapgl": [
           {
            "colorbar": {
             "outlinewidth": 0,
             "ticks": ""
            },
            "colorscale": [
             [
              0,
              "#0d0887"
             ],
             [
              0.1111111111111111,
              "#46039f"
             ],
             [
              0.2222222222222222,
              "#7201a8"
             ],
             [
              0.3333333333333333,
              "#9c179e"
             ],
             [
              0.4444444444444444,
              "#bd3786"
             ],
             [
              0.5555555555555556,
              "#d8576b"
             ],
             [
              0.6666666666666666,
              "#ed7953"
             ],
             [
              0.7777777777777778,
              "#fb9f3a"
             ],
             [
              0.8888888888888888,
              "#fdca26"
             ],
             [
              1,
              "#f0f921"
             ]
            ],
            "type": "heatmapgl"
           }
          ],
          "histogram": [
           {
            "marker": {
             "pattern": {
              "fillmode": "overlay",
              "size": 10,
              "solidity": 0.2
             }
            },
            "type": "histogram"
           }
          ],
          "histogram2d": [
           {
            "colorbar": {
             "outlinewidth": 0,
             "ticks": ""
            },
            "colorscale": [
             [
              0,
              "#0d0887"
             ],
             [
              0.1111111111111111,
              "#46039f"
             ],
             [
              0.2222222222222222,
              "#7201a8"
             ],
             [
              0.3333333333333333,
              "#9c179e"
             ],
             [
              0.4444444444444444,
              "#bd3786"
             ],
             [
              0.5555555555555556,
              "#d8576b"
             ],
             [
              0.6666666666666666,
              "#ed7953"
             ],
             [
              0.7777777777777778,
              "#fb9f3a"
             ],
             [
              0.8888888888888888,
              "#fdca26"
             ],
             [
              1,
              "#f0f921"
             ]
            ],
            "type": "histogram2d"
           }
          ],
          "histogram2dcontour": [
           {
            "colorbar": {
             "outlinewidth": 0,
             "ticks": ""
            },
            "colorscale": [
             [
              0,
              "#0d0887"
             ],
             [
              0.1111111111111111,
              "#46039f"
             ],
             [
              0.2222222222222222,
              "#7201a8"
             ],
             [
              0.3333333333333333,
              "#9c179e"
             ],
             [
              0.4444444444444444,
              "#bd3786"
             ],
             [
              0.5555555555555556,
              "#d8576b"
             ],
             [
              0.6666666666666666,
              "#ed7953"
             ],
             [
              0.7777777777777778,
              "#fb9f3a"
             ],
             [
              0.8888888888888888,
              "#fdca26"
             ],
             [
              1,
              "#f0f921"
             ]
            ],
            "type": "histogram2dcontour"
           }
          ],
          "mesh3d": [
           {
            "colorbar": {
             "outlinewidth": 0,
             "ticks": ""
            },
            "type": "mesh3d"
           }
          ],
          "parcoords": [
           {
            "line": {
             "colorbar": {
              "outlinewidth": 0,
              "ticks": ""
             }
            },
            "type": "parcoords"
           }
          ],
          "pie": [
           {
            "automargin": true,
            "type": "pie"
           }
          ],
          "scatter": [
           {
            "fillpattern": {
             "fillmode": "overlay",
             "size": 10,
             "solidity": 0.2
            },
            "type": "scatter"
           }
          ],
          "scatter3d": [
           {
            "line": {
             "colorbar": {
              "outlinewidth": 0,
              "ticks": ""
             }
            },
            "marker": {
             "colorbar": {
              "outlinewidth": 0,
              "ticks": ""
             }
            },
            "type": "scatter3d"
           }
          ],
          "scattercarpet": [
           {
            "marker": {
             "colorbar": {
              "outlinewidth": 0,
              "ticks": ""
             }
            },
            "type": "scattercarpet"
           }
          ],
          "scattergeo": [
           {
            "marker": {
             "colorbar": {
              "outlinewidth": 0,
              "ticks": ""
             }
            },
            "type": "scattergeo"
           }
          ],
          "scattergl": [
           {
            "marker": {
             "colorbar": {
              "outlinewidth": 0,
              "ticks": ""
             }
            },
            "type": "scattergl"
           }
          ],
          "scattermapbox": [
           {
            "marker": {
             "colorbar": {
              "outlinewidth": 0,
              "ticks": ""
             }
            },
            "type": "scattermapbox"
           }
          ],
          "scatterpolar": [
           {
            "marker": {
             "colorbar": {
              "outlinewidth": 0,
              "ticks": ""
             }
            },
            "type": "scatterpolar"
           }
          ],
          "scatterpolargl": [
           {
            "marker": {
             "colorbar": {
              "outlinewidth": 0,
              "ticks": ""
             }
            },
            "type": "scatterpolargl"
           }
          ],
          "scatterternary": [
           {
            "marker": {
             "colorbar": {
              "outlinewidth": 0,
              "ticks": ""
             }
            },
            "type": "scatterternary"
           }
          ],
          "surface": [
           {
            "colorbar": {
             "outlinewidth": 0,
             "ticks": ""
            },
            "colorscale": [
             [
              0,
              "#0d0887"
             ],
             [
              0.1111111111111111,
              "#46039f"
             ],
             [
              0.2222222222222222,
              "#7201a8"
             ],
             [
              0.3333333333333333,
              "#9c179e"
             ],
             [
              0.4444444444444444,
              "#bd3786"
             ],
             [
              0.5555555555555556,
              "#d8576b"
             ],
             [
              0.6666666666666666,
              "#ed7953"
             ],
             [
              0.7777777777777778,
              "#fb9f3a"
             ],
             [
              0.8888888888888888,
              "#fdca26"
             ],
             [
              1,
              "#f0f921"
             ]
            ],
            "type": "surface"
           }
          ],
          "table": [
           {
            "cells": {
             "fill": {
              "color": "#EBF0F8"
             },
             "line": {
              "color": "white"
             }
            },
            "header": {
             "fill": {
              "color": "#C8D4E3"
             },
             "line": {
              "color": "white"
             }
            },
            "type": "table"
           }
          ]
         },
         "layout": {
          "annotationdefaults": {
           "arrowcolor": "#2a3f5f",
           "arrowhead": 0,
           "arrowwidth": 1
          },
          "autotypenumbers": "strict",
          "coloraxis": {
           "colorbar": {
            "outlinewidth": 0,
            "ticks": ""
           }
          },
          "colorscale": {
           "diverging": [
            [
             0,
             "#8e0152"
            ],
            [
             0.1,
             "#c51b7d"
            ],
            [
             0.2,
             "#de77ae"
            ],
            [
             0.3,
             "#f1b6da"
            ],
            [
             0.4,
             "#fde0ef"
            ],
            [
             0.5,
             "#f7f7f7"
            ],
            [
             0.6,
             "#e6f5d0"
            ],
            [
             0.7,
             "#b8e186"
            ],
            [
             0.8,
             "#7fbc41"
            ],
            [
             0.9,
             "#4d9221"
            ],
            [
             1,
             "#276419"
            ]
           ],
           "sequential": [
            [
             0,
             "#0d0887"
            ],
            [
             0.1111111111111111,
             "#46039f"
            ],
            [
             0.2222222222222222,
             "#7201a8"
            ],
            [
             0.3333333333333333,
             "#9c179e"
            ],
            [
             0.4444444444444444,
             "#bd3786"
            ],
            [
             0.5555555555555556,
             "#d8576b"
            ],
            [
             0.6666666666666666,
             "#ed7953"
            ],
            [
             0.7777777777777778,
             "#fb9f3a"
            ],
            [
             0.8888888888888888,
             "#fdca26"
            ],
            [
             1,
             "#f0f921"
            ]
           ],
           "sequentialminus": [
            [
             0,
             "#0d0887"
            ],
            [
             0.1111111111111111,
             "#46039f"
            ],
            [
             0.2222222222222222,
             "#7201a8"
            ],
            [
             0.3333333333333333,
             "#9c179e"
            ],
            [
             0.4444444444444444,
             "#bd3786"
            ],
            [
             0.5555555555555556,
             "#d8576b"
            ],
            [
             0.6666666666666666,
             "#ed7953"
            ],
            [
             0.7777777777777778,
             "#fb9f3a"
            ],
            [
             0.8888888888888888,
             "#fdca26"
            ],
            [
             1,
             "#f0f921"
            ]
           ]
          },
          "colorway": [
           "#636efa",
           "#EF553B",
           "#00cc96",
           "#ab63fa",
           "#FFA15A",
           "#19d3f3",
           "#FF6692",
           "#B6E880",
           "#FF97FF",
           "#FECB52"
          ],
          "font": {
           "color": "#2a3f5f"
          },
          "geo": {
           "bgcolor": "white",
           "lakecolor": "white",
           "landcolor": "#E5ECF6",
           "showlakes": true,
           "showland": true,
           "subunitcolor": "white"
          },
          "hoverlabel": {
           "align": "left"
          },
          "hovermode": "closest",
          "mapbox": {
           "style": "light"
          },
          "paper_bgcolor": "white",
          "plot_bgcolor": "#E5ECF6",
          "polar": {
           "angularaxis": {
            "gridcolor": "white",
            "linecolor": "white",
            "ticks": ""
           },
           "bgcolor": "#E5ECF6",
           "radialaxis": {
            "gridcolor": "white",
            "linecolor": "white",
            "ticks": ""
           }
          },
          "scene": {
           "xaxis": {
            "backgroundcolor": "#E5ECF6",
            "gridcolor": "white",
            "gridwidth": 2,
            "linecolor": "white",
            "showbackground": true,
            "ticks": "",
            "zerolinecolor": "white"
           },
           "yaxis": {
            "backgroundcolor": "#E5ECF6",
            "gridcolor": "white",
            "gridwidth": 2,
            "linecolor": "white",
            "showbackground": true,
            "ticks": "",
            "zerolinecolor": "white"
           },
           "zaxis": {
            "backgroundcolor": "#E5ECF6",
            "gridcolor": "white",
            "gridwidth": 2,
            "linecolor": "white",
            "showbackground": true,
            "ticks": "",
            "zerolinecolor": "white"
           }
          },
          "shapedefaults": {
           "line": {
            "color": "#2a3f5f"
           }
          },
          "ternary": {
           "aaxis": {
            "gridcolor": "white",
            "linecolor": "white",
            "ticks": ""
           },
           "baxis": {
            "gridcolor": "white",
            "linecolor": "white",
            "ticks": ""
           },
           "bgcolor": "#E5ECF6",
           "caxis": {
            "gridcolor": "white",
            "linecolor": "white",
            "ticks": ""
           }
          },
          "title": {
           "x": 0.05
          },
          "xaxis": {
           "automargin": true,
           "gridcolor": "white",
           "linecolor": "white",
           "ticks": "",
           "title": {
            "standoff": 15
           },
           "zerolinecolor": "white",
           "zerolinewidth": 2
          },
          "yaxis": {
           "automargin": true,
           "gridcolor": "white",
           "linecolor": "white",
           "ticks": "",
           "title": {
            "standoff": 15
           },
           "zerolinecolor": "white",
           "zerolinewidth": 2
          }
         }
        },
        "title": {
         "text": "Porównanie gęstości",
         "x": 0.5,
         "xanchor": "center"
        },
        "width": 800,
        "xaxis": {
         "title": {
          "text": "x"
         }
        },
        "yaxis": {
         "title": {
          "text": "f(x)"
         }
        }
       }
      }
     },
     "metadata": {},
     "output_type": "display_data"
    }
   ],
   "source": [
    "fig = go.Figure()\n",
    "\n",
    "fig.add_trace(\n",
    "        go.Histogram(\n",
    "        x=res, \n",
    "        histnorm='probability density', \n",
    "        name='Gęstość empiryczna'\n",
    "    )\n",
    ")\n",
    "\n",
    "fig.add_trace(\n",
    "    go.Scatter(\n",
    "        x=t, \n",
    "        y=th_f, \n",
    "        mode='lines', \n",
    "        name=f'Gęstość rozkładu t-studenta({round(params[0], 2)}, {round(params[1], 2)}, {round(params[2], 2)})'\n",
    "    )\n",
    ")\n",
    "\n",
    "fig.update_layout(\n",
    "    title={\n",
    "        'text': 'Porównanie gęstości',\n",
    "        'x': 0.5,  \n",
    "        'xanchor': 'center'\n",
    "    },\n",
    "    xaxis_title='x',\n",
    "    yaxis_title='f(x)',\n",
    "    showlegend=True,\n",
    "    width=800,\n",
    "    height=500,\n",
    "    legend=dict(\n",
    "        orientation='h', \n",
    "        yanchor='bottom',  \n",
    "        xanchor='center',  \n",
    "        x=0.5,  \n",
    "        y=-0.3  \n",
    "    )\n",
    ")\n",
    "\n",
    "\n",
    "\n",
    "fig.show()\n"
   ]
  },
  {
   "cell_type": "markdown",
   "metadata": {},
   "source": [
    "# **PREDYKCJA 2024**"
   ]
  },
  {
   "cell_type": "code",
   "execution_count": 461,
   "metadata": {},
   "outputs": [],
   "source": [
    "x_p = np.arange(len(new_df.index), len(new_df.index) + len(predict_df.index))"
   ]
  },
  {
   "cell_type": "code",
   "execution_count": 462,
   "metadata": {},
   "outputs": [],
   "source": [
    "forecast = model_aic.get_forecast(steps=52) # 2024 bedzie miec 54 tygodnie\n",
    "\n",
    "forecast_values = forecast.predicted_mean\n",
    "confidence_intervals = forecast.conf_int()\n",
    "\n",
    "x_p_all = np.arange(len(new_df.index), len(new_df.index) + 52)\n",
    "\n",
    "transformed_forecast = forecast_values + func_sin(x_p_all, *popt_sin) \n",
    "transformed_forecast = inv_boxcox(transformed_forecast, lam)\n",
    "\n",
    "interval_down =  confidence_intervals[\"lower zróżnicowane dane\"] + func_sin(x_p_all, *popt_sin)\n",
    "interval_up = confidence_intervals[\"upper zróżnicowane dane\"] + func_sin(x_p_all, *popt_sin)\n",
    "\n",
    "interval_down = inv_boxcox(interval_down, lam)\n",
    "interval_up = inv_boxcox(interval_up, lam)"
   ]
  },
  {
   "cell_type": "code",
   "execution_count": 463,
   "metadata": {},
   "outputs": [
    {
     "data": {
      "text/plain": [
       "DatetimeIndex(['2024-01-07', '2024-01-14', '2024-01-21', '2024-01-28',\n",
       "               '2024-02-04', '2024-02-11', '2024-02-18', '2024-02-25',\n",
       "               '2024-03-03', '2024-03-10', '2024-03-17', '2024-03-24',\n",
       "               '2024-03-31', '2024-04-07', '2024-04-14', '2024-04-21',\n",
       "               '2024-04-28', '2024-05-05', '2024-05-12', '2024-05-19',\n",
       "               '2024-05-26', '2024-06-02', '2024-06-09', '2024-06-16',\n",
       "               '2024-06-23', '2024-06-30', '2024-07-07', '2024-07-14',\n",
       "               '2024-07-21', '2024-07-28', '2024-08-04', '2024-08-11',\n",
       "               '2024-08-18', '2024-08-25', '2024-09-01', '2024-09-08',\n",
       "               '2024-09-15', '2024-09-22', '2024-09-29', '2024-10-06',\n",
       "               '2024-10-13', '2024-10-20', '2024-10-27', '2024-11-03',\n",
       "               '2024-11-10', '2024-11-17', '2024-11-24', '2024-12-01',\n",
       "               '2024-12-08', '2024-12-15', '2024-12-22', '2024-12-29'],\n",
       "              dtype='datetime64[ns]', freq='W-SUN')"
      ]
     },
     "execution_count": 463,
     "metadata": {},
     "output_type": "execute_result"
    }
   ],
   "source": [
    "start_date = '2024-01-01'\n",
    "end_date = '2024-12-31'\n",
    "\n",
    "date_range = pd.date_range(start=start_date, end=end_date, freq='W')\n",
    "\n",
    "date_range"
   ]
  },
  {
   "cell_type": "code",
   "execution_count": 505,
   "metadata": {},
   "outputs": [
    {
     "data": {
      "application/vnd.plotly.v1+json": {
       "config": {
        "plotlyServerURL": "https://plot.ly"
       },
       "data": [
        {
         "mode": "lines",
         "name": "Przekształcone dane z analizy (lata 2021-2023)",
         "type": "scatter",
         "x": [
          "2021-01-10T00:00:00",
          "2021-01-17T00:00:00",
          "2021-01-24T00:00:00",
          "2021-01-31T00:00:00",
          "2021-02-07T00:00:00",
          "2021-02-14T00:00:00",
          "2021-02-21T00:00:00",
          "2021-02-28T00:00:00",
          "2021-03-07T00:00:00",
          "2021-03-14T00:00:00",
          "2021-03-21T00:00:00",
          "2021-03-28T00:00:00",
          "2021-04-04T00:00:00",
          "2021-04-11T00:00:00",
          "2021-04-18T00:00:00",
          "2021-04-25T00:00:00",
          "2021-05-02T00:00:00",
          "2021-05-09T00:00:00",
          "2021-05-16T00:00:00",
          "2021-05-23T00:00:00",
          "2021-05-30T00:00:00",
          "2021-06-06T00:00:00",
          "2021-06-13T00:00:00",
          "2021-06-20T00:00:00",
          "2021-06-27T00:00:00",
          "2021-07-04T00:00:00",
          "2021-07-11T00:00:00",
          "2021-07-18T00:00:00",
          "2021-07-25T00:00:00",
          "2021-08-01T00:00:00",
          "2021-08-08T00:00:00",
          "2021-08-15T00:00:00",
          "2021-08-22T00:00:00",
          "2021-08-29T00:00:00",
          "2021-09-05T00:00:00",
          "2021-09-12T00:00:00",
          "2021-09-19T00:00:00",
          "2021-09-26T00:00:00",
          "2021-10-03T00:00:00",
          "2021-10-10T00:00:00",
          "2021-10-17T00:00:00",
          "2021-10-24T00:00:00",
          "2021-10-31T00:00:00",
          "2021-11-07T00:00:00",
          "2021-11-14T00:00:00",
          "2021-11-21T00:00:00",
          "2021-11-28T00:00:00",
          "2021-12-05T00:00:00",
          "2021-12-12T00:00:00",
          "2021-12-19T00:00:00",
          "2021-12-26T00:00:00",
          "2022-01-02T00:00:00",
          "2022-01-09T00:00:00",
          "2022-01-16T00:00:00",
          "2022-01-23T00:00:00",
          "2022-01-30T00:00:00",
          "2022-02-06T00:00:00",
          "2022-02-13T00:00:00",
          "2022-02-20T00:00:00",
          "2022-02-27T00:00:00",
          "2022-03-06T00:00:00",
          "2022-03-13T00:00:00",
          "2022-03-20T00:00:00",
          "2022-03-27T00:00:00",
          "2022-04-03T00:00:00",
          "2022-04-10T00:00:00",
          "2022-04-17T00:00:00",
          "2022-04-24T00:00:00",
          "2022-05-01T00:00:00",
          "2022-05-08T00:00:00",
          "2022-05-15T00:00:00",
          "2022-05-22T00:00:00",
          "2022-05-29T00:00:00",
          "2022-06-05T00:00:00",
          "2022-06-12T00:00:00",
          "2022-06-19T00:00:00",
          "2022-06-26T00:00:00",
          "2022-07-03T00:00:00",
          "2022-07-10T00:00:00",
          "2022-07-17T00:00:00",
          "2022-07-24T00:00:00",
          "2022-07-31T00:00:00",
          "2022-08-07T00:00:00",
          "2022-08-14T00:00:00",
          "2022-08-21T00:00:00",
          "2022-08-28T00:00:00",
          "2022-09-04T00:00:00",
          "2022-09-11T00:00:00",
          "2022-09-18T00:00:00",
          "2022-09-25T00:00:00",
          "2022-10-02T00:00:00",
          "2022-10-09T00:00:00",
          "2022-10-16T00:00:00",
          "2022-10-23T00:00:00",
          "2022-10-30T00:00:00",
          "2022-11-06T00:00:00",
          "2022-11-13T00:00:00",
          "2022-11-20T00:00:00",
          "2022-11-27T00:00:00",
          "2022-12-04T00:00:00",
          "2022-12-11T00:00:00",
          "2022-12-18T00:00:00",
          "2022-12-25T00:00:00",
          "2023-01-01T00:00:00",
          "2023-01-08T00:00:00",
          "2023-01-15T00:00:00",
          "2023-01-22T00:00:00",
          "2023-01-29T00:00:00",
          "2023-02-05T00:00:00",
          "2023-02-12T00:00:00",
          "2023-02-19T00:00:00",
          "2023-02-26T00:00:00",
          "2023-03-05T00:00:00",
          "2023-03-12T00:00:00",
          "2023-03-19T00:00:00",
          "2023-03-26T00:00:00",
          "2023-04-02T00:00:00",
          "2023-04-09T00:00:00",
          "2023-04-16T00:00:00",
          "2023-04-23T00:00:00",
          "2023-04-30T00:00:00",
          "2023-05-07T00:00:00",
          "2023-05-14T00:00:00",
          "2023-05-21T00:00:00",
          "2023-05-28T00:00:00",
          "2023-06-04T00:00:00",
          "2023-06-11T00:00:00",
          "2023-06-18T00:00:00",
          "2023-06-25T00:00:00",
          "2023-07-02T00:00:00",
          "2023-07-09T00:00:00",
          "2023-07-16T00:00:00",
          "2023-07-23T00:00:00",
          "2023-07-30T00:00:00",
          "2023-08-06T00:00:00",
          "2023-08-13T00:00:00",
          "2023-08-20T00:00:00",
          "2023-08-27T00:00:00",
          "2023-09-03T00:00:00",
          "2023-09-10T00:00:00",
          "2023-09-17T00:00:00",
          "2023-09-24T00:00:00",
          "2023-10-01T00:00:00",
          "2023-10-08T00:00:00",
          "2023-10-15T00:00:00",
          "2023-10-22T00:00:00",
          "2023-10-29T00:00:00",
          "2023-11-05T00:00:00",
          "2023-11-12T00:00:00",
          "2023-11-19T00:00:00",
          "2023-11-26T00:00:00",
          "2023-12-03T00:00:00",
          "2023-12-10T00:00:00",
          "2023-12-17T00:00:00",
          "2023-12-24T00:00:00",
          "2023-12-31T00:00:00"
         ],
         "y": [
          1.203905690799239,
          1.4423988249502262,
          2.1123395444372495,
          0.87951485625819,
          1.8305896620503121,
          1.3121359394458851,
          1.5634410180125222,
          -1.9305470532560145,
          0.6990371075721029,
          1.712599355432113,
          1.100491749141546,
          0.2001742913184703,
          0.8498680631115842,
          -0.05780379821699366,
          -1.0601524814723353,
          0.13195007684863658,
          0.6475350771883894,
          -2.35153538863561,
          0.31973882627764905,
          0.3828304198586787,
          -0.03894551294169357,
          0.6080857010186147,
          0.28906808458749556,
          -0.7823721597385678,
          -2.409384706430041,
          -0.25322793015063905,
          -0.495339533486562,
          -0.05231294126567665,
          -1.017892824538058,
          0.05104913915606257,
          0.20247172547131154,
          -0.8184777523106406,
          -0.12696639939305943,
          0.581530962626446,
          -0.38651602468622936,
          -0.34112098414032843,
          0.40790932192498985,
          0.5415640282065572,
          -0.7435368766801238,
          0.1657053086299456,
          0.3916987018694087,
          0.4928866613380105,
          0.9428495733430671,
          1.0715903602338779,
          1.669257300407759,
          1.679987755757935,
          2.0366309398790845,
          1.7145421884749972,
          1.53762424107917,
          1.214272823203597,
          1.3086457204933035,
          1.521143097463293,
          -2.526007173068394,
          0.7914311129034326,
          1.3291193886694979,
          -0.24830532678220862,
          0.551021170165229,
          -0.21594846257474298,
          -0.1295928615207842,
          -0.7618797791052758,
          -0.8294176113456011,
          -0.656176815219208,
          -0.6873338508928004,
          -0.19479036353782497,
          -0.46863462765390373,
          -1.091846333308916,
          -3.6291465254067274,
          -2.315516217706377,
          -1.6653260240985963,
          -1.140011009523346,
          -0.9536747459155661,
          -0.6595411263126927,
          -0.8546517077320326,
          -0.39737333933554275,
          -1.7049630670782792,
          -1.4230508918498743,
          -1.030949799787689,
          -0.9594750027875065,
          -2.942985841254441,
          -1.3903243357320574,
          -1.1912415580101943,
          -0.571891328608447,
          -0.6916424500306868,
          -0.29472294702775237,
          -1.820791422623909,
          0.16993915788292568,
          -0.8272972668036314,
          -0.06331322715118315,
          -0.5192891764010965,
          -0.3464165324475612,
          -0.8306486479726098,
          0.08551758226556316,
          -0.13865783005273524,
          0.1746764259224678,
          -0.23636563127668175,
          -0.7841227534667583,
          0.1961013761607271,
          1.0857663135197635,
          0.7902155025403781,
          0.3349255493721399,
          0.9142143591698195,
          0.4228113411938308,
          0.524295993737268,
          -0.37406118058666316,
          -1.2531627014637818,
          1.0549705808800427,
          0.8877765180187565,
          0.17684821258520422,
          -0.6815621940859806,
          0.5228680579409772,
          -0.2234099925736901,
          -0.9396381399829599,
          1.632413793606247,
          0.7181136589231354,
          0.3578902656792593,
          0.43804177517043996,
          1.033143143889867,
          -0.3852772660088304,
          1.1533422473523602,
          0.5297102399946523,
          1.9550000410031254,
          0.0580842125883434,
          0.44978781945076474,
          2.50680605879466,
          1.0057725680687,
          1.5269141034391858,
          0.8453694592291088,
          0.9529404199986109,
          0.15252166896982366,
          -0.6641236278944058,
          1.0073360195226622,
          0.31070293442459374,
          -0.05676127804558728,
          0.6732657041792951,
          1.0969223473211462,
          -1.3517393783324074,
          0.14600851991636965,
          -0.01277108368311275,
          0.43462342406646215,
          0.8328381327977077,
          -0.5542000130063971,
          -0.25330776280760325,
          -0.7802343670605159,
          -0.4923664849623943,
          -0.3858789775719096,
          -0.7203209274013025,
          -0.9658256666829725,
          -1.438663458622016,
          -0.6189480853178475,
          -0.17128547653118886,
          0.8350912576755292,
          -0.3199824529967037,
          -0.3071016756358702,
          -0.7867394543151649,
          -0.5130798535643715,
          -1.17230521120631
         ]
        },
        {
         "fill": "toself",
         "fillcolor": "rgba(155, 220, 108, 0.3)",
         "line": {
          "color": "rgba(155, 220, 108, 0.45)"
         },
         "name": "Przedział ufności predykcji dla roku 2024",
         "type": "scatter",
         "x": [
          "2024-01-07T00:00:00",
          "2024-01-14T00:00:00",
          "2024-01-21T00:00:00",
          "2024-01-28T00:00:00",
          "2024-02-04T00:00:00",
          "2024-02-11T00:00:00",
          "2024-02-18T00:00:00",
          "2024-02-25T00:00:00",
          "2024-03-03T00:00:00",
          "2024-03-10T00:00:00",
          "2024-03-17T00:00:00",
          "2024-03-24T00:00:00",
          "2024-03-31T00:00:00",
          "2024-04-07T00:00:00",
          "2024-04-14T00:00:00",
          "2024-04-21T00:00:00",
          "2024-04-28T00:00:00",
          "2024-05-05T00:00:00",
          "2024-05-12T00:00:00",
          "2024-05-19T00:00:00",
          "2024-05-26T00:00:00",
          "2024-06-02T00:00:00",
          "2024-06-09T00:00:00",
          "2024-06-16T00:00:00",
          "2024-06-23T00:00:00",
          "2024-06-30T00:00:00",
          "2024-07-07T00:00:00",
          "2024-07-14T00:00:00",
          "2024-07-21T00:00:00",
          "2024-07-28T00:00:00",
          "2024-08-04T00:00:00",
          "2024-08-11T00:00:00",
          "2024-08-18T00:00:00",
          "2024-08-25T00:00:00",
          "2024-09-01T00:00:00",
          "2024-09-08T00:00:00",
          "2024-09-15T00:00:00",
          "2024-09-22T00:00:00",
          "2024-09-29T00:00:00",
          "2024-10-06T00:00:00",
          "2024-10-13T00:00:00",
          "2024-10-20T00:00:00",
          "2024-10-27T00:00:00",
          "2024-11-03T00:00:00",
          "2024-11-10T00:00:00",
          "2024-11-17T00:00:00",
          "2024-11-24T00:00:00",
          "2024-12-01T00:00:00",
          "2024-12-08T00:00:00",
          "2024-12-15T00:00:00",
          "2024-12-22T00:00:00",
          "2024-12-29T00:00:00",
          "2024-12-29T00:00:00",
          "2024-12-22T00:00:00",
          "2024-12-15T00:00:00",
          "2024-12-08T00:00:00",
          "2024-12-01T00:00:00",
          "2024-11-24T00:00:00",
          "2024-11-17T00:00:00",
          "2024-11-10T00:00:00",
          "2024-11-03T00:00:00",
          "2024-10-27T00:00:00",
          "2024-10-20T00:00:00",
          "2024-10-13T00:00:00",
          "2024-10-06T00:00:00",
          "2024-09-29T00:00:00",
          "2024-09-22T00:00:00",
          "2024-09-15T00:00:00",
          "2024-09-08T00:00:00",
          "2024-09-01T00:00:00",
          "2024-08-25T00:00:00",
          "2024-08-18T00:00:00",
          "2024-08-11T00:00:00",
          "2024-08-04T00:00:00",
          "2024-07-28T00:00:00",
          "2024-07-21T00:00:00",
          "2024-07-14T00:00:00",
          "2024-07-07T00:00:00",
          "2024-06-30T00:00:00",
          "2024-06-23T00:00:00",
          "2024-06-16T00:00:00",
          "2024-06-09T00:00:00",
          "2024-06-02T00:00:00",
          "2024-05-26T00:00:00",
          "2024-05-19T00:00:00",
          "2024-05-12T00:00:00",
          "2024-05-05T00:00:00",
          "2024-04-28T00:00:00",
          "2024-04-21T00:00:00",
          "2024-04-14T00:00:00",
          "2024-04-07T00:00:00",
          "2024-03-31T00:00:00",
          "2024-03-24T00:00:00",
          "2024-03-17T00:00:00",
          "2024-03-10T00:00:00",
          "2024-03-03T00:00:00",
          "2024-02-25T00:00:00",
          "2024-02-18T00:00:00",
          "2024-02-11T00:00:00",
          "2024-02-04T00:00:00",
          "2024-01-28T00:00:00",
          "2024-01-21T00:00:00",
          "2024-01-14T00:00:00",
          "2024-01-07T00:00:00"
         ],
         "y": [
          0.8654831481286106,
          1.2473429442281851,
          1.3706296669058189,
          1.158142400575637,
          1.3374189807236292,
          1.6437749010830522,
          1.4838385715198223,
          1.403396340608665,
          1.732873749300923,
          1.7782426956385244,
          1.5403969365968437,
          1.709595009767801,
          1.9571060977652124,
          1.7562734011419185,
          1.6846978079401984,
          1.9884803982337491,
          1.9809248947757918,
          1.7438843844882872,
          1.9201777530406567,
          2.122542537374467,
          1.8989500700589963,
          1.849678363750968,
          2.134922702961832,
          2.0859846888131086,
          1.861892898138802,
          2.0498773265786743,
          2.212606591384616,
          1.9768164995927102,
          1.9549625328798352,
          2.222913257966269,
          2.139829977366153,
          1.9355082823358971,
          2.135106552595815,
          2.260951925895179,
          2.0203797197927504,
          2.02736891658843,
          2.277079093548551,
          2.1654063211286614,
          1.9850009955276162,
          2.1940770648095653,
          2.2848745694659565,
          2.045311872195278,
          2.08062289496617,
          2.31039320917693,
          2.17497400094318,
          2.021021801930599,
          2.2365032085584367,
          2.293912993223223,
          2.0601406564141107,
          2.1221089279620937,
          2.330131348425365,
          2.1754744884256034,
          -2.1468683576676506,
          -1.9922116487232666,
          -2.2002035856009305,
          -2.2600911490119446,
          -2.0254481215412974,
          -2.0827225180515447,
          -2.2974485413650654,
          -2.1406506071199582,
          -2.0052099702753865,
          -2.2349495159547907,
          -2.2668799194762417,
          -2.0260359417810028,
          -2.1168284379069875,
          -2.324036466055917,
          -2.139468087887609,
          -2.027617841161144,
          -2.276847665976664,
          -2.2781716410549318,
          -2.0354021530514452,
          -2.161075389360832,
          -2.3564490689463513,
          -2.1455084976548946,
          -2.0616003015176814,
          -2.3274509618495376,
          -2.2956896458407656,
          -2.055603232211195,
          -2.216926596371587,
          -2.3957111494873673,
          -2.160123695454221,
          -2.108220030511568,
          -2.386883928985247,
          -2.319369802578255,
          -2.086513730756111,
          -2.2831691803497747,
          -2.4395585457984987,
          -2.180717585956107,
          -2.1638674683617065,
          -2.4496447705909263,
          -2.342374509234116,
          -2.1200760471554894,
          -2.3492489811656094,
          -2.474478816412928,
          -2.1913814361425277,
          -2.2094474736922933,
          -2.4917539936641466,
          -2.335574767639086,
          -2.122108049937072,
          -2.373774168685424,
          -2.4492146149795175,
          -2.1306213316907985,
          -2.171898934615194,
          -2.4227322485258855
         ]
        },
        {
         "line": {
          "color": "red",
          "width": 2
         },
         "mode": "lines",
         "name": "Przekształcone dane predykcyjne do marca 2024",
         "type": "scatter",
         "x": [
          "2023-12-31T00:00:00",
          "2024-01-07T00:00:00",
          "2024-01-14T00:00:00",
          "2024-01-21T00:00:00",
          "2024-01-28T00:00:00",
          "2024-02-04T00:00:00",
          "2024-02-11T00:00:00",
          "2024-02-18T00:00:00",
          "2024-02-25T00:00:00",
          "2024-03-03T00:00:00",
          "2024-03-10T00:00:00",
          "2024-03-17T00:00:00",
          "2024-03-24T00:00:00"
         ],
         "y": [
          -1.26071719469555,
          -2.683999451536565,
          -0.5618782454036664,
          -0.800476125703871,
          -1.5003868602152837,
          -1.5849003745678862,
          -0.5412034431179711,
          -1.8893435662317364,
          -0.5180120079182879,
          -0.6752491442562221,
          -0.31865151938114256,
          -0.08302665154567457,
          -1.3071658864103544
         ]
        },
        {
         "line": {
          "color": "black",
          "width": 3
         },
         "mode": "lines",
         "name": "Przewidywana średnia przekształconych danych dla roku 2024",
         "type": "scatter",
         "x": [
          "2024-01-07T00:00:00",
          "2024-01-14T00:00:00",
          "2024-01-21T00:00:00",
          "2024-01-28T00:00:00",
          "2024-02-04T00:00:00",
          "2024-02-11T00:00:00",
          "2024-02-18T00:00:00",
          "2024-02-25T00:00:00",
          "2024-03-03T00:00:00",
          "2024-03-10T00:00:00",
          "2024-03-17T00:00:00",
          "2024-03-24T00:00:00",
          "2024-03-31T00:00:00",
          "2024-04-07T00:00:00",
          "2024-04-14T00:00:00",
          "2024-04-21T00:00:00",
          "2024-04-28T00:00:00",
          "2024-05-05T00:00:00",
          "2024-05-12T00:00:00",
          "2024-05-19T00:00:00",
          "2024-05-26T00:00:00",
          "2024-06-02T00:00:00",
          "2024-06-09T00:00:00",
          "2024-06-16T00:00:00",
          "2024-06-23T00:00:00",
          "2024-06-30T00:00:00",
          "2024-07-07T00:00:00",
          "2024-07-14T00:00:00",
          "2024-07-21T00:00:00",
          "2024-07-28T00:00:00",
          "2024-08-04T00:00:00",
          "2024-08-11T00:00:00",
          "2024-08-18T00:00:00",
          "2024-08-25T00:00:00",
          "2024-09-01T00:00:00",
          "2024-09-08T00:00:00",
          "2024-09-15T00:00:00",
          "2024-09-22T00:00:00",
          "2024-09-29T00:00:00",
          "2024-10-06T00:00:00",
          "2024-10-13T00:00:00",
          "2024-10-20T00:00:00",
          "2024-10-27T00:00:00",
          "2024-11-03T00:00:00",
          "2024-11-10T00:00:00",
          "2024-11-17T00:00:00",
          "2024-11-24T00:00:00",
          "2024-12-01T00:00:00",
          "2024-12-08T00:00:00",
          "2024-12-15T00:00:00",
          "2024-12-22T00:00:00",
          "2024-12-29T00:00:00"
         ],
         "y": [
          -0.7786245501986374,
          -0.4622779951935044,
          -0.37999583239248985,
          -0.6455361072019403,
          -0.5181775939808975,
          -0.23916657442700998,
          -0.4258680980596317,
          -0.5441788265277407,
          -0.2382868621956852,
          -0.2065693702520017,
          -0.46704093990804213,
          -0.31982698569890433,
          -0.08148497469513843,
          -0.29305055404609875,
          -0.3824734813253639,
          -0.08769353506397859,
          -0.09989634559015775,
          -0.3478370806551057,
          -0.1814957136545589,
          0.018014403309178105,
          -0.21020986625962942,
          -0.26860278261713966,
          0.013351336225131967,
          -0.03706950332055629,
          -0.26690912567428254,
          -0.08352463489645631,
          0.07850167958671059,
          -0.15943657312402765,
          -0.1862442144848513,
          0.08065647822429364,
          -0.0028392601443706714,
          -0.21047039330522713,
          -0.012984418382508432,
          0.11277488642186716,
          -0.12889596063109085,
          -0.12473937469411697,
          0.1247306261937034,
          0.012969116620526216,
          -0.16951773526415034,
          0.038624313451288826,
          0.12941931384247665,
          -0.11078402364048193,
          -0.07716331049431055,
          0.15259161945077163,
          0.017161696911610895,
          -0.13821336971723333,
          0.0768903452534459,
          0.1342324358409627,
          -0.09997524629891694,
          -0.039047328819418615,
          0.16895984985104937,
          0.014303065378976298
         ]
        }
       ],
       "layout": {
        "height": 500,
        "legend": {
         "orientation": "h",
         "x": 0.5,
         "xanchor": "center",
         "y": -0.3,
         "yanchor": "bottom"
        },
        "showlegend": true,
        "template": {
         "data": {
          "bar": [
           {
            "error_x": {
             "color": "#2a3f5f"
            },
            "error_y": {
             "color": "#2a3f5f"
            },
            "marker": {
             "line": {
              "color": "#E5ECF6",
              "width": 0.5
             },
             "pattern": {
              "fillmode": "overlay",
              "size": 10,
              "solidity": 0.2
             }
            },
            "type": "bar"
           }
          ],
          "barpolar": [
           {
            "marker": {
             "line": {
              "color": "#E5ECF6",
              "width": 0.5
             },
             "pattern": {
              "fillmode": "overlay",
              "size": 10,
              "solidity": 0.2
             }
            },
            "type": "barpolar"
           }
          ],
          "carpet": [
           {
            "aaxis": {
             "endlinecolor": "#2a3f5f",
             "gridcolor": "white",
             "linecolor": "white",
             "minorgridcolor": "white",
             "startlinecolor": "#2a3f5f"
            },
            "baxis": {
             "endlinecolor": "#2a3f5f",
             "gridcolor": "white",
             "linecolor": "white",
             "minorgridcolor": "white",
             "startlinecolor": "#2a3f5f"
            },
            "type": "carpet"
           }
          ],
          "choropleth": [
           {
            "colorbar": {
             "outlinewidth": 0,
             "ticks": ""
            },
            "type": "choropleth"
           }
          ],
          "contour": [
           {
            "colorbar": {
             "outlinewidth": 0,
             "ticks": ""
            },
            "colorscale": [
             [
              0,
              "#0d0887"
             ],
             [
              0.1111111111111111,
              "#46039f"
             ],
             [
              0.2222222222222222,
              "#7201a8"
             ],
             [
              0.3333333333333333,
              "#9c179e"
             ],
             [
              0.4444444444444444,
              "#bd3786"
             ],
             [
              0.5555555555555556,
              "#d8576b"
             ],
             [
              0.6666666666666666,
              "#ed7953"
             ],
             [
              0.7777777777777778,
              "#fb9f3a"
             ],
             [
              0.8888888888888888,
              "#fdca26"
             ],
             [
              1,
              "#f0f921"
             ]
            ],
            "type": "contour"
           }
          ],
          "contourcarpet": [
           {
            "colorbar": {
             "outlinewidth": 0,
             "ticks": ""
            },
            "type": "contourcarpet"
           }
          ],
          "heatmap": [
           {
            "colorbar": {
             "outlinewidth": 0,
             "ticks": ""
            },
            "colorscale": [
             [
              0,
              "#0d0887"
             ],
             [
              0.1111111111111111,
              "#46039f"
             ],
             [
              0.2222222222222222,
              "#7201a8"
             ],
             [
              0.3333333333333333,
              "#9c179e"
             ],
             [
              0.4444444444444444,
              "#bd3786"
             ],
             [
              0.5555555555555556,
              "#d8576b"
             ],
             [
              0.6666666666666666,
              "#ed7953"
             ],
             [
              0.7777777777777778,
              "#fb9f3a"
             ],
             [
              0.8888888888888888,
              "#fdca26"
             ],
             [
              1,
              "#f0f921"
             ]
            ],
            "type": "heatmap"
           }
          ],
          "heatmapgl": [
           {
            "colorbar": {
             "outlinewidth": 0,
             "ticks": ""
            },
            "colorscale": [
             [
              0,
              "#0d0887"
             ],
             [
              0.1111111111111111,
              "#46039f"
             ],
             [
              0.2222222222222222,
              "#7201a8"
             ],
             [
              0.3333333333333333,
              "#9c179e"
             ],
             [
              0.4444444444444444,
              "#bd3786"
             ],
             [
              0.5555555555555556,
              "#d8576b"
             ],
             [
              0.6666666666666666,
              "#ed7953"
             ],
             [
              0.7777777777777778,
              "#fb9f3a"
             ],
             [
              0.8888888888888888,
              "#fdca26"
             ],
             [
              1,
              "#f0f921"
             ]
            ],
            "type": "heatmapgl"
           }
          ],
          "histogram": [
           {
            "marker": {
             "pattern": {
              "fillmode": "overlay",
              "size": 10,
              "solidity": 0.2
             }
            },
            "type": "histogram"
           }
          ],
          "histogram2d": [
           {
            "colorbar": {
             "outlinewidth": 0,
             "ticks": ""
            },
            "colorscale": [
             [
              0,
              "#0d0887"
             ],
             [
              0.1111111111111111,
              "#46039f"
             ],
             [
              0.2222222222222222,
              "#7201a8"
             ],
             [
              0.3333333333333333,
              "#9c179e"
             ],
             [
              0.4444444444444444,
              "#bd3786"
             ],
             [
              0.5555555555555556,
              "#d8576b"
             ],
             [
              0.6666666666666666,
              "#ed7953"
             ],
             [
              0.7777777777777778,
              "#fb9f3a"
             ],
             [
              0.8888888888888888,
              "#fdca26"
             ],
             [
              1,
              "#f0f921"
             ]
            ],
            "type": "histogram2d"
           }
          ],
          "histogram2dcontour": [
           {
            "colorbar": {
             "outlinewidth": 0,
             "ticks": ""
            },
            "colorscale": [
             [
              0,
              "#0d0887"
             ],
             [
              0.1111111111111111,
              "#46039f"
             ],
             [
              0.2222222222222222,
              "#7201a8"
             ],
             [
              0.3333333333333333,
              "#9c179e"
             ],
             [
              0.4444444444444444,
              "#bd3786"
             ],
             [
              0.5555555555555556,
              "#d8576b"
             ],
             [
              0.6666666666666666,
              "#ed7953"
             ],
             [
              0.7777777777777778,
              "#fb9f3a"
             ],
             [
              0.8888888888888888,
              "#fdca26"
             ],
             [
              1,
              "#f0f921"
             ]
            ],
            "type": "histogram2dcontour"
           }
          ],
          "mesh3d": [
           {
            "colorbar": {
             "outlinewidth": 0,
             "ticks": ""
            },
            "type": "mesh3d"
           }
          ],
          "parcoords": [
           {
            "line": {
             "colorbar": {
              "outlinewidth": 0,
              "ticks": ""
             }
            },
            "type": "parcoords"
           }
          ],
          "pie": [
           {
            "automargin": true,
            "type": "pie"
           }
          ],
          "scatter": [
           {
            "fillpattern": {
             "fillmode": "overlay",
             "size": 10,
             "solidity": 0.2
            },
            "type": "scatter"
           }
          ],
          "scatter3d": [
           {
            "line": {
             "colorbar": {
              "outlinewidth": 0,
              "ticks": ""
             }
            },
            "marker": {
             "colorbar": {
              "outlinewidth": 0,
              "ticks": ""
             }
            },
            "type": "scatter3d"
           }
          ],
          "scattercarpet": [
           {
            "marker": {
             "colorbar": {
              "outlinewidth": 0,
              "ticks": ""
             }
            },
            "type": "scattercarpet"
           }
          ],
          "scattergeo": [
           {
            "marker": {
             "colorbar": {
              "outlinewidth": 0,
              "ticks": ""
             }
            },
            "type": "scattergeo"
           }
          ],
          "scattergl": [
           {
            "marker": {
             "colorbar": {
              "outlinewidth": 0,
              "ticks": ""
             }
            },
            "type": "scattergl"
           }
          ],
          "scattermapbox": [
           {
            "marker": {
             "colorbar": {
              "outlinewidth": 0,
              "ticks": ""
             }
            },
            "type": "scattermapbox"
           }
          ],
          "scatterpolar": [
           {
            "marker": {
             "colorbar": {
              "outlinewidth": 0,
              "ticks": ""
             }
            },
            "type": "scatterpolar"
           }
          ],
          "scatterpolargl": [
           {
            "marker": {
             "colorbar": {
              "outlinewidth": 0,
              "ticks": ""
             }
            },
            "type": "scatterpolargl"
           }
          ],
          "scatterternary": [
           {
            "marker": {
             "colorbar": {
              "outlinewidth": 0,
              "ticks": ""
             }
            },
            "type": "scatterternary"
           }
          ],
          "surface": [
           {
            "colorbar": {
             "outlinewidth": 0,
             "ticks": ""
            },
            "colorscale": [
             [
              0,
              "#0d0887"
             ],
             [
              0.1111111111111111,
              "#46039f"
             ],
             [
              0.2222222222222222,
              "#7201a8"
             ],
             [
              0.3333333333333333,
              "#9c179e"
             ],
             [
              0.4444444444444444,
              "#bd3786"
             ],
             [
              0.5555555555555556,
              "#d8576b"
             ],
             [
              0.6666666666666666,
              "#ed7953"
             ],
             [
              0.7777777777777778,
              "#fb9f3a"
             ],
             [
              0.8888888888888888,
              "#fdca26"
             ],
             [
              1,
              "#f0f921"
             ]
            ],
            "type": "surface"
           }
          ],
          "table": [
           {
            "cells": {
             "fill": {
              "color": "#EBF0F8"
             },
             "line": {
              "color": "white"
             }
            },
            "header": {
             "fill": {
              "color": "#C8D4E3"
             },
             "line": {
              "color": "white"
             }
            },
            "type": "table"
           }
          ]
         },
         "layout": {
          "annotationdefaults": {
           "arrowcolor": "#2a3f5f",
           "arrowhead": 0,
           "arrowwidth": 1
          },
          "autotypenumbers": "strict",
          "coloraxis": {
           "colorbar": {
            "outlinewidth": 0,
            "ticks": ""
           }
          },
          "colorscale": {
           "diverging": [
            [
             0,
             "#8e0152"
            ],
            [
             0.1,
             "#c51b7d"
            ],
            [
             0.2,
             "#de77ae"
            ],
            [
             0.3,
             "#f1b6da"
            ],
            [
             0.4,
             "#fde0ef"
            ],
            [
             0.5,
             "#f7f7f7"
            ],
            [
             0.6,
             "#e6f5d0"
            ],
            [
             0.7,
             "#b8e186"
            ],
            [
             0.8,
             "#7fbc41"
            ],
            [
             0.9,
             "#4d9221"
            ],
            [
             1,
             "#276419"
            ]
           ],
           "sequential": [
            [
             0,
             "#0d0887"
            ],
            [
             0.1111111111111111,
             "#46039f"
            ],
            [
             0.2222222222222222,
             "#7201a8"
            ],
            [
             0.3333333333333333,
             "#9c179e"
            ],
            [
             0.4444444444444444,
             "#bd3786"
            ],
            [
             0.5555555555555556,
             "#d8576b"
            ],
            [
             0.6666666666666666,
             "#ed7953"
            ],
            [
             0.7777777777777778,
             "#fb9f3a"
            ],
            [
             0.8888888888888888,
             "#fdca26"
            ],
            [
             1,
             "#f0f921"
            ]
           ],
           "sequentialminus": [
            [
             0,
             "#0d0887"
            ],
            [
             0.1111111111111111,
             "#46039f"
            ],
            [
             0.2222222222222222,
             "#7201a8"
            ],
            [
             0.3333333333333333,
             "#9c179e"
            ],
            [
             0.4444444444444444,
             "#bd3786"
            ],
            [
             0.5555555555555556,
             "#d8576b"
            ],
            [
             0.6666666666666666,
             "#ed7953"
            ],
            [
             0.7777777777777778,
             "#fb9f3a"
            ],
            [
             0.8888888888888888,
             "#fdca26"
            ],
            [
             1,
             "#f0f921"
            ]
           ]
          },
          "colorway": [
           "#636efa",
           "#EF553B",
           "#00cc96",
           "#ab63fa",
           "#FFA15A",
           "#19d3f3",
           "#FF6692",
           "#B6E880",
           "#FF97FF",
           "#FECB52"
          ],
          "font": {
           "color": "#2a3f5f"
          },
          "geo": {
           "bgcolor": "white",
           "lakecolor": "white",
           "landcolor": "#E5ECF6",
           "showlakes": true,
           "showland": true,
           "subunitcolor": "white"
          },
          "hoverlabel": {
           "align": "left"
          },
          "hovermode": "closest",
          "mapbox": {
           "style": "light"
          },
          "paper_bgcolor": "white",
          "plot_bgcolor": "#E5ECF6",
          "polar": {
           "angularaxis": {
            "gridcolor": "white",
            "linecolor": "white",
            "ticks": ""
           },
           "bgcolor": "#E5ECF6",
           "radialaxis": {
            "gridcolor": "white",
            "linecolor": "white",
            "ticks": ""
           }
          },
          "scene": {
           "xaxis": {
            "backgroundcolor": "#E5ECF6",
            "gridcolor": "white",
            "gridwidth": 2,
            "linecolor": "white",
            "showbackground": true,
            "ticks": "",
            "zerolinecolor": "white"
           },
           "yaxis": {
            "backgroundcolor": "#E5ECF6",
            "gridcolor": "white",
            "gridwidth": 2,
            "linecolor": "white",
            "showbackground": true,
            "ticks": "",
            "zerolinecolor": "white"
           },
           "zaxis": {
            "backgroundcolor": "#E5ECF6",
            "gridcolor": "white",
            "gridwidth": 2,
            "linecolor": "white",
            "showbackground": true,
            "ticks": "",
            "zerolinecolor": "white"
           }
          },
          "shapedefaults": {
           "line": {
            "color": "#2a3f5f"
           }
          },
          "ternary": {
           "aaxis": {
            "gridcolor": "white",
            "linecolor": "white",
            "ticks": ""
           },
           "baxis": {
            "gridcolor": "white",
            "linecolor": "white",
            "ticks": ""
           },
           "bgcolor": "#E5ECF6",
           "caxis": {
            "gridcolor": "white",
            "linecolor": "white",
            "ticks": ""
           }
          },
          "title": {
           "x": 0.05
          },
          "xaxis": {
           "automargin": true,
           "gridcolor": "white",
           "linecolor": "white",
           "ticks": "",
           "title": {
            "standoff": 15
           },
           "zerolinecolor": "white",
           "zerolinewidth": 2
          },
          "yaxis": {
           "automargin": true,
           "gridcolor": "white",
           "linecolor": "white",
           "ticks": "",
           "title": {
            "standoff": 15
           },
           "zerolinecolor": "white",
           "zerolinewidth": 2
          }
         }
        },
        "title": {
         "font": {
          "size": 18
         },
         "text": "Predykcja danych po transformacji",
         "x": 0.5,
         "xanchor": "center"
        },
        "width": 1000,
        "xaxis": {
         "title": {
          "text": "Data"
         }
        },
        "yaxis": {
         "title": {
          "text": "Otrzymane wartości"
         }
        }
       }
      }
     },
     "metadata": {},
     "output_type": "display_data"
    }
   ],
   "source": [
    "fig = go.Figure() \n",
    "\n",
    "\n",
    "fig.add_scatter(\n",
    "    x=new_df.index, \n",
    "    y=new_df[\"zróżnicowane dane\"],  \n",
    "    mode='lines',\n",
    "    name='Przekształcone dane z analizy (lata 2021-2023)'\n",
    "    )\n",
    "\n",
    "fig.add_trace(\n",
    "    go.Scatter(\n",
    "        x=date_range.tolist() + date_range.tolist()[::-1], \n",
    "        y=confidence_intervals[\"upper zróżnicowane dane\"].tolist() + confidence_intervals[\"lower zróżnicowane dane\"].tolist()[::-1],  \n",
    "        fill='toself',\n",
    "        fillcolor='rgba(155, 220, 108, 0.3)',\n",
    "        line=dict(color='rgba(155, 220, 108, 0.45)'),\n",
    "        name='Przedział ufności predykcji dla roku 2024'\n",
    "    )\n",
    ")\n",
    "\n",
    "\n",
    "fig.add_scatter(\n",
    "    x=predict_df.index,\n",
    "    y=stats.boxcox(predict_df[\"Liczba dzików dodatnich\"], lam) - func_sin(x_p, *popt_sin),\n",
    "    mode='lines', \n",
    "    line=dict(width=2, color='red'),\n",
    "    name=\"Przekształcone dane predykcyjne do marca 2024\"\n",
    "    )\n",
    "\n",
    "\n",
    "fig.add_scatter(\n",
    "    x=date_range,\n",
    "    y=forecast_values, \n",
    "    mode='lines', \n",
    "    line=dict(color='black', width=3),\n",
    "    name=\"Przewidywana średnia przekształconych danych dla roku 2024\"\n",
    "    )\n",
    "\n",
    "\n",
    "fig.update_layout(\n",
    "    title={\n",
    "        'text': f\"Predykcja danych po transformacji\",\n",
    "        'x': 0.5,  \n",
    "        'xanchor': 'center'\n",
    "    },\n",
    "    xaxis_title=\"Data\",\n",
    "    yaxis_title=\"Otrzymane wartości\",\n",
    "    title_font_size=18,\n",
    "    width=1000,\n",
    "    height=500,\n",
    "    showlegend=True,\n",
    "    legend=dict(\n",
    "        orientation='h', \n",
    "        yanchor='bottom',  \n",
    "        xanchor='center',  \n",
    "        x=0.5,  \n",
    "        y=-0.3)\n",
    "    \n",
    ")\n",
    "\n",
    "fig.show()"
   ]
  },
  {
   "cell_type": "code",
   "execution_count": 504,
   "metadata": {},
   "outputs": [
    {
     "data": {
      "application/vnd.plotly.v1+json": {
       "config": {
        "plotlyServerURL": "https://plot.ly"
       },
       "data": [
        {
         "mode": "lines",
         "name": "Dane do analizy (lata 2021-2023)",
         "type": "scatter",
         "x": [
          "2021-01-10T00:00:00",
          "2021-01-17T00:00:00",
          "2021-01-24T00:00:00",
          "2021-01-31T00:00:00",
          "2021-02-07T00:00:00",
          "2021-02-14T00:00:00",
          "2021-02-21T00:00:00",
          "2021-02-28T00:00:00",
          "2021-03-07T00:00:00",
          "2021-03-14T00:00:00",
          "2021-03-21T00:00:00",
          "2021-03-28T00:00:00",
          "2021-04-04T00:00:00",
          "2021-04-11T00:00:00",
          "2021-04-18T00:00:00",
          "2021-04-25T00:00:00",
          "2021-05-02T00:00:00",
          "2021-05-09T00:00:00",
          "2021-05-16T00:00:00",
          "2021-05-23T00:00:00",
          "2021-05-30T00:00:00",
          "2021-06-06T00:00:00",
          "2021-06-13T00:00:00",
          "2021-06-20T00:00:00",
          "2021-06-27T00:00:00",
          "2021-07-04T00:00:00",
          "2021-07-11T00:00:00",
          "2021-07-18T00:00:00",
          "2021-07-25T00:00:00",
          "2021-08-01T00:00:00",
          "2021-08-08T00:00:00",
          "2021-08-15T00:00:00",
          "2021-08-22T00:00:00",
          "2021-08-29T00:00:00",
          "2021-09-05T00:00:00",
          "2021-09-12T00:00:00",
          "2021-09-19T00:00:00",
          "2021-09-26T00:00:00",
          "2021-10-03T00:00:00",
          "2021-10-10T00:00:00",
          "2021-10-17T00:00:00",
          "2021-10-24T00:00:00",
          "2021-10-31T00:00:00",
          "2021-11-07T00:00:00",
          "2021-11-14T00:00:00",
          "2021-11-21T00:00:00",
          "2021-11-28T00:00:00",
          "2021-12-05T00:00:00",
          "2021-12-12T00:00:00",
          "2021-12-19T00:00:00",
          "2021-12-26T00:00:00",
          "2022-01-02T00:00:00",
          "2022-01-09T00:00:00",
          "2022-01-16T00:00:00",
          "2022-01-23T00:00:00",
          "2022-01-30T00:00:00",
          "2022-02-06T00:00:00",
          "2022-02-13T00:00:00",
          "2022-02-20T00:00:00",
          "2022-02-27T00:00:00",
          "2022-03-06T00:00:00",
          "2022-03-13T00:00:00",
          "2022-03-20T00:00:00",
          "2022-03-27T00:00:00",
          "2022-04-03T00:00:00",
          "2022-04-10T00:00:00",
          "2022-04-17T00:00:00",
          "2022-04-24T00:00:00",
          "2022-05-01T00:00:00",
          "2022-05-08T00:00:00",
          "2022-05-15T00:00:00",
          "2022-05-22T00:00:00",
          "2022-05-29T00:00:00",
          "2022-06-05T00:00:00",
          "2022-06-12T00:00:00",
          "2022-06-19T00:00:00",
          "2022-06-26T00:00:00",
          "2022-07-03T00:00:00",
          "2022-07-10T00:00:00",
          "2022-07-17T00:00:00",
          "2022-07-24T00:00:00",
          "2022-07-31T00:00:00",
          "2022-08-07T00:00:00",
          "2022-08-14T00:00:00",
          "2022-08-21T00:00:00",
          "2022-08-28T00:00:00",
          "2022-09-04T00:00:00",
          "2022-09-11T00:00:00",
          "2022-09-18T00:00:00",
          "2022-09-25T00:00:00",
          "2022-10-02T00:00:00",
          "2022-10-09T00:00:00",
          "2022-10-16T00:00:00",
          "2022-10-23T00:00:00",
          "2022-10-30T00:00:00",
          "2022-11-06T00:00:00",
          "2022-11-13T00:00:00",
          "2022-11-20T00:00:00",
          "2022-11-27T00:00:00",
          "2022-12-04T00:00:00",
          "2022-12-11T00:00:00",
          "2022-12-18T00:00:00",
          "2022-12-25T00:00:00",
          "2023-01-01T00:00:00",
          "2023-01-08T00:00:00",
          "2023-01-15T00:00:00",
          "2023-01-22T00:00:00",
          "2023-01-29T00:00:00",
          "2023-02-05T00:00:00",
          "2023-02-12T00:00:00",
          "2023-02-19T00:00:00",
          "2023-02-26T00:00:00",
          "2023-03-05T00:00:00",
          "2023-03-12T00:00:00",
          "2023-03-19T00:00:00",
          "2023-03-26T00:00:00",
          "2023-04-02T00:00:00",
          "2023-04-09T00:00:00",
          "2023-04-16T00:00:00",
          "2023-04-23T00:00:00",
          "2023-04-30T00:00:00",
          "2023-05-07T00:00:00",
          "2023-05-14T00:00:00",
          "2023-05-21T00:00:00",
          "2023-05-28T00:00:00",
          "2023-06-04T00:00:00",
          "2023-06-11T00:00:00",
          "2023-06-18T00:00:00",
          "2023-06-25T00:00:00",
          "2023-07-02T00:00:00",
          "2023-07-09T00:00:00",
          "2023-07-16T00:00:00",
          "2023-07-23T00:00:00",
          "2023-07-30T00:00:00",
          "2023-08-06T00:00:00",
          "2023-08-13T00:00:00",
          "2023-08-20T00:00:00",
          "2023-08-27T00:00:00",
          "2023-09-03T00:00:00",
          "2023-09-10T00:00:00",
          "2023-09-17T00:00:00",
          "2023-09-24T00:00:00",
          "2023-10-01T00:00:00",
          "2023-10-08T00:00:00",
          "2023-10-15T00:00:00",
          "2023-10-22T00:00:00",
          "2023-10-29T00:00:00",
          "2023-11-05T00:00:00",
          "2023-11-12T00:00:00",
          "2023-11-19T00:00:00",
          "2023-11-26T00:00:00",
          "2023-12-03T00:00:00",
          "2023-12-10T00:00:00",
          "2023-12-17T00:00:00",
          "2023-12-24T00:00:00",
          "2023-12-31T00:00:00"
         ],
         "y": [
          113,
          139,
          213,
          118,
          210,
          170,
          205,
          28,
          142,
          250,
          187,
          117,
          168,
          102,
          56,
          110,
          142,
          22,
          109,
          107,
          79,
          107,
          83,
          40,
          12,
          47,
          37,
          45,
          22,
          41,
          42,
          20,
          30,
          45,
          23,
          23,
          37,
          40,
          17,
          32,
          38,
          42,
          58,
          66,
          99,
          106,
          138,
          124,
          121,
          109,
          124,
          150,
          13,
          116,
          166,
          73,
          122,
          83,
          91,
          65,
          64,
          72,
          71,
          94,
          79,
          53,
          9,
          22,
          32,
          42,
          44,
          49,
          40,
          49,
          19,
          21,
          25,
          24,
          5,
          15,
          16,
          23,
          20,
          25,
          8,
          32,
          16,
          27,
          20,
          23,
          17,
          33,
          30,
          39,
          32,
          24,
          49,
          90,
          82,
          68,
          103,
          84,
          96,
          61,
          38,
          156,
          150,
          106,
          67,
          137,
          92,
          61,
          252,
          155,
          125,
          127,
          169,
          73,
          164,
          110,
          222,
          73,
          85,
          241,
          100,
          124,
          78,
          77,
          44,
          24,
          65,
          40,
          30,
          46,
          58,
          11,
          31,
          28,
          38,
          50,
          21,
          27,
          20,
          26,
          30,
          26,
          24,
          19,
          36,
          52,
          102,
          56,
          61,
          49,
          62,
          44
         ]
        },
        {
         "fill": "toself",
         "fillcolor": "rgba(155, 220, 108, 0.3)",
         "line": {
          "color": "rgba(155, 220, 108, 0.45)"
         },
         "name": "Przedział ufności predykcji dla roku 2024",
         "type": "scatter",
         "x": [
          "2024-01-07T00:00:00",
          "2024-01-14T00:00:00",
          "2024-01-21T00:00:00",
          "2024-01-28T00:00:00",
          "2024-02-04T00:00:00",
          "2024-02-11T00:00:00",
          "2024-02-18T00:00:00",
          "2024-02-25T00:00:00",
          "2024-03-03T00:00:00",
          "2024-03-10T00:00:00",
          "2024-03-17T00:00:00",
          "2024-03-24T00:00:00",
          "2024-03-31T00:00:00",
          "2024-04-07T00:00:00",
          "2024-04-14T00:00:00",
          "2024-04-21T00:00:00",
          "2024-04-28T00:00:00",
          "2024-05-05T00:00:00",
          "2024-05-12T00:00:00",
          "2024-05-19T00:00:00",
          "2024-05-26T00:00:00",
          "2024-06-02T00:00:00",
          "2024-06-09T00:00:00",
          "2024-06-16T00:00:00",
          "2024-06-23T00:00:00",
          "2024-06-30T00:00:00",
          "2024-07-07T00:00:00",
          "2024-07-14T00:00:00",
          "2024-07-21T00:00:00",
          "2024-07-28T00:00:00",
          "2024-08-04T00:00:00",
          "2024-08-11T00:00:00",
          "2024-08-18T00:00:00",
          "2024-08-25T00:00:00",
          "2024-09-01T00:00:00",
          "2024-09-08T00:00:00",
          "2024-09-15T00:00:00",
          "2024-09-22T00:00:00",
          "2024-09-29T00:00:00",
          "2024-10-06T00:00:00",
          "2024-10-13T00:00:00",
          "2024-10-20T00:00:00",
          "2024-10-27T00:00:00",
          "2024-11-03T00:00:00",
          "2024-11-10T00:00:00",
          "2024-11-17T00:00:00",
          "2024-11-24T00:00:00",
          "2024-12-01T00:00:00",
          "2024-12-08T00:00:00",
          "2024-12-15T00:00:00",
          "2024-12-22T00:00:00",
          "2024-12-29T00:00:00",
          "2024-12-29T00:00:00",
          "2024-12-22T00:00:00",
          "2024-12-15T00:00:00",
          "2024-12-08T00:00:00",
          "2024-12-01T00:00:00",
          "2024-11-24T00:00:00",
          "2024-11-17T00:00:00",
          "2024-11-10T00:00:00",
          "2024-11-03T00:00:00",
          "2024-10-27T00:00:00",
          "2024-10-20T00:00:00",
          "2024-10-13T00:00:00",
          "2024-10-06T00:00:00",
          "2024-09-29T00:00:00",
          "2024-09-22T00:00:00",
          "2024-09-15T00:00:00",
          "2024-09-08T00:00:00",
          "2024-09-01T00:00:00",
          "2024-08-25T00:00:00",
          "2024-08-18T00:00:00",
          "2024-08-11T00:00:00",
          "2024-08-04T00:00:00",
          "2024-07-28T00:00:00",
          "2024-07-21T00:00:00",
          "2024-07-14T00:00:00",
          "2024-07-07T00:00:00",
          "2024-06-30T00:00:00",
          "2024-06-23T00:00:00",
          "2024-06-16T00:00:00",
          "2024-06-09T00:00:00",
          "2024-06-02T00:00:00",
          "2024-05-26T00:00:00",
          "2024-05-19T00:00:00",
          "2024-05-12T00:00:00",
          "2024-05-05T00:00:00",
          "2024-04-28T00:00:00",
          "2024-04-21T00:00:00",
          "2024-04-14T00:00:00",
          "2024-04-07T00:00:00",
          "2024-03-31T00:00:00",
          "2024-03-24T00:00:00",
          "2024-03-17T00:00:00",
          "2024-03-10T00:00:00",
          "2024-03-03T00:00:00",
          "2024-02-25T00:00:00",
          "2024-02-18T00:00:00",
          "2024-02-11T00:00:00",
          "2024-02-04T00:00:00",
          "2024-01-28T00:00:00",
          "2024-01-21T00:00:00",
          "2024-01-14T00:00:00",
          "2024-01-07T00:00:00"
         ],
         "y": [
          151.32502406761134,
          192.80642249538658,
          212.00529204328612,
          194.13802099182013,
          216.0055815013959,
          253.7593439070601,
          232.95357895887662,
          220.62485326919827,
          255.3937413591049,
          253.6895238002172,
          216.35959536652274,
          225.60234749172253,
          243.19222090305004,
          207.16199870479124,
          187.3869602437333,
          205.39226949838556,
          190.8550676822707,
          156.58104427137465,
          159.89481027180963,
          165.67198169913235,
          136.73164632268262,
          124.13415620663334,
          135.98889190347606,
          124.65461066075615,
          104.13104863019723,
          110.31784645652375,
          116.11297198605114,
          98.55815154509534,
          95.18345046530347,
          109.36876705926218,
          104.0755008537955,
          93.31831945711815,
          106.27215172629086,
          117.01182524235296,
          105.89250523808442,
          111.01524165042896,
          134.0422177237462,
          133.41895502124595,
          128.6301383750056,
          154.04854183935092,
          173.26402202970684,
          163.81586976641012,
          179.4757669119865,
          217.32251433722553,
          217.3099958544702,
          214.78855884699547,
          255.60855901580805,
          279.0405211739175,
          261.8631439559447,
          283.3638254243123,
          327.0917267715708,
          313.40116038875664,
          26.509770494742913,
          28.090091919792034,
          23.119074934243347,
          20.789736027623196,
          22.685519921130076,
          20.127963836946236,
          15.859339212218217,
          16.149059377779167,
          16.150586385879482,
          12.394502050211676,
          10.941965401323438,
          11.842520201443438,
          10.050815838968568,
          7.811438329178095,
          8.251251752465414,
          8.306736892969814,
          6.364231322553549,
          5.977339880697302,
          6.900558077137298,
          6.0193169672031015,
          5.016242678827374,
          5.893980980830595,
          6.329048531459113,
          5.200868911570451,
          5.510481072481351,
          6.9786657188151615,
          6.498011668618509,
          6.031226808245215,
          7.847535633742008,
          8.886547593321598,
          7.859525770671113,
          9.125632817310615,
          11.996676112373486,
          11.470459061574706,
          11.308652905488529,
          15.082292117728542,
          16.781355124931473,
          14.999619588623561,
          17.632536247294432,
          22.21689729014459,
          20.339117803765777,
          19.82072703060702,
          25.282827619262825,
          25.97980526806705,
          22.089777266144928,
          24.98666816305274,
          28.96869261834698,
          24.340208650480935,
          22.718373696827353,
          27.34567469922569,
          25.56945742068233,
          20.495570702634467
         ]
        },
        {
         "line": {
          "color": "red",
          "width": 2
         },
         "mode": "lines",
         "name": "Dane predykcyjne do marca 2024",
         "type": "scatter",
         "x": [
          "2023-12-31T00:00:00",
          "2024-01-07T00:00:00",
          "2024-01-14T00:00:00",
          "2024-01-21T00:00:00",
          "2024-01-28T00:00:00",
          "2024-02-04T00:00:00",
          "2024-02-11T00:00:00",
          "2024-02-18T00:00:00",
          "2024-02-25T00:00:00",
          "2024-03-03T00:00:00",
          "2024-03-10T00:00:00",
          "2024-03-17T00:00:00",
          "2024-03-24T00:00:00"
         ],
         "y": [
          44,
          18,
          73,
          65,
          43,
          41,
          77,
          33,
          75,
          66,
          78,
          85,
          38
         ]
        },
        {
         "line": {
          "color": "black",
          "width": 3
         },
         "mode": "lines",
         "name": "Przewidywana średnia z danych dla 2024",
         "type": "scatter",
         "x": [
          "2024-01-07T00:00:00",
          "2024-01-14T00:00:00",
          "2024-01-21T00:00:00",
          "2024-01-28T00:00:00",
          "2024-02-04T00:00:00",
          "2024-02-11T00:00:00",
          "2024-02-18T00:00:00",
          "2024-02-25T00:00:00",
          "2024-03-03T00:00:00",
          "2024-03-10T00:00:00",
          "2024-03-17T00:00:00",
          "2024-03-24T00:00:00",
          "2024-03-31T00:00:00",
          "2024-04-07T00:00:00",
          "2024-04-14T00:00:00",
          "2024-04-21T00:00:00",
          "2024-04-28T00:00:00",
          "2024-05-05T00:00:00",
          "2024-05-12T00:00:00",
          "2024-05-19T00:00:00",
          "2024-05-26T00:00:00",
          "2024-06-02T00:00:00",
          "2024-06-09T00:00:00",
          "2024-06-16T00:00:00",
          "2024-06-23T00:00:00",
          "2024-06-30T00:00:00",
          "2024-07-07T00:00:00",
          "2024-07-14T00:00:00",
          "2024-07-21T00:00:00",
          "2024-07-28T00:00:00",
          "2024-08-04T00:00:00",
          "2024-08-11T00:00:00",
          "2024-08-18T00:00:00",
          "2024-08-25T00:00:00",
          "2024-09-01T00:00:00",
          "2024-09-08T00:00:00",
          "2024-09-15T00:00:00",
          "2024-09-22T00:00:00",
          "2024-09-29T00:00:00",
          "2024-10-06T00:00:00",
          "2024-10-13T00:00:00",
          "2024-10-20T00:00:00",
          "2024-10-27T00:00:00",
          "2024-11-03T00:00:00",
          "2024-11-10T00:00:00",
          "2024-11-17T00:00:00",
          "2024-11-24T00:00:00",
          "2024-12-01T00:00:00",
          "2024-12-08T00:00:00",
          "2024-12-15T00:00:00",
          "2024-12-22T00:00:00",
          "2024-12-29T00:00:00"
         ],
         "y": [
          59.216154326050656,
          74.75488629855742,
          81.20579508044617,
          71.2733727114744,
          78.01262922520273,
          92.1657406513972,
          82.35810175668412,
          75.72058045364065,
          88.25328961125022,
          86.8954466732214,
          71.48370601661975,
          74.02985395385954,
          80.25353469534902,
          66.33467504547262,
          58.46148368456734,
          64.63708338233667,
          59.22114155509396,
          46.77881442506554,
          47.63396218705149,
          49.549327875002064,
          39.52121781137981,
          35.10074578739601,
          38.96208944064984,
          35.16432431256399,
          28.37737093180725,
          30.273287430424716,
          32.13067041957206,
          26.470315816142094,
          25.32312985833181,
          29.793951060397795,
          28.100167802365714,
          24.66051717013395,
          28.69509916705566,
          32.126142690231916,
          28.5522913948057,
          30.125312989640513,
          37.56605339863417,
          37.35970460217144,
          35.74747425842661,
          44.107305917370454,
          50.58132804535364,
          47.36542472730311,
          52.62168274791193,
          65.7098384510223,
          65.70503216945399,
          64.76721810274323,
          79.19509035331356,
          87.6293785572756,
          81.41364455520801,
          89.12116019944477,
          105.13517596487578,
          100.08866751532992
         ]
        }
       ],
       "layout": {
        "height": 500,
        "legend": {
         "orientation": "h",
         "x": 0.5,
         "xanchor": "center",
         "y": -0.3,
         "yanchor": "bottom"
        },
        "showlegend": true,
        "template": {
         "data": {
          "bar": [
           {
            "error_x": {
             "color": "#2a3f5f"
            },
            "error_y": {
             "color": "#2a3f5f"
            },
            "marker": {
             "line": {
              "color": "#E5ECF6",
              "width": 0.5
             },
             "pattern": {
              "fillmode": "overlay",
              "size": 10,
              "solidity": 0.2
             }
            },
            "type": "bar"
           }
          ],
          "barpolar": [
           {
            "marker": {
             "line": {
              "color": "#E5ECF6",
              "width": 0.5
             },
             "pattern": {
              "fillmode": "overlay",
              "size": 10,
              "solidity": 0.2
             }
            },
            "type": "barpolar"
           }
          ],
          "carpet": [
           {
            "aaxis": {
             "endlinecolor": "#2a3f5f",
             "gridcolor": "white",
             "linecolor": "white",
             "minorgridcolor": "white",
             "startlinecolor": "#2a3f5f"
            },
            "baxis": {
             "endlinecolor": "#2a3f5f",
             "gridcolor": "white",
             "linecolor": "white",
             "minorgridcolor": "white",
             "startlinecolor": "#2a3f5f"
            },
            "type": "carpet"
           }
          ],
          "choropleth": [
           {
            "colorbar": {
             "outlinewidth": 0,
             "ticks": ""
            },
            "type": "choropleth"
           }
          ],
          "contour": [
           {
            "colorbar": {
             "outlinewidth": 0,
             "ticks": ""
            },
            "colorscale": [
             [
              0,
              "#0d0887"
             ],
             [
              0.1111111111111111,
              "#46039f"
             ],
             [
              0.2222222222222222,
              "#7201a8"
             ],
             [
              0.3333333333333333,
              "#9c179e"
             ],
             [
              0.4444444444444444,
              "#bd3786"
             ],
             [
              0.5555555555555556,
              "#d8576b"
             ],
             [
              0.6666666666666666,
              "#ed7953"
             ],
             [
              0.7777777777777778,
              "#fb9f3a"
             ],
             [
              0.8888888888888888,
              "#fdca26"
             ],
             [
              1,
              "#f0f921"
             ]
            ],
            "type": "contour"
           }
          ],
          "contourcarpet": [
           {
            "colorbar": {
             "outlinewidth": 0,
             "ticks": ""
            },
            "type": "contourcarpet"
           }
          ],
          "heatmap": [
           {
            "colorbar": {
             "outlinewidth": 0,
             "ticks": ""
            },
            "colorscale": [
             [
              0,
              "#0d0887"
             ],
             [
              0.1111111111111111,
              "#46039f"
             ],
             [
              0.2222222222222222,
              "#7201a8"
             ],
             [
              0.3333333333333333,
              "#9c179e"
             ],
             [
              0.4444444444444444,
              "#bd3786"
             ],
             [
              0.5555555555555556,
              "#d8576b"
             ],
             [
              0.6666666666666666,
              "#ed7953"
             ],
             [
              0.7777777777777778,
              "#fb9f3a"
             ],
             [
              0.8888888888888888,
              "#fdca26"
             ],
             [
              1,
              "#f0f921"
             ]
            ],
            "type": "heatmap"
           }
          ],
          "heatmapgl": [
           {
            "colorbar": {
             "outlinewidth": 0,
             "ticks": ""
            },
            "colorscale": [
             [
              0,
              "#0d0887"
             ],
             [
              0.1111111111111111,
              "#46039f"
             ],
             [
              0.2222222222222222,
              "#7201a8"
             ],
             [
              0.3333333333333333,
              "#9c179e"
             ],
             [
              0.4444444444444444,
              "#bd3786"
             ],
             [
              0.5555555555555556,
              "#d8576b"
             ],
             [
              0.6666666666666666,
              "#ed7953"
             ],
             [
              0.7777777777777778,
              "#fb9f3a"
             ],
             [
              0.8888888888888888,
              "#fdca26"
             ],
             [
              1,
              "#f0f921"
             ]
            ],
            "type": "heatmapgl"
           }
          ],
          "histogram": [
           {
            "marker": {
             "pattern": {
              "fillmode": "overlay",
              "size": 10,
              "solidity": 0.2
             }
            },
            "type": "histogram"
           }
          ],
          "histogram2d": [
           {
            "colorbar": {
             "outlinewidth": 0,
             "ticks": ""
            },
            "colorscale": [
             [
              0,
              "#0d0887"
             ],
             [
              0.1111111111111111,
              "#46039f"
             ],
             [
              0.2222222222222222,
              "#7201a8"
             ],
             [
              0.3333333333333333,
              "#9c179e"
             ],
             [
              0.4444444444444444,
              "#bd3786"
             ],
             [
              0.5555555555555556,
              "#d8576b"
             ],
             [
              0.6666666666666666,
              "#ed7953"
             ],
             [
              0.7777777777777778,
              "#fb9f3a"
             ],
             [
              0.8888888888888888,
              "#fdca26"
             ],
             [
              1,
              "#f0f921"
             ]
            ],
            "type": "histogram2d"
           }
          ],
          "histogram2dcontour": [
           {
            "colorbar": {
             "outlinewidth": 0,
             "ticks": ""
            },
            "colorscale": [
             [
              0,
              "#0d0887"
             ],
             [
              0.1111111111111111,
              "#46039f"
             ],
             [
              0.2222222222222222,
              "#7201a8"
             ],
             [
              0.3333333333333333,
              "#9c179e"
             ],
             [
              0.4444444444444444,
              "#bd3786"
             ],
             [
              0.5555555555555556,
              "#d8576b"
             ],
             [
              0.6666666666666666,
              "#ed7953"
             ],
             [
              0.7777777777777778,
              "#fb9f3a"
             ],
             [
              0.8888888888888888,
              "#fdca26"
             ],
             [
              1,
              "#f0f921"
             ]
            ],
            "type": "histogram2dcontour"
           }
          ],
          "mesh3d": [
           {
            "colorbar": {
             "outlinewidth": 0,
             "ticks": ""
            },
            "type": "mesh3d"
           }
          ],
          "parcoords": [
           {
            "line": {
             "colorbar": {
              "outlinewidth": 0,
              "ticks": ""
             }
            },
            "type": "parcoords"
           }
          ],
          "pie": [
           {
            "automargin": true,
            "type": "pie"
           }
          ],
          "scatter": [
           {
            "fillpattern": {
             "fillmode": "overlay",
             "size": 10,
             "solidity": 0.2
            },
            "type": "scatter"
           }
          ],
          "scatter3d": [
           {
            "line": {
             "colorbar": {
              "outlinewidth": 0,
              "ticks": ""
             }
            },
            "marker": {
             "colorbar": {
              "outlinewidth": 0,
              "ticks": ""
             }
            },
            "type": "scatter3d"
           }
          ],
          "scattercarpet": [
           {
            "marker": {
             "colorbar": {
              "outlinewidth": 0,
              "ticks": ""
             }
            },
            "type": "scattercarpet"
           }
          ],
          "scattergeo": [
           {
            "marker": {
             "colorbar": {
              "outlinewidth": 0,
              "ticks": ""
             }
            },
            "type": "scattergeo"
           }
          ],
          "scattergl": [
           {
            "marker": {
             "colorbar": {
              "outlinewidth": 0,
              "ticks": ""
             }
            },
            "type": "scattergl"
           }
          ],
          "scattermapbox": [
           {
            "marker": {
             "colorbar": {
              "outlinewidth": 0,
              "ticks": ""
             }
            },
            "type": "scattermapbox"
           }
          ],
          "scatterpolar": [
           {
            "marker": {
             "colorbar": {
              "outlinewidth": 0,
              "ticks": ""
             }
            },
            "type": "scatterpolar"
           }
          ],
          "scatterpolargl": [
           {
            "marker": {
             "colorbar": {
              "outlinewidth": 0,
              "ticks": ""
             }
            },
            "type": "scatterpolargl"
           }
          ],
          "scatterternary": [
           {
            "marker": {
             "colorbar": {
              "outlinewidth": 0,
              "ticks": ""
             }
            },
            "type": "scatterternary"
           }
          ],
          "surface": [
           {
            "colorbar": {
             "outlinewidth": 0,
             "ticks": ""
            },
            "colorscale": [
             [
              0,
              "#0d0887"
             ],
             [
              0.1111111111111111,
              "#46039f"
             ],
             [
              0.2222222222222222,
              "#7201a8"
             ],
             [
              0.3333333333333333,
              "#9c179e"
             ],
             [
              0.4444444444444444,
              "#bd3786"
             ],
             [
              0.5555555555555556,
              "#d8576b"
             ],
             [
              0.6666666666666666,
              "#ed7953"
             ],
             [
              0.7777777777777778,
              "#fb9f3a"
             ],
             [
              0.8888888888888888,
              "#fdca26"
             ],
             [
              1,
              "#f0f921"
             ]
            ],
            "type": "surface"
           }
          ],
          "table": [
           {
            "cells": {
             "fill": {
              "color": "#EBF0F8"
             },
             "line": {
              "color": "white"
             }
            },
            "header": {
             "fill": {
              "color": "#C8D4E3"
             },
             "line": {
              "color": "white"
             }
            },
            "type": "table"
           }
          ]
         },
         "layout": {
          "annotationdefaults": {
           "arrowcolor": "#2a3f5f",
           "arrowhead": 0,
           "arrowwidth": 1
          },
          "autotypenumbers": "strict",
          "coloraxis": {
           "colorbar": {
            "outlinewidth": 0,
            "ticks": ""
           }
          },
          "colorscale": {
           "diverging": [
            [
             0,
             "#8e0152"
            ],
            [
             0.1,
             "#c51b7d"
            ],
            [
             0.2,
             "#de77ae"
            ],
            [
             0.3,
             "#f1b6da"
            ],
            [
             0.4,
             "#fde0ef"
            ],
            [
             0.5,
             "#f7f7f7"
            ],
            [
             0.6,
             "#e6f5d0"
            ],
            [
             0.7,
             "#b8e186"
            ],
            [
             0.8,
             "#7fbc41"
            ],
            [
             0.9,
             "#4d9221"
            ],
            [
             1,
             "#276419"
            ]
           ],
           "sequential": [
            [
             0,
             "#0d0887"
            ],
            [
             0.1111111111111111,
             "#46039f"
            ],
            [
             0.2222222222222222,
             "#7201a8"
            ],
            [
             0.3333333333333333,
             "#9c179e"
            ],
            [
             0.4444444444444444,
             "#bd3786"
            ],
            [
             0.5555555555555556,
             "#d8576b"
            ],
            [
             0.6666666666666666,
             "#ed7953"
            ],
            [
             0.7777777777777778,
             "#fb9f3a"
            ],
            [
             0.8888888888888888,
             "#fdca26"
            ],
            [
             1,
             "#f0f921"
            ]
           ],
           "sequentialminus": [
            [
             0,
             "#0d0887"
            ],
            [
             0.1111111111111111,
             "#46039f"
            ],
            [
             0.2222222222222222,
             "#7201a8"
            ],
            [
             0.3333333333333333,
             "#9c179e"
            ],
            [
             0.4444444444444444,
             "#bd3786"
            ],
            [
             0.5555555555555556,
             "#d8576b"
            ],
            [
             0.6666666666666666,
             "#ed7953"
            ],
            [
             0.7777777777777778,
             "#fb9f3a"
            ],
            [
             0.8888888888888888,
             "#fdca26"
            ],
            [
             1,
             "#f0f921"
            ]
           ]
          },
          "colorway": [
           "#636efa",
           "#EF553B",
           "#00cc96",
           "#ab63fa",
           "#FFA15A",
           "#19d3f3",
           "#FF6692",
           "#B6E880",
           "#FF97FF",
           "#FECB52"
          ],
          "font": {
           "color": "#2a3f5f"
          },
          "geo": {
           "bgcolor": "white",
           "lakecolor": "white",
           "landcolor": "#E5ECF6",
           "showlakes": true,
           "showland": true,
           "subunitcolor": "white"
          },
          "hoverlabel": {
           "align": "left"
          },
          "hovermode": "closest",
          "mapbox": {
           "style": "light"
          },
          "paper_bgcolor": "white",
          "plot_bgcolor": "#E5ECF6",
          "polar": {
           "angularaxis": {
            "gridcolor": "white",
            "linecolor": "white",
            "ticks": ""
           },
           "bgcolor": "#E5ECF6",
           "radialaxis": {
            "gridcolor": "white",
            "linecolor": "white",
            "ticks": ""
           }
          },
          "scene": {
           "xaxis": {
            "backgroundcolor": "#E5ECF6",
            "gridcolor": "white",
            "gridwidth": 2,
            "linecolor": "white",
            "showbackground": true,
            "ticks": "",
            "zerolinecolor": "white"
           },
           "yaxis": {
            "backgroundcolor": "#E5ECF6",
            "gridcolor": "white",
            "gridwidth": 2,
            "linecolor": "white",
            "showbackground": true,
            "ticks": "",
            "zerolinecolor": "white"
           },
           "zaxis": {
            "backgroundcolor": "#E5ECF6",
            "gridcolor": "white",
            "gridwidth": 2,
            "linecolor": "white",
            "showbackground": true,
            "ticks": "",
            "zerolinecolor": "white"
           }
          },
          "shapedefaults": {
           "line": {
            "color": "#2a3f5f"
           }
          },
          "ternary": {
           "aaxis": {
            "gridcolor": "white",
            "linecolor": "white",
            "ticks": ""
           },
           "baxis": {
            "gridcolor": "white",
            "linecolor": "white",
            "ticks": ""
           },
           "bgcolor": "#E5ECF6",
           "caxis": {
            "gridcolor": "white",
            "linecolor": "white",
            "ticks": ""
           }
          },
          "title": {
           "x": 0.05
          },
          "xaxis": {
           "automargin": true,
           "gridcolor": "white",
           "linecolor": "white",
           "ticks": "",
           "title": {
            "standoff": 15
           },
           "zerolinecolor": "white",
           "zerolinewidth": 2
          },
          "yaxis": {
           "automargin": true,
           "gridcolor": "white",
           "linecolor": "white",
           "ticks": "",
           "title": {
            "standoff": 15
           },
           "zerolinecolor": "white",
           "zerolinewidth": 2
          }
         }
        },
        "title": {
         "font": {
          "size": 18
         },
         "text": "Predykcja danych przed transformacją",
         "x": 0.5,
         "xanchor": "center"
        },
        "width": 1000,
        "xaxis": {
         "title": {
          "text": "Data"
         }
        },
        "yaxis": {
         "title": {
          "text": "Otrzymane wartości"
         }
        }
       }
      }
     },
     "metadata": {},
     "output_type": "display_data"
    }
   ],
   "source": [
    "fig = go.Figure()\n",
    "\n",
    "fig.add_scatter(\n",
    "    x=new_df.index, \n",
    "    y=new_df[\"Liczba dzików dodatnich\"],  \n",
    "    mode='lines',\n",
    "    name='Dane do analizy (lata 2021-2023)'\n",
    "    )\n",
    "\n",
    "\n",
    "fig.add_trace(\n",
    "    go.Scatter(\n",
    "        x=date_range.tolist() + date_range.tolist()[::-1], \n",
    "        y=interval_up.tolist() + interval_down.tolist()[::-1], \n",
    "        fill='toself',\n",
    "        fillcolor='rgba(155, 220, 108, 0.3)',\n",
    "        line=dict(color='rgba(155, 220, 108, 0.45)'),\n",
    "        name='Przedział ufności predykcji dla roku 2024'\n",
    "    )\n",
    ")\n",
    "\n",
    "\n",
    "fig.add_scatter(\n",
    "    x=predict_df.index,\n",
    "    y=predict_df[\"Liczba dzików dodatnich\"],\n",
    "    mode='lines', \n",
    "    line=dict(width=2, color='red'),\n",
    "    name=\"Dane predykcyjne do marca 2024\"\n",
    "    )\n",
    "\n",
    "\n",
    "fig.add_scatter(\n",
    "    x=date_range,\n",
    "    y=transformed_forecast, \n",
    "    mode='lines', \n",
    "    line=dict(color='black', width=3),\n",
    "    name=\"Przewidywana średnia z danych dla 2024\"\n",
    "    )\n",
    "\n",
    "\n",
    "fig.update_layout(\n",
    "    title={\n",
    "        'text': f\"Predykcja danych przed transformacją\",\n",
    "        'x': 0.5,  \n",
    "        'xanchor': 'center'\n",
    "    },\n",
    "    xaxis_title=\"Data\",\n",
    "    yaxis_title=\"Otrzymane wartości\",\n",
    "    title_font_size=18,\n",
    "    width=1000,\n",
    "    height=500,\n",
    "    showlegend=True,\n",
    "    legend=dict(\n",
    "        orientation='h', \n",
    "        yanchor='bottom',  \n",
    "        xanchor='center',  \n",
    "        x=0.5,  \n",
    "        y=-0.3)\n",
    ")\n",
    "\n",
    "fig.show()"
   ]
  }
 ],
 "metadata": {
  "kernelspec": {
   "display_name": "Python 3",
   "language": "python",
   "name": "python3"
  },
  "language_info": {
   "codemirror_mode": {
    "name": "ipython",
    "version": 3
   },
   "file_extension": ".py",
   "mimetype": "text/x-python",
   "name": "python",
   "nbconvert_exporter": "python",
   "pygments_lexer": "ipython3",
   "version": "3.10.0"
  }
 },
 "nbformat": 4,
 "nbformat_minor": 2
}
